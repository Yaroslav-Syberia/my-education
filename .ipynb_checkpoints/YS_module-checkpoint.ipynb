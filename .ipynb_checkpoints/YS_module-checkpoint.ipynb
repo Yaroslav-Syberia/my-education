{
 "cells": [
  {
   "cell_type": "code",
   "execution_count": null,
   "metadata": {},
   "outputs": [],
   "source": [
    "def dataset_info(df):\n",
    "    print('Размерность датасета: ', df.shape)\n",
    "    display(df.head(5))\n",
    "    df.info()"
   ]
  },
  {
   "cell_type": "code",
   "execution_count": 1,
   "metadata": {},
   "outputs": [],
   "source": [
    "def describe_nan_values(d_df):\n",
    "    total = d_df.isnull().sum().sort_values(ascending=False)\n",
    "    percent = (d_df.isnull().sum()/d_df.isnull().count()).sort_values(ascending=False)\n",
    "    missing_data = pd.concat([total, percent], axis=1, keys=['Total', 'Percent'])\n",
    "    display(missing_data[missing_data['Total']>0])\n",
    "    \n",
    "    return\n"
   ]
  },
  {
   "cell_type": "markdown",
   "metadata": {},
   "source": [
    "# Линейные параметры"
   ]
  },
  {
   "cell_type": "code",
   "execution_count": null,
   "metadata": {},
   "outputs": [],
   "source": [
    "def describe_without_plots_num_collumns(d_df,columns):\n",
    "    #numerics = ['int16', 'int32', 'int64', 'float16', 'float32', 'float64']\n",
    "    num_df = d_df[columns]\n",
    "    list_of_names = list(num_df.columns)\n",
    "    temp_dict = {}\n",
    "    temp_dict['имя признака'] = list_of_names\n",
    "    temp_dict['тип'] = num_df.dtypes\n",
    "    temp_dict['# пропусков(NaN)'] = num_df.isnull().sum().values \n",
    "    temp_dict['# уникальных'] = num_df.nunique().values\n",
    "    temp_dict['минимум'] = num_df.describe(include='all').loc['min']\n",
    "    temp_dict['среднее'] = num_df.describe(include='all').loc['mean']\n",
    "    temp_dict['медиана'] = num_df.describe(include='all').loc['50%']\n",
    "    temp_dict['макс'] = num_df.describe(include='all').loc['max']\n",
    "    temp_dict['std'] = pd.DataFrame(num_df.std().values,columns=['std']).loc[:,'std']\n",
    "    temp_df = pd.DataFrame.from_dict(temp_dict, orient='index')\n",
    "    display(temp_df.T)\n",
    "    \n",
    "    return"
   ]
  },
  {
   "cell_type": "code",
   "execution_count": null,
   "metadata": {},
   "outputs": [],
   "source": [
    "def describe_by_plots_num_collumns(d_df,columns,font_size=12):\n",
    "    fig, axes = plt.subplots(len(columns), 4, figsize=(8, 5*len(columns)))\n",
    "    for i in range(0,len(columns)):\n",
    "        axes[i,0].hist(d_df[columns[i]],label=str(columns[i]))\n",
    "        axes[i,0].set_title(str(columns[i]),fontsize=font_size)\n",
    "        axes[i,1].boxplot(d_df[columns[i]])\n",
    "        axes[i,1].set_title(str(columns[i]),fontsize=font_size)\n",
    "        axes[i,2].hist(np.log(d_df[columns[i]]+1),label=str(columns[i]))\n",
    "        axes[i,2].set_title('log_'+str(columns[i]),fontsize=font_size)\n",
    "        axes[i,3].boxplot(np.log(d_df[columns[i]]+1))\n",
    "        axes[i,3].set_title('log_'+str(columns[i]),fontsize=font_size)\n",
    "    return"
   ]
  },
  {
   "cell_type": "code",
   "execution_count": null,
   "metadata": {},
   "outputs": [],
   "source": [
    "import math\n",
    "\n",
    "def borders_of_outliers(d_df,columns, log = False):\n",
    "    num_df = d_df[columns]\n",
    "    list_of_names = list(num_df.columns)\n",
    "    temp_dict = {}\n",
    "    temp_dict['имя признака'] = list_of_names\n",
    "    left_board=[]\n",
    "    right_board=[]\n",
    "    left_outliers=[]\n",
    "    right_outliers=[]\n",
    "    path_left_outliers=[]\n",
    "    path_right_outliers=[]\n",
    "    if log:\n",
    "        log_left_board=[]\n",
    "        log_right_board=[]\n",
    "        log_left_outliers=[]\n",
    "        log_right_outliers=[]\n",
    "        log_path_left_outliers=[]\n",
    "        log_path_right_outliers=[]\n",
    "    for i in columns:\n",
    "        IQR = num_df[i].quantile(0.75) - num_df[i].quantile(0.25)\n",
    "        perc25 = num_df[i].quantile(0.25)\n",
    "        perc75 = num_df[i].quantile(0.75)\n",
    "        left_border = num_df[i].quantile(0.25) - 1.5*IQR\n",
    "        right_border = perc75 + 1.5*IQR\n",
    "        left_board.append(left_border)\n",
    "        right_board.append(right_border)\n",
    "        left_outliers.append((num_df[i]<left_border).sum())\n",
    "        right_outliers.append((num_df[i]>right_border).sum())\n",
    "        path_left_outliers.append((num_df[i]<left_border).sum()/len(num_df[i]))\n",
    "        path_right_outliers.append((num_df[i]>right_border).sum()/len(num_df[i]))\n",
    "        if log:\n",
    "            num_df[i]=num_df[i].apply(lambda x: math.log(x+1))\n",
    "            IQR = num_df[i].quantile(0.75) - num_df[i].quantile(0.25)\n",
    "            perc25 = num_df[i].quantile(0.25)\n",
    "            perc75 = num_df[i].quantile(0.75)\n",
    "            left_border = num_df[i].quantile(0.25) - 1.5*IQR\n",
    "            right_border = perc75 + 1.5*IQR\n",
    "            log_left_board.append(left_border)\n",
    "            log_right_board.append(right_border)\n",
    "            log_left_outliers.append((num_df[i]<left_border).sum())\n",
    "            log_right_outliers.append((num_df[i]>right_border).sum())\n",
    "            log_path_left_outliers.append((num_df[i]<left_border).sum()/len(num_df[i]))\n",
    "            log_path_right_outliers.append((num_df[i]>right_border).sum()/len(num_df[i]))\n",
    "        \n",
    "    temp_dict['левая граница'] = left_board\n",
    "    temp_dict['правая граница'] = right_board\n",
    "    temp_dict['выбросов слева'] = left_outliers\n",
    "    temp_dict['выбросов справа'] = right_outliers\n",
    "    temp_dict['доля выбросов слева'] = path_left_outliers\n",
    "    temp_dict['доля выбросов справа'] = path_right_outliers\n",
    "    \n",
    "    if log:\n",
    "        temp_dict['левая граница с логарифмом'] = log_left_board\n",
    "        temp_dict['правая граница с логарифмом'] = log_right_board\n",
    "        temp_dict['выбросов слева с логарифмом'] = log_left_outliers\n",
    "        temp_dict['выбросов справа с логарифмом'] = log_right_outliers\n",
    "        temp_dict['доля выбросов слева с логарифмом'] = log_path_left_outliers\n",
    "        temp_dict['доля выбросов справа с логарифмом'] = log_path_right_outliers\n",
    "    \n",
    "    temp_df = pd.DataFrame.from_dict(temp_dict, orient='index')\n",
    "    display(temp_df.T)\n",
    "    \n",
    "    return"
   ]
  },
  {
   "cell_type": "code",
   "execution_count": 2,
   "metadata": {},
   "outputs": [],
   "source": [
    "def num_describer(df,param,bins=20):\n",
    "    nulls=round(df[param].isnull().sum()/len(df[param]),4)\n",
    "    low = df[param].min()\n",
    "    median = df[param].median()\n",
    "    mean = df[param].mean()\n",
    "    hight = df[param].max()\n",
    "    IQR = df[param].quantile(\n",
    "        0.75) - df[param].quantile(0.25)\n",
    "    perc25 = df[param].quantile(0.25)\n",
    "    perc75 = df[param].quantile(0.75)\n",
    "    #blowout=len(df[(df[param]<perc25 - 1.5*IQR)|(df[param]>perc75 + 1.5*IQR)])\n",
    "    print('доля пропусков : {} \\n\\r'.format(nulls),\n",
    "          'min : {} \\n\\r'.format(low),\n",
    "          '25-й перцентиль: {} \\n\\r'.format(perc25),\n",
    "          'медиана: {} \\n\\r'.format(median),\n",
    "          'среднее: {} \\n\\r'.format(mean),\n",
    "          'max : {} \\n\\r'.format(hight),\n",
    "          '75-й перцентиль: {} \\n\\r'.format(perc75),\n",
    "          \"IQR: {} \\n\\r\".format(IQR),\n",
    "          \"Границы выбросов: [{f}, {l}] \\n\\r\".format(f=perc25 - 1.5*IQR, l=perc75 + 1.5*IQR),\n",
    "         )#'Количество выбросов: \\n\\r'.format(blowout))\n",
    "    fig, (ax1, ax2) = plt.subplots(\n",
    "    nrows=1, ncols=2,\n",
    "    figsize=(8, 4))\n",
    "    sns.distplot(df[param],ax=ax1)\n",
    "    #ax1.hist(df[param],label = param,bins=bins)\n",
    "    ax1.set_title('Распределение значений')\n",
    "    ax1.legend()\n",
    "    sns.distplot(np.log(df[param]+1),ax=ax2)\n",
    "    #ax2.hist(np.log(df[param]+1),label = param,bins=bins)\n",
    "    ax2.set_title('Логорифмированное Распределение значений')\n",
    "    ax2.legend()\n",
    "    #sns.distplot(df[param])\n",
    "    plt.show()"
   ]
  },
  {
   "cell_type": "markdown",
   "metadata": {},
   "source": [
    "# Категориальные и биномиальные"
   ]
  },
  {
   "cell_type": "code",
   "execution_count": null,
   "metadata": {},
   "outputs": [],
   "source": [
    "def describe_without_plots_cat_bin_collumns(d_df,columns):\n",
    "    cat_bin_df = d_df[columns]\n",
    "    list_of_names = list(cat_bin_df.columns)\n",
    "    temp_dict = {}\n",
    "    temp_dict['имя признака'] = list_of_names\n",
    "    temp_dict['тип'] = cat_bin_df.dtypes\n",
    "    temp_dict['# пропусков(NaN)'] = cat_bin_df.isnull().sum().values \n",
    "    temp_dict['# уникальных'] = cat_bin_df.nunique().values\n",
    "    temp_dict['# мода'] = cat_bin_df.mode()\n",
    "    temp_df = pd.DataFrame.from_dict(temp_dict, orient='index')\n",
    "    display(temp_df.T)\n",
    "    \n",
    "    return"
   ]
  },
  {
   "cell_type": "code",
   "execution_count": null,
   "metadata": {},
   "outputs": [],
   "source": [
    "def obj_param_describe(df,param):\n",
    "    print('доля пропусков: ',df[param].isnull().sum()/len(df[param]))\n",
    "    print('Значения параметра и их количество')\n",
    "    df[param].value_counts().plot.bar()\n",
    "    print(df[param].value_counts())\n",
    "    fig, ax = plt.subplots(figsize=(6, 6))\n",
    "    sns.boxplot(x=param, y='default', data=df)"
   ]
  },
  {
   "cell_type": "code",
   "execution_count": null,
   "metadata": {},
   "outputs": [],
   "source": []
  },
  {
   "cell_type": "code",
   "execution_count": null,
   "metadata": {},
   "outputs": [],
   "source": []
  },
  {
   "cell_type": "code",
   "execution_count": null,
   "metadata": {},
   "outputs": [],
   "source": []
  },
  {
   "cell_type": "code",
   "execution_count": null,
   "metadata": {},
   "outputs": [],
   "source": []
  },
  {
   "cell_type": "code",
   "execution_count": null,
   "metadata": {},
   "outputs": [],
   "source": []
  },
  {
   "cell_type": "code",
   "execution_count": null,
   "metadata": {},
   "outputs": [],
   "source": []
  },
  {
   "cell_type": "code",
   "execution_count": 1,
   "metadata": {},
   "outputs": [],
   "source": []
  },
  {
   "cell_type": "code",
   "execution_count": 2,
   "metadata": {},
   "outputs": [],
   "source": [
    "\n",
    "    \n"
   ]
  },
  {
   "cell_type": "code",
   "execution_count": 3,
   "metadata": {},
   "outputs": [],
   "source": []
  },
  {
   "cell_type": "code",
   "execution_count": null,
   "metadata": {},
   "outputs": [],
   "source": []
  },
  {
   "cell_type": "markdown",
   "metadata": {},
   "source": [
    "# Regression"
   ]
  },
  {
   "cell_type": "code",
   "execution_count": null,
   "metadata": {},
   "outputs": [],
   "source": []
  },
  {
   "cell_type": "code",
   "execution_count": null,
   "metadata": {},
   "outputs": [],
   "source": [
    "#Рисуем результат работы регрессионной модели\n",
    "def Regression_plot(X,y,X_test,Y_test):\n",
    "    #X- все примеры\n",
    "    #У- все метки\n",
    "    #X_test - тестовая/обучающая выборка нашеймодели\n",
    "    #Y_test - результат работы модели\n",
    "    plt.figure()\n",
    "    #Отрисовываем наши точки\n",
    "    plt.scatter(X, y, s=20, edgecolor=\"black\",\n",
    "                c=\"darkorange\", label=\"data\")\n",
    "    #Отрисовываем кривую модели\n",
    "    plt.plot(X_test, Y_test, color=\"yellowgreen\", label=\"Model\", linewidth=2)\n",
    "    plt.xlabel(\"data\")\n",
    "    plt.ylabel(\"target\")\n",
    "    plt.title(\"Decision Tree Regression\")\n",
    "    plt.legend()\n",
    "    plt.show()\n",
    "\n",
    "Regression_plot(X,y,X_test,y_2)"
   ]
  },
  {
   "cell_type": "markdown",
   "metadata": {},
   "source": [
    "# Decision Tree "
   ]
  },
  {
   "cell_type": "code",
   "execution_count": null,
   "metadata": {},
   "outputs": [],
   "source": [
    "#Визуализация дерева без текста\n",
    "import matplotlib.pyplot as plt\n",
    "fig, ax = plt.subplots(figsize=(20, 20))\n",
    "tree.plot_tree(model, max_depth=5, fontsize=10)\n",
    "plt.show()"
   ]
  },
  {
   "cell_type": "code",
   "execution_count": null,
   "metadata": {},
   "outputs": [],
   "source": []
  },
  {
   "cell_type": "code",
   "execution_count": null,
   "metadata": {},
   "outputs": [],
   "source": []
  },
  {
   "cell_type": "code",
   "execution_count": null,
   "metadata": {},
   "outputs": [],
   "source": [
    "import matplotlib.pyplot as plt\n",
    "from sklearn.ensemble import RandomForestClassifier\n",
    "import random\n",
    "random.seed(42)\n",
    "\n",
    "#Показывает качество работы модели в зависимости от параметра\n",
    "\n",
    "def get_dependency_and_plot(parameters, param_title=None):\n",
    "    # parameters: tuple, где первый элемент - название параметра RandomForestClassifier, (например, n_estimators),\n",
    "    # а второй - диапазон для заданного параметра.\n",
    "    #\n",
    "    # param_title: Продолжение фразы 'Зависимость accuracy от ...' из заголовка графика.\n",
    "    # Опциональный параметр. Если None, то заголовок не оторбражается\n",
    "    param_name, param_range = parameters\n",
    "    accuracy_list = []\n",
    "    # цикл по диапазону параметра:\n",
    "    for value in param_range:\n",
    "        # словарь параметров для задания параметров модели через метод set_params()\n",
    "        param_dict = {param_name: value}\n",
    "        model = RandomForestClassifier()\n",
    "        model.set_params(**param_dict)\n",
    "        # считаем accuracy на кросс-валидации и берём среднее:\n",
    "        score = cross_val_score(model, X, Y, cv=10, n_jobs=-1).mean()\n",
    "        accuracy_list.append((value, score))\n",
    "    # отрисовываем график:\n",
    "    xx = [z[0] for z in accuracy_list]\n",
    "    yy = [z[1] for z in accuracy_list]\n",
    "    plt.plot(xx, yy, '.-')\n",
    "    if param_title != None:\n",
    "        plt.title('Зависимость accuracy от ' + param_title)\n",
    "    plt.xlabel(param_name)\n",
    "    plt.ylabel(\"Mean accuracy\")\n",
    "\n",
    "\n",
    "n_estimators_range = np.arange(1, 200, 10, dtype=int)\n",
    "max_features_range = np.arange(5, X.shape[1], 5, dtype=int)\n",
    "max_depth_range = np.arange(3, 30, 2, dtype=int)\n",
    "# Также определим пары tuple для работы с определённой выше функцией:\n",
    "est_tuple = ('n_estimators', n_estimators_range)\n",
    "max_features_tuple = ('max_features', max_features_range)\n",
    "max_depth_tuple = ('max_depth', max_depth_range)"
   ]
  }
 ],
 "metadata": {
  "kernelspec": {
   "display_name": "Python 3",
   "language": "python",
   "name": "python3"
  },
  "language_info": {
   "codemirror_mode": {
    "name": "ipython",
    "version": 3
   },
   "file_extension": ".py",
   "mimetype": "text/x-python",
   "name": "python",
   "nbconvert_exporter": "python",
   "pygments_lexer": "ipython3",
   "version": "3.7.7"
  }
 },
 "nbformat": 4,
 "nbformat_minor": 4
}
