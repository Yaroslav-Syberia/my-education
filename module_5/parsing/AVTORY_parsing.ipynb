{
 "cells": [
  {
   "cell_type": "code",
   "execution_count": 1,
   "metadata": {},
   "outputs": [],
   "source": [
    "import requests\n",
    "from bs4 import BeautifulSoup"
   ]
  },
  {
   "cell_type": "code",
   "execution_count": 26,
   "metadata": {},
   "outputs": [],
   "source": [
    "def get_html(url):\n",
    "    r = requests.get(url)\n",
    "    return r.text\n",
    "\n",
    "def get_total_pages(html):\n",
    "    print()\n",
    "    soup = BeautifulSoup(html,'lxml')\n",
    "    pages = soup.find('div',class_='ListingPagination-module__container').find_all('a',class_='Button Button_color_whiteHoverBlue Button_size_s Button_type_link Button_width_default ListingPagination-module__page')[-1].get('href')\n",
    "    #print(pages)\n",
    "    #[-1].get('href')\n",
    "    total_pages=pages.split('&')[2].split('=')[1]\n",
    "    return int(total_pages)\n",
    "\n",
    "brand_list=['bmw']\n",
    "\n",
    "dict_columns = {'bodyType':0, 'brand':0, 'color':0, 'fuelType':0, 'modelDate':0, \n",
    "                'name':0, 'numberOfDoors':0, 'productionDate':0, \n",
    "                'vehicleConfiguration':0, 'vehicleTransmission':0, \n",
    "                'engineDisplacement':0, 'enginePower':0, 'description':0, \n",
    "                'mileage':0, 'Комплектация':0, 'Привод':0, 'Руль':0, \n",
    "                'Состояние':0, 'Владельцы':0, 'ПТС':0, 'Таможня':0, \n",
    "                'Владение':0, 'price':0}\n",
    "\n",
    "def get_page_data(html):\n",
    "    soup = BeautifulSoup(html,'lxml')\n",
    "    ads = soup.find_all('a',class_='Link ListingItemTitle-module__link')\n",
    "    for ad in ads:\n",
    "        link=ad.get('href')\n",
    "        links.append(link)\n",
    "    return links\n",
    "\n",
    "\n",
    "    \n",
    "def main():\n",
    "    for brand in brand_list:\n",
    "        brand=brand.lower()\n",
    "        year_from=2000\n",
    "        for k in range(0,1):\n",
    "            year_from+=10\n",
    "            year_to=year_from+10\n",
    "            #url='https://auto.ru/moskva/cars/{brand}/used/?year_from={year_from}&year_to={year_to}'\n",
    "            url='https://auto.ru/moskva/cars/bmw/used/?year_from=2010&year_to=2020'\n",
    "            base_url='https://auto.ru/moskva/cars/'\n",
    "            page_part = 'p='\n",
    "            \n",
    "            total_pages=get_total_pages(get_html(url))\n",
    "            for page in range(1,10):#total_pages):\n",
    "                #print(brand)\n",
    "                query_part = '{0}/used/?&page={1}&year_from={2}&year_to={3}'\n",
    "                query_part=query_part.format(brand,page,year_from,year_to)\n",
    "                url_gen=base_url+query_part\n",
    "                \n",
    "                print(url_gen)\n",
    "                \n",
    "                try:\n",
    "                    r = requests.get(url_gen)\n",
    "                    auto_list=get_page_data(r.text)\n",
    "                    for link in auto_list:\n",
    "                        r=requests.get(link).json()\n",
    "                except:\n",
    "                    #print('ouf')\n",
    "                \n",
    "            "
   ]
  },
  {
   "cell_type": "code",
   "execution_count": 27,
   "metadata": {},
   "outputs": [
    {
     "name": "stdout",
     "output_type": "stream",
     "text": [
      "\n",
      "https://auto.ru/moskva/cars/bmw/used/?&page=1&year_from=2010&year_to=2020\n",
      "https://auto.ru/moskva/cars/bmw/used/?&page=1&year_from=2010&year_to=2020\n",
      "https://auto.ru/moskva/cars/bmw/used/?&page=1&year_from=2010&year_to=2020\n",
      "https://auto.ru/moskva/cars/bmw/used/?&page=1&year_from=2010&year_to=2020\n",
      "https://auto.ru/moskva/cars/bmw/used/?&page=1&year_from=2010&year_to=2020\n",
      "https://auto.ru/moskva/cars/bmw/used/?&page=1&year_from=2010&year_to=2020\n",
      "https://auto.ru/moskva/cars/bmw/used/?&page=1&year_from=2010&year_to=2020\n",
      "https://auto.ru/moskva/cars/bmw/used/?&page=1&year_from=2010&year_to=2020\n",
      "https://auto.ru/moskva/cars/bmw/used/?&page=1&year_from=2010&year_to=2020\n"
     ]
    }
   ],
   "source": [
    "main()"
   ]
  },
  {
   "cell_type": "code",
   "execution_count": 90,
   "metadata": {},
   "outputs": [
    {
     "name": "stdout",
     "output_type": "stream",
     "text": [
      "внедорожник 5 дв.\n"
     ]
    }
   ],
   "source": [
    "dict_columns = {, 'complectation_dict',\n",
    "       'description', 'engineDisplacement', 'enginePower', 'equipment_dict',\n",
    "       'fuelType', 'image', 'mileage', 'modelDate', 'model_info', 'model_name',\n",
    "       'name', 'numberOfDoors', 'parsing_unixtime', 'priceCurrency',\n",
    "       'productionDate', 'sell_id', 'super_gen', 'vehicleConfiguration',\n",
    "       'vehicleTransmission', 'vendor', 'Владельцы', 'Владение', 'ПТС',\n",
    "       'Привод', 'Руль', 'Состояние', 'Таможня'}\n",
    "\n",
    "def get_car_data(link,brand):\n",
    "    r=requests.get(link)\n",
    "    r.encoding='utf-8'\n",
    "    soup = BeautifulSoup(r.text,'lxml')\n",
    "    dict_values={}\n",
    "    #bodyType\n",
    "    try:\n",
    "        dict_values['bodyType']=str(soup.find('li',class_='CardInfoRow CardInfoRow_bodytype').find('a',class_='Link Link_color_black')).split('<')[-2].split('>')[-1]\n",
    "    except:\n",
    "        dict_values['bodyType']=None\n",
    "    #brand\n",
    "    dict_values['brand']=brand\n",
    "    #car_url\n",
    "    dict_values['car_url']=link\n",
    "    #color\n",
    "    try:\n",
    "        dict_values['color']=str(soup.find('li',class_='CardInfoRow CardInfoRow_color').find('a',class_='Link Link_color_black')).split('<')[-2].split('>')[-1]\n",
    "    except:\n",
    "        dict_values['color']=None\n",
    "    \n",
    "    try:\n",
    "        dict_values['bodyType']=str(soup.find('li',class_='CardInfoRow CardInfoRow_color').find('a',class_='Link Link_color_black')).split('<')[-2].split('>')[-1]\n",
    "    except:\n",
    "        dict_values['bodyType']=None\n",
    "\n",
    "    \n",
    "    print(body)\n",
    "        \n",
    "get_car_data('https://auto.ru/cars/used/sale/bmw/x7/1101098785-702829b7/')"
   ]
  },
  {
   "cell_type": "code",
   "execution_count": 94,
   "metadata": {},
   "outputs": [
    {
     "ename": "JSONDecodeError",
     "evalue": "Expecting value: line 1 column 1 (char 0)",
     "output_type": "error",
     "traceback": [
      "\u001b[1;31m---------------------------------------------------------------------------\u001b[0m",
      "\u001b[1;31mJSONDecodeError\u001b[0m                           Traceback (most recent call last)",
      "\u001b[1;32m<ipython-input-94-2cf09d6cf76a>\u001b[0m in \u001b[0;36m<module>\u001b[1;34m\u001b[0m\n\u001b[0;32m      1\u001b[0m \u001b[0murl\u001b[0m \u001b[1;33m=\u001b[0m \u001b[1;34m'https://auto.ru/cars/used/sale/bmw/x7/1101098785-702829b7/'\u001b[0m\u001b[1;33m\u001b[0m\u001b[1;33m\u001b[0m\u001b[0m\n\u001b[1;32m----> 2\u001b[1;33m \u001b[0mlm_json\u001b[0m \u001b[1;33m=\u001b[0m \u001b[0mrequests\u001b[0m\u001b[1;33m.\u001b[0m\u001b[0mpost\u001b[0m\u001b[1;33m(\u001b[0m\u001b[0murl\u001b[0m\u001b[1;33m)\u001b[0m\u001b[1;33m.\u001b[0m\u001b[0mjson\u001b[0m\u001b[1;33m(\u001b[0m\u001b[1;33m)\u001b[0m\u001b[1;33m\u001b[0m\u001b[1;33m\u001b[0m\u001b[0m\n\u001b[0m\u001b[0;32m      3\u001b[0m \u001b[0msoup\u001b[0m \u001b[1;33m=\u001b[0m \u001b[0mBeautifulSoup\u001b[0m\u001b[1;33m(\u001b[0m\u001b[0mlm_json\u001b[0m\u001b[1;33m[\u001b[0m\u001b[1;34m\"content_html\"\u001b[0m\u001b[1;33m]\u001b[0m\u001b[1;33m)\u001b[0m\u001b[1;33m\u001b[0m\u001b[1;33m\u001b[0m\u001b[0m\n",
      "\u001b[1;32mC:\\ProgramData\\Anaconda3\\lib\\site-packages\\requests\\models.py\u001b[0m in \u001b[0;36mjson\u001b[1;34m(self, **kwargs)\u001b[0m\n\u001b[0;32m    896\u001b[0m                     \u001b[1;31m# used.\u001b[0m\u001b[1;33m\u001b[0m\u001b[1;33m\u001b[0m\u001b[1;33m\u001b[0m\u001b[0m\n\u001b[0;32m    897\u001b[0m                     \u001b[1;32mpass\u001b[0m\u001b[1;33m\u001b[0m\u001b[1;33m\u001b[0m\u001b[0m\n\u001b[1;32m--> 898\u001b[1;33m         \u001b[1;32mreturn\u001b[0m \u001b[0mcomplexjson\u001b[0m\u001b[1;33m.\u001b[0m\u001b[0mloads\u001b[0m\u001b[1;33m(\u001b[0m\u001b[0mself\u001b[0m\u001b[1;33m.\u001b[0m\u001b[0mtext\u001b[0m\u001b[1;33m,\u001b[0m \u001b[1;33m**\u001b[0m\u001b[0mkwargs\u001b[0m\u001b[1;33m)\u001b[0m\u001b[1;33m\u001b[0m\u001b[1;33m\u001b[0m\u001b[0m\n\u001b[0m\u001b[0;32m    899\u001b[0m \u001b[1;33m\u001b[0m\u001b[0m\n\u001b[0;32m    900\u001b[0m     \u001b[1;33m@\u001b[0m\u001b[0mproperty\u001b[0m\u001b[1;33m\u001b[0m\u001b[1;33m\u001b[0m\u001b[0m\n",
      "\u001b[1;32mC:\\ProgramData\\Anaconda3\\lib\\json\\__init__.py\u001b[0m in \u001b[0;36mloads\u001b[1;34m(s, encoding, cls, object_hook, parse_float, parse_int, parse_constant, object_pairs_hook, **kw)\u001b[0m\n\u001b[0;32m    346\u001b[0m             \u001b[0mparse_int\u001b[0m \u001b[1;32mis\u001b[0m \u001b[1;32mNone\u001b[0m \u001b[1;32mand\u001b[0m \u001b[0mparse_float\u001b[0m \u001b[1;32mis\u001b[0m \u001b[1;32mNone\u001b[0m \u001b[1;32mand\u001b[0m\u001b[1;33m\u001b[0m\u001b[1;33m\u001b[0m\u001b[0m\n\u001b[0;32m    347\u001b[0m             parse_constant is None and object_pairs_hook is None and not kw):\n\u001b[1;32m--> 348\u001b[1;33m         \u001b[1;32mreturn\u001b[0m \u001b[0m_default_decoder\u001b[0m\u001b[1;33m.\u001b[0m\u001b[0mdecode\u001b[0m\u001b[1;33m(\u001b[0m\u001b[0ms\u001b[0m\u001b[1;33m)\u001b[0m\u001b[1;33m\u001b[0m\u001b[1;33m\u001b[0m\u001b[0m\n\u001b[0m\u001b[0;32m    349\u001b[0m     \u001b[1;32mif\u001b[0m \u001b[0mcls\u001b[0m \u001b[1;32mis\u001b[0m \u001b[1;32mNone\u001b[0m\u001b[1;33m:\u001b[0m\u001b[1;33m\u001b[0m\u001b[1;33m\u001b[0m\u001b[0m\n\u001b[0;32m    350\u001b[0m         \u001b[0mcls\u001b[0m \u001b[1;33m=\u001b[0m \u001b[0mJSONDecoder\u001b[0m\u001b[1;33m\u001b[0m\u001b[1;33m\u001b[0m\u001b[0m\n",
      "\u001b[1;32mC:\\ProgramData\\Anaconda3\\lib\\json\\decoder.py\u001b[0m in \u001b[0;36mdecode\u001b[1;34m(self, s, _w)\u001b[0m\n\u001b[0;32m    335\u001b[0m \u001b[1;33m\u001b[0m\u001b[0m\n\u001b[0;32m    336\u001b[0m         \"\"\"\n\u001b[1;32m--> 337\u001b[1;33m         \u001b[0mobj\u001b[0m\u001b[1;33m,\u001b[0m \u001b[0mend\u001b[0m \u001b[1;33m=\u001b[0m \u001b[0mself\u001b[0m\u001b[1;33m.\u001b[0m\u001b[0mraw_decode\u001b[0m\u001b[1;33m(\u001b[0m\u001b[0ms\u001b[0m\u001b[1;33m,\u001b[0m \u001b[0midx\u001b[0m\u001b[1;33m=\u001b[0m\u001b[0m_w\u001b[0m\u001b[1;33m(\u001b[0m\u001b[0ms\u001b[0m\u001b[1;33m,\u001b[0m \u001b[1;36m0\u001b[0m\u001b[1;33m)\u001b[0m\u001b[1;33m.\u001b[0m\u001b[0mend\u001b[0m\u001b[1;33m(\u001b[0m\u001b[1;33m)\u001b[0m\u001b[1;33m)\u001b[0m\u001b[1;33m\u001b[0m\u001b[1;33m\u001b[0m\u001b[0m\n\u001b[0m\u001b[0;32m    338\u001b[0m         \u001b[0mend\u001b[0m \u001b[1;33m=\u001b[0m \u001b[0m_w\u001b[0m\u001b[1;33m(\u001b[0m\u001b[0ms\u001b[0m\u001b[1;33m,\u001b[0m \u001b[0mend\u001b[0m\u001b[1;33m)\u001b[0m\u001b[1;33m.\u001b[0m\u001b[0mend\u001b[0m\u001b[1;33m(\u001b[0m\u001b[1;33m)\u001b[0m\u001b[1;33m\u001b[0m\u001b[1;33m\u001b[0m\u001b[0m\n\u001b[0;32m    339\u001b[0m         \u001b[1;32mif\u001b[0m \u001b[0mend\u001b[0m \u001b[1;33m!=\u001b[0m \u001b[0mlen\u001b[0m\u001b[1;33m(\u001b[0m\u001b[0ms\u001b[0m\u001b[1;33m)\u001b[0m\u001b[1;33m:\u001b[0m\u001b[1;33m\u001b[0m\u001b[1;33m\u001b[0m\u001b[0m\n",
      "\u001b[1;32mC:\\ProgramData\\Anaconda3\\lib\\json\\decoder.py\u001b[0m in \u001b[0;36mraw_decode\u001b[1;34m(self, s, idx)\u001b[0m\n\u001b[0;32m    353\u001b[0m             \u001b[0mobj\u001b[0m\u001b[1;33m,\u001b[0m \u001b[0mend\u001b[0m \u001b[1;33m=\u001b[0m \u001b[0mself\u001b[0m\u001b[1;33m.\u001b[0m\u001b[0mscan_once\u001b[0m\u001b[1;33m(\u001b[0m\u001b[0ms\u001b[0m\u001b[1;33m,\u001b[0m \u001b[0midx\u001b[0m\u001b[1;33m)\u001b[0m\u001b[1;33m\u001b[0m\u001b[1;33m\u001b[0m\u001b[0m\n\u001b[0;32m    354\u001b[0m         \u001b[1;32mexcept\u001b[0m \u001b[0mStopIteration\u001b[0m \u001b[1;32mas\u001b[0m \u001b[0merr\u001b[0m\u001b[1;33m:\u001b[0m\u001b[1;33m\u001b[0m\u001b[1;33m\u001b[0m\u001b[0m\n\u001b[1;32m--> 355\u001b[1;33m             \u001b[1;32mraise\u001b[0m \u001b[0mJSONDecodeError\u001b[0m\u001b[1;33m(\u001b[0m\u001b[1;34m\"Expecting value\"\u001b[0m\u001b[1;33m,\u001b[0m \u001b[0ms\u001b[0m\u001b[1;33m,\u001b[0m \u001b[0merr\u001b[0m\u001b[1;33m.\u001b[0m\u001b[0mvalue\u001b[0m\u001b[1;33m)\u001b[0m \u001b[1;32mfrom\u001b[0m \u001b[1;32mNone\u001b[0m\u001b[1;33m\u001b[0m\u001b[1;33m\u001b[0m\u001b[0m\n\u001b[0m\u001b[0;32m    356\u001b[0m         \u001b[1;32mreturn\u001b[0m \u001b[0mobj\u001b[0m\u001b[1;33m,\u001b[0m \u001b[0mend\u001b[0m\u001b[1;33m\u001b[0m\u001b[1;33m\u001b[0m\u001b[0m\n",
      "\u001b[1;31mJSONDecodeError\u001b[0m: Expecting value: line 1 column 1 (char 0)"
     ]
    }
   ],
   "source": [
    "url = 'https://auto.ru/cars/used/sale/bmw/x7/1101098785-702829b7/'\n",
    "lm_json = requests.post(url).json()\n",
    "soup = BeautifulSoup(lm_json[\"content_html\"])"
   ]
  },
  {
   "cell_type": "code",
   "execution_count": null,
   "metadata": {},
   "outputs": [],
   "source": []
  },
  {
   "cell_type": "code",
   "execution_count": 98,
   "metadata": {},
   "outputs": [],
   "source": [
    "import pandas as pd\n",
    "import requests, json\n",
    "import time\n",
    "import os"
   ]
  },
  {
   "cell_type": "code",
   "execution_count": 103,
   "metadata": {},
   "outputs": [
    {
     "data": {
      "text/plain": [
       "12"
      ]
     },
     "execution_count": 103,
     "metadata": {},
     "output_type": "execute_result"
    }
   ],
   "source": [
    "list_of_relevant_marks = ['SKODA', 'AUDI', 'HONDA', 'VOLVO', 'BMW', 'NISSAN', 'INFINITI',\n",
    "       'MERCEDES', 'TOYOTA', 'LEXUS', 'VOLKSWAGEN', 'MITSUBISHI']\n",
    "len(list_of_relevant_marks)"
   ]
  },
  {
   "cell_type": "code",
   "execution_count": 102,
   "metadata": {},
   "outputs": [
    {
     "name": "stderr",
     "output_type": "stream",
     "text": [
      "C:\\ProgramData\\Anaconda3\\lib\\site-packages\\ipykernel_launcher.py:5: DeprecationWarning: time.clock has been deprecated in Python 3.3 and will be removed from Python 3.8: use time.perf_counter or time.process_time instead\n",
      "  \"\"\"\n",
      "C:\\ProgramData\\Anaconda3\\lib\\site-packages\\ipykernel_launcher.py:9: DeprecationWarning: time.clock has been deprecated in Python 3.3 and will be removed from Python 3.8: use time.perf_counter or time.process_time instead\n",
      "  if __name__ == '__main__':\n"
     ]
    },
    {
     "ename": "NameError",
     "evalue": "name 'df_marks_and_models' is not defined",
     "output_type": "error",
     "traceback": [
      "\u001b[1;31m---------------------------------------------------------------------------\u001b[0m",
      "\u001b[1;31mNameError\u001b[0m                                 Traceback (most recent call last)",
      "\u001b[1;32m<ipython-input-102-0281b6250982>\u001b[0m in \u001b[0;36m<module>\u001b[1;34m\u001b[0m\n\u001b[0;32m      8\u001b[0m     \u001b[0mmark\u001b[0m\u001b[1;33m=\u001b[0m\u001b[0mmark\u001b[0m\u001b[1;33m.\u001b[0m\u001b[0mlower\u001b[0m\u001b[1;33m(\u001b[0m\u001b[1;33m)\u001b[0m\u001b[1;33m\u001b[0m\u001b[1;33m\u001b[0m\u001b[0m\n\u001b[0;32m      9\u001b[0m     \u001b[0mstart_time\u001b[0m \u001b[1;33m=\u001b[0m \u001b[0mtime\u001b[0m\u001b[1;33m.\u001b[0m\u001b[0mclock\u001b[0m\u001b[1;33m(\u001b[0m\u001b[1;33m)\u001b[0m\u001b[1;33m\u001b[0m\u001b[1;33m\u001b[0m\u001b[0m\n\u001b[1;32m---> 10\u001b[1;33m     \u001b[0mlist_of_models\u001b[0m \u001b[1;33m=\u001b[0m \u001b[0mjson\u001b[0m\u001b[1;33m.\u001b[0m\u001b[0mloads\u001b[0m\u001b[1;33m(\u001b[0m\u001b[0mdf_marks_and_models\u001b[0m\u001b[1;33m.\u001b[0m\u001b[0mloc\u001b[0m\u001b[1;33m[\u001b[0m\u001b[0mmark\u001b[0m\u001b[1;33m,\u001b[0m \u001b[1;34m'Models'\u001b[0m\u001b[1;33m]\u001b[0m\u001b[1;33m.\u001b[0m\u001b[0mreplace\u001b[0m\u001b[1;33m(\u001b[0m\u001b[1;34m\"'\"\u001b[0m\u001b[1;33m,\u001b[0m \u001b[1;34m'\"'\u001b[0m\u001b[1;33m)\u001b[0m\u001b[1;33m)\u001b[0m\u001b[1;33m\u001b[0m\u001b[1;33m\u001b[0m\u001b[0m\n\u001b[0m\u001b[0;32m     11\u001b[0m     \u001b[1;32mfor\u001b[0m \u001b[0mmodel\u001b[0m \u001b[1;32min\u001b[0m \u001b[0mlist_of_models\u001b[0m\u001b[1;33m:\u001b[0m\u001b[1;33m\u001b[0m\u001b[1;33m\u001b[0m\u001b[0m\n\u001b[0;32m     12\u001b[0m         \u001b[1;32mfor\u001b[0m \u001b[0mnum_page\u001b[0m \u001b[1;32min\u001b[0m \u001b[0mrange\u001b[0m\u001b[1;33m(\u001b[0m\u001b[1;36m1\u001b[0m\u001b[1;33m,\u001b[0m \u001b[1;36m200\u001b[0m\u001b[1;33m)\u001b[0m\u001b[1;33m:\u001b[0m\u001b[1;33m\u001b[0m\u001b[1;33m\u001b[0m\u001b[0m\n",
      "\u001b[1;31mNameError\u001b[0m: name 'df_marks_and_models' is not defined"
     ]
    }
   ],
   "source": [
    "auto_ru = {}\n",
    "\n",
    "iter_of_ads, iter_of_marks, old_iter_of_ads, sum_ads, sum_ads_from_dict = 0,0,0,0,0\n",
    "space = ' '\n",
    "start_time_global = time.clock()\n",
    "\n",
    "for mark in list_of_relevant_marks:\n",
    "    mark=mark.lower()\n",
    "    start_time = time.clock()\n",
    "    list_of_models = json.loads(df_marks_and_models.loc[mark, 'Models'].replace(\"'\", '\"'))\n",
    "    for model in list_of_models:\n",
    "        for num_page in range(1, 200):\n",
    "            param = {\n",
    "                'catalog_filter' : [{\"mark\": mark, \"model\": model}],\n",
    "                'section': \"all\",\n",
    "                'category': \"cars\",\n",
    "                'sort': \"fresh_relevance_1-desc\",\n",
    "                \"top_days\":\"900\",\n",
    "                \"geo_radius\":200,\n",
    "                \"geo_id\":[213],\n",
    "                'page': num_page\n",
    "            }\n",
    "            response = requests.post(url, json=param, headers = HEADERS)\n",
    "            data = response.json()\n",
    "\n",
    "            if data['offers'] != []:\n",
    "                for elem in data['offers']:\n",
    "                    from_elem_to_dict(elem, dict_columns)\n",
    "                    auto_ru[iter_of_ads] = dict_columns.copy()\n",
    "                    iter_of_ads += 1\n",
    "            else:\n",
    "                break\n",
    "    iter_of_marks +=1\n",
    "    temp_1 = iter_of_ads-old_iter_of_ads\n",
    "    temp_2 = dict_of_num_cars_of_models[mark]\n",
    "    temp_3 = temp_1/temp_2\n",
    "    temp_4 = space*abs(13-len(mark)-len(str(iter_of_marks)))\n",
    "    temp_5 = int(time.clock() - start_time)\n",
    "    temp_8 = round(temp_3*100,2)\n",
    "    temp_7 = space*abs(18-len(str(temp_1))-len(str(temp_2))-len(str(temp_8))-len(str(temp_5)))\n",
    "    temp_9 = int(time.clock() - start_time_global)\n",
    "    \n",
    "\n",
    "    sum_ads += temp_1\n",
    "    sum_ads_from_dict += temp_2\n",
    "    temp_def = sum_ads/sum_ads_from_dict\n",
    "    temp_6 = (sum_of_ads*temp_def - iter_of_ads)*temp_9/sum_ads\n",
    "\n",
    "\n",
    "    print (f'{iter_of_marks}.{mark} {temp_4} ушло:{temp_5} сек., стр. {temp_1} из {temp_2} {temp_8}%,{temp_7}всего стр. {iter_of_ads}, прогноз {int(temp_6/60)} мин.')\n",
    "\n",
    "    old_iter_of_ads=iter_of_ads\n",
    "\n",
    "print (f'Всего спарсили := {iter_of_ads} строк, на это ушло: {int((time.clock() - start_time_global)/60)} мин., ')"
   ]
  },
  {
   "cell_type": "code",
   "execution_count": null,
   "metadata": {},
   "outputs": [],
   "source": []
  },
  {
   "cell_type": "code",
   "execution_count": null,
   "metadata": {},
   "outputs": [],
   "source": []
  },
  {
   "cell_type": "code",
   "execution_count": null,
   "metadata": {},
   "outputs": [],
   "source": []
  },
  {
   "cell_type": "code",
   "execution_count": null,
   "metadata": {},
   "outputs": [],
   "source": []
  }
 ],
 "metadata": {
  "kernelspec": {
   "display_name": "Python 3",
   "language": "python",
   "name": "python3"
  },
  "language_info": {
   "codemirror_mode": {
    "name": "ipython",
    "version": 3
   },
   "file_extension": ".py",
   "mimetype": "text/x-python",
   "name": "python",
   "nbconvert_exporter": "python",
   "pygments_lexer": "ipython3",
   "version": "3.7.7"
  }
 },
 "nbformat": 4,
 "nbformat_minor": 4
}
