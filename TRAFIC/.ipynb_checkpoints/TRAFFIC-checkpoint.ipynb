{
 "cells": [
  {
   "cell_type": "code",
   "execution_count": 5,
   "metadata": {},
   "outputs": [],
   "source": [
    "import glob\n",
    "from scapy.all import *\n",
    "from scapy.layers import http\n",
    "import sys\n",
    "import re\n",
    "from netaddr import IPNetwork,IPAddress\n",
    "import configparser"
   ]
  },
  {
   "cell_type": "code",
   "execution_count": 11,
   "metadata": {},
   "outputs": [],
   "source": [
    "def ip_mask(ip,masks):\n",
    "    answer = False\n",
    "    for mask in masks:\n",
    "        if IPAddress(ip) in IPNetwork(mask):\n",
    "            answer = True\n",
    "            break\n",
    "    return answer\n",
    "\n",
    "def pcap_read_close(filename,count=-1):\n",
    "    pcap_reader=PcapReader(filename)\n",
    "    packet=pcap_reader.read_all(count=count)\n",
    "    pcap_reader.close()\n",
    "    return packet\n",
    "\n",
    "def create_config_ini(address,host,folder):\n",
    "    config = configparser.ConfigParser()\n",
    "    config['ADDRESS']=host.host_address\n",
    "    config['HOST_NAME']=host.host_name\n",
    "    config['HOST_PORT']=host.host_port\n",
    "    config['HOST_SERVER']=host.host_server\n",
    "    config['HOST_X_POWER']=host.host_x_power\n",
    "    config['HOST_GETS']=host.host_gets\n",
    "    config['HOST_POSTS']=host.host_posts\n",
    "    config['HOST_MAILS']=host.host_mails\n",
    "    conf_name=folder+\"\\\\\"+str(address)+\".ini\"\n",
    "    with open(conf_name, 'w') as configfile:\n",
    "        config.write(configfile)\n",
    "\n",
    "def adding        \n",
    "        \n",
    "def check_change_ini(address,host,file):\n",
    "    config = configparser.ConfigParser()\n",
    "    config.read(file)\n",
    "    adresses=config['ADDRESS']\n",
    "    result=adresses.Values()-host.host_address.Values()\n",
    "    if len(result)>0:\n",
    "        #adding\n",
    "        \n",
    "    names=config['HOST_NAME']\n",
    "    result=names.Values()-host.host_name.Values()\n",
    "    if len(result)>0:\n",
    "        \n",
    "    adresses=config['ADDRESS']\n",
    "    result=adresses.Values()-host.host_address.Values()\n",
    "    if len(result)>0:\n",
    "        \n",
    "     adresses=config['ADDRESS']\n",
    "    result=adresses.Values()-host.host_address.Values()\n",
    "    if len(result)>0:\n",
    "        \n",
    "     adresses=config['ADDRESS']\n",
    "    result=adresses.Values()-host.host_address.Values()\n",
    "    if len(result)>0:\n",
    "        \n",
    "     adresses=config['ADDRESS']\n",
    "    result=adresses.Values()-host.host_address.Values()\n",
    "    if len(result)>0:"
   ]
  },
  {
   "cell_type": "code",
   "execution_count": 12,
   "metadata": {},
   "outputs": [],
   "source": [
    "class host:\n",
    "    def __init__(self,host_name,\n",
    "                host_address,\n",
    "                host_port,\n",
    "                host_server,\n",
    "                host_x_power,\n",
    "                host_gets,\n",
    "                host_posts,\n",
    "                host_mails):\n",
    "        self.host_name = host_name\n",
    "        self.host_address = host_address\n",
    "        self.host_port = host_port\n",
    "        self.host_server = host_server\n",
    "        self.host_x_power = host_x_power\n",
    "        self.host_gets = host_gets\n",
    "        self.host_posts = host_posts\n",
    "        self.host_mails = host_mails"
   ]
  },
  {
   "cell_type": "code",
   "execution_count": 13,
   "metadata": {},
   "outputs": [
    {
     "ename": "AttributeError",
     "evalue": "'ConfigParser' object has no attribute 'close'",
     "output_type": "error",
     "traceback": [
      "\u001b[1;31m---------------------------------------------------------------------------\u001b[0m",
      "\u001b[1;31mAttributeError\u001b[0m                            Traceback (most recent call last)",
      "\u001b[1;32m<ipython-input-13-87ab1a91a723>\u001b[0m in \u001b[0;36m<module>\u001b[1;34m\u001b[0m\n\u001b[0;32m     10\u001b[0m \u001b[0mex\u001b[0m\u001b[1;33m=\u001b[0m\u001b[0mhost\u001b[0m\u001b[1;33m(\u001b[0m\u001b[0mname\u001b[0m\u001b[1;33m,\u001b[0m\u001b[0maddress\u001b[0m\u001b[1;33m,\u001b[0m\u001b[0mport\u001b[0m\u001b[1;33m,\u001b[0m\u001b[0mserver\u001b[0m\u001b[1;33m,\u001b[0m\u001b[0mx_power\u001b[0m\u001b[1;33m,\u001b[0m\u001b[0mgets\u001b[0m\u001b[1;33m,\u001b[0m\u001b[0mposts\u001b[0m\u001b[1;33m,\u001b[0m\u001b[0mmails\u001b[0m\u001b[1;33m)\u001b[0m\u001b[1;33m\u001b[0m\u001b[1;33m\u001b[0m\u001b[0m\n\u001b[0;32m     11\u001b[0m \u001b[0mfolder\u001b[0m\u001b[1;33m=\u001b[0m\u001b[1;34m\"C:\\\\Users\\\\user\\\\Documents\\\\DataScience\\\\PYTHON\\\\TRAFIC\"\u001b[0m\u001b[1;33m\u001b[0m\u001b[1;33m\u001b[0m\u001b[0m\n\u001b[1;32m---> 12\u001b[1;33m \u001b[0mcreate_config_ini\u001b[0m\u001b[1;33m(\u001b[0m\u001b[1;34m\"12.13.14\"\u001b[0m\u001b[1;33m,\u001b[0m\u001b[0mex\u001b[0m\u001b[1;33m,\u001b[0m\u001b[0mfolder\u001b[0m\u001b[1;33m)\u001b[0m\u001b[1;33m\u001b[0m\u001b[1;33m\u001b[0m\u001b[0m\n\u001b[0m",
      "\u001b[1;32m<ipython-input-11-05aaebe5b334>\u001b[0m in \u001b[0;36mcreate_config_ini\u001b[1;34m(address, host, folder)\u001b[0m\n\u001b[0;32m     26\u001b[0m     \u001b[1;32mwith\u001b[0m \u001b[0mopen\u001b[0m\u001b[1;33m(\u001b[0m\u001b[0mconf_name\u001b[0m\u001b[1;33m,\u001b[0m \u001b[1;34m'w'\u001b[0m\u001b[1;33m)\u001b[0m \u001b[1;32mas\u001b[0m \u001b[0mconfigfile\u001b[0m\u001b[1;33m:\u001b[0m\u001b[1;33m\u001b[0m\u001b[1;33m\u001b[0m\u001b[0m\n\u001b[0;32m     27\u001b[0m         \u001b[0mconfig\u001b[0m\u001b[1;33m.\u001b[0m\u001b[0mwrite\u001b[0m\u001b[1;33m(\u001b[0m\u001b[0mconfigfile\u001b[0m\u001b[1;33m)\u001b[0m\u001b[1;33m\u001b[0m\u001b[1;33m\u001b[0m\u001b[0m\n\u001b[1;32m---> 28\u001b[1;33m         \u001b[0mconfig\u001b[0m\u001b[1;33m.\u001b[0m\u001b[0mclose\u001b[0m\u001b[1;33m\u001b[0m\u001b[1;33m\u001b[0m\u001b[0m\n\u001b[0m",
      "\u001b[1;31mAttributeError\u001b[0m: 'ConfigParser' object has no attribute 'close'"
     ]
    }
   ],
   "source": [
    "name={'1':'a','2':'b','3':'c'}\n",
    "address={'1':'a','2':'b','3':'c'}\n",
    "port={'1':'a','2':'b','3':'c'}\n",
    "server={'1':'a','2':'b','3':'c'}\n",
    "x_power={'1':1,'2':2,'3':3}\n",
    "gets={'1':1,'2':2,'3':3}\n",
    "posts={'1':1,'2':2,'3':3}\n",
    "mails={'1':1,'2':2,'3':3}\n",
    "\n",
    "ex=host(name,address,port,server,x_power,gets,posts,mails)\n",
    "folder=\"C:\\\\Users\\\\user\\\\Documents\\\\DataScience\\\\PYTHON\\\\TRAFIC\"\n",
    "create_config_ini(\"12.13.14\",ex,folder)"
   ]
  },
  {
   "cell_type": "code",
   "execution_count": null,
   "metadata": {},
   "outputs": [],
   "source": []
  }
 ],
 "metadata": {
  "kernelspec": {
   "display_name": "Python 3",
   "language": "python",
   "name": "python3"
  },
  "language_info": {
   "codemirror_mode": {
    "name": "ipython",
    "version": 3
   },
   "file_extension": ".py",
   "mimetype": "text/x-python",
   "name": "python",
   "nbconvert_exporter": "python",
   "pygments_lexer": "ipython3",
   "version": "3.7.6"
  }
 },
 "nbformat": 4,
 "nbformat_minor": 4
}
