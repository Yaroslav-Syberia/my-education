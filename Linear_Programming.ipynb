{
 "cells": [
  {
   "cell_type": "markdown",
   "metadata": {},
   "source": [
    "Допустим, у нас есть $n$ товаров с заданными стоимостями $v_i$ и массой $w_i$. В сумку убирается $С$ кг. Сколько какого товара взять, чтобы сумма всех стоимостей товаров была наибольшей?"
   ]
  },
  {
   "cell_type": "code",
   "execution_count": 9,
   "metadata": {},
   "outputs": [],
   "source": [
    "values = [4, 2, 1, 7, 3, 6]\n",
    "weights = [5, 9, 8, 2, 6, 5]\n",
    "C = 15\n",
    "n = 6"
   ]
  },
  {
   "cell_type": "markdown",
   "metadata": {},
   "source": [
    "Сформулируем задачу:\n",
    "$$\\max\\sum v_i x_i$$\n",
    "$$\\sum w_i x_i \\leq C $$"
   ]
  },
  {
   "cell_type": "markdown",
   "metadata": {},
   "source": [
    "Как должна выглядеть задача:\n",
    "$$\\min c^T x$$\n",
    "$$A x \\leq b $$"
   ]
  },
  {
   "cell_type": "markdown",
   "metadata": {},
   "source": [
    "Получается, что $c=-v$, $A=w^T$, $b=(C)$"
   ]
  },
  {
   "cell_type": "code",
   "execution_count": 10,
   "metadata": {},
   "outputs": [],
   "source": [
    "import numpy as np"
   ]
  },
  {
   "cell_type": "code",
   "execution_count": 11,
   "metadata": {},
   "outputs": [],
   "source": [
    "c = - np.array(values)\n",
    "A = np.array(weights)         #shape = (6,)\n",
    "A = np.expand_dims(A, 0)      #shape = (1,6)\n",
    "b = np.array([C])"
   ]
  },
  {
   "cell_type": "code",
   "execution_count": 12,
   "metadata": {},
   "outputs": [],
   "source": [
    "from scipy.optimize import linprog"
   ]
  },
  {
   "cell_type": "code",
   "execution_count": 13,
   "metadata": {},
   "outputs": [
    {
     "data": {
      "text/plain": [
       "     con: array([], dtype=float64)\n",
       "     fun: -52.500000000030745\n",
       " message: 'Optimization terminated successfully.'\n",
       "     nit: 5\n",
       "   slack: array([-2.24886776e-11])\n",
       "  status: 0\n",
       " success: True\n",
       "       x: array([6.18738521e-14, 1.05853304e-12, 1.21475941e-13, 7.50000000e+00,\n",
       "       4.00246685e-13, 4.71394154e-13])"
      ]
     },
     "execution_count": 13,
     "metadata": {},
     "output_type": "execute_result"
    }
   ],
   "source": [
    "linprog(c=c, A_ub=A, b_ub=b)"
   ]
  },
  {
   "cell_type": "code",
   "execution_count": 14,
   "metadata": {
    "scrolled": false
   },
   "outputs": [],
   "source": [
    "#!pip install cvxpy"
   ]
  },
  {
   "cell_type": "code",
   "execution_count": 15,
   "metadata": {},
   "outputs": [],
   "source": [
    "import cvxopt"
   ]
  },
  {
   "cell_type": "code",
   "execution_count": 16,
   "metadata": {},
   "outputs": [
    {
     "ename": "AttributeError",
     "evalue": "module 'cvxopt' has no attribute 'Variable'",
     "output_type": "error",
     "traceback": [
      "\u001b[1;31m---------------------------------------------------------------------------\u001b[0m",
      "\u001b[1;31mAttributeError\u001b[0m                            Traceback (most recent call last)",
      "\u001b[1;32m<ipython-input-16-fda8f0e04e0b>\u001b[0m in \u001b[0;36m<module>\u001b[1;34m\u001b[0m\n\u001b[1;32m----> 1\u001b[1;33m \u001b[0mx\u001b[0m \u001b[1;33m=\u001b[0m \u001b[0mcvxopt\u001b[0m\u001b[1;33m.\u001b[0m\u001b[0mVariable\u001b[0m\u001b[1;33m(\u001b[0m\u001b[0mshape\u001b[0m\u001b[1;33m=\u001b[0m\u001b[0mn\u001b[0m\u001b[1;33m,\u001b[0m \u001b[0minteger\u001b[0m \u001b[1;33m=\u001b[0m \u001b[1;32mTrue\u001b[0m\u001b[1;33m)\u001b[0m\u001b[1;33m\u001b[0m\u001b[1;33m\u001b[0m\u001b[0m\n\u001b[0m",
      "\u001b[1;31mAttributeError\u001b[0m: module 'cvxopt' has no attribute 'Variable'"
     ]
    }
   ],
   "source": [
    "x = cvxopt.Variable(shape=n, integer = True)"
   ]
  },
  {
   "cell_type": "code",
   "execution_count": null,
   "metadata": {},
   "outputs": [],
   "source": [
    "constraint = (A @ x <= b)\n",
    "total_value = c * x"
   ]
  },
  {
   "cell_type": "code",
   "execution_count": null,
   "metadata": {},
   "outputs": [],
   "source": [
    "problem = cvxpy.Problem(cvxpy.Minimize(total_value), constraints=[constraint])"
   ]
  },
  {
   "cell_type": "code",
   "execution_count": null,
   "metadata": {},
   "outputs": [],
   "source": [
    "problem.solve()"
   ]
  },
  {
   "cell_type": "code",
   "execution_count": null,
   "metadata": {},
   "outputs": [],
   "source": [
    "x.value"
   ]
  },
  {
   "cell_type": "markdown",
   "metadata": {},
   "source": [
    "Теперь положительные $x$"
   ]
  },
  {
   "cell_type": "code",
   "execution_count": null,
   "metadata": {},
   "outputs": [],
   "source": [
    "x = cvxpy.Variable(shape=n, integer=True)\n",
    "constraint = (A @ x <= b)\n",
    "x_positive = (x >= 0)\n",
    "total_value = c * x\n",
    "problem = cvxpy.Problem(cvxpy.Minimize(total_value), constraints=[constraint, x_positive])\n",
    "problem.solve()"
   ]
  },
  {
   "cell_type": "code",
   "execution_count": null,
   "metadata": {},
   "outputs": [],
   "source": [
    "x.value"
   ]
  },
  {
   "cell_type": "markdown",
   "metadata": {},
   "source": [
    "Теперь $x = 0$ или $1$"
   ]
  },
  {
   "cell_type": "code",
   "execution_count": null,
   "metadata": {},
   "outputs": [],
   "source": [
    "x = cvxpy.Variable(shape=n, boolean=True)\n",
    "constraint = A @ x <= b\n",
    "x_positive = x >= 0\n",
    "total_value = c * x\n",
    "problem = cvxpy.Problem(cvxpy.Minimize(total_value), constraints=[constraint, x_positive])\n",
    "problem.solve()"
   ]
  },
  {
   "cell_type": "code",
   "execution_count": null,
   "metadata": {},
   "outputs": [],
   "source": [
    "x.value"
   ]
  },
  {
   "cell_type": "code",
   "execution_count": 17,
   "metadata": {},
   "outputs": [
    {
     "data": {
      "text/plain": [
       "     con: array([], dtype=float64)\n",
       "     fun: 1899.9999725510124\n",
       " message: 'Optimization terminated successfully.'\n",
       "     nit: 5\n",
       "   slack: array([ 2.61579049e-06,  3.20307362e-06, -1.59710837e-06, -2.18403403e-06,\n",
       "       -2.03772174e-06])\n",
       "  status: 0\n",
       " success: True\n",
       "       x: array([1.09999998e+02, 1.64001118e-08, 6.99999991e+01, 9.36756152e-08,\n",
       "       1.49999998e+02, 6.99999989e+01])"
      ]
     },
     "execution_count": 17,
     "metadata": {},
     "output_type": "execute_result"
    }
   ],
   "source": [
    "cost = np.array([\n",
    "    [2, 5, 3],\n",
    "    [7, 7, 6]\n",
    "])\n",
    "stock = np.array([180, 220])\n",
    "demand = np.array([110, 150, 140])\n",
    "num_warehouse = 2\n",
    "num_clients = 3\n",
    "c = cost.flatten()\n",
    "A = []\n",
    "b = []\n",
    "for i in range(0, num_warehouse):\n",
    "    A.append([0] * (num_clients * i) + [1] * num_clients + [0] * (num_clients * (num_warehouse - i - 1)))\n",
    "    b.append(stock[i])\n",
    "A = np.asarray(A)\n",
    "b = np.asarray(b)\n",
    "A = A.tolist()\n",
    "b = b.tolist()\n",
    "for j in range(0, num_clients):\n",
    "    A.append(([0] * j + [-1] + [0] * (num_clients - j - 1)) * num_warehouse)\n",
    "    b.append(-demand[j])\n",
    "A = np.asarray(A)\n",
    "b = np.asarray(b)\n",
    "linprog(c=c, A_ub=A, b_ub=b)"
   ]
  },
  {
   "cell_type": "code",
   "execution_count": null,
   "metadata": {},
   "outputs": [],
   "source": []
  }
 ],
 "metadata": {
  "kernelspec": {
   "display_name": "Python 3",
   "language": "python",
   "name": "python3"
  },
  "language_info": {
   "codemirror_mode": {
    "name": "ipython",
    "version": 3
   },
   "file_extension": ".py",
   "mimetype": "text/x-python",
   "name": "python",
   "nbconvert_exporter": "python",
   "pygments_lexer": "ipython3",
   "version": "3.7.7"
  }
 },
 "nbformat": 4,
 "nbformat_minor": 2
}
