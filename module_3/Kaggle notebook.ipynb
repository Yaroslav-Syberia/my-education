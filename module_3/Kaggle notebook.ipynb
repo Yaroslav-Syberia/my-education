{
 "cells": [
  {
   "cell_type": "code",
   "execution_count": 1,
   "metadata": {
    "_cell_guid": "b1076dfc-b9ad-4769-8c92-a6c4dae69d19",
    "_uuid": "8f2839f25d086af736a60e9eeb907d3b93b6e0e5",
    "execution": {
     "iopub.execute_input": "2020-09-08T22:16:59.467016Z",
     "iopub.status.busy": "2020-09-08T22:16:59.466162Z",
     "iopub.status.idle": "2020-09-08T22:17:01.045769Z",
     "shell.execute_reply": "2020-09-08T22:17:01.044800Z"
    },
    "papermill": {
     "duration": 1.664243,
     "end_time": "2020-09-08T22:17:01.045929",
     "exception": false,
     "start_time": "2020-09-08T22:16:59.381686",
     "status": "completed"
    },
    "tags": []
   },
   "outputs": [
    {
     "name": "stdout",
     "output_type": "stream",
     "text": [
      "/kaggle/input/sf-dst-restaurant-rating/main_task.csv\n",
      "/kaggle/input/sf-dst-restaurant-rating/kaggle_task.csv\n",
      "/kaggle/input/sf-dst-restaurant-rating/sample_submission.csv\n"
     ]
    }
   ],
   "source": [
    "import numpy as np # linear algebra\n",
    "import pandas as pd # data processing, CSV file I/O (e.g. pd.read_csv)\n",
    "\n",
    "import matplotlib.pyplot as plt\n",
    "import seaborn as sns \n",
    "%matplotlib inline\n",
    "\n",
    "from itertools import combinations\n",
    "from scipy.stats import ttest_ind\n",
    "\n",
    "import re\n",
    "from scipy.stats import lognorm\n",
    "# Импортируем необходимые библиотеки:\n",
    "from sklearn.preprocessing import StandardScaler\n",
    "from sklearn.ensemble import RandomForestRegressor # инструмент для создания и обучения модели\n",
    "from sklearn import metrics # инструменты для оценки точности модели\n",
    "\n",
    "# Загружаем специальный удобный инструмент для разделения датасета:\n",
    "from sklearn.model_selection import train_test_split\n",
    "\n",
    "import os\n",
    "for dirname, _, filenames in os.walk('/kaggle/input'):\n",
    "    for filename in filenames:\n",
    "        print(os.path.join(dirname, filename))"
   ]
  },
  {
   "cell_type": "code",
   "execution_count": 2,
   "metadata": {
    "_cell_guid": "79c7e3d0-c299-4dcb-8224-4455121ee9b0",
    "_uuid": "d629ff2d2480ee46fbb7e2d37f6b5fab8052498a",
    "execution": {
     "iopub.execute_input": "2020-09-08T22:17:01.194110Z",
     "iopub.status.busy": "2020-09-08T22:17:01.192989Z",
     "iopub.status.idle": "2020-09-08T22:17:04.423247Z",
     "shell.execute_reply": "2020-09-08T22:17:04.422350Z"
    },
    "papermill": {
     "duration": 3.305564,
     "end_time": "2020-09-08T22:17:04.423392",
     "exception": false,
     "start_time": "2020-09-08T22:17:01.117828",
     "status": "completed"
    },
    "tags": []
   },
   "outputs": [],
   "source": [
    "RANDOM_SEED = 42\n",
    "!pip freeze > requirements.txt"
   ]
  },
  {
   "cell_type": "code",
   "execution_count": 3,
   "metadata": {
    "execution": {
     "iopub.execute_input": "2020-09-08T22:17:04.574450Z",
     "iopub.status.busy": "2020-09-08T22:17:04.573626Z",
     "iopub.status.idle": "2020-09-08T22:17:04.949970Z",
     "shell.execute_reply": "2020-09-08T22:17:04.949040Z"
    },
    "papermill": {
     "duration": 0.456659,
     "end_time": "2020-09-08T22:17:04.950108",
     "exception": false,
     "start_time": "2020-09-08T22:17:04.493449",
     "status": "completed"
    },
    "tags": []
   },
   "outputs": [],
   "source": [
    "DATA_DIR = '/kaggle/input/sf-dst-restaurant-rating/'\n",
    "df_train = pd.read_csv(DATA_DIR+'/main_task.csv')\n",
    "df_test = pd.read_csv(DATA_DIR+'kaggle_task.csv')\n",
    "sample_submission = pd.read_csv(DATA_DIR+'/sample_submission.csv')"
   ]
  },
  {
   "cell_type": "code",
   "execution_count": 4,
   "metadata": {
    "execution": {
     "iopub.execute_input": "2020-09-08T22:17:05.129799Z",
     "iopub.status.busy": "2020-09-08T22:17:05.129027Z",
     "iopub.status.idle": "2020-09-08T22:17:05.143354Z",
     "shell.execute_reply": "2020-09-08T22:17:05.142582Z"
    },
    "papermill": {
     "duration": 0.108801,
     "end_time": "2020-09-08T22:17:05.143484",
     "exception": false,
     "start_time": "2020-09-08T22:17:05.034683",
     "status": "completed"
    },
    "tags": []
   },
   "outputs": [
    {
     "data": {
      "text/html": [
       "<div>\n",
       "<style scoped>\n",
       "    .dataframe tbody tr th:only-of-type {\n",
       "        vertical-align: middle;\n",
       "    }\n",
       "\n",
       "    .dataframe tbody tr th {\n",
       "        vertical-align: top;\n",
       "    }\n",
       "\n",
       "    .dataframe thead th {\n",
       "        text-align: right;\n",
       "    }\n",
       "</style>\n",
       "<table border=\"1\" class=\"dataframe\">\n",
       "  <thead>\n",
       "    <tr style=\"text-align: right;\">\n",
       "      <th></th>\n",
       "      <th>Restaurant_id</th>\n",
       "      <th>City</th>\n",
       "      <th>Cuisine Style</th>\n",
       "      <th>Ranking</th>\n",
       "      <th>Rating</th>\n",
       "      <th>Price Range</th>\n",
       "      <th>Number of Reviews</th>\n",
       "      <th>Reviews</th>\n",
       "      <th>URL_TA</th>\n",
       "      <th>ID_TA</th>\n",
       "    </tr>\n",
       "  </thead>\n",
       "  <tbody>\n",
       "    <tr>\n",
       "      <th>0</th>\n",
       "      <td>id_5569</td>\n",
       "      <td>Paris</td>\n",
       "      <td>['European', 'French', 'International']</td>\n",
       "      <td>5570.0</td>\n",
       "      <td>3.5</td>\n",
       "      <td>$$ - $$$</td>\n",
       "      <td>194.0</td>\n",
       "      <td>[['Good food at your doorstep', 'A good hotel ...</td>\n",
       "      <td>/Restaurant_Review-g187147-d1912643-Reviews-R_...</td>\n",
       "      <td>d1912643</td>\n",
       "    </tr>\n",
       "    <tr>\n",
       "      <th>1</th>\n",
       "      <td>id_1535</td>\n",
       "      <td>Stockholm</td>\n",
       "      <td>NaN</td>\n",
       "      <td>1537.0</td>\n",
       "      <td>4.0</td>\n",
       "      <td>NaN</td>\n",
       "      <td>10.0</td>\n",
       "      <td>[['Unique cuisine', 'Delicious Nepalese food']...</td>\n",
       "      <td>/Restaurant_Review-g189852-d7992032-Reviews-Bu...</td>\n",
       "      <td>d7992032</td>\n",
       "    </tr>\n",
       "    <tr>\n",
       "      <th>2</th>\n",
       "      <td>id_352</td>\n",
       "      <td>London</td>\n",
       "      <td>['Japanese', 'Sushi', 'Asian', 'Grill', 'Veget...</td>\n",
       "      <td>353.0</td>\n",
       "      <td>4.5</td>\n",
       "      <td>$$$$</td>\n",
       "      <td>688.0</td>\n",
       "      <td>[['Catch up with friends', 'Not exceptional'],...</td>\n",
       "      <td>/Restaurant_Review-g186338-d8632781-Reviews-RO...</td>\n",
       "      <td>d8632781</td>\n",
       "    </tr>\n",
       "    <tr>\n",
       "      <th>3</th>\n",
       "      <td>id_3456</td>\n",
       "      <td>Berlin</td>\n",
       "      <td>NaN</td>\n",
       "      <td>3458.0</td>\n",
       "      <td>5.0</td>\n",
       "      <td>NaN</td>\n",
       "      <td>3.0</td>\n",
       "      <td>[[], []]</td>\n",
       "      <td>/Restaurant_Review-g187323-d1358776-Reviews-Es...</td>\n",
       "      <td>d1358776</td>\n",
       "    </tr>\n",
       "    <tr>\n",
       "      <th>4</th>\n",
       "      <td>id_615</td>\n",
       "      <td>Munich</td>\n",
       "      <td>['German', 'Central European', 'Vegetarian Fri...</td>\n",
       "      <td>621.0</td>\n",
       "      <td>4.0</td>\n",
       "      <td>$$ - $$$</td>\n",
       "      <td>84.0</td>\n",
       "      <td>[['Best place to try a Bavarian food', 'Nice b...</td>\n",
       "      <td>/Restaurant_Review-g187309-d6864963-Reviews-Au...</td>\n",
       "      <td>d6864963</td>\n",
       "    </tr>\n",
       "  </tbody>\n",
       "</table>\n",
       "</div>"
      ],
      "text/plain": [
       "  Restaurant_id       City                                      Cuisine Style  \\\n",
       "0       id_5569      Paris            ['European', 'French', 'International']   \n",
       "1       id_1535  Stockholm                                                NaN   \n",
       "2        id_352     London  ['Japanese', 'Sushi', 'Asian', 'Grill', 'Veget...   \n",
       "3       id_3456     Berlin                                                NaN   \n",
       "4        id_615     Munich  ['German', 'Central European', 'Vegetarian Fri...   \n",
       "\n",
       "   Ranking  Rating Price Range  Number of Reviews  \\\n",
       "0   5570.0     3.5    $$ - $$$              194.0   \n",
       "1   1537.0     4.0         NaN               10.0   \n",
       "2    353.0     4.5        $$$$              688.0   \n",
       "3   3458.0     5.0         NaN                3.0   \n",
       "4    621.0     4.0    $$ - $$$               84.0   \n",
       "\n",
       "                                             Reviews  \\\n",
       "0  [['Good food at your doorstep', 'A good hotel ...   \n",
       "1  [['Unique cuisine', 'Delicious Nepalese food']...   \n",
       "2  [['Catch up with friends', 'Not exceptional'],...   \n",
       "3                                           [[], []]   \n",
       "4  [['Best place to try a Bavarian food', 'Nice b...   \n",
       "\n",
       "                                              URL_TA     ID_TA  \n",
       "0  /Restaurant_Review-g187147-d1912643-Reviews-R_...  d1912643  \n",
       "1  /Restaurant_Review-g189852-d7992032-Reviews-Bu...  d7992032  \n",
       "2  /Restaurant_Review-g186338-d8632781-Reviews-RO...  d8632781  \n",
       "3  /Restaurant_Review-g187323-d1358776-Reviews-Es...  d1358776  \n",
       "4  /Restaurant_Review-g187309-d6864963-Reviews-Au...  d6864963  "
      ]
     },
     "execution_count": 4,
     "metadata": {},
     "output_type": "execute_result"
    }
   ],
   "source": [
    "df_train.head(5)"
   ]
  },
  {
   "cell_type": "code",
   "execution_count": 5,
   "metadata": {
    "execution": {
     "iopub.execute_input": "2020-09-08T22:17:05.324745Z",
     "iopub.status.busy": "2020-09-08T22:17:05.323874Z",
     "iopub.status.idle": "2020-09-08T22:17:05.345348Z",
     "shell.execute_reply": "2020-09-08T22:17:05.344510Z"
    },
    "papermill": {
     "duration": 0.131059,
     "end_time": "2020-09-08T22:17:05.345483",
     "exception": false,
     "start_time": "2020-09-08T22:17:05.214424",
     "status": "completed"
    },
    "tags": []
   },
   "outputs": [
    {
     "name": "stdout",
     "output_type": "stream",
     "text": [
      "<class 'pandas.core.frame.DataFrame'>\n",
      "RangeIndex: 40000 entries, 0 to 39999\n",
      "Data columns (total 10 columns):\n",
      " #   Column             Non-Null Count  Dtype  \n",
      "---  ------             --------------  -----  \n",
      " 0   Restaurant_id      40000 non-null  object \n",
      " 1   City               40000 non-null  object \n",
      " 2   Cuisine Style      30717 non-null  object \n",
      " 3   Ranking            40000 non-null  float64\n",
      " 4   Rating             40000 non-null  float64\n",
      " 5   Price Range        26114 non-null  object \n",
      " 6   Number of Reviews  37457 non-null  float64\n",
      " 7   Reviews            40000 non-null  object \n",
      " 8   URL_TA             40000 non-null  object \n",
      " 9   ID_TA              40000 non-null  object \n",
      "dtypes: float64(3), object(7)\n",
      "memory usage: 3.1+ MB\n"
     ]
    }
   ],
   "source": [
    "df_train.info()"
   ]
  },
  {
   "cell_type": "code",
   "execution_count": 6,
   "metadata": {
    "execution": {
     "iopub.execute_input": "2020-09-08T22:17:05.501498Z",
     "iopub.status.busy": "2020-09-08T22:17:05.500398Z",
     "iopub.status.idle": "2020-09-08T22:17:05.506439Z",
     "shell.execute_reply": "2020-09-08T22:17:05.505557Z"
    },
    "papermill": {
     "duration": 0.088797,
     "end_time": "2020-09-08T22:17:05.506580",
     "exception": false,
     "start_time": "2020-09-08T22:17:05.417783",
     "status": "completed"
    },
    "tags": []
   },
   "outputs": [
    {
     "data": {
      "text/html": [
       "<div>\n",
       "<style scoped>\n",
       "    .dataframe tbody tr th:only-of-type {\n",
       "        vertical-align: middle;\n",
       "    }\n",
       "\n",
       "    .dataframe tbody tr th {\n",
       "        vertical-align: top;\n",
       "    }\n",
       "\n",
       "    .dataframe thead th {\n",
       "        text-align: right;\n",
       "    }\n",
       "</style>\n",
       "<table border=\"1\" class=\"dataframe\">\n",
       "  <thead>\n",
       "    <tr style=\"text-align: right;\">\n",
       "      <th></th>\n",
       "      <th>Restaurant_id</th>\n",
       "      <th>Rating</th>\n",
       "    </tr>\n",
       "  </thead>\n",
       "  <tbody>\n",
       "    <tr>\n",
       "      <th>0</th>\n",
       "      <td>id_0</td>\n",
       "      <td>2.0</td>\n",
       "    </tr>\n",
       "    <tr>\n",
       "      <th>1</th>\n",
       "      <td>id_1</td>\n",
       "      <td>2.5</td>\n",
       "    </tr>\n",
       "    <tr>\n",
       "      <th>2</th>\n",
       "      <td>id_2</td>\n",
       "      <td>4.0</td>\n",
       "    </tr>\n",
       "    <tr>\n",
       "      <th>3</th>\n",
       "      <td>id_3</td>\n",
       "      <td>1.0</td>\n",
       "    </tr>\n",
       "    <tr>\n",
       "      <th>4</th>\n",
       "      <td>id_4</td>\n",
       "      <td>4.0</td>\n",
       "    </tr>\n",
       "  </tbody>\n",
       "</table>\n",
       "</div>"
      ],
      "text/plain": [
       "  Restaurant_id  Rating\n",
       "0          id_0     2.0\n",
       "1          id_1     2.5\n",
       "2          id_2     4.0\n",
       "3          id_3     1.0\n",
       "4          id_4     4.0"
      ]
     },
     "execution_count": 6,
     "metadata": {},
     "output_type": "execute_result"
    }
   ],
   "source": [
    "sample_submission.head(5)"
   ]
  },
  {
   "cell_type": "code",
   "execution_count": 7,
   "metadata": {
    "execution": {
     "iopub.execute_input": "2020-09-08T22:17:05.665305Z",
     "iopub.status.busy": "2020-09-08T22:17:05.664452Z",
     "iopub.status.idle": "2020-09-08T22:17:05.701903Z",
     "shell.execute_reply": "2020-09-08T22:17:05.701005Z"
    },
    "papermill": {
     "duration": 0.122944,
     "end_time": "2020-09-08T22:17:05.702063",
     "exception": false,
     "start_time": "2020-09-08T22:17:05.579119",
     "status": "completed"
    },
    "tags": []
   },
   "outputs": [],
   "source": [
    "# ВАЖНО! дря корректной обработки признаков объединяем трейн и тест в один датасет\n",
    "df_train['sample'] = 1 # помечаем где у нас трейн\n",
    "df_test['sample'] = 0 # помечаем где у нас тест\n",
    "df_test['Rating'] = 0 # в тесте у нас нет значения Rating, мы его должны предсказать, по этому пока просто заполняем нулями\n",
    "\n",
    "data = df_test.append(df_train, sort=False).reset_index(drop=True) # объединяем"
   ]
  },
  {
   "cell_type": "code",
   "execution_count": 8,
   "metadata": {
    "execution": {
     "iopub.execute_input": "2020-09-08T22:17:05.857457Z",
     "iopub.status.busy": "2020-09-08T22:17:05.856296Z",
     "iopub.status.idle": "2020-09-08T22:17:05.925638Z",
     "shell.execute_reply": "2020-09-08T22:17:05.924717Z"
    },
    "papermill": {
     "duration": 0.151104,
     "end_time": "2020-09-08T22:17:05.925778",
     "exception": false,
     "start_time": "2020-09-08T22:17:05.774674",
     "status": "completed"
    },
    "tags": []
   },
   "outputs": [
    {
     "name": "stdout",
     "output_type": "stream",
     "text": [
      "<class 'pandas.core.frame.DataFrame'>\n",
      "RangeIndex: 50000 entries, 0 to 49999\n",
      "Data columns (total 11 columns):\n",
      " #   Column             Non-Null Count  Dtype  \n",
      "---  ------             --------------  -----  \n",
      " 0   Restaurant_id      50000 non-null  object \n",
      " 1   City               50000 non-null  object \n",
      " 2   Cuisine Style      38410 non-null  object \n",
      " 3   Ranking            50000 non-null  float64\n",
      " 4   Price Range        32639 non-null  object \n",
      " 5   Number of Reviews  46800 non-null  float64\n",
      " 6   Reviews            49998 non-null  object \n",
      " 7   URL_TA             50000 non-null  object \n",
      " 8   ID_TA              50000 non-null  object \n",
      " 9   sample             50000 non-null  int64  \n",
      " 10  Rating             50000 non-null  float64\n",
      "dtypes: float64(3), int64(1), object(7)\n",
      "memory usage: 4.2+ MB\n"
     ]
    }
   ],
   "source": [
    "data.info()"
   ]
  },
  {
   "cell_type": "code",
   "execution_count": 9,
   "metadata": {
    "execution": {
     "iopub.execute_input": "2020-09-08T22:17:06.094578Z",
     "iopub.status.busy": "2020-09-08T22:17:06.084046Z",
     "iopub.status.idle": "2020-09-08T22:17:06.109253Z",
     "shell.execute_reply": "2020-09-08T22:17:06.108356Z"
    },
    "papermill": {
     "duration": 0.109838,
     "end_time": "2020-09-08T22:17:06.109401",
     "exception": false,
     "start_time": "2020-09-08T22:17:05.999563",
     "status": "completed"
    },
    "tags": []
   },
   "outputs": [
    {
     "data": {
      "text/html": [
       "<div>\n",
       "<style scoped>\n",
       "    .dataframe tbody tr th:only-of-type {\n",
       "        vertical-align: middle;\n",
       "    }\n",
       "\n",
       "    .dataframe tbody tr th {\n",
       "        vertical-align: top;\n",
       "    }\n",
       "\n",
       "    .dataframe thead th {\n",
       "        text-align: right;\n",
       "    }\n",
       "</style>\n",
       "<table border=\"1\" class=\"dataframe\">\n",
       "  <thead>\n",
       "    <tr style=\"text-align: right;\">\n",
       "      <th></th>\n",
       "      <th>Restaurant_id</th>\n",
       "      <th>City</th>\n",
       "      <th>Cuisine Style</th>\n",
       "      <th>Ranking</th>\n",
       "      <th>Price Range</th>\n",
       "      <th>Number of Reviews</th>\n",
       "      <th>Reviews</th>\n",
       "      <th>URL_TA</th>\n",
       "      <th>ID_TA</th>\n",
       "      <th>sample</th>\n",
       "      <th>Rating</th>\n",
       "    </tr>\n",
       "  </thead>\n",
       "  <tbody>\n",
       "    <tr>\n",
       "      <th>32971</th>\n",
       "      <td>id_2758</td>\n",
       "      <td>Madrid</td>\n",
       "      <td>['Spanish', 'Mediterranean']</td>\n",
       "      <td>2760.0</td>\n",
       "      <td>$$ - $$$</td>\n",
       "      <td>92.0</td>\n",
       "      <td>[['Great late lunch', 'Really good experience ...</td>\n",
       "      <td>/Restaurant_Review-g187514-d7312077-Reviews-El...</td>\n",
       "      <td>d7312077</td>\n",
       "      <td>1</td>\n",
       "      <td>4.0</td>\n",
       "    </tr>\n",
       "    <tr>\n",
       "      <th>18776</th>\n",
       "      <td>id_6479</td>\n",
       "      <td>Madrid</td>\n",
       "      <td>NaN</td>\n",
       "      <td>6482.0</td>\n",
       "      <td>NaN</td>\n",
       "      <td>8.0</td>\n",
       "      <td>[['A must for crisps and nuts fanatics', 'REAL...</td>\n",
       "      <td>/Restaurant_Review-g187514-d9862424-Reviews-He...</td>\n",
       "      <td>d9862424</td>\n",
       "      <td>1</td>\n",
       "      <td>4.0</td>\n",
       "    </tr>\n",
       "    <tr>\n",
       "      <th>41621</th>\n",
       "      <td>id_1913</td>\n",
       "      <td>Milan</td>\n",
       "      <td>['Chinese', 'Japanese', 'Sushi', 'Asian', 'Veg...</td>\n",
       "      <td>1915.0</td>\n",
       "      <td>$$ - $$$</td>\n",
       "      <td>130.0</td>\n",
       "      <td>[['Good All you can eat', 'That platter of sus...</td>\n",
       "      <td>/Restaurant_Review-g187849-d10720769-Reviews-M...</td>\n",
       "      <td>d10720769</td>\n",
       "      <td>1</td>\n",
       "      <td>4.5</td>\n",
       "    </tr>\n",
       "    <tr>\n",
       "      <th>49595</th>\n",
       "      <td>id_2667</td>\n",
       "      <td>Madrid</td>\n",
       "      <td>['Spanish']</td>\n",
       "      <td>2669.0</td>\n",
       "      <td>$$ - $$$</td>\n",
       "      <td>6.0</td>\n",
       "      <td>[[], []]</td>\n",
       "      <td>/Restaurant_Review-g187514-d13130277-Reviews-P...</td>\n",
       "      <td>d13130277</td>\n",
       "      <td>1</td>\n",
       "      <td>4.5</td>\n",
       "    </tr>\n",
       "    <tr>\n",
       "      <th>49664</th>\n",
       "      <td>id_878</td>\n",
       "      <td>Hamburg</td>\n",
       "      <td>NaN</td>\n",
       "      <td>880.0</td>\n",
       "      <td>NaN</td>\n",
       "      <td>32.0</td>\n",
       "      <td>[['A charming evening', 'Looking for local foo...</td>\n",
       "      <td>/Restaurant_Review-g187331-d7906818-Reviews-Wi...</td>\n",
       "      <td>d7906818</td>\n",
       "      <td>1</td>\n",
       "      <td>4.0</td>\n",
       "    </tr>\n",
       "  </tbody>\n",
       "</table>\n",
       "</div>"
      ],
      "text/plain": [
       "      Restaurant_id     City  \\\n",
       "32971       id_2758   Madrid   \n",
       "18776       id_6479   Madrid   \n",
       "41621       id_1913    Milan   \n",
       "49595       id_2667   Madrid   \n",
       "49664        id_878  Hamburg   \n",
       "\n",
       "                                           Cuisine Style  Ranking Price Range  \\\n",
       "32971                       ['Spanish', 'Mediterranean']   2760.0    $$ - $$$   \n",
       "18776                                                NaN   6482.0         NaN   \n",
       "41621  ['Chinese', 'Japanese', 'Sushi', 'Asian', 'Veg...   1915.0    $$ - $$$   \n",
       "49595                                        ['Spanish']   2669.0    $$ - $$$   \n",
       "49664                                                NaN    880.0         NaN   \n",
       "\n",
       "       Number of Reviews                                            Reviews  \\\n",
       "32971               92.0  [['Great late lunch', 'Really good experience ...   \n",
       "18776                8.0  [['A must for crisps and nuts fanatics', 'REAL...   \n",
       "41621              130.0  [['Good All you can eat', 'That platter of sus...   \n",
       "49595                6.0                                           [[], []]   \n",
       "49664               32.0  [['A charming evening', 'Looking for local foo...   \n",
       "\n",
       "                                                  URL_TA      ID_TA  sample  \\\n",
       "32971  /Restaurant_Review-g187514-d7312077-Reviews-El...   d7312077       1   \n",
       "18776  /Restaurant_Review-g187514-d9862424-Reviews-He...   d9862424       1   \n",
       "41621  /Restaurant_Review-g187849-d10720769-Reviews-M...  d10720769       1   \n",
       "49595  /Restaurant_Review-g187514-d13130277-Reviews-P...  d13130277       1   \n",
       "49664  /Restaurant_Review-g187331-d7906818-Reviews-Wi...   d7906818       1   \n",
       "\n",
       "       Rating  \n",
       "32971     4.0  \n",
       "18776     4.0  \n",
       "41621     4.5  \n",
       "49595     4.5  \n",
       "49664     4.0  "
      ]
     },
     "execution_count": 9,
     "metadata": {},
     "output_type": "execute_result"
    }
   ],
   "source": [
    "data.sample(5)"
   ]
  },
  {
   "cell_type": "code",
   "execution_count": 10,
   "metadata": {
    "execution": {
     "iopub.execute_input": "2020-09-08T22:17:06.268376Z",
     "iopub.status.busy": "2020-09-08T22:17:06.267489Z",
     "iopub.status.idle": "2020-09-08T22:17:06.273042Z",
     "shell.execute_reply": "2020-09-08T22:17:06.272261Z"
    },
    "papermill": {
     "duration": 0.089588,
     "end_time": "2020-09-08T22:17:06.273180",
     "exception": false,
     "start_time": "2020-09-08T22:17:06.183592",
     "status": "completed"
    },
    "tags": []
   },
   "outputs": [
    {
     "data": {
      "text/plain": [
       "Index(['Restaurant_id', 'City', 'Cuisine_style', 'Ranking', 'Price_range',\n",
       "       'Number_of_reviews', 'Reviews', 'URL_TA', 'ID_TA', 'Sample', 'Rating'],\n",
       "      dtype='object')"
      ]
     },
     "execution_count": 10,
     "metadata": {},
     "output_type": "execute_result"
    }
   ],
   "source": [
    "data.rename(columns={'Cuisine Style': 'Cuisine_style',\n",
    "                     'Price Range': 'Price_range',\n",
    "                     'Number of Reviews': 'Number_of_reviews',\n",
    "                     'sample':'Sample'}, inplace=True)\n",
    "data.columns"
   ]
  },
  {
   "cell_type": "code",
   "execution_count": 11,
   "metadata": {
    "execution": {
     "iopub.execute_input": "2020-09-08T22:17:06.466218Z",
     "iopub.status.busy": "2020-09-08T22:17:06.428409Z",
     "iopub.status.idle": "2020-09-08T22:17:06.476289Z",
     "shell.execute_reply": "2020-09-08T22:17:06.475650Z"
    },
    "papermill": {
     "duration": 0.128761,
     "end_time": "2020-09-08T22:17:06.476431",
     "exception": false,
     "start_time": "2020-09-08T22:17:06.347670",
     "status": "completed"
    },
    "tags": []
   },
   "outputs": [
    {
     "data": {
      "text/plain": [
       "Restaurant_id            0\n",
       "City                     0\n",
       "Cuisine_style        11590\n",
       "Ranking                  0\n",
       "Price_range          17361\n",
       "Number_of_reviews     3200\n",
       "Reviews                  2\n",
       "URL_TA                   0\n",
       "ID_TA                    0\n",
       "Sample                   0\n",
       "Rating                   0\n",
       "dtype: int64"
      ]
     },
     "execution_count": 11,
     "metadata": {},
     "output_type": "execute_result"
    }
   ],
   "source": [
    "pd.isnull(data).sum()"
   ]
  },
  {
   "cell_type": "code",
   "execution_count": 12,
   "metadata": {
    "execution": {
     "iopub.execute_input": "2020-09-08T22:17:06.637115Z",
     "iopub.status.busy": "2020-09-08T22:17:06.636202Z",
     "iopub.status.idle": "2020-09-08T22:17:06.650285Z",
     "shell.execute_reply": "2020-09-08T22:17:06.649492Z"
    },
    "papermill": {
     "duration": 0.098486,
     "end_time": "2020-09-08T22:17:06.650415",
     "exception": false,
     "start_time": "2020-09-08T22:17:06.551929",
     "status": "completed"
    },
    "tags": []
   },
   "outputs": [],
   "source": [
    "\n",
    "'''функция obj_describe для описания параметров типа object.\n",
    "Выводит информацию о :\n",
    "1)пропусках данных\n",
    "2)количестве встречающихся значений\n",
    "3)Строит boxplot для оценки влияния признака на распределение целевой переменной'''\n",
    "def obj_describe(data,column):\n",
    "    print('пустых значений в колонке ',column,\" : \",data.loc[:,column].isnull().sum())\n",
    "    print('Значения в колонке: ',pd.DataFrame(data.loc[:,column].value_counts()))\n",
    "    #график строим только для тренировочных данных чтобы по нему опре\n",
    "    fig, ax = plt.subplots(figsize=(10, 6))\n",
    "    sns.boxplot(x=column, y='Rating', data=data)\n",
    "\n",
    "'''функция num_value_analiz для анализа основных числовых показателей\n",
    "Выводит информацию о:\n",
    "1)min\n",
    "2)25-й перцентиль\n",
    "3)медиана\n",
    "4)среднее\n",
    "5)max\n",
    "6)IQR\n",
    "7)Границы выбросов\n",
    "'''    \n",
    "def num_value_analiz(data,column):\n",
    "    low = data.loc[:,column].min()\n",
    "    median = data.loc[:,column].median()\n",
    "    mean = data.loc[:,column].mean()\n",
    "    hight = data.loc[:,column].max()\n",
    "    IQR = data.loc[:,column].quantile(0.75) - data.loc[:,column].quantile(0.25)\n",
    "    perc25 = data.loc[:,column].quantile(0.25)\n",
    "    perc75 = data.loc[:,column].quantile(0.75)\n",
    "\n",
    "    print('min : {} \\n\\r'.format(low),\n",
    "          '25-й перцентиль: {} \\n\\r'.format(perc25),\n",
    "          'медиана: {} \\n\\r'.format(median),\n",
    "          'среднее: {} \\n\\r'.format(mean),\n",
    "          'max : {} \\n\\r'.format(hight),\n",
    "          '75-й перцентиль: {} \\n\\r'.format(perc75),\n",
    "          \"IQR: {} \\n\\r\".format(IQR),\n",
    "          \"Границы выбросов: [{f}, {l}].\".format(f=perc25 - 1.5*IQR, l=perc75 + 1.5*IQR))\n"
   ]
  },
  {
   "cell_type": "code",
   "execution_count": 13,
   "metadata": {
    "execution": {
     "iopub.execute_input": "2020-09-08T22:17:06.820500Z",
     "iopub.status.busy": "2020-09-08T22:17:06.819612Z",
     "iopub.status.idle": "2020-09-08T22:17:06.842713Z",
     "shell.execute_reply": "2020-09-08T22:17:06.841964Z"
    },
    "papermill": {
     "duration": 0.117874,
     "end_time": "2020-09-08T22:17:06.842855",
     "exception": false,
     "start_time": "2020-09-08T22:17:06.724981",
     "status": "completed"
    },
    "tags": []
   },
   "outputs": [
    {
     "data": {
      "text/plain": [
       "id_871      19\n",
       "id_227      19\n",
       "id_436      19\n",
       "id_633      19\n",
       "id_321      18\n",
       "            ..\n",
       "id_10514     1\n",
       "id_14318     1\n",
       "id_12418     1\n",
       "id_15330     1\n",
       "id_14380     1\n",
       "Name: Restaurant_id, Length: 13094, dtype: int64"
      ]
     },
     "execution_count": 13,
     "metadata": {},
     "output_type": "execute_result"
    }
   ],
   "source": [
    "data.Restaurant_id.value_counts()"
   ]
  },
  {
   "cell_type": "code",
   "execution_count": 14,
   "metadata": {
    "execution": {
     "iopub.execute_input": "2020-09-08T22:17:07.028479Z",
     "iopub.status.busy": "2020-09-08T22:17:07.017453Z",
     "iopub.status.idle": "2020-09-08T22:17:07.074029Z",
     "shell.execute_reply": "2020-09-08T22:17:07.073151Z"
    },
    "papermill": {
     "duration": 0.155445,
     "end_time": "2020-09-08T22:17:07.074173",
     "exception": false,
     "start_time": "2020-09-08T22:17:06.918728",
     "status": "completed"
    },
    "tags": []
   },
   "outputs": [],
   "source": [
    "s=data.Restaurant_id.value_counts()\n",
    "multiple_id=s[s>1]"
   ]
  },
  {
   "cell_type": "code",
   "execution_count": 15,
   "metadata": {
    "execution": {
     "iopub.execute_input": "2020-09-08T22:17:07.239444Z",
     "iopub.status.busy": "2020-09-08T22:17:07.234362Z",
     "iopub.status.idle": "2020-09-08T22:17:07.369253Z",
     "shell.execute_reply": "2020-09-08T22:17:07.368449Z"
    },
    "papermill": {
     "duration": 0.217125,
     "end_time": "2020-09-08T22:17:07.369385",
     "exception": false,
     "start_time": "2020-09-08T22:17:07.152260",
     "status": "completed"
    },
    "tags": []
   },
   "outputs": [],
   "source": [
    "data['Franchise']=data['Restaurant_id'].apply(lambda x: 1 if x in multiple_id else 0)"
   ]
  },
  {
   "cell_type": "code",
   "execution_count": 16,
   "metadata": {
    "execution": {
     "iopub.execute_input": "2020-09-08T22:17:07.530381Z",
     "iopub.status.busy": "2020-09-08T22:17:07.528805Z",
     "iopub.status.idle": "2020-09-08T22:17:07.789314Z",
     "shell.execute_reply": "2020-09-08T22:17:07.789900Z"
    },
    "papermill": {
     "duration": 0.344263,
     "end_time": "2020-09-08T22:17:07.790083",
     "exception": false,
     "start_time": "2020-09-08T22:17:07.445820",
     "status": "completed"
    },
    "tags": []
   },
   "outputs": [
    {
     "name": "stdout",
     "output_type": "stream",
     "text": [
      "пустых значений в колонке  Franchise  :  0\n",
      "Значения в колонке:     Franchise\n",
      "1      37378\n",
      "0       2622\n"
     ]
    },
    {
     "data": {
      "image/png": "[encoded data removed]",
      "text/plain": [
       "<Figure size 720x432 with 1 Axes>"
      ]
     },
     "metadata": {
      "needs_background": "light"
     },
     "output_type": "display_data"
    }
   ],
   "source": [
    "obj_describe(data[data['Sample']==1],'Franchise')"
   ]
  },
  {
   "cell_type": "code",
   "execution_count": 17,
   "metadata": {
    "execution": {
     "iopub.execute_input": "2020-09-08T22:17:07.966664Z",
     "iopub.status.busy": "2020-09-08T22:17:07.965539Z",
     "iopub.status.idle": "2020-09-08T22:17:07.970485Z",
     "shell.execute_reply": "2020-09-08T22:17:07.969806Z"
    },
    "papermill": {
     "duration": 0.102909,
     "end_time": "2020-09-08T22:17:07.970610",
     "exception": false,
     "start_time": "2020-09-08T22:17:07.867701",
     "status": "completed"
    },
    "tags": []
   },
   "outputs": [
    {
     "data": {
      "text/plain": [
       "$$ - $$$    23041\n",
       "$            7816\n",
       "$$$$         1782\n",
       "Name: Price_range, dtype: int64"
      ]
     },
     "execution_count": 17,
     "metadata": {},
     "output_type": "execute_result"
    }
   ],
   "source": [
    "data.Price_range.value_counts()"
   ]
  },
  {
   "cell_type": "code",
   "execution_count": 18,
   "metadata": {
    "execution": {
     "iopub.execute_input": "2020-09-08T22:17:08.151933Z",
     "iopub.status.busy": "2020-09-08T22:17:08.151156Z",
     "iopub.status.idle": "2020-09-08T22:17:08.168487Z",
     "shell.execute_reply": "2020-09-08T22:17:08.167673Z"
    },
    "papermill": {
     "duration": 0.112229,
     "end_time": "2020-09-08T22:17:08.168618",
     "exception": false,
     "start_time": "2020-09-08T22:17:08.056389",
     "status": "completed"
    },
    "tags": []
   },
   "outputs": [
    {
     "data": {
      "text/html": [
       "<div>\n",
       "<style scoped>\n",
       "    .dataframe tbody tr th:only-of-type {\n",
       "        vertical-align: middle;\n",
       "    }\n",
       "\n",
       "    .dataframe tbody tr th {\n",
       "        vertical-align: top;\n",
       "    }\n",
       "\n",
       "    .dataframe thead th {\n",
       "        text-align: right;\n",
       "    }\n",
       "</style>\n",
       "<table border=\"1\" class=\"dataframe\">\n",
       "  <thead>\n",
       "    <tr style=\"text-align: right;\">\n",
       "      <th></th>\n",
       "      <th>No_Price</th>\n",
       "      <th>Price_range</th>\n",
       "    </tr>\n",
       "  </thead>\n",
       "  <tbody>\n",
       "    <tr>\n",
       "      <th>7</th>\n",
       "      <td>1</td>\n",
       "      <td>NaN</td>\n",
       "    </tr>\n",
       "    <tr>\n",
       "      <th>8</th>\n",
       "      <td>1</td>\n",
       "      <td>NaN</td>\n",
       "    </tr>\n",
       "    <tr>\n",
       "      <th>9</th>\n",
       "      <td>1</td>\n",
       "      <td>NaN</td>\n",
       "    </tr>\n",
       "    <tr>\n",
       "      <th>10</th>\n",
       "      <td>1</td>\n",
       "      <td>NaN</td>\n",
       "    </tr>\n",
       "    <tr>\n",
       "      <th>13</th>\n",
       "      <td>1</td>\n",
       "      <td>NaN</td>\n",
       "    </tr>\n",
       "    <tr>\n",
       "      <th>...</th>\n",
       "      <td>...</td>\n",
       "      <td>...</td>\n",
       "    </tr>\n",
       "    <tr>\n",
       "      <th>49988</th>\n",
       "      <td>1</td>\n",
       "      <td>NaN</td>\n",
       "    </tr>\n",
       "    <tr>\n",
       "      <th>49989</th>\n",
       "      <td>1</td>\n",
       "      <td>NaN</td>\n",
       "    </tr>\n",
       "    <tr>\n",
       "      <th>49990</th>\n",
       "      <td>1</td>\n",
       "      <td>NaN</td>\n",
       "    </tr>\n",
       "    <tr>\n",
       "      <th>49993</th>\n",
       "      <td>1</td>\n",
       "      <td>NaN</td>\n",
       "    </tr>\n",
       "    <tr>\n",
       "      <th>49997</th>\n",
       "      <td>1</td>\n",
       "      <td>NaN</td>\n",
       "    </tr>\n",
       "  </tbody>\n",
       "</table>\n",
       "<p>17361 rows × 2 columns</p>\n",
       "</div>"
      ],
      "text/plain": [
       "       No_Price Price_range\n",
       "7             1         NaN\n",
       "8             1         NaN\n",
       "9             1         NaN\n",
       "10            1         NaN\n",
       "13            1         NaN\n",
       "...         ...         ...\n",
       "49988         1         NaN\n",
       "49989         1         NaN\n",
       "49990         1         NaN\n",
       "49993         1         NaN\n",
       "49997         1         NaN\n",
       "\n",
       "[17361 rows x 2 columns]"
      ]
     },
     "execution_count": 18,
     "metadata": {},
     "output_type": "execute_result"
    }
   ],
   "source": [
    "# Создаем новый признак No_Price\n",
    "data['No_Price'] = pd.isna(data['Price_range']).astype('int64') \n",
    "data[['No_Price','Price_range']][data['No_Price']==1]"
   ]
  },
  {
   "cell_type": "code",
   "execution_count": 19,
   "metadata": {
    "execution": {
     "iopub.execute_input": "2020-09-08T22:17:08.346130Z",
     "iopub.status.busy": "2020-09-08T22:17:08.340962Z",
     "iopub.status.idle": "2020-09-08T22:17:08.389085Z",
     "shell.execute_reply": "2020-09-08T22:17:08.388172Z"
    },
    "papermill": {
     "duration": 0.140623,
     "end_time": "2020-09-08T22:17:08.389224",
     "exception": false,
     "start_time": "2020-09-08T22:17:08.248601",
     "status": "completed"
    },
    "tags": []
   },
   "outputs": [
    {
     "name": "stdout",
     "output_type": "stream",
     "text": [
      "       Price_value Price_range\n",
      "0              2.0    $$ - $$$\n",
      "1              2.0    $$ - $$$\n",
      "2              2.0    $$ - $$$\n",
      "3              3.0        $$$$\n",
      "4              3.0        $$$$\n",
      "...            ...         ...\n",
      "49995          2.0    $$ - $$$\n",
      "49996          2.0    $$ - $$$\n",
      "49997          NaN         NaN\n",
      "49998          2.0    $$ - $$$\n",
      "49999          2.0    $$ - $$$\n",
      "\n",
      "[50000 rows x 2 columns]\n"
     ]
    }
   ],
   "source": [
    "dict_values = {'$':1,'$$ - $$$':2,'$$$$':3}\n",
    "data['Price_value']=data['Price_range'].apply(lambda x: dict_values.get(x,x))\n",
    "print(data[['Price_value','Price_range']])"
   ]
  },
  {
   "cell_type": "code",
   "execution_count": 20,
   "metadata": {
    "execution": {
     "iopub.execute_input": "2020-09-08T22:17:08.562710Z",
     "iopub.status.busy": "2020-09-08T22:17:08.561901Z",
     "iopub.status.idle": "2020-09-08T22:17:08.905453Z",
     "shell.execute_reply": "2020-09-08T22:17:08.904670Z"
    },
    "papermill": {
     "duration": 0.436551,
     "end_time": "2020-09-08T22:17:08.905580",
     "exception": false,
     "start_time": "2020-09-08T22:17:08.469029",
     "status": "completed"
    },
    "tags": []
   },
   "outputs": [
    {
     "data": {
      "text/plain": [
       "{'Paris': 2.0,\n",
       " 'Helsinki': 2.0,\n",
       " 'Edinburgh': 2.0,\n",
       " 'London': 2.0,\n",
       " 'Bratislava': 2.0,\n",
       " 'Lisbon': 2.0,\n",
       " 'Budapest': 2.0,\n",
       " 'Stockholm': 2.0,\n",
       " 'Rome': 2.0,\n",
       " 'Milan': 2.0,\n",
       " 'Munich': 2.0,\n",
       " 'Hamburg': 2.0,\n",
       " 'Prague': 2.0,\n",
       " 'Vienna': 2.0,\n",
       " 'Dublin': 2.0,\n",
       " 'Barcelona': 2.0,\n",
       " 'Brussels': 2.0,\n",
       " 'Madrid': 2.0,\n",
       " 'Oslo': 2.0,\n",
       " 'Amsterdam': 2.0,\n",
       " 'Berlin': 2.0,\n",
       " 'Lyon': 2.0,\n",
       " 'Athens': 2.0,\n",
       " 'Warsaw': 2.0,\n",
       " 'Oporto': 2.0,\n",
       " 'Krakow': 2.0,\n",
       " 'Copenhagen': 2.0,\n",
       " 'Luxembourg': 2.0,\n",
       " 'Zurich': 2.0,\n",
       " 'Geneva': 2.0,\n",
       " 'Ljubljana': 2.0}"
      ]
     },
     "execution_count": 20,
     "metadata": {},
     "output_type": "execute_result"
    }
   ],
   "source": [
    "city_list=data.City.unique().tolist()\n",
    "dict_city_mean_price={}\n",
    "\n",
    "for i in city_list:\n",
    "    dict_city_mean_price[i]=data[data['City']==i].Price_value.median()\n",
    "    \n",
    "dict_city_mean_price"
   ]
  },
  {
   "cell_type": "code",
   "execution_count": 21,
   "metadata": {
    "execution": {
     "iopub.execute_input": "2020-09-08T22:17:09.076814Z",
     "iopub.status.busy": "2020-09-08T22:17:09.075696Z",
     "iopub.status.idle": "2020-09-08T22:17:17.638981Z",
     "shell.execute_reply": "2020-09-08T22:17:17.639720Z"
    },
    "papermill": {
     "duration": 8.653576,
     "end_time": "2020-09-08T22:17:17.639934",
     "exception": false,
     "start_time": "2020-09-08T22:17:08.986358",
     "status": "completed"
    },
    "tags": []
   },
   "outputs": [
    {
     "data": {
      "text/html": [
       "<div>\n",
       "<style scoped>\n",
       "    .dataframe tbody tr th:only-of-type {\n",
       "        vertical-align: middle;\n",
       "    }\n",
       "\n",
       "    .dataframe tbody tr th {\n",
       "        vertical-align: top;\n",
       "    }\n",
       "\n",
       "    .dataframe thead th {\n",
       "        text-align: right;\n",
       "    }\n",
       "</style>\n",
       "<table border=\"1\" class=\"dataframe\">\n",
       "  <thead>\n",
       "    <tr style=\"text-align: right;\">\n",
       "      <th></th>\n",
       "      <th>Price_value</th>\n",
       "      <th>Price_range</th>\n",
       "    </tr>\n",
       "  </thead>\n",
       "  <tbody>\n",
       "    <tr>\n",
       "      <th>0</th>\n",
       "      <td>2.0</td>\n",
       "      <td>$$ - $$$</td>\n",
       "    </tr>\n",
       "    <tr>\n",
       "      <th>1</th>\n",
       "      <td>2.0</td>\n",
       "      <td>$$ - $$$</td>\n",
       "    </tr>\n",
       "    <tr>\n",
       "      <th>2</th>\n",
       "      <td>2.0</td>\n",
       "      <td>$$ - $$$</td>\n",
       "    </tr>\n",
       "    <tr>\n",
       "      <th>3</th>\n",
       "      <td>3.0</td>\n",
       "      <td>$$$$</td>\n",
       "    </tr>\n",
       "    <tr>\n",
       "      <th>4</th>\n",
       "      <td>3.0</td>\n",
       "      <td>$$$$</td>\n",
       "    </tr>\n",
       "    <tr>\n",
       "      <th>...</th>\n",
       "      <td>...</td>\n",
       "      <td>...</td>\n",
       "    </tr>\n",
       "    <tr>\n",
       "      <th>49995</th>\n",
       "      <td>2.0</td>\n",
       "      <td>$$ - $$$</td>\n",
       "    </tr>\n",
       "    <tr>\n",
       "      <th>49996</th>\n",
       "      <td>2.0</td>\n",
       "      <td>$$ - $$$</td>\n",
       "    </tr>\n",
       "    <tr>\n",
       "      <th>49997</th>\n",
       "      <td>2.0</td>\n",
       "      <td>NaN</td>\n",
       "    </tr>\n",
       "    <tr>\n",
       "      <th>49998</th>\n",
       "      <td>2.0</td>\n",
       "      <td>$$ - $$$</td>\n",
       "    </tr>\n",
       "    <tr>\n",
       "      <th>49999</th>\n",
       "      <td>2.0</td>\n",
       "      <td>$$ - $$$</td>\n",
       "    </tr>\n",
       "  </tbody>\n",
       "</table>\n",
       "<p>50000 rows × 2 columns</p>\n",
       "</div>"
      ],
      "text/plain": [
       "       Price_value Price_range\n",
       "0              2.0    $$ - $$$\n",
       "1              2.0    $$ - $$$\n",
       "2              2.0    $$ - $$$\n",
       "3              3.0        $$$$\n",
       "4              3.0        $$$$\n",
       "...            ...         ...\n",
       "49995          2.0    $$ - $$$\n",
       "49996          2.0    $$ - $$$\n",
       "49997          2.0         NaN\n",
       "49998          2.0    $$ - $$$\n",
       "49999          2.0    $$ - $$$\n",
       "\n",
       "[50000 rows x 2 columns]"
      ]
     },
     "execution_count": 21,
     "metadata": {},
     "output_type": "execute_result"
    }
   ],
   "source": [
    "indexes=data[data.Price_value.isna()].index.tolist()\n",
    "for i in indexes:\n",
    "    data.loc[i,'Price_value']=dict_city_mean_price[data.loc[i,'City']]\n",
    "    \n",
    "data[['Price_value','Price_range']]"
   ]
  },
  {
   "cell_type": "code",
   "execution_count": 22,
   "metadata": {
    "execution": {
     "iopub.execute_input": "2020-09-08T22:17:17.816041Z",
     "iopub.status.busy": "2020-09-08T22:17:17.814825Z",
     "iopub.status.idle": "2020-09-08T22:17:18.082026Z",
     "shell.execute_reply": "2020-09-08T22:17:18.081151Z"
    },
    "papermill": {
     "duration": 0.357965,
     "end_time": "2020-09-08T22:17:18.082217",
     "exception": false,
     "start_time": "2020-09-08T22:17:17.724252",
     "status": "completed"
    },
    "tags": []
   },
   "outputs": [
    {
     "name": "stdout",
     "output_type": "stream",
     "text": [
      "пустых значений в колонке  Price_value  :  0\n",
      "Значения в колонке:       Price_value\n",
      "2.0        32298\n",
      "1.0         6279\n",
      "3.0         1423\n"
     ]
    },
    {
     "data": {
      "image/png": "[encoded data removed]",
      "text/plain": [
       "<Figure size 720x432 with 1 Axes>"
      ]
     },
     "metadata": {
      "needs_background": "light"
     },
     "output_type": "display_data"
    }
   ],
   "source": [
    "obj_describe(data[data['Sample']==1],'Price_value')"
   ]
  },
  {
   "cell_type": "code",
   "execution_count": 23,
   "metadata": {
    "execution": {
     "iopub.execute_input": "2020-09-08T22:17:18.266238Z",
     "iopub.status.busy": "2020-09-08T22:17:18.265071Z",
     "iopub.status.idle": "2020-09-08T22:17:18.278268Z",
     "shell.execute_reply": "2020-09-08T22:17:18.277099Z"
    },
    "papermill": {
     "duration": 0.106199,
     "end_time": "2020-09-08T22:17:18.278448",
     "exception": false,
     "start_time": "2020-09-08T22:17:18.172249",
     "status": "completed"
    },
    "tags": []
   },
   "outputs": [
    {
     "name": "stdout",
     "output_type": "stream",
     "text": [
      "min : 1.0 \n",
      " 25-й перцентиль: 2.0 \n",
      " медиана: 2.0 \n",
      " среднее: 1.87932 \n",
      " max : 3.0 \n",
      " 75-й перцентиль: 2.0 \n",
      " IQR: 0.0 \n",
      " Границы выбросов: [2.0, 2.0].\n"
     ]
    }
   ],
   "source": [
    "num_value_analiz(data,'Price_value')"
   ]
  },
  {
   "cell_type": "code",
   "execution_count": 24,
   "metadata": {
    "execution": {
     "iopub.execute_input": "2020-09-08T22:17:18.465264Z",
     "iopub.status.busy": "2020-09-08T22:17:18.464405Z",
     "iopub.status.idle": "2020-09-08T22:17:19.006096Z",
     "shell.execute_reply": "2020-09-08T22:17:19.007155Z"
    },
    "papermill": {
     "duration": 0.638947,
     "end_time": "2020-09-08T22:17:19.007367",
     "exception": false,
     "start_time": "2020-09-08T22:17:18.368420",
     "status": "completed"
    },
    "tags": []
   },
   "outputs": [
    {
     "data": {
      "text/plain": [
       "<matplotlib.axes._subplots.AxesSubplot at 0x7f4fcc9cc650>"
      ]
     },
     "execution_count": 24,
     "metadata": {},
     "output_type": "execute_result"
    },
    {
     "data": {
      "image/png": "[encoded data removed]",
      "text/plain": [
       "<Figure size 432x288 with 1 Axes>"
      ]
     },
     "metadata": {
      "needs_background": "light"
     },
     "output_type": "display_data"
    }
   ],
   "source": [
    "data[data['Sample']==1].Ranking.hist(legend=True,bins=50)"
   ]
  },
  {
   "cell_type": "code",
   "execution_count": 25,
   "metadata": {
    "execution": {
     "iopub.execute_input": "2020-09-08T22:17:19.214588Z",
     "iopub.status.busy": "2020-09-08T22:17:19.213386Z",
     "iopub.status.idle": "2020-09-08T22:17:19.522930Z",
     "shell.execute_reply": "2020-09-08T22:17:19.521955Z"
    },
    "papermill": {
     "duration": 0.420055,
     "end_time": "2020-09-08T22:17:19.523102",
     "exception": false,
     "start_time": "2020-09-08T22:17:19.103047",
     "status": "completed"
    },
    "tags": []
   },
   "outputs": [
    {
     "data": {
      "text/plain": [
       "<matplotlib.axes._subplots.AxesSubplot at 0x7f4fccab5550>"
      ]
     },
     "execution_count": 25,
     "metadata": {},
     "output_type": "execute_result"
    },
    {
     "data": {
      "image/png": "[encoded data removed]",
      "text/plain": [
       "<Figure size 432x288 with 1 Axes>"
      ]
     },
     "metadata": {
      "needs_background": "light"
     },
     "output_type": "display_data"
    }
   ],
   "source": [
    "data[data['City']=='London']['Ranking'].hist(bins=50)"
   ]
  },
  {
   "cell_type": "code",
   "execution_count": 26,
   "metadata": {
    "execution": {
     "iopub.execute_input": "2020-09-08T22:17:19.752784Z",
     "iopub.status.busy": "2020-09-08T22:17:19.751713Z",
     "iopub.status.idle": "2020-09-08T22:17:20.108432Z",
     "shell.execute_reply": "2020-09-08T22:17:20.107672Z"
    },
    "papermill": {
     "duration": 0.467026,
     "end_time": "2020-09-08T22:17:20.108573",
     "exception": false,
     "start_time": "2020-09-08T22:17:19.641547",
     "status": "completed"
    },
    "tags": []
   },
   "outputs": [
    {
     "data": {
      "text/plain": [
       "<matplotlib.axes._subplots.AxesSubplot at 0x7f4fcc9be110>"
      ]
     },
     "execution_count": 26,
     "metadata": {},
     "output_type": "execute_result"
    },
    {
     "data": {
      "image/png": "[encoded data removed]",
      "text/plain": [
       "<Figure size 432x288 with 1 Axes>"
      ]
     },
     "metadata": {
      "needs_background": "light"
     },
     "output_type": "display_data"
    }
   ],
   "source": [
    "data['City'].value_counts(ascending=True).plot(kind='barh')"
   ]
  },
  {
   "cell_type": "code",
   "execution_count": 27,
   "metadata": {
    "execution": {
     "iopub.execute_input": "2020-09-08T22:17:20.315032Z",
     "iopub.status.busy": "2020-09-08T22:17:20.313863Z",
     "iopub.status.idle": "2020-09-08T22:17:22.220759Z",
     "shell.execute_reply": "2020-09-08T22:17:22.221409Z"
    },
    "papermill": {
     "duration": 2.019236,
     "end_time": "2020-09-08T22:17:22.221585",
     "exception": false,
     "start_time": "2020-09-08T22:17:20.202349",
     "status": "completed"
    },
    "tags": []
   },
   "outputs": [
    {
     "data": {
      "image/png": "[encoded data removed]",
      "text/plain": [
       "<Figure size 432x288 with 1 Axes>"
      ]
     },
     "metadata": {
      "needs_background": "light"
     },
     "output_type": "display_data"
    }
   ],
   "source": [
    "top_rest_city=(data.City.value_counts())[0:5].index\n",
    "for x in top_rest_city:\n",
    "    data['Ranking'][data['City'] == x].hist(bins=100,legend=True)\n",
    "plt.show()"
   ]
  },
  {
   "cell_type": "code",
   "execution_count": 28,
   "metadata": {
    "execution": {
     "iopub.execute_input": "2020-09-08T22:17:22.423490Z",
     "iopub.status.busy": "2020-09-08T22:17:22.422273Z",
     "iopub.status.idle": "2020-09-08T22:17:22.758775Z",
     "shell.execute_reply": "2020-09-08T22:17:22.759391Z"
    },
    "papermill": {
     "duration": 0.444768,
     "end_time": "2020-09-08T22:17:22.759571",
     "exception": false,
     "start_time": "2020-09-08T22:17:22.314803",
     "status": "completed"
    },
    "tags": []
   },
   "outputs": [
    {
     "data": {
      "text/plain": [
       "{'Paris': 6938.5571,\n",
       " 'Helsinki': 564.2316,\n",
       " 'Edinburgh': 885.1302,\n",
       " 'London': 8169.7074,\n",
       " 'Bratislava': 462.4289,\n",
       " 'Lisbon': 1867.3303,\n",
       " 'Budapest': 1219.0617,\n",
       " 'Stockholm': 1237.4821,\n",
       " 'Rome': 2970.7331,\n",
       " 'Milan': 3106.0278,\n",
       " 'Munich': 1370.2978,\n",
       " 'Hamburg': 1375.4098,\n",
       " 'Prague': 2086.9796,\n",
       " 'Vienna': 1711.2758,\n",
       " 'Dublin': 972.128,\n",
       " 'Barcelona': 3879.4227,\n",
       " 'Brussels': 1541.9018,\n",
       " 'Madrid': 4388.5164,\n",
       " 'Oslo': 552.5697,\n",
       " 'Amsterdam': 1591.5897,\n",
       " 'Berlin': 3255.4177,\n",
       " 'Lyon': 1303.9023,\n",
       " 'Athens': 880.2139,\n",
       " 'Warsaw': 1055.1935,\n",
       " 'Oporto': 752.0343,\n",
       " 'Krakow': 616.2671,\n",
       " 'Copenhagen': 982.1477,\n",
       " 'Luxembourg': 308.1597,\n",
       " 'Zurich': 794.2803,\n",
       " 'Geneva': 713.2271,\n",
       " 'Ljubljana': 234.509}"
      ]
     },
     "execution_count": 28,
     "metadata": {},
     "output_type": "execute_result"
    }
   ],
   "source": [
    "dict_mean_city_rank={}\n",
    "for i in city_list:\n",
    "    dict_mean_city_rank[i]=round(data[data['City']==i].Ranking.mean(),4)\n",
    "dict_mean_city_rank"
   ]
  },
  {
   "cell_type": "code",
   "execution_count": 29,
   "metadata": {
    "execution": {
     "iopub.execute_input": "2020-09-08T22:17:22.965341Z",
     "iopub.status.busy": "2020-09-08T22:17:22.964133Z",
     "iopub.status.idle": "2020-09-08T22:17:23.023380Z",
     "shell.execute_reply": "2020-09-08T22:17:23.021505Z"
    },
    "papermill": {
     "duration": 0.173371,
     "end_time": "2020-09-08T22:17:23.024430",
     "exception": false,
     "start_time": "2020-09-08T22:17:22.851059",
     "status": "completed"
    },
    "tags": []
   },
   "outputs": [
    {
     "name": "stdout",
     "output_type": "stream",
     "text": [
      "             City  City_rest\n",
      "0           Paris       6108\n",
      "1        Helsinki        475\n",
      "2       Edinburgh        745\n",
      "3          London       7193\n",
      "4      Bratislava        380\n",
      "...           ...        ...\n",
      "49995       Milan       2694\n",
      "49996       Paris       6108\n",
      "49997   Stockholm       1033\n",
      "49998      Warsaw        925\n",
      "49999       Milan       2694\n",
      "\n",
      "[50000 rows x 2 columns]\n",
      "{'London': 7193, 'Paris': 6108, 'Madrid': 3813, 'Barcelona': 3395, 'Berlin': 2705, 'Milan': 2694, 'Rome': 2589, 'Prague': 1816, 'Lisbon': 1647, 'Vienna': 1443, 'Amsterdam': 1372, 'Brussels': 1314, 'Hamburg': 1186, 'Munich': 1145, 'Lyon': 1126, 'Stockholm': 1033, 'Budapest': 1021, 'Warsaw': 925, 'Dublin': 836, 'Copenhagen': 819, 'Athens': 776, 'Edinburgh': 745, 'Zurich': 685, 'Oporto': 642, 'Geneva': 590, 'Krakow': 554, 'Oslo': 488, 'Helsinki': 475, 'Bratislava': 380, 'Luxembourg': 263, 'Ljubljana': 222}\n"
     ]
    }
   ],
   "source": [
    "# посчитаем сколько ресторанов в каждом городе\n",
    "rest_count=data.City.value_counts().to_dict()\n",
    "\n",
    "def city_counter(city):\n",
    "    return rest_count[city]\n",
    "\n",
    "# создадим новый параметр\n",
    "data['City_rest']=data['City'].apply(city_counter)\n",
    "print(data[['City','City_rest']])\n",
    "print(rest_count)"
   ]
  },
  {
   "cell_type": "code",
   "execution_count": 30,
   "metadata": {
    "execution": {
     "iopub.execute_input": "2020-09-08T22:17:23.245689Z",
     "iopub.status.busy": "2020-09-08T22:17:23.244908Z",
     "iopub.status.idle": "2020-09-08T22:17:23.249707Z",
     "shell.execute_reply": "2020-09-08T22:17:23.248828Z"
    },
    "papermill": {
     "duration": 0.129631,
     "end_time": "2020-09-08T22:17:23.249856",
     "exception": false,
     "start_time": "2020-09-08T22:17:23.120225",
     "status": "completed"
    },
    "tags": []
   },
   "outputs": [],
   "source": [
    "# сделаем для каждого города средний ранг чтобы относительно него можно \n",
    "# было сравнивать локально по городам\n",
    "data['mean_City_rank'] = data['City'].apply(lambda x: dict_mean_city_rank[x])"
   ]
  },
  {
   "cell_type": "code",
   "execution_count": 31,
   "metadata": {
    "execution": {
     "iopub.execute_input": "2020-09-08T22:17:23.439082Z",
     "iopub.status.busy": "2020-09-08T22:17:23.437664Z",
     "iopub.status.idle": "2020-09-08T22:17:23.443443Z",
     "shell.execute_reply": "2020-09-08T22:17:23.442703Z"
    },
    "papermill": {
     "duration": 0.102509,
     "end_time": "2020-09-08T22:17:23.443595",
     "exception": false,
     "start_time": "2020-09-08T22:17:23.341086",
     "status": "completed"
    },
    "tags": []
   },
   "outputs": [],
   "source": [
    "# делаем для каждого ресторана новый локальный ранг\n",
    "# data['norming_rank'] = (data['Ranking'] - data['mean_City_rank']) / data['City_rest']\n",
    "data['norming_rank'] = data['Ranking'] / data['City_rest']"
   ]
  },
  {
   "cell_type": "code",
   "execution_count": 32,
   "metadata": {
    "execution": {
     "iopub.execute_input": "2020-09-08T22:17:23.660432Z",
     "iopub.status.busy": "2020-09-08T22:17:23.659614Z",
     "iopub.status.idle": "2020-09-08T22:17:25.479197Z",
     "shell.execute_reply": "2020-09-08T22:17:25.478389Z"
    },
    "papermill": {
     "duration": 1.944402,
     "end_time": "2020-09-08T22:17:25.479328",
     "exception": false,
     "start_time": "2020-09-08T22:17:23.534926",
     "status": "completed"
    },
    "tags": []
   },
   "outputs": [
    {
     "data": {
      "image/png": "[encoded data removed]",
      "text/plain": [
       "<Figure size 432x288 with 1 Axes>"
      ]
     },
     "metadata": {
      "needs_background": "light"
     },
     "output_type": "display_data"
    }
   ],
   "source": [
    "top_rest_city=(data.City.value_counts())[0:5].index\n",
    "for x in top_rest_city:\n",
    "    data['norming_rank'][data['City'] == x].hist(bins=100,legend=True)\n",
    "plt.show()"
   ]
  },
  {
   "cell_type": "code",
   "execution_count": 33,
   "metadata": {
    "execution": {
     "iopub.execute_input": "2020-09-08T22:17:25.667920Z",
     "iopub.status.busy": "2020-09-08T22:17:25.667092Z",
     "iopub.status.idle": "2020-09-08T22:17:26.459051Z",
     "shell.execute_reply": "2020-09-08T22:17:26.458274Z"
    },
    "papermill": {
     "duration": 0.888916,
     "end_time": "2020-09-08T22:17:26.459182",
     "exception": false,
     "start_time": "2020-09-08T22:17:25.570266",
     "status": "completed"
    },
    "tags": []
   },
   "outputs": [
    {
     "name": "stdout",
     "output_type": "stream",
     "text": [
      "пустых значений в колонке  City  :  0\n",
      "Значения в колонке:              City\n",
      "London      5757\n",
      "Paris       4897\n",
      "Madrid      3108\n",
      "Barcelona   2734\n",
      "Berlin      2155\n",
      "Milan       2133\n",
      "Rome        2078\n",
      "Prague      1443\n",
      "Lisbon      1300\n",
      "Vienna      1166\n",
      "Amsterdam   1086\n",
      "Brussels    1060\n",
      "Hamburg      949\n",
      "Munich       893\n",
      "Lyon         892\n",
      "Stockholm    820\n",
      "Budapest     816\n",
      "Warsaw       727\n",
      "Dublin       673\n",
      "Copenhagen   659\n",
      "Athens       628\n",
      "Edinburgh    596\n",
      "Zurich       538\n",
      "Oporto       513\n",
      "Geneva       481\n",
      "Krakow       443\n",
      "Oslo         385\n",
      "Helsinki     376\n",
      "Bratislava   301\n",
      "Luxembourg   210\n",
      "Ljubljana    183\n"
     ]
    },
    {
     "data": {
      "image/png": "[encoded data removed]",
      "text/plain": [
       "<Figure size 720x432 with 1 Axes>"
      ]
     },
     "metadata": {
      "needs_background": "light"
     },
     "output_type": "display_data"
    }
   ],
   "source": [
    "obj_describe(data[data['Sample']==1],'City')"
   ]
  },
  {
   "cell_type": "code",
   "execution_count": 34,
   "metadata": {
    "execution": {
     "iopub.execute_input": "2020-09-08T22:17:26.662790Z",
     "iopub.status.busy": "2020-09-08T22:17:26.652086Z",
     "iopub.status.idle": "2020-09-08T22:17:26.700976Z",
     "shell.execute_reply": "2020-09-08T22:17:26.700259Z"
    },
    "papermill": {
     "duration": 0.148747,
     "end_time": "2020-09-08T22:17:26.701109",
     "exception": false,
     "start_time": "2020-09-08T22:17:26.552362",
     "status": "completed"
    },
    "tags": []
   },
   "outputs": [
    {
     "data": {
      "text/html": [
       "<div>\n",
       "<style scoped>\n",
       "    .dataframe tbody tr th:only-of-type {\n",
       "        vertical-align: middle;\n",
       "    }\n",
       "\n",
       "    .dataframe tbody tr th {\n",
       "        vertical-align: top;\n",
       "    }\n",
       "\n",
       "    .dataframe thead th {\n",
       "        text-align: right;\n",
       "    }\n",
       "</style>\n",
       "<table border=\"1\" class=\"dataframe\">\n",
       "  <thead>\n",
       "    <tr style=\"text-align: right;\">\n",
       "      <th></th>\n",
       "      <th>Restaurant_id</th>\n",
       "      <th>City</th>\n",
       "      <th>Cuisine_style</th>\n",
       "      <th>Ranking</th>\n",
       "      <th>Price_range</th>\n",
       "      <th>Number_of_reviews</th>\n",
       "      <th>Reviews</th>\n",
       "      <th>URL_TA</th>\n",
       "      <th>ID_TA</th>\n",
       "      <th>Sample</th>\n",
       "      <th>Rating</th>\n",
       "      <th>Franchise</th>\n",
       "      <th>No_Price</th>\n",
       "      <th>Price_value</th>\n",
       "      <th>City_rest</th>\n",
       "      <th>mean_City_rank</th>\n",
       "      <th>norming_rank</th>\n",
       "    </tr>\n",
       "  </thead>\n",
       "  <tbody>\n",
       "    <tr>\n",
       "      <th>0</th>\n",
       "      <td>id_0</td>\n",
       "      <td>paris</td>\n",
       "      <td>['Bar', 'Pub']</td>\n",
       "      <td>12963.0</td>\n",
       "      <td>$$ - $$$</td>\n",
       "      <td>4.0</td>\n",
       "      <td>[[], []]</td>\n",
       "      <td>/Restaurant_Review-g187147-d10746918-Reviews-L...</td>\n",
       "      <td>d10746918</td>\n",
       "      <td>0</td>\n",
       "      <td>0.0</td>\n",
       "      <td>1</td>\n",
       "      <td>0</td>\n",
       "      <td>2.0</td>\n",
       "      <td>6108</td>\n",
       "      <td>6938.5571</td>\n",
       "      <td>2.122299</td>\n",
       "    </tr>\n",
       "    <tr>\n",
       "      <th>1</th>\n",
       "      <td>id_1</td>\n",
       "      <td>helsinki</td>\n",
       "      <td>['European', 'Scandinavian', 'Gluten Free Opti...</td>\n",
       "      <td>106.0</td>\n",
       "      <td>$$ - $$$</td>\n",
       "      <td>97.0</td>\n",
       "      <td>[['Very good reviews!', 'Fine dining in Hakani...</td>\n",
       "      <td>/Restaurant_Review-g189934-d6674944-Reviews-Ra...</td>\n",
       "      <td>d6674944</td>\n",
       "      <td>0</td>\n",
       "      <td>0.0</td>\n",
       "      <td>1</td>\n",
       "      <td>0</td>\n",
       "      <td>2.0</td>\n",
       "      <td>475</td>\n",
       "      <td>564.2316</td>\n",
       "      <td>0.223158</td>\n",
       "    </tr>\n",
       "    <tr>\n",
       "      <th>2</th>\n",
       "      <td>id_2</td>\n",
       "      <td>edinburgh</td>\n",
       "      <td>['Vegetarian Friendly']</td>\n",
       "      <td>810.0</td>\n",
       "      <td>$$ - $$$</td>\n",
       "      <td>28.0</td>\n",
       "      <td>[['Better than the Links', 'Ivy Black'], ['12/...</td>\n",
       "      <td>/Restaurant_Review-g186525-d13129638-Reviews-B...</td>\n",
       "      <td>d13129638</td>\n",
       "      <td>0</td>\n",
       "      <td>0.0</td>\n",
       "      <td>1</td>\n",
       "      <td>0</td>\n",
       "      <td>2.0</td>\n",
       "      <td>745</td>\n",
       "      <td>885.1302</td>\n",
       "      <td>1.087248</td>\n",
       "    </tr>\n",
       "    <tr>\n",
       "      <th>3</th>\n",
       "      <td>id_3</td>\n",
       "      <td>london</td>\n",
       "      <td>['Italian', 'Mediterranean', 'European', 'Vege...</td>\n",
       "      <td>1669.0</td>\n",
       "      <td>$$$$</td>\n",
       "      <td>202.0</td>\n",
       "      <td>[['Most exquisite', 'Delicious and authentic']...</td>\n",
       "      <td>/Restaurant_Review-g186338-d680417-Reviews-Qui...</td>\n",
       "      <td>d680417</td>\n",
       "      <td>0</td>\n",
       "      <td>0.0</td>\n",
       "      <td>1</td>\n",
       "      <td>0</td>\n",
       "      <td>3.0</td>\n",
       "      <td>7193</td>\n",
       "      <td>8169.7074</td>\n",
       "      <td>0.232031</td>\n",
       "    </tr>\n",
       "    <tr>\n",
       "      <th>4</th>\n",
       "      <td>id_4</td>\n",
       "      <td>bratislava</td>\n",
       "      <td>['Italian', 'Mediterranean', 'European', 'Seaf...</td>\n",
       "      <td>37.0</td>\n",
       "      <td>$$$$</td>\n",
       "      <td>162.0</td>\n",
       "      <td>[['Always the best in bratislava', 'Very good ...</td>\n",
       "      <td>/Restaurant_Review-g274924-d1112354-Reviews-Ma...</td>\n",
       "      <td>d1112354</td>\n",
       "      <td>0</td>\n",
       "      <td>0.0</td>\n",
       "      <td>1</td>\n",
       "      <td>0</td>\n",
       "      <td>3.0</td>\n",
       "      <td>380</td>\n",
       "      <td>462.4289</td>\n",
       "      <td>0.097368</td>\n",
       "    </tr>\n",
       "  </tbody>\n",
       "</table>\n",
       "</div>"
      ],
      "text/plain": [
       "  Restaurant_id        City  \\\n",
       "0          id_0       paris   \n",
       "1          id_1    helsinki   \n",
       "2          id_2   edinburgh   \n",
       "3          id_3      london   \n",
       "4          id_4  bratislava   \n",
       "\n",
       "                                       Cuisine_style  Ranking Price_range  \\\n",
       "0                                     ['Bar', 'Pub']  12963.0    $$ - $$$   \n",
       "1  ['European', 'Scandinavian', 'Gluten Free Opti...    106.0    $$ - $$$   \n",
       "2                            ['Vegetarian Friendly']    810.0    $$ - $$$   \n",
       "3  ['Italian', 'Mediterranean', 'European', 'Vege...   1669.0        $$$$   \n",
       "4  ['Italian', 'Mediterranean', 'European', 'Seaf...     37.0        $$$$   \n",
       "\n",
       "   Number_of_reviews                                            Reviews  \\\n",
       "0                4.0                                           [[], []]   \n",
       "1               97.0  [['Very good reviews!', 'Fine dining in Hakani...   \n",
       "2               28.0  [['Better than the Links', 'Ivy Black'], ['12/...   \n",
       "3              202.0  [['Most exquisite', 'Delicious and authentic']...   \n",
       "4              162.0  [['Always the best in bratislava', 'Very good ...   \n",
       "\n",
       "                                              URL_TA      ID_TA  Sample  \\\n",
       "0  /Restaurant_Review-g187147-d10746918-Reviews-L...  d10746918       0   \n",
       "1  /Restaurant_Review-g189934-d6674944-Reviews-Ra...   d6674944       0   \n",
       "2  /Restaurant_Review-g186525-d13129638-Reviews-B...  d13129638       0   \n",
       "3  /Restaurant_Review-g186338-d680417-Reviews-Qui...    d680417       0   \n",
       "4  /Restaurant_Review-g274924-d1112354-Reviews-Ma...   d1112354       0   \n",
       "\n",
       "   Rating  Franchise  No_Price  Price_value  City_rest  mean_City_rank  \\\n",
       "0     0.0          1         0          2.0       6108       6938.5571   \n",
       "1     0.0          1         0          2.0        475        564.2316   \n",
       "2     0.0          1         0          2.0        745        885.1302   \n",
       "3     0.0          1         0          3.0       7193       8169.7074   \n",
       "4     0.0          1         0          3.0        380        462.4289   \n",
       "\n",
       "   norming_rank  \n",
       "0      2.122299  \n",
       "1      0.223158  \n",
       "2      1.087248  \n",
       "3      0.232031  \n",
       "4      0.097368  "
      ]
     },
     "execution_count": 34,
     "metadata": {},
     "output_type": "execute_result"
    }
   ],
   "source": [
    "data.City=data.City.apply(lambda x: x.lower())\n",
    "data.head(5)"
   ]
  },
  {
   "cell_type": "code",
   "execution_count": 35,
   "metadata": {
    "execution": {
     "iopub.execute_input": "2020-09-08T22:17:27.117101Z",
     "iopub.status.busy": "2020-09-08T22:17:26.911340Z",
     "iopub.status.idle": "2020-09-08T22:17:27.419371Z",
     "shell.execute_reply": "2020-09-08T22:17:27.418548Z"
    },
    "papermill": {
     "duration": 0.62426,
     "end_time": "2020-09-08T22:17:27.419522",
     "exception": false,
     "start_time": "2020-09-08T22:17:26.795262",
     "status": "completed"
    },
    "tags": []
   },
   "outputs": [
    {
     "data": {
      "text/plain": [
       "<matplotlib.axes._subplots.AxesSubplot at 0x7f4fc8152310>"
      ]
     },
     "execution_count": 35,
     "metadata": {},
     "output_type": "execute_result"
    },
    {
     "data": {
      "image/png": "[encoded data removed]",
      "text/plain": [
       "<Figure size 432x288 with 1 Axes>"
      ]
     },
     "metadata": {
      "needs_background": "light"
     },
     "output_type": "display_data"
    }
   ],
   "source": [
    "data['City'].value_counts(ascending=True).plot(kind='barh')"
   ]
  },
  {
   "cell_type": "code",
   "execution_count": 36,
   "metadata": {
    "execution": {
     "iopub.execute_input": "2020-09-08T22:17:27.670156Z",
     "iopub.status.busy": "2020-09-08T22:17:27.668745Z",
     "iopub.status.idle": "2020-09-08T22:17:27.894512Z",
     "shell.execute_reply": "2020-09-08T22:17:27.893717Z"
    },
    "papermill": {
     "duration": 0.327838,
     "end_time": "2020-09-08T22:17:27.894664",
     "exception": false,
     "start_time": "2020-09-08T22:17:27.566826",
     "status": "completed"
    },
    "tags": []
   },
   "outputs": [
    {
     "data": {
      "text/plain": [
       "<matplotlib.axes._subplots.AxesSubplot at 0x7f4fc87aa590>"
      ]
     },
     "execution_count": 36,
     "metadata": {},
     "output_type": "execute_result"
    },
    {
     "data": {
      "image/png": "[encoded data removed]",
      "text/plain": [
       "<Figure size 432x288 with 1 Axes>"
      ]
     },
     "metadata": {
      "needs_background": "light"
     },
     "output_type": "display_data"
    }
   ],
   "source": [
    "data.City_rest.plot(kind='hist',bins=15)"
   ]
  },
  {
   "cell_type": "code",
   "execution_count": 37,
   "metadata": {
    "execution": {
     "iopub.execute_input": "2020-09-08T22:17:28.103020Z",
     "iopub.status.busy": "2020-09-08T22:17:28.101781Z",
     "iopub.status.idle": "2020-09-08T22:17:28.115400Z",
     "shell.execute_reply": "2020-09-08T22:17:28.114716Z"
    },
    "papermill": {
     "duration": 0.122535,
     "end_time": "2020-09-08T22:17:28.115535",
     "exception": false,
     "start_time": "2020-09-08T22:17:27.993000",
     "status": "completed"
    },
    "tags": []
   },
   "outputs": [
    {
     "name": "stdout",
     "output_type": "stream",
     "text": [
      "min : 222 \n",
      " 25-й перцентиль: 1145.0 \n",
      " медиана: 2694.0 \n",
      " среднее: 3196.6344 \n",
      " max : 7193 \n",
      " 75-й перцентиль: 6108.0 \n",
      " IQR: 4963.0 \n",
      " Границы выбросов: [-6299.5, 13552.5].\n"
     ]
    }
   ],
   "source": [
    "# сделаем анализ границ и расчитаем их точные значения\n",
    "num_value_analiz(data,'City_rest')\n",
    "# построение гистограммы с обозначением выбросов считаю нецелесообразным т.к.\n",
    "# Как мы видели из распределения количества ресторанов по городам,\n",
    "# в европейских столицах как более богатых городах просто больше ресторанов))"
   ]
  },
  {
   "cell_type": "code",
   "execution_count": 38,
   "metadata": {
    "execution": {
     "iopub.execute_input": "2020-09-08T22:17:28.322811Z",
     "iopub.status.busy": "2020-09-08T22:17:28.321983Z",
     "iopub.status.idle": "2020-09-08T22:17:28.434691Z",
     "shell.execute_reply": "2020-09-08T22:17:28.433807Z"
    },
    "papermill": {
     "duration": 0.219836,
     "end_time": "2020-09-08T22:17:28.434828",
     "exception": false,
     "start_time": "2020-09-08T22:17:28.214992",
     "status": "completed"
    },
    "tags": []
   },
   "outputs": [
    {
     "name": "stdout",
     "output_type": "stream",
     "text": [
      "<class 'pandas.core.frame.DataFrame'>\n",
      "RangeIndex: 50000 entries, 0 to 49999\n",
      "Data columns (total 48 columns):\n",
      " #   Column             Non-Null Count  Dtype  \n",
      "---  ------             --------------  -----  \n",
      " 0   Restaurant_id      50000 non-null  object \n",
      " 1   Cuisine_style      38410 non-null  object \n",
      " 2   Ranking            50000 non-null  float64\n",
      " 3   Price_range        32639 non-null  object \n",
      " 4   Number_of_reviews  46800 non-null  float64\n",
      " 5   Reviews            49998 non-null  object \n",
      " 6   URL_TA             50000 non-null  object \n",
      " 7   ID_TA              50000 non-null  object \n",
      " 8   Sample             50000 non-null  int64  \n",
      " 9   Rating             50000 non-null  float64\n",
      " 10  Franchise          50000 non-null  int64  \n",
      " 11  No_Price           50000 non-null  int64  \n",
      " 12  Price_value        50000 non-null  float64\n",
      " 13  City_rest          50000 non-null  int64  \n",
      " 14  mean_City_rank     50000 non-null  float64\n",
      " 15  norming_rank       50000 non-null  float64\n",
      " 16  City_amsterdam     50000 non-null  uint8  \n",
      " 17  City_athens        50000 non-null  uint8  \n",
      " 18  City_barcelona     50000 non-null  uint8  \n",
      " 19  City_berlin        50000 non-null  uint8  \n",
      " 20  City_bratislava    50000 non-null  uint8  \n",
      " 21  City_brussels      50000 non-null  uint8  \n",
      " 22  City_budapest      50000 non-null  uint8  \n",
      " 23  City_copenhagen    50000 non-null  uint8  \n",
      " 24  City_dublin        50000 non-null  uint8  \n",
      " 25  City_edinburgh     50000 non-null  uint8  \n",
      " 26  City_geneva        50000 non-null  uint8  \n",
      " 27  City_hamburg       50000 non-null  uint8  \n",
      " 28  City_helsinki      50000 non-null  uint8  \n",
      " 29  City_krakow        50000 non-null  uint8  \n",
      " 30  City_lisbon        50000 non-null  uint8  \n",
      " 31  City_ljubljana     50000 non-null  uint8  \n",
      " 32  City_london        50000 non-null  uint8  \n",
      " 33  City_luxembourg    50000 non-null  uint8  \n",
      " 34  City_lyon          50000 non-null  uint8  \n",
      " 35  City_madrid        50000 non-null  uint8  \n",
      " 36  City_milan         50000 non-null  uint8  \n",
      " 37  City_munich        50000 non-null  uint8  \n",
      " 38  City_oporto        50000 non-null  uint8  \n",
      " 39  City_oslo          50000 non-null  uint8  \n",
      " 40  City_paris         50000 non-null  uint8  \n",
      " 41  City_prague        50000 non-null  uint8  \n",
      " 42  City_rome          50000 non-null  uint8  \n",
      " 43  City_stockholm     50000 non-null  uint8  \n",
      " 44  City_vienna        50000 non-null  uint8  \n",
      " 45  City_warsaw        50000 non-null  uint8  \n",
      " 46  City_zurich        50000 non-null  uint8  \n",
      " 47  City_nan           50000 non-null  uint8  \n",
      "dtypes: float64(6), int64(4), object(6), uint8(32)\n",
      "memory usage: 7.6+ MB\n"
     ]
    }
   ],
   "source": [
    "data = pd.get_dummies(data, columns=[ 'City',], dummy_na=True)\n",
    "data.info()"
   ]
  },
  {
   "cell_type": "code",
   "execution_count": 39,
   "metadata": {
    "execution": {
     "iopub.execute_input": "2020-09-08T22:17:28.657939Z",
     "iopub.status.busy": "2020-09-08T22:17:28.649105Z",
     "iopub.status.idle": "2020-09-08T22:17:28.668492Z",
     "shell.execute_reply": "2020-09-08T22:17:28.667778Z"
    },
    "papermill": {
     "duration": 0.134585,
     "end_time": "2020-09-08T22:17:28.668628",
     "exception": false,
     "start_time": "2020-09-08T22:17:28.534043",
     "status": "completed"
    },
    "tags": []
   },
   "outputs": [
    {
     "data": {
      "text/plain": [
       "['Italian']                                                                                                    1332\n",
       "['French']                                                                                                     1019\n",
       "['Spanish']                                                                                                     860\n",
       "['French', 'European']                                                                                          503\n",
       "['Cafe']                                                                                                        500\n",
       "                                                                                                               ... \n",
       "['Italian', 'European', 'Nepali', 'Asian', 'Vegetarian Friendly']                                                 1\n",
       "['Italian', 'Bar', 'Pizza', 'European', 'Czech', 'Central European', 'Vegetarian Friendly']                       1\n",
       "['International', 'Chinese', 'Asian', 'Vegetarian Friendly', 'Gluten Free Options']                               1\n",
       "['American', 'International', 'Bar', 'European', 'Pub', 'Czech', 'Central European']                              1\n",
       "['Mexican', 'Latin', 'Contemporary', 'Healthy', 'Bar', 'Fast Food', 'Vegetarian Friendly', 'Vegan Options']       1\n",
       "Name: Cuisine_style, Length: 10731, dtype: int64"
      ]
     },
     "execution_count": 39,
     "metadata": {},
     "output_type": "execute_result"
    }
   ],
   "source": [
    "data.Cuisine_style.value_counts()"
   ]
  },
  {
   "cell_type": "code",
   "execution_count": 40,
   "metadata": {
    "execution": {
     "iopub.execute_input": "2020-09-08T22:17:28.881897Z",
     "iopub.status.busy": "2020-09-08T22:17:28.877525Z",
     "iopub.status.idle": "2020-09-08T22:17:28.897820Z",
     "shell.execute_reply": "2020-09-08T22:17:28.898419Z"
    },
    "papermill": {
     "duration": 0.131678,
     "end_time": "2020-09-08T22:17:28.898588",
     "exception": false,
     "start_time": "2020-09-08T22:17:28.766910",
     "status": "completed"
    },
    "tags": []
   },
   "outputs": [
    {
     "data": {
      "text/html": [
       "<div>\n",
       "<style scoped>\n",
       "    .dataframe tbody tr th:only-of-type {\n",
       "        vertical-align: middle;\n",
       "    }\n",
       "\n",
       "    .dataframe tbody tr th {\n",
       "        vertical-align: top;\n",
       "    }\n",
       "\n",
       "    .dataframe thead th {\n",
       "        text-align: right;\n",
       "    }\n",
       "</style>\n",
       "<table border=\"1\" class=\"dataframe\">\n",
       "  <thead>\n",
       "    <tr style=\"text-align: right;\">\n",
       "      <th></th>\n",
       "      <th>No_Cuisine_style</th>\n",
       "      <th>Cuisine_style</th>\n",
       "    </tr>\n",
       "  </thead>\n",
       "  <tbody>\n",
       "    <tr>\n",
       "      <th>7</th>\n",
       "      <td>1</td>\n",
       "      <td>NaN</td>\n",
       "    </tr>\n",
       "    <tr>\n",
       "      <th>10</th>\n",
       "      <td>1</td>\n",
       "      <td>NaN</td>\n",
       "    </tr>\n",
       "    <tr>\n",
       "      <th>13</th>\n",
       "      <td>1</td>\n",
       "      <td>NaN</td>\n",
       "    </tr>\n",
       "    <tr>\n",
       "      <th>18</th>\n",
       "      <td>1</td>\n",
       "      <td>NaN</td>\n",
       "    </tr>\n",
       "    <tr>\n",
       "      <th>20</th>\n",
       "      <td>1</td>\n",
       "      <td>NaN</td>\n",
       "    </tr>\n",
       "    <tr>\n",
       "      <th>...</th>\n",
       "      <td>...</td>\n",
       "      <td>...</td>\n",
       "    </tr>\n",
       "    <tr>\n",
       "      <th>49981</th>\n",
       "      <td>1</td>\n",
       "      <td>NaN</td>\n",
       "    </tr>\n",
       "    <tr>\n",
       "      <th>49983</th>\n",
       "      <td>1</td>\n",
       "      <td>NaN</td>\n",
       "    </tr>\n",
       "    <tr>\n",
       "      <th>49986</th>\n",
       "      <td>1</td>\n",
       "      <td>NaN</td>\n",
       "    </tr>\n",
       "    <tr>\n",
       "      <th>49988</th>\n",
       "      <td>1</td>\n",
       "      <td>NaN</td>\n",
       "    </tr>\n",
       "    <tr>\n",
       "      <th>49993</th>\n",
       "      <td>1</td>\n",
       "      <td>NaN</td>\n",
       "    </tr>\n",
       "  </tbody>\n",
       "</table>\n",
       "<p>11590 rows × 2 columns</p>\n",
       "</div>"
      ],
      "text/plain": [
       "       No_Cuisine_style Cuisine_style\n",
       "7                     1           NaN\n",
       "10                    1           NaN\n",
       "13                    1           NaN\n",
       "18                    1           NaN\n",
       "20                    1           NaN\n",
       "...                 ...           ...\n",
       "49981                 1           NaN\n",
       "49983                 1           NaN\n",
       "49986                 1           NaN\n",
       "49988                 1           NaN\n",
       "49993                 1           NaN\n",
       "\n",
       "[11590 rows x 2 columns]"
      ]
     },
     "execution_count": 40,
     "metadata": {},
     "output_type": "execute_result"
    }
   ],
   "source": [
    "# Создаем новый признак No_Cuisine_style\n",
    "data['No_Cuisine_style'] = pd.isna(data['Cuisine_style']).astype('int64') \n",
    "data[['No_Cuisine_style','Cuisine_style']][data['No_Cuisine_style']==1]"
   ]
  },
  {
   "cell_type": "code",
   "execution_count": 41,
   "metadata": {
    "execution": {
     "iopub.execute_input": "2020-09-08T22:17:29.108533Z",
     "iopub.status.busy": "2020-09-08T22:17:29.107204Z",
     "iopub.status.idle": "2020-09-08T22:17:29.301373Z",
     "shell.execute_reply": "2020-09-08T22:17:29.302024Z"
    },
    "papermill": {
     "duration": 0.302184,
     "end_time": "2020-09-08T22:17:29.302228",
     "exception": false,
     "start_time": "2020-09-08T22:17:29.000044",
     "status": "completed"
    },
    "tags": []
   },
   "outputs": [
    {
     "name": "stdout",
     "output_type": "stream",
     "text": [
      "пустых значений в колонке  No_Cuisine_style  :  0\n",
      "Значения в колонке:     No_Cuisine_style\n",
      "0             30717\n",
      "1              9283\n"
     ]
    },
    {
     "data": {
      "image/png": "[encoded data removed]",
      "text/plain": [
       "<Figure size 720x432 with 1 Axes>"
      ]
     },
     "metadata": {
      "needs_background": "light"
     },
     "output_type": "display_data"
    }
   ],
   "source": [
    "obj_describe(data[data['Sample']==1],'No_Cuisine_style')"
   ]
  },
  {
   "cell_type": "code",
   "execution_count": 42,
   "metadata": {
    "execution": {
     "iopub.execute_input": "2020-09-08T22:17:29.516096Z",
     "iopub.status.busy": "2020-09-08T22:17:29.515063Z",
     "iopub.status.idle": "2020-09-08T22:17:29.760824Z",
     "shell.execute_reply": "2020-09-08T22:17:29.760046Z"
    },
    "papermill": {
     "duration": 0.356381,
     "end_time": "2020-09-08T22:17:29.760972",
     "exception": false,
     "start_time": "2020-09-08T22:17:29.404591",
     "status": "completed"
    },
    "tags": []
   },
   "outputs": [
    {
     "data": {
      "text/html": [
       "<div>\n",
       "<style scoped>\n",
       "    .dataframe tbody tr th:only-of-type {\n",
       "        vertical-align: middle;\n",
       "    }\n",
       "\n",
       "    .dataframe tbody tr th {\n",
       "        vertical-align: top;\n",
       "    }\n",
       "\n",
       "    .dataframe thead th {\n",
       "        text-align: right;\n",
       "    }\n",
       "</style>\n",
       "<table border=\"1\" class=\"dataframe\">\n",
       "  <thead>\n",
       "    <tr style=\"text-align: right;\">\n",
       "      <th></th>\n",
       "      <th>Cuisine_quant</th>\n",
       "      <th>Cuisine_style</th>\n",
       "    </tr>\n",
       "  </thead>\n",
       "  <tbody>\n",
       "    <tr>\n",
       "      <th>7</th>\n",
       "      <td>0</td>\n",
       "      <td>NaN</td>\n",
       "    </tr>\n",
       "    <tr>\n",
       "      <th>10</th>\n",
       "      <td>0</td>\n",
       "      <td>NaN</td>\n",
       "    </tr>\n",
       "    <tr>\n",
       "      <th>13</th>\n",
       "      <td>0</td>\n",
       "      <td>NaN</td>\n",
       "    </tr>\n",
       "    <tr>\n",
       "      <th>18</th>\n",
       "      <td>0</td>\n",
       "      <td>NaN</td>\n",
       "    </tr>\n",
       "    <tr>\n",
       "      <th>20</th>\n",
       "      <td>0</td>\n",
       "      <td>NaN</td>\n",
       "    </tr>\n",
       "    <tr>\n",
       "      <th>...</th>\n",
       "      <td>...</td>\n",
       "      <td>...</td>\n",
       "    </tr>\n",
       "    <tr>\n",
       "      <th>49981</th>\n",
       "      <td>0</td>\n",
       "      <td>NaN</td>\n",
       "    </tr>\n",
       "    <tr>\n",
       "      <th>49983</th>\n",
       "      <td>0</td>\n",
       "      <td>NaN</td>\n",
       "    </tr>\n",
       "    <tr>\n",
       "      <th>49986</th>\n",
       "      <td>0</td>\n",
       "      <td>NaN</td>\n",
       "    </tr>\n",
       "    <tr>\n",
       "      <th>49988</th>\n",
       "      <td>0</td>\n",
       "      <td>NaN</td>\n",
       "    </tr>\n",
       "    <tr>\n",
       "      <th>49993</th>\n",
       "      <td>0</td>\n",
       "      <td>NaN</td>\n",
       "    </tr>\n",
       "  </tbody>\n",
       "</table>\n",
       "<p>11590 rows × 2 columns</p>\n",
       "</div>"
      ],
      "text/plain": [
       "       Cuisine_quant Cuisine_style\n",
       "7                  0           NaN\n",
       "10                 0           NaN\n",
       "13                 0           NaN\n",
       "18                 0           NaN\n",
       "20                 0           NaN\n",
       "...              ...           ...\n",
       "49981              0           NaN\n",
       "49983              0           NaN\n",
       "49986              0           NaN\n",
       "49988              0           NaN\n",
       "49993              0           NaN\n",
       "\n",
       "[11590 rows x 2 columns]"
      ]
     },
     "execution_count": 42,
     "metadata": {},
     "output_type": "execute_result"
    }
   ],
   "source": [
    "#Создаем новый признак Cuisine_quant\n",
    "# там где нет стиля кухни будет соответственно стоять 0\n",
    "data['Cuisine_quant']=data['Cuisine_style'].apply(lambda x: len(re.findall(r\"'(\\b.*?\\b)'\",str(x))))\n",
    "data[['Cuisine_quant','Cuisine_style']][data['Cuisine_quant']==0]"
   ]
  },
  {
   "cell_type": "code",
   "execution_count": 43,
   "metadata": {
    "execution": {
     "iopub.execute_input": "2020-09-08T22:17:29.983357Z",
     "iopub.status.busy": "2020-09-08T22:17:29.976910Z",
     "iopub.status.idle": "2020-09-08T22:17:30.182549Z",
     "shell.execute_reply": "2020-09-08T22:17:30.181885Z"
    },
    "papermill": {
     "duration": 0.320421,
     "end_time": "2020-09-08T22:17:30.182675",
     "exception": false,
     "start_time": "2020-09-08T22:17:29.862254",
     "status": "completed"
    },
    "tags": []
   },
   "outputs": [
    {
     "data": {
      "text/plain": [
       "<matplotlib.axes._subplots.AxesSubplot at 0x7f4fcbd45990>"
      ]
     },
     "execution_count": 43,
     "metadata": {},
     "output_type": "execute_result"
    },
    {
     "data": {
      "image/png": "[encoded data removed]",
      "text/plain": [
       "<Figure size 432x288 with 1 Axes>"
      ]
     },
     "metadata": {
      "needs_background": "light"
     },
     "output_type": "display_data"
    }
   ],
   "source": [
    "data.Cuisine_quant.hist(legend=True)"
   ]
  },
  {
   "cell_type": "code",
   "execution_count": 44,
   "metadata": {
    "execution": {
     "iopub.execute_input": "2020-09-08T22:17:30.398940Z",
     "iopub.status.busy": "2020-09-08T22:17:30.398123Z",
     "iopub.status.idle": "2020-09-08T22:17:30.819758Z",
     "shell.execute_reply": "2020-09-08T22:17:30.818967Z"
    },
    "papermill": {
     "duration": 0.532539,
     "end_time": "2020-09-08T22:17:30.819918",
     "exception": false,
     "start_time": "2020-09-08T22:17:30.287379",
     "status": "completed"
    },
    "tags": []
   },
   "outputs": [
    {
     "name": "stdout",
     "output_type": "stream",
     "text": [
      "пустых значений в колонке  Cuisine_quant  :  0\n",
      "Значения в колонке:      Cuisine_quant\n",
      "0            9283\n",
      "1            7264\n",
      "2            6294\n",
      "3            5306\n",
      "4            4799\n",
      "5            3606\n",
      "6            2043\n",
      "7            1022\n",
      "8             283\n",
      "9              76\n",
      "10             19\n",
      "11              3\n",
      "21              1\n",
      "13              1\n"
     ]
    },
    {
     "data": {
      "image/png": "[encoded data removed]",
      "text/plain": [
       "<Figure size 720x432 with 1 Axes>"
      ]
     },
     "metadata": {
      "needs_background": "light"
     },
     "output_type": "display_data"
    }
   ],
   "source": [
    "obj_describe(data[data['Sample']==1],'Cuisine_quant')"
   ]
  },
  {
   "cell_type": "code",
   "execution_count": 45,
   "metadata": {
    "execution": {
     "iopub.execute_input": "2020-09-08T22:17:31.036433Z",
     "iopub.status.busy": "2020-09-08T22:17:31.035645Z",
     "iopub.status.idle": "2020-09-08T22:17:31.050504Z",
     "shell.execute_reply": "2020-09-08T22:17:31.049714Z"
    },
    "papermill": {
     "duration": 0.124457,
     "end_time": "2020-09-08T22:17:31.050633",
     "exception": false,
     "start_time": "2020-09-08T22:17:30.926176",
     "status": "completed"
    },
    "tags": []
   },
   "outputs": [
    {
     "name": "stdout",
     "output_type": "stream",
     "text": [
      "min : 0 \n",
      " 25-й перцентиль: 1.0 \n",
      " медиана: 2.0 \n",
      " среднее: 2.39352 \n",
      " max : 21 \n",
      " 75-й перцентиль: 4.0 \n",
      " IQR: 3.0 \n",
      " Границы выбросов: [-3.5, 8.5].\n"
     ]
    }
   ],
   "source": [
    "num_value_analiz(data,'Cuisine_quant')"
   ]
  },
  {
   "cell_type": "code",
   "execution_count": 46,
   "metadata": {
    "execution": {
     "iopub.execute_input": "2020-09-08T22:17:31.280453Z",
     "iopub.status.busy": "2020-09-08T22:17:31.279002Z",
     "iopub.status.idle": "2020-09-08T22:17:31.311974Z",
     "shell.execute_reply": "2020-09-08T22:17:31.311279Z"
    },
    "papermill": {
     "duration": 0.153209,
     "end_time": "2020-09-08T22:17:31.312103",
     "exception": false,
     "start_time": "2020-09-08T22:17:31.158894",
     "status": "completed"
    },
    "tags": []
   },
   "outputs": [
    {
     "data": {
      "text/plain": [
       "['Other']                                                                                                      11590\n",
       "['Italian']                                                                                                     1332\n",
       "['French']                                                                                                      1019\n",
       "['Spanish']                                                                                                      860\n",
       "['French', 'European']                                                                                           503\n",
       "                                                                                                               ...  \n",
       "['Italian', 'European', 'Nepali', 'Asian', 'Vegetarian Friendly']                                                  1\n",
       "['Italian', 'Bar', 'Pizza', 'European', 'Czech', 'Central European', 'Vegetarian Friendly']                        1\n",
       "['International', 'Chinese', 'Asian', 'Vegetarian Friendly', 'Gluten Free Options']                                1\n",
       "['American', 'International', 'Bar', 'European', 'Pub', 'Czech', 'Central European']                               1\n",
       "['Mexican', 'Latin', 'Contemporary', 'Healthy', 'Bar', 'Fast Food', 'Vegetarian Friendly', 'Vegan Options']        1\n",
       "Name: Cuisine_style, Length: 10732, dtype: int64"
      ]
     },
     "execution_count": 46,
     "metadata": {},
     "output_type": "execute_result"
    }
   ],
   "source": [
    "data['Cuisine_style'] = data['Cuisine_style'].fillna(\"['Other']\")\n",
    "data.Cuisine_style.value_counts()"
   ]
  },
  {
   "cell_type": "code",
   "execution_count": 47,
   "metadata": {
    "execution": {
     "iopub.execute_input": "2020-09-08T22:17:31.546296Z",
     "iopub.status.busy": "2020-09-08T22:17:31.537529Z",
     "iopub.status.idle": "2020-09-08T22:17:31.796004Z",
     "shell.execute_reply": "2020-09-08T22:17:31.795193Z"
    },
    "papermill": {
     "duration": 0.376764,
     "end_time": "2020-09-08T22:17:31.796135",
     "exception": false,
     "start_time": "2020-09-08T22:17:31.419371",
     "status": "completed"
    },
    "tags": []
   },
   "outputs": [],
   "source": [
    "#Обработаем значения признака\n",
    "data['Cuisine_style']=data['Cuisine_style'].str.findall(r\"'(\\b.*?\\b)'\")"
   ]
  },
  {
   "cell_type": "code",
   "execution_count": 48,
   "metadata": {
    "execution": {
     "iopub.execute_input": "2020-09-08T22:17:32.033419Z",
     "iopub.status.busy": "2020-09-08T22:17:32.022829Z",
     "iopub.status.idle": "2020-09-08T22:17:32.055131Z",
     "shell.execute_reply": "2020-09-08T22:17:32.053829Z"
    },
    "papermill": {
     "duration": 0.150991,
     "end_time": "2020-09-08T22:17:32.055325",
     "exception": false,
     "start_time": "2020-09-08T22:17:31.904334",
     "status": "completed"
    },
    "tags": []
   },
   "outputs": [
    {
     "name": "stdout",
     "output_type": "stream",
     "text": [
      "{'Filipino', 'Middle Eastern', 'Lebanese', 'Singaporean', 'Mexican', 'Persian', 'Eastern European', 'British', 'Uzbek', 'Moroccan', 'New Zealand', 'Native American', 'Vegetarian Friendly', 'Balti', 'Steakhouse', 'African', 'Grill', 'Korean', 'Taiwanese', 'Albanian', 'Latvian', 'Chilean', 'Ethiopian', 'Egyptian', 'Central European', 'Pub', 'Brew Pub', 'Contemporary', 'Fujian', 'Turkish', 'Bar', 'Hawaiian', 'Swedish', 'Mediterranean', 'Central Asian', 'Brazilian', 'Vegan Options', 'Cafe', 'Peruvian', 'Norwegian', 'Slovenian', 'Kosher', 'Dutch', 'Greek', 'Mongolian', 'Pizza', 'Indian', 'Austrian', 'Central American', 'Chinese', 'Tibetan', 'International', 'Thai', 'Cambodian', 'Soups', 'Minority Chinese', 'Other', 'Ecuadorean', 'Ukrainian', 'Armenian', 'Fast Food', 'Polynesian', 'Croatian', 'Romanian', 'Diner', 'Sri Lankan', 'Southwestern', 'Polish', 'German', 'Azerbaijani', 'Portuguese', 'Colombian', 'Malaysian', 'Asian', 'Venezuelan', 'Cajun & Creole', 'Georgian', 'Argentinean', 'Danish', 'Czech', 'South American', 'Street Food', 'Spanish', 'Barbecue', 'Russian', 'Scottish', 'Pakistani', 'Gastropub', 'French', 'Arabic', 'Burmese', 'Australian', 'Jamaican', 'Delicatessen', 'Welsh', 'American', 'Swiss', 'Caribbean', 'Xinjiang', 'Japanese', 'Canadian', 'Hungarian', 'Italian', 'Cuban', 'Gluten Free Options', 'European', 'Wine Bar', 'Vietnamese', 'Seafood', 'Afghani', 'Bangladeshi', 'Irish', 'Tunisian', 'Salvadoran', 'Latin', 'Belgian', 'Caucasian', 'Fusion', 'Israeli', 'Healthy', 'Yunnan', 'Nepali', 'Indonesian', 'Halal', 'Sushi', 'Scandinavian'}\n"
     ]
    }
   ],
   "source": [
    "#составим список всех уникальных кухонь\n",
    "Trash_styles = data['Cuisine_style'].tolist()\n",
    "Trash_styles\n",
    "clear_styles=[]\n",
    "for style in Trash_styles:\n",
    "    clear_styles.extend(style)\n",
    "clear_styles=set(clear_styles)\n",
    "print(clear_styles)"
   ]
  },
  {
   "cell_type": "code",
   "execution_count": 49,
   "metadata": {
    "execution": {
     "iopub.execute_input": "2020-09-08T22:17:32.301004Z",
     "iopub.status.busy": "2020-09-08T22:17:32.298411Z",
     "iopub.status.idle": "2020-09-08T22:17:32.559910Z",
     "shell.execute_reply": "2020-09-08T22:17:32.559116Z"
    },
    "papermill": {
     "duration": 0.39569,
     "end_time": "2020-09-08T22:17:32.560040",
     "exception": false,
     "start_time": "2020-09-08T22:17:32.164350",
     "status": "completed"
    },
    "tags": []
   },
   "outputs": [
    {
     "data": {
      "text/plain": [
       "<matplotlib.axes._subplots.AxesSubplot at 0x7f4fcb10d2d0>"
      ]
     },
     "execution_count": 49,
     "metadata": {},
     "output_type": "execute_result"
    },
    {
     "data": {
      "image/png": "[encoded data removed]",
      "text/plain": [
       "<Figure size 432x288 with 1 Axes>"
      ]
     },
     "metadata": {
      "needs_background": "light"
     },
     "output_type": "display_data"
    }
   ],
   "source": [
    "data.Number_of_reviews.hist(legend=True,bins=30)"
   ]
  },
  {
   "cell_type": "code",
   "execution_count": 50,
   "metadata": {
    "execution": {
     "iopub.execute_input": "2020-09-08T22:17:32.783417Z",
     "iopub.status.busy": "2020-09-08T22:17:32.782516Z",
     "iopub.status.idle": "2020-09-08T22:17:32.798000Z",
     "shell.execute_reply": "2020-09-08T22:17:32.796980Z"
    },
    "papermill": {
     "duration": 0.129387,
     "end_time": "2020-09-08T22:17:32.798188",
     "exception": false,
     "start_time": "2020-09-08T22:17:32.668801",
     "status": "completed"
    },
    "tags": []
   },
   "outputs": [
    {
     "name": "stdout",
     "output_type": "stream",
     "text": [
      "min : 2.0 \n",
      " 25-й перцентиль: 9.0 \n",
      " медиана: 33.0 \n",
      " среднее: 124.47119658119658 \n",
      " max : 9660.0 \n",
      " 75-й перцентиль: 115.0 \n",
      " IQR: 106.0 \n",
      " Границы выбросов: [-150.0, 274.0].\n"
     ]
    }
   ],
   "source": [
    "num_value_analiz(data,'Number_of_reviews')"
   ]
  },
  {
   "cell_type": "code",
   "execution_count": 51,
   "metadata": {
    "execution": {
     "iopub.execute_input": "2020-09-08T22:17:33.026784Z",
     "iopub.status.busy": "2020-09-08T22:17:33.025796Z",
     "iopub.status.idle": "2020-09-08T22:17:33.047405Z",
     "shell.execute_reply": "2020-09-08T22:17:33.046720Z"
    },
    "papermill": {
     "duration": 0.138886,
     "end_time": "2020-09-08T22:17:33.047549",
     "exception": false,
     "start_time": "2020-09-08T22:17:32.908663",
     "status": "completed"
    },
    "tags": []
   },
   "outputs": [
    {
     "data": {
      "text/html": [
       "<div>\n",
       "<style scoped>\n",
       "    .dataframe tbody tr th:only-of-type {\n",
       "        vertical-align: middle;\n",
       "    }\n",
       "\n",
       "    .dataframe tbody tr th {\n",
       "        vertical-align: top;\n",
       "    }\n",
       "\n",
       "    .dataframe thead th {\n",
       "        text-align: right;\n",
       "    }\n",
       "</style>\n",
       "<table border=\"1\" class=\"dataframe\">\n",
       "  <thead>\n",
       "    <tr style=\"text-align: right;\">\n",
       "      <th></th>\n",
       "      <th>No_reviews</th>\n",
       "      <th>Number_of_reviews</th>\n",
       "    </tr>\n",
       "  </thead>\n",
       "  <tbody>\n",
       "    <tr>\n",
       "      <th>7</th>\n",
       "      <td>1</td>\n",
       "      <td>NaN</td>\n",
       "    </tr>\n",
       "    <tr>\n",
       "      <th>10</th>\n",
       "      <td>0</td>\n",
       "      <td>306.0</td>\n",
       "    </tr>\n",
       "    <tr>\n",
       "      <th>13</th>\n",
       "      <td>0</td>\n",
       "      <td>30.0</td>\n",
       "    </tr>\n",
       "    <tr>\n",
       "      <th>18</th>\n",
       "      <td>0</td>\n",
       "      <td>2.0</td>\n",
       "    </tr>\n",
       "    <tr>\n",
       "      <th>20</th>\n",
       "      <td>0</td>\n",
       "      <td>8.0</td>\n",
       "    </tr>\n",
       "    <tr>\n",
       "      <th>...</th>\n",
       "      <td>...</td>\n",
       "      <td>...</td>\n",
       "    </tr>\n",
       "    <tr>\n",
       "      <th>49981</th>\n",
       "      <td>0</td>\n",
       "      <td>29.0</td>\n",
       "    </tr>\n",
       "    <tr>\n",
       "      <th>49983</th>\n",
       "      <td>0</td>\n",
       "      <td>2.0</td>\n",
       "    </tr>\n",
       "    <tr>\n",
       "      <th>49986</th>\n",
       "      <td>1</td>\n",
       "      <td>NaN</td>\n",
       "    </tr>\n",
       "    <tr>\n",
       "      <th>49988</th>\n",
       "      <td>1</td>\n",
       "      <td>NaN</td>\n",
       "    </tr>\n",
       "    <tr>\n",
       "      <th>49993</th>\n",
       "      <td>0</td>\n",
       "      <td>16.0</td>\n",
       "    </tr>\n",
       "  </tbody>\n",
       "</table>\n",
       "<p>11590 rows × 2 columns</p>\n",
       "</div>"
      ],
      "text/plain": [
       "       No_reviews  Number_of_reviews\n",
       "7               1                NaN\n",
       "10              0              306.0\n",
       "13              0               30.0\n",
       "18              0                2.0\n",
       "20              0                8.0\n",
       "...           ...                ...\n",
       "49981           0               29.0\n",
       "49983           0                2.0\n",
       "49986           1                NaN\n",
       "49988           1                NaN\n",
       "49993           0               16.0\n",
       "\n",
       "[11590 rows x 2 columns]"
      ]
     },
     "execution_count": 51,
     "metadata": {},
     "output_type": "execute_result"
    }
   ],
   "source": [
    "#Создаем новый признак No_Cuisine_style\n",
    "data['No_reviews'] = pd.isna(data['Number_of_reviews']).astype('int64') \n",
    "data[['No_reviews','Number_of_reviews']][data['No_Cuisine_style']==1]"
   ]
  },
  {
   "cell_type": "code",
   "execution_count": 52,
   "metadata": {
    "execution": {
     "iopub.execute_input": "2020-09-08T22:17:33.277537Z",
     "iopub.status.busy": "2020-09-08T22:17:33.276707Z",
     "iopub.status.idle": "2020-09-08T22:17:33.471736Z",
     "shell.execute_reply": "2020-09-08T22:17:33.471024Z"
    },
    "papermill": {
     "duration": 0.312879,
     "end_time": "2020-09-08T22:17:33.471894",
     "exception": false,
     "start_time": "2020-09-08T22:17:33.159015",
     "status": "completed"
    },
    "tags": []
   },
   "outputs": [
    {
     "name": "stdout",
     "output_type": "stream",
     "text": [
      "пустых значений в колонке  No_reviews  :  0\n",
      "Значения в колонке:     No_reviews\n",
      "0       37457\n",
      "1        2543\n"
     ]
    },
    {
     "data": {
      "image/png": "[encoded data removed]",
      "text/plain": [
       "<Figure size 720x432 with 1 Axes>"
      ]
     },
     "metadata": {
      "needs_background": "light"
     },
     "output_type": "display_data"
    }
   ],
   "source": [
    "obj_describe(data[data['Sample']==1],'No_reviews')"
   ]
  },
  {
   "cell_type": "code",
   "execution_count": 53,
   "metadata": {
    "execution": {
     "iopub.execute_input": "2020-09-08T22:17:33.723864Z",
     "iopub.status.busy": "2020-09-08T22:17:33.720729Z",
     "iopub.status.idle": "2020-09-08T22:17:34.023805Z",
     "shell.execute_reply": "2020-09-08T22:17:34.023158Z"
    },
    "papermill": {
     "duration": 0.439014,
     "end_time": "2020-09-08T22:17:34.023970",
     "exception": false,
     "start_time": "2020-09-08T22:17:33.584956",
     "status": "completed"
    },
    "tags": []
   },
   "outputs": [
    {
     "data": {
      "text/plain": [
       "Text(0, 0.5, 'Number_of_reviews')"
      ]
     },
     "execution_count": 53,
     "metadata": {},
     "output_type": "execute_result"
    },
    {
     "data": {
      "image/png": "[encoded data removed]",
      "text/plain": [
       "<Figure size 432x288 with 1 Axes>"
      ]
     },
     "metadata": {
      "needs_background": "light"
     },
     "output_type": "display_data"
    }
   ],
   "source": [
    "fig = plt.figure()\n",
    "axes = fig.add_axes([0, 0, 1, 1])\n",
    "axes.scatter(x = data[data['Sample']==1]['Number_of_reviews'], y = data[data['Sample']==1]['Rating'], marker = 'o')\n",
    "axes.set_title('Number_of_reviews Vs Rating')\n",
    "axes.set_xlabel('Number_of_reviews')\n",
    "axes.set_ylabel('Number_of_reviews')"
   ]
  },
  {
   "cell_type": "code",
   "execution_count": 54,
   "metadata": {
    "execution": {
     "iopub.execute_input": "2020-09-08T22:17:34.259787Z",
     "iopub.status.busy": "2020-09-08T22:17:34.258813Z",
     "iopub.status.idle": "2020-09-08T22:17:34.262743Z",
     "shell.execute_reply": "2020-09-08T22:17:34.263464Z"
    },
    "papermill": {
     "duration": 0.125767,
     "end_time": "2020-09-08T22:17:34.263638",
     "exception": false,
     "start_time": "2020-09-08T22:17:34.137871",
     "status": "completed"
    },
    "tags": []
   },
   "outputs": [],
   "source": [
    "#Я решил заполнить пропуски 0\n",
    "data['Number_of_reviews'] = data['Number_of_reviews'].fillna(0)"
   ]
  },
  {
   "cell_type": "code",
   "execution_count": 55,
   "metadata": {
    "execution": {
     "iopub.execute_input": "2020-09-08T22:17:34.499244Z",
     "iopub.status.busy": "2020-09-08T22:17:34.498240Z",
     "iopub.status.idle": "2020-09-08T22:17:34.502627Z",
     "shell.execute_reply": "2020-09-08T22:17:34.501910Z"
    },
    "papermill": {
     "duration": 0.12523,
     "end_time": "2020-09-08T22:17:34.502746",
     "exception": false,
     "start_time": "2020-09-08T22:17:34.377516",
     "status": "completed"
    },
    "tags": []
   },
   "outputs": [
    {
     "name": "stdout",
     "output_type": "stream",
     "text": [
      "0                                             [[], []]\n",
      "1    [['Very good reviews!', 'Fine dining in Hakani...\n",
      "Name: Reviews, dtype: object\n"
     ]
    }
   ],
   "source": [
    "print(data['Reviews'][0:2])"
   ]
  },
  {
   "cell_type": "code",
   "execution_count": 56,
   "metadata": {
    "execution": {
     "iopub.execute_input": "2020-09-08T22:17:34.742430Z",
     "iopub.status.busy": "2020-09-08T22:17:34.741513Z",
     "iopub.status.idle": "2020-09-08T22:17:34.747790Z",
     "shell.execute_reply": "2020-09-08T22:17:34.746689Z"
    },
    "papermill": {
     "duration": 0.132382,
     "end_time": "2020-09-08T22:17:34.748019",
     "exception": false,
     "start_time": "2020-09-08T22:17:34.615637",
     "status": "completed"
    },
    "tags": []
   },
   "outputs": [
    {
     "data": {
      "text/plain": [
       "\"[['Very good reviews!', 'Fine dining in Hakaniemi'], ['12/05/2017', '10/29/2017']]\""
      ]
     },
     "execution_count": 56,
     "metadata": {},
     "output_type": "execute_result"
    }
   ],
   "source": [
    "data['Reviews'][1]"
   ]
  },
  {
   "cell_type": "code",
   "execution_count": 57,
   "metadata": {
    "execution": {
     "iopub.execute_input": "2020-09-08T22:17:35.029358Z",
     "iopub.status.busy": "2020-09-08T22:17:35.028165Z",
     "iopub.status.idle": "2020-09-08T22:17:35.034782Z",
     "shell.execute_reply": "2020-09-08T22:17:35.034127Z"
    },
    "papermill": {
     "duration": 0.143137,
     "end_time": "2020-09-08T22:17:35.034942",
     "exception": false,
     "start_time": "2020-09-08T22:17:34.891805",
     "status": "completed"
    },
    "tags": []
   },
   "outputs": [
    {
     "data": {
      "text/plain": [
       "2"
      ]
     },
     "execution_count": 57,
     "metadata": {},
     "output_type": "execute_result"
    }
   ],
   "source": [
    "pd.isnull(data['Reviews']).sum()"
   ]
  },
  {
   "cell_type": "code",
   "execution_count": 58,
   "metadata": {
    "execution": {
     "iopub.execute_input": "2020-09-08T22:17:35.284111Z",
     "iopub.status.busy": "2020-09-08T22:17:35.283006Z",
     "iopub.status.idle": "2020-09-08T22:17:35.293616Z",
     "shell.execute_reply": "2020-09-08T22:17:35.292859Z"
    },
    "papermill": {
     "duration": 0.143167,
     "end_time": "2020-09-08T22:17:35.293745",
     "exception": false,
     "start_time": "2020-09-08T22:17:35.150578",
     "status": "completed"
    },
    "tags": []
   },
   "outputs": [
    {
     "data": {
      "text/plain": [
       "8112"
      ]
     },
     "execution_count": 58,
     "metadata": {},
     "output_type": "execute_result"
    }
   ],
   "source": [
    "len(data[data['Reviews']=='[[], []]'])"
   ]
  },
  {
   "cell_type": "code",
   "execution_count": 59,
   "metadata": {
    "execution": {
     "iopub.execute_input": "2020-09-08T22:17:35.540944Z",
     "iopub.status.busy": "2020-09-08T22:17:35.536828Z",
     "iopub.status.idle": "2020-09-08T22:17:35.546348Z",
     "shell.execute_reply": "2020-09-08T22:17:35.544711Z"
    },
    "papermill": {
     "duration": 0.136942,
     "end_time": "2020-09-08T22:17:35.546544",
     "exception": false,
     "start_time": "2020-09-08T22:17:35.409602",
     "status": "completed"
    },
    "tags": []
   },
   "outputs": [],
   "source": [
    "data['Reviews'] = data['Reviews'].fillna('[[], []]')"
   ]
  },
  {
   "cell_type": "code",
   "execution_count": 60,
   "metadata": {
    "execution": {
     "iopub.execute_input": "2020-09-08T22:17:35.820938Z",
     "iopub.status.busy": "2020-09-08T22:17:35.820132Z",
     "iopub.status.idle": "2020-09-08T22:17:35.826891Z",
     "shell.execute_reply": "2020-09-08T22:17:35.826061Z"
    },
    "papermill": {
     "duration": 0.144516,
     "end_time": "2020-09-08T22:17:35.827029",
     "exception": false,
     "start_time": "2020-09-08T22:17:35.682513",
     "status": "completed"
    },
    "tags": []
   },
   "outputs": [],
   "source": [
    "data['No_reviews'] = (data['Reviews']=='[[], []]').astype('float64')"
   ]
  },
  {
   "cell_type": "code",
   "execution_count": 61,
   "metadata": {
    "execution": {
     "iopub.execute_input": "2020-09-08T22:17:36.090325Z",
     "iopub.status.busy": "2020-09-08T22:17:36.081283Z",
     "iopub.status.idle": "2020-09-08T22:17:36.335594Z",
     "shell.execute_reply": "2020-09-08T22:17:36.334560Z"
    },
    "papermill": {
     "duration": 0.386739,
     "end_time": "2020-09-08T22:17:36.335807",
     "exception": false,
     "start_time": "2020-09-08T22:17:35.949068",
     "status": "completed"
    },
    "tags": []
   },
   "outputs": [],
   "source": [
    "#создаем новый параметр с датами\n",
    "data['Review_dates'] = data['Reviews'].str.findall('\\d+/\\d+/\\d+')"
   ]
  },
  {
   "cell_type": "code",
   "execution_count": 62,
   "metadata": {
    "execution": {
     "iopub.execute_input": "2020-09-08T22:17:36.639898Z",
     "iopub.status.busy": "2020-09-08T22:17:36.606549Z",
     "iopub.status.idle": "2020-09-08T22:17:36.854063Z",
     "shell.execute_reply": "2020-09-08T22:17:36.853267Z"
    },
    "papermill": {
     "duration": 0.382959,
     "end_time": "2020-09-08T22:17:36.854190",
     "exception": false,
     "start_time": "2020-09-08T22:17:36.471231",
     "status": "completed"
    },
    "tags": []
   },
   "outputs": [
    {
     "data": {
      "text/plain": [
       "<matplotlib.axes._subplots.AxesSubplot at 0x7f4fb74a84d0>"
      ]
     },
     "execution_count": 62,
     "metadata": {},
     "output_type": "execute_result"
    },
    {
     "data": {
      "image/png": "[encoded data removed]",
      "text/plain": [
       "<Figure size 432x288 with 1 Axes>"
      ]
     },
     "metadata": {
      "needs_background": "light"
     },
     "output_type": "display_data"
    }
   ],
   "source": [
    "data['Review_dates'].apply(lambda x: len(x)).hist()"
   ]
  },
  {
   "cell_type": "code",
   "execution_count": 63,
   "metadata": {
    "execution": {
     "iopub.execute_input": "2020-09-08T22:17:37.141597Z",
     "iopub.status.busy": "2020-09-08T22:17:37.140211Z",
     "iopub.status.idle": "2020-09-08T22:17:37.172459Z",
     "shell.execute_reply": "2020-09-08T22:17:37.171704Z"
    },
    "papermill": {
     "duration": 0.196298,
     "end_time": "2020-09-08T22:17:37.172583",
     "exception": false,
     "start_time": "2020-09-08T22:17:36.976285",
     "status": "completed"
    },
    "tags": []
   },
   "outputs": [
    {
     "data": {
      "text/plain": [
       "12       [['You always feel very Welcome at this cozy.....\n",
       "31                    [['Very good food'], ['09/24/2017']]\n",
       "48                            [['Thomas'], ['01/06/2016']]\n",
       "50       [['The best in Budapest so far'], ['03/05/2017']]\n",
       "55       [['Coffee was fine - and as it says low price'...\n",
       "                               ...                        \n",
       "49972             [['Personal expirence'], ['10/27/2017']]\n",
       "49974    [['Nice place to eat and chill'], ['08/29/2016']]\n",
       "49983     [['Italian food, as in Italy!'], ['05/24/2015']]\n",
       "49984          [['Good Cookies and more'], ['11/03/2016']]\n",
       "49989             [['I love this place!'], ['08/24/2015']]\n",
       "Name: Reviews, Length: 5680, dtype: object"
      ]
     },
     "execution_count": 63,
     "metadata": {},
     "output_type": "execute_result"
    }
   ],
   "source": [
    "data[data['Review_dates'].apply(lambda x: len(x))==1]['Reviews']"
   ]
  },
  {
   "cell_type": "code",
   "execution_count": 64,
   "metadata": {
    "execution": {
     "iopub.execute_input": "2020-09-08T22:17:37.452563Z",
     "iopub.status.busy": "2020-09-08T22:17:37.421363Z",
     "iopub.status.idle": "2020-09-08T22:17:37.467585Z",
     "shell.execute_reply": "2020-09-08T22:17:37.466553Z"
    },
    "papermill": {
     "duration": 0.175685,
     "end_time": "2020-09-08T22:17:37.467763",
     "exception": false,
     "start_time": "2020-09-08T22:17:37.292078",
     "status": "completed"
    },
    "tags": []
   },
   "outputs": [
    {
     "name": "stdout",
     "output_type": "stream",
     "text": [
      "min : 0 \n",
      " 25-й перцентиль: 1.0 \n",
      " медиана: 2.0 \n",
      " среднее: 1.56192 \n",
      " max : 3 \n",
      " 75-й перцентиль: 2.0 \n",
      " IQR: 1.0 \n",
      " Границы выбросов: [-0.5, 3.5].\n"
     ]
    }
   ],
   "source": [
    "data['Dates_count']=data['Review_dates'].apply(lambda x: len(x))\n",
    "num_value_analiz(data,'Dates_count')"
   ]
  },
  {
   "cell_type": "code",
   "execution_count": 65,
   "metadata": {
    "execution": {
     "iopub.execute_input": "2020-09-08T22:17:37.719484Z",
     "iopub.status.busy": "2020-09-08T22:17:37.718218Z",
     "iopub.status.idle": "2020-09-08T22:17:37.732590Z",
     "shell.execute_reply": "2020-09-08T22:17:37.731778Z"
    },
    "papermill": {
     "duration": 0.143612,
     "end_time": "2020-09-08T22:17:37.732725",
     "exception": false,
     "start_time": "2020-09-08T22:17:37.589113",
     "status": "completed"
    },
    "tags": []
   },
   "outputs": [
    {
     "data": {
      "text/plain": [
       "2221      [21/10/17, 12/22/2017, 10/19/2017]\n",
       "3809     [30/5/2017, 04/13/2017, 05/30/2017]\n",
       "19254     [3/1/2017, 06/02/2017, 01/03/2017]\n",
       "33348    [29/9/2016, 09/30/2016, 08/25/2016]\n",
       "Name: Review_dates, dtype: object"
      ]
     },
     "execution_count": 65,
     "metadata": {},
     "output_type": "execute_result"
    }
   ],
   "source": [
    "data[data['Dates_count']==3]['Review_dates']"
   ]
  },
  {
   "cell_type": "code",
   "execution_count": 66,
   "metadata": {
    "execution": {
     "iopub.execute_input": "2020-09-08T22:17:37.989550Z",
     "iopub.status.busy": "2020-09-08T22:17:37.983318Z",
     "iopub.status.idle": "2020-09-08T22:17:38.039733Z",
     "shell.execute_reply": "2020-09-08T22:17:38.038933Z"
    },
    "papermill": {
     "duration": 0.185908,
     "end_time": "2020-09-08T22:17:38.040003",
     "exception": false,
     "start_time": "2020-09-08T22:17:37.854095",
     "status": "completed"
    },
    "tags": []
   },
   "outputs": [
    {
     "name": "stdout",
     "output_type": "stream",
     "text": [
      "min : 0 \n",
      " 25-й перцентиль: 1.0 \n",
      " медиана: 2.0 \n",
      " среднее: 1.56184 \n",
      " max : 2 \n",
      " 75-й перцентиль: 2.0 \n",
      " IQR: 1.0 \n",
      " Границы выбросов: [-0.5, 3.5].\n"
     ]
    }
   ],
   "source": [
    "data['Dates_count'].Review_dates = data[data['Dates_count']==3].Review_dates.apply(lambda x: x.pop(0))\n",
    "data['Dates_count']=data['Review_dates'].apply(lambda x: len(x))\n",
    "num_value_analiz(data,'Dates_count')"
   ]
  },
  {
   "cell_type": "code",
   "execution_count": 67,
   "metadata": {
    "execution": {
     "iopub.execute_input": "2020-09-08T22:17:38.290939Z",
     "iopub.status.busy": "2020-09-08T22:17:38.290148Z",
     "iopub.status.idle": "2020-09-08T22:17:38.297694Z",
     "shell.execute_reply": "2020-09-08T22:17:38.296943Z"
    },
    "papermill": {
     "duration": 0.136416,
     "end_time": "2020-09-08T22:17:38.297818",
     "exception": false,
     "start_time": "2020-09-08T22:17:38.161402",
     "status": "completed"
    },
    "tags": []
   },
   "outputs": [
    {
     "data": {
      "text/plain": [
       "2    36206\n",
       "0     8114\n",
       "1     5680\n",
       "Name: Dates_count, dtype: int64"
      ]
     },
     "execution_count": 67,
     "metadata": {},
     "output_type": "execute_result"
    }
   ],
   "source": [
    "data.Dates_count.value_counts()"
   ]
  },
  {
   "cell_type": "code",
   "execution_count": 68,
   "metadata": {
    "execution": {
     "iopub.execute_input": "2020-09-08T22:17:38.546213Z",
     "iopub.status.busy": "2020-09-08T22:17:38.545409Z",
     "iopub.status.idle": "2020-09-08T22:17:38.890773Z",
     "shell.execute_reply": "2020-09-08T22:17:38.889658Z"
    },
    "papermill": {
     "duration": 0.471814,
     "end_time": "2020-09-08T22:17:38.891263",
     "exception": false,
     "start_time": "2020-09-08T22:17:38.419449",
     "status": "completed"
    },
    "tags": []
   },
   "outputs": [
    {
     "name": "stdout",
     "output_type": "stream",
     "text": [
      "пустых значений в колонке  Dates_count  :  0\n",
      "Значения в колонке:     Dates_count\n",
      "2        28973\n",
      "0         6471\n",
      "1         4556\n"
     ]
    },
    {
     "data": {
      "image/png": "[encoded data removed]",
      "text/plain": [
       "<Figure size 720x432 with 1 Axes>"
      ]
     },
     "metadata": {
      "needs_background": "light"
     },
     "output_type": "display_data"
    }
   ],
   "source": [
    "obj_describe(data[data['Sample']==1],'Dates_count')"
   ]
  },
  {
   "cell_type": "code",
   "execution_count": 69,
   "metadata": {
    "execution": {
     "iopub.execute_input": "2020-09-08T22:17:39.146330Z",
     "iopub.status.busy": "2020-09-08T22:17:39.145497Z",
     "iopub.status.idle": "2020-09-08T22:18:04.719140Z",
     "shell.execute_reply": "2020-09-08T22:18:04.718380Z"
    },
    "papermill": {
     "duration": 25.703453,
     "end_time": "2020-09-08T22:18:04.719264",
     "exception": false,
     "start_time": "2020-09-08T22:17:39.015811",
     "status": "completed"
    },
    "tags": []
   },
   "outputs": [
    {
     "name": "stderr",
     "output_type": "stream",
     "text": [
      "/opt/conda/lib/python3.7/site-packages/ipykernel_launcher.py:4: FutureWarning: The pandas.datetime class is deprecated and will be removed from pandas in a future version. Import from datetime module instead.\n",
      "  after removing the cwd from sys.path.\n"
     ]
    },
    {
     "data": {
      "text/plain": [
       "0           NaN\n",
       "1        1008.0\n",
       "2         985.0\n",
       "3        1007.0\n",
       "4         943.0\n",
       "          ...  \n",
       "49995     997.0\n",
       "49996     992.0\n",
       "49997    1405.0\n",
       "49998    1155.0\n",
       "49999    1682.0\n",
       "Name: last_review, Length: 50000, dtype: float64"
      ]
     },
     "execution_count": 69,
     "metadata": {},
     "output_type": "execute_result"
    }
   ],
   "source": [
    "def last_review(row):\n",
    "    if row['Review_dates'] == []:\n",
    "        return None\n",
    "    return (pd.datetime.now() - pd.to_datetime(row['Review_dates']).max()).days\n",
    "\n",
    "\n",
    "\n",
    "data['last_review'] = data.apply(last_review, axis = 1)\n",
    "\n",
    "data['last_review']"
   ]
  },
  {
   "cell_type": "code",
   "execution_count": 70,
   "metadata": {
    "execution": {
     "iopub.execute_input": "2020-09-08T22:18:04.969615Z",
     "iopub.status.busy": "2020-09-08T22:18:04.968806Z",
     "iopub.status.idle": "2020-09-08T22:18:04.983975Z",
     "shell.execute_reply": "2020-09-08T22:18:04.983159Z"
    },
    "papermill": {
     "duration": 0.142912,
     "end_time": "2020-09-08T22:18:04.984107",
     "exception": false,
     "start_time": "2020-09-08T22:18:04.841195",
     "status": "completed"
    },
    "tags": []
   },
   "outputs": [
    {
     "name": "stdout",
     "output_type": "stream",
     "text": [
      "min : 925.0 \n",
      " 25-й перцентиль: 1004.0 \n",
      " медиана: 1078.0 \n",
      " среднее: 1215.0453612185456 \n",
      " max : 5984.0 \n",
      " 75-й перцентиль: 1262.0 \n",
      " IQR: 258.0 \n",
      " Границы выбросов: [617.0, 1649.0].\n"
     ]
    }
   ],
   "source": [
    "num_value_analiz(data,'last_review')"
   ]
  },
  {
   "cell_type": "code",
   "execution_count": 71,
   "metadata": {
    "execution": {
     "iopub.execute_input": "2020-09-08T22:18:05.247131Z",
     "iopub.status.busy": "2020-09-08T22:18:05.241216Z",
     "iopub.status.idle": "2020-09-08T22:18:05.469816Z",
     "shell.execute_reply": "2020-09-08T22:18:05.469053Z"
    },
    "papermill": {
     "duration": 0.36059,
     "end_time": "2020-09-08T22:18:05.469979",
     "exception": false,
     "start_time": "2020-09-08T22:18:05.109389",
     "status": "completed"
    },
    "tags": []
   },
   "outputs": [
    {
     "data": {
      "text/plain": [
       "<matplotlib.axes._subplots.AxesSubplot at 0x7f4fb740c910>"
      ]
     },
     "execution_count": 71,
     "metadata": {},
     "output_type": "execute_result"
    },
    {
     "data": {
      "image/png": "[encoded data removed]",
      "text/plain": [
       "<Figure size 432x288 with 1 Axes>"
      ]
     },
     "metadata": {
      "needs_background": "light"
     },
     "output_type": "display_data"
    }
   ],
   "source": [
    "data.last_review.hist(legend=True,bins=20)"
   ]
  },
  {
   "cell_type": "code",
   "execution_count": 72,
   "metadata": {
    "execution": {
     "iopub.execute_input": "2020-09-08T22:18:05.726657Z",
     "iopub.status.busy": "2020-09-08T22:18:05.725591Z",
     "iopub.status.idle": "2020-09-08T22:18:05.730617Z",
     "shell.execute_reply": "2020-09-08T22:18:05.729869Z"
    },
    "papermill": {
     "duration": 0.135029,
     "end_time": "2020-09-08T22:18:05.730745",
     "exception": false,
     "start_time": "2020-09-08T22:18:05.595716",
     "status": "completed"
    },
    "tags": []
   },
   "outputs": [],
   "source": [
    "data['last_review'] = data['last_review'].fillna(0)"
   ]
  },
  {
   "cell_type": "code",
   "execution_count": 73,
   "metadata": {
    "execution": {
     "iopub.execute_input": "2020-09-08T22:18:05.992975Z",
     "iopub.status.busy": "2020-09-08T22:18:05.991679Z",
     "iopub.status.idle": "2020-09-08T22:18:46.544143Z",
     "shell.execute_reply": "2020-09-08T22:18:46.544740Z"
    },
    "papermill": {
     "duration": 40.687949,
     "end_time": "2020-09-08T22:18:46.544919",
     "exception": false,
     "start_time": "2020-09-08T22:18:05.856970",
     "status": "completed"
    },
    "tags": []
   },
   "outputs": [
    {
     "data": {
      "text/html": [
       "<div>\n",
       "<style scoped>\n",
       "    .dataframe tbody tr th:only-of-type {\n",
       "        vertical-align: middle;\n",
       "    }\n",
       "\n",
       "    .dataframe tbody tr th {\n",
       "        vertical-align: top;\n",
       "    }\n",
       "\n",
       "    .dataframe thead th {\n",
       "        text-align: right;\n",
       "    }\n",
       "</style>\n",
       "<table border=\"1\" class=\"dataframe\">\n",
       "  <thead>\n",
       "    <tr style=\"text-align: right;\">\n",
       "      <th></th>\n",
       "      <th>between_reviews</th>\n",
       "      <th>Dates_count</th>\n",
       "      <th>Review_dates</th>\n",
       "    </tr>\n",
       "  </thead>\n",
       "  <tbody>\n",
       "    <tr>\n",
       "      <th>0</th>\n",
       "      <td>NaN</td>\n",
       "      <td>0</td>\n",
       "      <td>[]</td>\n",
       "    </tr>\n",
       "    <tr>\n",
       "      <th>1</th>\n",
       "      <td>37.0</td>\n",
       "      <td>2</td>\n",
       "      <td>[12/05/2017, 10/29/2017]</td>\n",
       "    </tr>\n",
       "    <tr>\n",
       "      <th>2</th>\n",
       "      <td>22.0</td>\n",
       "      <td>2</td>\n",
       "      <td>[12/28/2017, 12/06/2017]</td>\n",
       "    </tr>\n",
       "    <tr>\n",
       "      <th>3</th>\n",
       "      <td>14.0</td>\n",
       "      <td>2</td>\n",
       "      <td>[12/06/2017, 11/22/2017]</td>\n",
       "    </tr>\n",
       "    <tr>\n",
       "      <th>4</th>\n",
       "      <td>15.0</td>\n",
       "      <td>2</td>\n",
       "      <td>[02/08/2018, 01/24/2018]</td>\n",
       "    </tr>\n",
       "    <tr>\n",
       "      <th>...</th>\n",
       "      <td>...</td>\n",
       "      <td>...</td>\n",
       "      <td>...</td>\n",
       "    </tr>\n",
       "    <tr>\n",
       "      <th>49995</th>\n",
       "      <td>34.0</td>\n",
       "      <td>2</td>\n",
       "      <td>[12/16/2017, 11/12/2017]</td>\n",
       "    </tr>\n",
       "    <tr>\n",
       "      <th>49996</th>\n",
       "      <td>9.0</td>\n",
       "      <td>2</td>\n",
       "      <td>[12/21/2017, 12/12/2017]</td>\n",
       "    </tr>\n",
       "    <tr>\n",
       "      <th>49997</th>\n",
       "      <td>3127.0</td>\n",
       "      <td>2</td>\n",
       "      <td>[11/03/2016, 04/12/2008]</td>\n",
       "    </tr>\n",
       "    <tr>\n",
       "      <th>49998</th>\n",
       "      <td>23.0</td>\n",
       "      <td>2</td>\n",
       "      <td>[07/11/2017, 06/18/2017]</td>\n",
       "    </tr>\n",
       "    <tr>\n",
       "      <th>49999</th>\n",
       "      <td>1306.0</td>\n",
       "      <td>2</td>\n",
       "      <td>[01/31/2016, 07/04/2012]</td>\n",
       "    </tr>\n",
       "  </tbody>\n",
       "</table>\n",
       "<p>50000 rows × 3 columns</p>\n",
       "</div>"
      ],
      "text/plain": [
       "       between_reviews  Dates_count              Review_dates\n",
       "0                  NaN            0                        []\n",
       "1                 37.0            2  [12/05/2017, 10/29/2017]\n",
       "2                 22.0            2  [12/28/2017, 12/06/2017]\n",
       "3                 14.0            2  [12/06/2017, 11/22/2017]\n",
       "4                 15.0            2  [02/08/2018, 01/24/2018]\n",
       "...                ...          ...                       ...\n",
       "49995             34.0            2  [12/16/2017, 11/12/2017]\n",
       "49996              9.0            2  [12/21/2017, 12/12/2017]\n",
       "49997           3127.0            2  [11/03/2016, 04/12/2008]\n",
       "49998             23.0            2  [07/11/2017, 06/18/2017]\n",
       "49999           1306.0            2  [01/31/2016, 07/04/2012]\n",
       "\n",
       "[50000 rows x 3 columns]"
      ]
     },
     "execution_count": 73,
     "metadata": {},
     "output_type": "execute_result"
    }
   ],
   "source": [
    "def between_reviews(row):\n",
    "    if row['Review_dates'] == []:\n",
    "        return None\n",
    "    return (pd.to_datetime(row['Review_dates']).max() - pd.to_datetime(row['Review_dates']).min()).days\n",
    "\n",
    "data['between_reviews'] = data[data['Dates_count']==2].apply(between_reviews, axis = 1)\n",
    "\n",
    "data[['between_reviews','Dates_count','Review_dates']]"
   ]
  },
  {
   "cell_type": "code",
   "execution_count": 74,
   "metadata": {
    "execution": {
     "iopub.execute_input": "2020-09-08T22:18:46.825517Z",
     "iopub.status.busy": "2020-09-08T22:18:46.824705Z",
     "iopub.status.idle": "2020-09-08T22:18:46.841029Z",
     "shell.execute_reply": "2020-09-08T22:18:46.840034Z"
    },
    "papermill": {
     "duration": 0.156174,
     "end_time": "2020-09-08T22:18:46.841202",
     "exception": false,
     "start_time": "2020-09-08T22:18:46.685028",
     "status": "completed"
    },
    "tags": []
   },
   "outputs": [
    {
     "name": "stdout",
     "output_type": "stream",
     "text": [
      "min : 0.0 \n",
      " 25-й перцентиль: 20.0 \n",
      " медиана: 67.0 \n",
      " среднее: 142.54883168535602 \n",
      " max : 3296.0 \n",
      " 75-й перцентиль: 173.0 \n",
      " IQR: 153.0 \n",
      " Границы выбросов: [-209.5, 402.5].\n"
     ]
    }
   ],
   "source": [
    "num_value_analiz(data,'between_reviews')"
   ]
  },
  {
   "cell_type": "code",
   "execution_count": 75,
   "metadata": {
    "execution": {
     "iopub.execute_input": "2020-09-08T22:18:47.114219Z",
     "iopub.status.busy": "2020-09-08T22:18:47.113256Z",
     "iopub.status.idle": "2020-09-08T22:18:47.359208Z",
     "shell.execute_reply": "2020-09-08T22:18:47.358429Z"
    },
    "papermill": {
     "duration": 0.391164,
     "end_time": "2020-09-08T22:18:47.359336",
     "exception": false,
     "start_time": "2020-09-08T22:18:46.968172",
     "status": "completed"
    },
    "tags": []
   },
   "outputs": [
    {
     "data": {
      "text/plain": [
       "<matplotlib.axes._subplots.AxesSubplot at 0x7f4fb537fa10>"
      ]
     },
     "execution_count": 75,
     "metadata": {},
     "output_type": "execute_result"
    },
    {
     "data": {
      "image/png": "[encoded data removed]",
      "text/plain": [
       "<Figure size 432x288 with 1 Axes>"
      ]
     },
     "metadata": {
      "needs_background": "light"
     },
     "output_type": "display_data"
    }
   ],
   "source": [
    "data.between_reviews.hist(legend=True,bins=30)"
   ]
  },
  {
   "cell_type": "code",
   "execution_count": 76,
   "metadata": {
    "execution": {
     "iopub.execute_input": "2020-09-08T22:18:47.620320Z",
     "iopub.status.busy": "2020-09-08T22:18:47.619327Z",
     "iopub.status.idle": "2020-09-08T22:18:47.623809Z",
     "shell.execute_reply": "2020-09-08T22:18:47.623094Z"
    },
    "papermill": {
     "duration": 0.136868,
     "end_time": "2020-09-08T22:18:47.623950",
     "exception": false,
     "start_time": "2020-09-08T22:18:47.487082",
     "status": "completed"
    },
    "tags": []
   },
   "outputs": [],
   "source": [
    "data['between_reviews'] = data['between_reviews'].fillna(0)"
   ]
  },
  {
   "cell_type": "code",
   "execution_count": 77,
   "metadata": {
    "execution": {
     "iopub.execute_input": "2020-09-08T22:18:47.884701Z",
     "iopub.status.busy": "2020-09-08T22:18:47.883948Z",
     "iopub.status.idle": "2020-09-08T22:18:47.889373Z",
     "shell.execute_reply": "2020-09-08T22:18:47.888480Z"
    },
    "papermill": {
     "duration": 0.138192,
     "end_time": "2020-09-08T22:18:47.889497",
     "exception": false,
     "start_time": "2020-09-08T22:18:47.751305",
     "status": "completed"
    },
    "tags": []
   },
   "outputs": [],
   "source": [
    "data['single_review'] = (data['Dates_count']==1).astype('float64')"
   ]
  },
  {
   "cell_type": "code",
   "execution_count": 78,
   "metadata": {
    "execution": {
     "iopub.execute_input": "2020-09-08T22:18:48.157747Z",
     "iopub.status.busy": "2020-09-08T22:18:48.156472Z",
     "iopub.status.idle": "2020-09-08T22:18:48.349797Z",
     "shell.execute_reply": "2020-09-08T22:18:48.349186Z"
    },
    "papermill": {
     "duration": 0.330835,
     "end_time": "2020-09-08T22:18:48.349958",
     "exception": false,
     "start_time": "2020-09-08T22:18:48.019123",
     "status": "completed"
    },
    "tags": []
   },
   "outputs": [
    {
     "name": "stdout",
     "output_type": "stream",
     "text": [
      "пустых значений в колонке  single_review  :  0\n",
      "Значения в колонке:       single_review\n",
      "0.0          35444\n",
      "1.0           4556\n"
     ]
    },
    {
     "data": {
      "image/png": "[encoded data removed]",
      "text/plain": [
       "<Figure size 720x432 with 1 Axes>"
      ]
     },
     "metadata": {
      "needs_background": "light"
     },
     "output_type": "display_data"
    }
   ],
   "source": [
    "obj_describe(data[data['Sample']==1],'single_review')"
   ]
  },
  {
   "cell_type": "code",
   "execution_count": 79,
   "metadata": {
    "execution": {
     "iopub.execute_input": "2020-09-08T22:18:48.617998Z",
     "iopub.status.busy": "2020-09-08T22:18:48.617135Z",
     "iopub.status.idle": "2020-09-08T22:18:48.624722Z",
     "shell.execute_reply": "2020-09-08T22:18:48.625318Z"
    },
    "papermill": {
     "duration": 0.145725,
     "end_time": "2020-09-08T22:18:48.625503",
     "exception": false,
     "start_time": "2020-09-08T22:18:48.479778",
     "status": "completed"
    },
    "tags": []
   },
   "outputs": [],
   "source": [
    "data.drop(['Restaurant_id', 'City', 'Cuisine_style', 'Price_range', 'Reviews', 'URL_TA', 'ID_TA', 'Review_dates'], axis=1, inplace=True, errors='ignore')"
   ]
  },
  {
   "cell_type": "code",
   "execution_count": 80,
   "metadata": {
    "execution": {
     "iopub.execute_input": "2020-09-08T22:18:48.900372Z",
     "iopub.status.busy": "2020-09-08T22:18:48.896594Z",
     "iopub.status.idle": "2020-09-08T22:18:50.782401Z",
     "shell.execute_reply": "2020-09-08T22:18:50.783071Z"
    },
    "papermill": {
     "duration": 2.028333,
     "end_time": "2020-09-08T22:18:50.783268",
     "exception": false,
     "start_time": "2020-09-08T22:18:48.754935",
     "status": "completed"
    },
    "tags": []
   },
   "outputs": [
    {
     "name": "stdout",
     "output_type": "stream",
     "text": [
      "Не найдены статистически значимые различия для колонки Ranking\n",
      "Не найдены статистически значимые различия для колонки Number_of_reviews\n",
      "Найдены статистически значимые различия для колонки Rating\n",
      "Найдены статистически значимые различия для колонки Rating\n",
      "Найдены статистически значимые различия для колонки Rating\n",
      "Найдены статистически значимые различия для колонки Rating\n",
      "Найдены статистически значимые различия для колонки Rating\n",
      "Найдены статистически значимые различия для колонки Rating\n",
      "Найдены статистически значимые различия для колонки Rating\n",
      "Найдены статистически значимые различия для колонки Rating\n",
      "Найдены статистически значимые различия для колонки Rating\n",
      "Найдены статистически значимые различия для колонки Rating\n",
      "Найдены статистически значимые различия для колонки Rating\n",
      "Найдены статистически значимые различия для колонки Rating\n",
      "Найдены статистически значимые различия для колонки Rating\n",
      "Найдены статистически значимые различия для колонки Rating\n",
      "Найдены статистически значимые различия для колонки Rating\n",
      "Найдены статистически значимые различия для колонки Rating\n",
      "Найдены статистически значимые различия для колонки Rating\n",
      "Найдены статистически значимые различия для колонки Rating\n",
      "Найдены статистически значимые различия для колонки Rating\n",
      "Найдены статистически значимые различия для колонки Rating\n",
      "Найдены статистически значимые различия для колонки Rating\n",
      "Найдены статистически значимые различия для колонки Rating\n",
      "Найдены статистически значимые различия для колонки Rating\n",
      "Найдены статистически значимые различия для колонки Rating\n",
      "Найдены статистически значимые различия для колонки Rating\n",
      "Найдены статистически значимые различия для колонки Rating\n",
      "Найдены статистически значимые различия для колонки Rating\n",
      "Найдены статистически значимые различия для колонки Rating\n",
      "Найдены статистически значимые различия для колонки Rating\n",
      "Найдены статистически значимые различия для колонки Rating\n",
      "Найдены статистически значимые различия для колонки Rating\n",
      "Найдены статистически значимые различия для колонки Rating\n",
      "Найдены статистически значимые различия для колонки Rating\n",
      "Найдены статистически значимые различия для колонки Rating\n",
      "Найдены статистически значимые различия для колонки Rating\n",
      "Найдены статистически значимые различия для колонки Rating\n",
      "Найдены статистически значимые различия для колонки Franchise\n",
      "Найдены статистически значимые различия для колонки No_Price\n",
      "Найдены статистически значимые различия для колонки Price_value\n",
      "Найдены статистически значимые различия для колонки Price_value\n",
      "Найдены статистически значимые различия для колонки Price_value\n",
      "Не найдены статистически значимые различия для колонки City_rest\n",
      "Не найдены статистически значимые различия для колонки mean_City_rank\n",
      "Найдены статистически значимые различия для колонки norming_rank\n",
      "Не найдены статистически значимые различия для колонки norming_rank\n",
      "Найдены статистически значимые различия для колонки City_amsterdam\n",
      "Найдены статистически значимые различия для колонки City_athens\n",
      "Найдены статистически значимые различия для колонки City_barcelona\n",
      "Найдены статистически значимые различия для колонки City_berlin\n",
      "Не найдены статистически значимые различия для колонки City_bratislava\n",
      "Найдены статистически значимые различия для колонки City_brussels\n",
      "Найдены статистически значимые различия для колонки City_budapest\n",
      "Не найдены статистически значимые различия для колонки City_copenhagen\n",
      "Найдены статистически значимые различия для колонки City_dublin\n",
      "Найдены статистически значимые различия для колонки City_edinburgh\n",
      "Не найдены статистически значимые различия для колонки City_geneva\n",
      "Не найдены статистически значимые различия для колонки City_hamburg\n",
      "Не найдены статистически значимые различия для колонки City_helsinki\n",
      "Найдены статистически значимые различия для колонки City_krakow\n",
      "Найдены статистически значимые различия для колонки City_lisbon\n",
      "Найдены статистически значимые различия для колонки City_ljubljana\n",
      "Найдены статистически значимые различия для колонки City_london\n",
      "Не найдены статистически значимые различия для колонки City_luxembourg\n",
      "Найдены статистически значимые различия для колонки City_lyon\n",
      "Найдены статистически значимые различия для колонки City_madrid\n",
      "Найдены статистически значимые различия для колонки City_milan\n",
      "Найдены статистически значимые различия для колонки City_munich\n",
      "Найдены статистически значимые различия для колонки City_oporto\n",
      "Найдены статистически значимые различия для колонки City_oslo\n",
      "Найдены статистически значимые различия для колонки City_paris\n",
      "Найдены статистически значимые различия для колонки City_prague\n",
      "Найдены статистически значимые различия для колонки City_rome\n",
      "Найдены статистически значимые различия для колонки City_stockholm\n",
      "Найдены статистически значимые различия для колонки City_vienna\n",
      "Найдены статистически значимые различия для колонки City_warsaw\n",
      "Не найдены статистически значимые различия для колонки City_zurich\n",
      "Найдены статистически значимые различия для колонки No_Cuisine_style\n",
      "Не найдены статистически значимые различия для колонки Cuisine_quant\n",
      "Найдены статистически значимые различия для колонки No_reviews\n",
      "Найдены статистически значимые различия для колонки Dates_count\n",
      "Не найдены статистически значимые различия для колонки Dates_count\n",
      "Найдены статистически значимые различия для колонки last_review\n",
      "Найдены статистически значимые различия для колонки last_review\n",
      "Найдены статистически значимые различия для колонки last_review\n",
      "Найдены статистически значимые различия для колонки last_review\n",
      "Найдены статистически значимые различия для колонки last_review\n",
      "Найдены статистически значимые различия для колонки last_review\n",
      "Не найдены статистически значимые различия для колонки last_review\n",
      "Найдены статистически значимые различия для колонки between_reviews\n",
      "Найдены статистически значимые различия для колонки between_reviews\n",
      "Найдены статистически значимые различия для колонки between_reviews\n",
      "Найдены статистически значимые различия для колонки between_reviews\n",
      "Найдены статистически значимые различия для колонки between_reviews\n",
      "Найдены статистически значимые различия для колонки between_reviews\n",
      "Не найдены статистически значимые различия для колонки between_reviews\n",
      "Не найдены статистически значимые различия для колонки single_review\n"
     ]
    }
   ],
   "source": [
    "data_new=data.copy()\n",
    "def get_stat_dif(column):\n",
    "    cols = data[data['Sample']==1].loc[:, column].value_counts().index[:10]\n",
    "    combinations_all = list(combinations(cols, 2))\n",
    "    for comb in combinations_all:\n",
    "        if ttest_ind(data[data['Sample']==1].loc[data_new.loc[:, column] == comb[0], 'Rating'],\n",
    "                     data[data['Sample']==1].loc[data_new.loc[:, column] == comb[1], 'Rating']).pvalue \\\n",
    "                <= 0.05/len(combinations_all):  # Учли поправку Бонферони\n",
    "            print('Найдены статистически значимые различия для колонки', column)\n",
    "        else:\n",
    "            print('Не найдены статистически значимые различия для колонки', column)\n",
    "            break\n",
    "\n",
    "            \n",
    "for col in data_new.columns.tolist():\n",
    "     get_stat_dif(col)"
   ]
  },
  {
   "cell_type": "code",
   "execution_count": 81,
   "metadata": {
    "execution": {
     "iopub.execute_input": "2020-09-08T22:18:51.064742Z",
     "iopub.status.busy": "2020-09-08T22:18:51.063599Z",
     "iopub.status.idle": "2020-09-08T22:18:51.102676Z",
     "shell.execute_reply": "2020-09-08T22:18:51.101232Z"
    },
    "papermill": {
     "duration": 0.183467,
     "end_time": "2020-09-08T22:18:51.102891",
     "exception": false,
     "start_time": "2020-09-08T22:18:50.919424",
     "status": "completed"
    },
    "tags": []
   },
   "outputs": [
    {
     "name": "stdout",
     "output_type": "stream",
     "text": [
      "<class 'pandas.core.frame.DataFrame'>\n",
      "RangeIndex: 50000 entries, 0 to 49999\n",
      "Data columns (total 32 columns):\n",
      " #   Column             Non-Null Count  Dtype  \n",
      "---  ------             --------------  -----  \n",
      " 0   Ranking            50000 non-null  float64\n",
      " 1   Number_of_reviews  50000 non-null  float64\n",
      " 2   Sample             50000 non-null  int64  \n",
      " 3   Rating             50000 non-null  float64\n",
      " 4   No_Price           50000 non-null  int64  \n",
      " 5   norming_rank       50000 non-null  float64\n",
      " 6   City_amsterdam     50000 non-null  uint8  \n",
      " 7   City_athens        50000 non-null  uint8  \n",
      " 8   City_barcelona     50000 non-null  uint8  \n",
      " 9   City_berlin        50000 non-null  uint8  \n",
      " 10  City_brussels      50000 non-null  uint8  \n",
      " 11  City_budapest      50000 non-null  uint8  \n",
      " 12  City_dublin        50000 non-null  uint8  \n",
      " 13  City_edinburgh     50000 non-null  uint8  \n",
      " 14  City_krakow        50000 non-null  uint8  \n",
      " 15  City_lisbon        50000 non-null  uint8  \n",
      " 16  City_ljubljana     50000 non-null  uint8  \n",
      " 17  City_lyon          50000 non-null  uint8  \n",
      " 18  City_madrid        50000 non-null  uint8  \n",
      " 19  City_milan         50000 non-null  uint8  \n",
      " 20  City_munich        50000 non-null  uint8  \n",
      " 21  City_oporto        50000 non-null  uint8  \n",
      " 22  City_oslo          50000 non-null  uint8  \n",
      " 23  City_prague        50000 non-null  uint8  \n",
      " 24  City_rome          50000 non-null  uint8  \n",
      " 25  City_stockholm     50000 non-null  uint8  \n",
      " 26  City_vienna        50000 non-null  uint8  \n",
      " 27  City_warsaw        50000 non-null  uint8  \n",
      " 28  last_review        50000 non-null  float64\n",
      " 29  between_reviews    50000 non-null  float64\n",
      " 30  Price_value_1.0    50000 non-null  uint8  \n",
      " 31  Price_value_2.0    50000 non-null  uint8  \n",
      "dtypes: float64(6), int64(2), uint8(24)\n",
      "memory usage: 4.2 MB\n"
     ]
    }
   ],
   "source": [
    "data_new=data.copy()\n",
    "data_new = pd.get_dummies(data_new, columns=[ 'Price_value',], dummy_na=False)\n",
    "data_new.drop(['Price_value_3.0','No_reviews','Franchise','No_Cuisine_style','City_rest','mean_City_rank','Cuisine_quant','Dates_count','single_review','City_nan','City_paris','City_london','City_helsinki','City_hamburg','City_zurich','City_geneva','City_luxembourg','City_bratislava','City_copenhagen'], axis=1, inplace=True, errors='ignore')\n",
    "data_new.columns\n",
    "columns_list=data_new.columns.tolist()\n",
    "data_new.info()"
   ]
  },
  {
   "cell_type": "code",
   "execution_count": 82,
   "metadata": {
    "execution": {
     "iopub.execute_input": "2020-09-08T22:18:51.384904Z",
     "iopub.status.busy": "2020-09-08T22:18:51.383610Z",
     "iopub.status.idle": "2020-09-08T22:18:52.263678Z",
     "shell.execute_reply": "2020-09-08T22:18:52.263054Z"
    },
    "papermill": {
     "duration": 1.022633,
     "end_time": "2020-09-08T22:18:52.263799",
     "exception": false,
     "start_time": "2020-09-08T22:18:51.241166",
     "status": "completed"
    },
    "tags": []
   },
   "outputs": [
    {
     "data": {
      "text/plain": [
       "<matplotlib.axes._subplots.AxesSubplot at 0x7f4fb6883f90>"
      ]
     },
     "execution_count": 82,
     "metadata": {},
     "output_type": "execute_result"
    },
    {
     "data": {
      "image/png": "[encoded data removed]",
      "text/plain": [
       "<Figure size 1152x792 with 2 Axes>"
      ]
     },
     "metadata": {
      "needs_background": "light"
     },
     "output_type": "display_data"
    }
   ],
   "source": [
    "plt.rcParams['figure.figsize'] = (16,11)\n",
    "sns.heatmap(data_new.drop(['Sample','Rating'], axis=1).corr(),)"
   ]
  },
  {
   "cell_type": "code",
   "execution_count": 83,
   "metadata": {
    "execution": {
     "iopub.execute_input": "2020-09-08T22:18:52.549555Z",
     "iopub.status.busy": "2020-09-08T22:18:52.548738Z",
     "iopub.status.idle": "2020-09-08T22:18:52.845363Z",
     "shell.execute_reply": "2020-09-08T22:18:52.845970Z"
    },
    "papermill": {
     "duration": 0.444674,
     "end_time": "2020-09-08T22:18:52.846177",
     "exception": false,
     "start_time": "2020-09-08T22:18:52.401503",
     "status": "completed"
    },
    "tags": []
   },
   "outputs": [],
   "source": [
    "# стандартизируем все столбцы кроме целевой и Sample\n",
    "for i  in list(data_new.columns):\n",
    "    if i not in ['Rating','Sample']:\n",
    "        scaler = StandardScaler()\n",
    "        scaler.fit(data_new[[i ]])\n",
    "        data_new[i] = scaler.transform(data_new[[i]])\n"
   ]
  },
  {
   "cell_type": "code",
   "execution_count": 84,
   "metadata": {
    "execution": {
     "iopub.execute_input": "2020-09-08T22:18:53.134273Z",
     "iopub.status.busy": "2020-09-08T22:18:53.133485Z",
     "iopub.status.idle": "2020-09-08T22:18:53.167763Z",
     "shell.execute_reply": "2020-09-08T22:18:53.166989Z"
    },
    "papermill": {
     "duration": 0.182152,
     "end_time": "2020-09-08T22:18:53.167908",
     "exception": false,
     "start_time": "2020-09-08T22:18:52.985756",
     "status": "completed"
    },
    "tags": []
   },
   "outputs": [],
   "source": [
    "train_data = data_new.query('Sample == 1').drop(['Sample'], axis=1)\n",
    "test_data = data_new.query('Sample == 0').drop(['Sample'], axis=1)\n",
    "\n",
    "y = train_data.Rating.values            # наш таргет\n",
    "X = train_data.drop(['Rating'], axis=1)"
   ]
  },
  {
   "cell_type": "code",
   "execution_count": 85,
   "metadata": {
    "execution": {
     "iopub.execute_input": "2020-09-08T22:18:53.455248Z",
     "iopub.status.busy": "2020-09-08T22:18:53.454468Z",
     "iopub.status.idle": "2020-09-08T22:18:53.470455Z",
     "shell.execute_reply": "2020-09-08T22:18:53.469775Z"
    },
    "papermill": {
     "duration": 0.162878,
     "end_time": "2020-09-08T22:18:53.470581",
     "exception": false,
     "start_time": "2020-09-08T22:18:53.307703",
     "status": "completed"
    },
    "tags": []
   },
   "outputs": [],
   "source": [
    "X_train, X_test, y_train, y_test = train_test_split(X, y, test_size=0.2, random_state=RANDOM_SEED)"
   ]
  },
  {
   "cell_type": "code",
   "execution_count": 86,
   "metadata": {
    "execution": {
     "iopub.execute_input": "2020-09-08T22:18:53.752306Z",
     "iopub.status.busy": "2020-09-08T22:18:53.751449Z",
     "iopub.status.idle": "2020-09-08T22:18:53.756398Z",
     "shell.execute_reply": "2020-09-08T22:18:53.755631Z"
    },
    "papermill": {
     "duration": 0.148495,
     "end_time": "2020-09-08T22:18:53.756531",
     "exception": false,
     "start_time": "2020-09-08T22:18:53.608036",
     "status": "completed"
    },
    "tags": []
   },
   "outputs": [
    {
     "data": {
      "text/plain": [
       "((10000, 31), (40000, 31), (40000, 30), (32000, 30), (8000, 30))"
      ]
     },
     "execution_count": 86,
     "metadata": {},
     "output_type": "execute_result"
    }
   ],
   "source": [
    "test_data.shape, train_data.shape, X.shape, X_train.shape, X_test.shape"
   ]
  },
  {
   "cell_type": "code",
   "execution_count": 87,
   "metadata": {
    "execution": {
     "iopub.execute_input": "2020-09-08T22:18:54.043985Z",
     "iopub.status.busy": "2020-09-08T22:18:54.043130Z",
     "iopub.status.idle": "2020-09-08T22:18:54.046701Z",
     "shell.execute_reply": "2020-09-08T22:18:54.045962Z"
    },
    "papermill": {
     "duration": 0.152051,
     "end_time": "2020-09-08T22:18:54.046852",
     "exception": false,
     "start_time": "2020-09-08T22:18:53.894801",
     "status": "completed"
    },
    "tags": []
   },
   "outputs": [],
   "source": [
    "model = RandomForestRegressor(n_estimators=100, verbose=1, n_jobs=-1, random_state=RANDOM_SEED)"
   ]
  },
  {
   "cell_type": "code",
   "execution_count": 88,
   "metadata": {
    "execution": {
     "iopub.execute_input": "2020-09-08T22:18:54.335659Z",
     "iopub.status.busy": "2020-09-08T22:18:54.334806Z",
     "iopub.status.idle": "2020-09-08T22:19:01.740632Z",
     "shell.execute_reply": "2020-09-08T22:19:01.739970Z"
    },
    "papermill": {
     "duration": 7.554452,
     "end_time": "2020-09-08T22:19:01.740770",
     "exception": false,
     "start_time": "2020-09-08T22:18:54.186318",
     "status": "completed"
    },
    "tags": []
   },
   "outputs": [
    {
     "name": "stderr",
     "output_type": "stream",
     "text": [
      "[Parallel(n_jobs=-1)]: Using backend ThreadingBackend with 4 concurrent workers.\n",
      "[Parallel(n_jobs=-1)]: Done  42 tasks      | elapsed:    3.2s\n",
      "[Parallel(n_jobs=-1)]: Done 100 out of 100 | elapsed:    7.2s finished\n",
      "[Parallel(n_jobs=4)]: Using backend ThreadingBackend with 4 concurrent workers.\n",
      "[Parallel(n_jobs=4)]: Done  42 tasks      | elapsed:    0.0s\n",
      "[Parallel(n_jobs=4)]: Done 100 out of 100 | elapsed:    0.1s finished\n"
     ]
    }
   ],
   "source": [
    "\n",
    "model.fit(X_train, y_train)\n",
    "\n",
    "y_pred = model.predict(X_test)"
   ]
  },
  {
   "cell_type": "code",
   "execution_count": 89,
   "metadata": {
    "execution": {
     "iopub.execute_input": "2020-09-08T22:19:02.031663Z",
     "iopub.status.busy": "2020-09-08T22:19:02.030469Z",
     "iopub.status.idle": "2020-09-08T22:19:02.035345Z",
     "shell.execute_reply": "2020-09-08T22:19:02.034529Z"
    },
    "papermill": {
     "duration": 0.152994,
     "end_time": "2020-09-08T22:19:02.035477",
     "exception": false,
     "start_time": "2020-09-08T22:19:01.882483",
     "status": "completed"
    },
    "tags": []
   },
   "outputs": [
    {
     "name": "stdout",
     "output_type": "stream",
     "text": [
      "MAE: 0.204731875\n"
     ]
    }
   ],
   "source": [
    "print('MAE:', metrics.mean_absolute_error(y_test, y_pred))"
   ]
  },
  {
   "cell_type": "code",
   "execution_count": 90,
   "metadata": {
    "execution": {
     "iopub.execute_input": "2020-09-08T22:19:02.328695Z",
     "iopub.status.busy": "2020-09-08T22:19:02.327605Z",
     "iopub.status.idle": "2020-09-08T22:19:02.696514Z",
     "shell.execute_reply": "2020-09-08T22:19:02.695722Z"
    },
    "papermill": {
     "duration": 0.519972,
     "end_time": "2020-09-08T22:19:02.696648",
     "exception": false,
     "start_time": "2020-09-08T22:19:02.176676",
     "status": "completed"
    },
    "tags": []
   },
   "outputs": [
    {
     "data": {
      "text/plain": [
       "<matplotlib.axes._subplots.AxesSubplot at 0x7f4fb6a4cbd0>"
      ]
     },
     "execution_count": 90,
     "metadata": {},
     "output_type": "execute_result"
    },
    {
     "data": {
      "image/png": "[encoded data removed]",
      "text/plain": [
       "<Figure size 720x720 with 1 Axes>"
      ]
     },
     "metadata": {
      "needs_background": "light"
     },
     "output_type": "display_data"
    }
   ],
   "source": [
    "plt.rcParams['figure.figsize'] = (10,10)\n",
    "feat_importances = pd.Series(model.feature_importances_, index=X.columns)\n",
    "feat_importances.nlargest(20).plot(kind='barh')"
   ]
  },
  {
   "cell_type": "markdown",
   "metadata": {
    "papermill": {
     "duration": 0.17726,
     "end_time": "2020-09-08T22:19:03.017747",
     "exception": false,
     "start_time": "2020-09-08T22:19:02.840487",
     "status": "completed"
    },
    "tags": []
   },
   "source": [
    "# Submission"
   ]
  },
  {
   "cell_type": "code",
   "execution_count": 91,
   "metadata": {
    "execution": {
     "iopub.execute_input": "2020-09-08T22:19:03.319255Z",
     "iopub.status.busy": "2020-09-08T22:19:03.315700Z",
     "iopub.status.idle": "2020-09-08T22:19:03.348521Z",
     "shell.execute_reply": "2020-09-08T22:19:03.347719Z"
    },
    "papermill": {
     "duration": 0.185994,
     "end_time": "2020-09-08T22:19:03.348650",
     "exception": false,
     "start_time": "2020-09-08T22:19:03.162656",
     "status": "completed"
    },
    "tags": []
   },
   "outputs": [],
   "source": [
    "train_data = data_new.query('Sample == 1').drop(['Sample'], axis=1)\n",
    "test_data = data_new.query('Sample == 0').drop(['Sample','Rating'], axis=1)\n",
    "y = train_data.Rating.values            # наш таргет\n",
    "X = train_data.drop(['Rating'], axis=1)"
   ]
  },
  {
   "cell_type": "code",
   "execution_count": 92,
   "metadata": {
    "execution": {
     "iopub.execute_input": "2020-09-08T22:19:03.643817Z",
     "iopub.status.busy": "2020-09-08T22:19:03.642880Z",
     "iopub.status.idle": "2020-09-08T22:19:03.647312Z",
     "shell.execute_reply": "2020-09-08T22:19:03.646587Z"
    },
    "papermill": {
     "duration": 0.154979,
     "end_time": "2020-09-08T22:19:03.647444",
     "exception": false,
     "start_time": "2020-09-08T22:19:03.492465",
     "status": "completed"
    },
    "tags": []
   },
   "outputs": [
    {
     "data": {
      "text/plain": [
       "((10000, 2), (10000, 30), (40000, 30), (40000,))"
      ]
     },
     "execution_count": 92,
     "metadata": {},
     "output_type": "execute_result"
    }
   ],
   "source": [
    "sample_submission.shape, test_data.shape, X.shape, y.shape"
   ]
  },
  {
   "cell_type": "code",
   "execution_count": 93,
   "metadata": {
    "execution": {
     "iopub.execute_input": "2020-09-08T22:19:03.947253Z",
     "iopub.status.busy": "2020-09-08T22:19:03.946406Z",
     "iopub.status.idle": "2020-09-08T22:19:13.659447Z",
     "shell.execute_reply": "2020-09-08T22:19:13.658664Z"
    },
    "papermill": {
     "duration": 9.869536,
     "end_time": "2020-09-08T22:19:13.659574",
     "exception": false,
     "start_time": "2020-09-08T22:19:03.790038",
     "status": "completed"
    },
    "tags": []
   },
   "outputs": [
    {
     "name": "stderr",
     "output_type": "stream",
     "text": [
      "[Parallel(n_jobs=-1)]: Using backend ThreadingBackend with 4 concurrent workers.\n",
      "[Parallel(n_jobs=-1)]: Done  42 tasks      | elapsed:    4.1s\n",
      "[Parallel(n_jobs=-1)]: Done 100 out of 100 | elapsed:    9.5s finished\n"
     ]
    },
    {
     "data": {
      "text/plain": [
       "RandomForestRegressor(n_jobs=-1, random_state=42, verbose=1)"
      ]
     },
     "execution_count": 93,
     "metadata": {},
     "output_type": "execute_result"
    }
   ],
   "source": [
    "model.fit(X, y)"
   ]
  },
  {
   "cell_type": "code",
   "execution_count": 94,
   "metadata": {
    "execution": {
     "iopub.execute_input": "2020-09-08T22:19:13.988474Z",
     "iopub.status.busy": "2020-09-08T22:19:13.987558Z",
     "iopub.status.idle": "2020-09-08T22:19:14.198086Z",
     "shell.execute_reply": "2020-09-08T22:19:14.196226Z"
    },
    "papermill": {
     "duration": 0.394105,
     "end_time": "2020-09-08T22:19:14.198321",
     "exception": false,
     "start_time": "2020-09-08T22:19:13.804216",
     "status": "completed"
    },
    "tags": []
   },
   "outputs": [
    {
     "name": "stderr",
     "output_type": "stream",
     "text": [
      "[Parallel(n_jobs=4)]: Using backend ThreadingBackend with 4 concurrent workers.\n",
      "[Parallel(n_jobs=4)]: Done  42 tasks      | elapsed:    0.1s\n",
      "[Parallel(n_jobs=4)]: Done 100 out of 100 | elapsed:    0.1s finished\n"
     ]
    }
   ],
   "source": [
    "predict_submission = model.predict(test_data)"
   ]
  },
  {
   "cell_type": "code",
   "execution_count": 95,
   "metadata": {
    "execution": {
     "iopub.execute_input": "2020-09-08T22:19:14.496551Z",
     "iopub.status.busy": "2020-09-08T22:19:14.495651Z",
     "iopub.status.idle": "2020-09-08T22:19:14.500397Z",
     "shell.execute_reply": "2020-09-08T22:19:14.499636Z"
    },
    "papermill": {
     "duration": 0.154892,
     "end_time": "2020-09-08T22:19:14.500520",
     "exception": false,
     "start_time": "2020-09-08T22:19:14.345628",
     "status": "completed"
    },
    "tags": []
   },
   "outputs": [
    {
     "data": {
      "text/plain": [
       "array([3.215, 4.335, 4.46 , ..., 3.025, 4.08 , 4.335])"
      ]
     },
     "execution_count": 95,
     "metadata": {},
     "output_type": "execute_result"
    }
   ],
   "source": [
    "predict_submission"
   ]
  },
  {
   "cell_type": "code",
   "execution_count": 96,
   "metadata": {
    "execution": {
     "iopub.execute_input": "2020-09-08T22:19:14.794158Z",
     "iopub.status.busy": "2020-09-08T22:19:14.793336Z",
     "iopub.status.idle": "2020-09-08T22:19:15.164504Z",
     "shell.execute_reply": "2020-09-08T22:19:15.163875Z"
    },
    "papermill": {
     "duration": 0.519503,
     "end_time": "2020-09-08T22:19:15.164635",
     "exception": false,
     "start_time": "2020-09-08T22:19:14.645132",
     "status": "completed"
    },
    "tags": []
   },
   "outputs": [
    {
     "data": {
      "text/html": [
       "<div>\n",
       "<style scoped>\n",
       "    .dataframe tbody tr th:only-of-type {\n",
       "        vertical-align: middle;\n",
       "    }\n",
       "\n",
       "    .dataframe tbody tr th {\n",
       "        vertical-align: top;\n",
       "    }\n",
       "\n",
       "    .dataframe thead th {\n",
       "        text-align: right;\n",
       "    }\n",
       "</style>\n",
       "<table border=\"1\" class=\"dataframe\">\n",
       "  <thead>\n",
       "    <tr style=\"text-align: right;\">\n",
       "      <th></th>\n",
       "      <th>Restaurant_id</th>\n",
       "      <th>Rating</th>\n",
       "    </tr>\n",
       "  </thead>\n",
       "  <tbody>\n",
       "    <tr>\n",
       "      <th>0</th>\n",
       "      <td>id_0</td>\n",
       "      <td>3.215</td>\n",
       "    </tr>\n",
       "    <tr>\n",
       "      <th>1</th>\n",
       "      <td>id_1</td>\n",
       "      <td>4.335</td>\n",
       "    </tr>\n",
       "    <tr>\n",
       "      <th>2</th>\n",
       "      <td>id_2</td>\n",
       "      <td>4.460</td>\n",
       "    </tr>\n",
       "    <tr>\n",
       "      <th>3</th>\n",
       "      <td>id_3</td>\n",
       "      <td>4.240</td>\n",
       "    </tr>\n",
       "    <tr>\n",
       "      <th>4</th>\n",
       "      <td>id_4</td>\n",
       "      <td>4.505</td>\n",
       "    </tr>\n",
       "    <tr>\n",
       "      <th>5</th>\n",
       "      <td>id_5</td>\n",
       "      <td>4.315</td>\n",
       "    </tr>\n",
       "    <tr>\n",
       "      <th>6</th>\n",
       "      <td>id_6</td>\n",
       "      <td>1.475</td>\n",
       "    </tr>\n",
       "    <tr>\n",
       "      <th>7</th>\n",
       "      <td>id_7</td>\n",
       "      <td>2.570</td>\n",
       "    </tr>\n",
       "    <tr>\n",
       "      <th>8</th>\n",
       "      <td>id_8</td>\n",
       "      <td>4.045</td>\n",
       "    </tr>\n",
       "    <tr>\n",
       "      <th>9</th>\n",
       "      <td>id_9</td>\n",
       "      <td>4.615</td>\n",
       "    </tr>\n",
       "  </tbody>\n",
       "</table>\n",
       "</div>"
      ],
      "text/plain": [
       "  Restaurant_id  Rating\n",
       "0          id_0   3.215\n",
       "1          id_1   4.335\n",
       "2          id_2   4.460\n",
       "3          id_3   4.240\n",
       "4          id_4   4.505\n",
       "5          id_5   4.315\n",
       "6          id_6   1.475\n",
       "7          id_7   2.570\n",
       "8          id_8   4.045\n",
       "9          id_9   4.615"
      ]
     },
     "execution_count": 96,
     "metadata": {},
     "output_type": "execute_result"
    }
   ],
   "source": [
    "sample_submission['Rating'] = predict_submission\n",
    "sample_submission.to_csv('submission.csv', index=False)\n",
    "sample_submission.head(10)"
   ]
  },
  {
   "cell_type": "code",
   "execution_count": 97,
   "metadata": {
    "execution": {
     "iopub.execute_input": "2020-09-08T22:19:15.461614Z",
     "iopub.status.busy": "2020-09-08T22:19:15.460681Z",
     "iopub.status.idle": "2020-09-08T22:19:15.464757Z",
     "shell.execute_reply": "2020-09-08T22:19:15.465312Z"
    },
    "papermill": {
     "duration": 0.154701,
     "end_time": "2020-09-08T22:19:15.465475",
     "exception": false,
     "start_time": "2020-09-08T22:19:15.310774",
     "status": "completed"
    },
    "tags": []
   },
   "outputs": [
    {
     "ename": "SyntaxError",
     "evalue": "invalid syntax (<ipython-input-97-e81183ab69f8>, line 1)",
     "output_type": "error",
     "traceback": [
      "\u001b[0;36m  File \u001b[0;32m\"<ipython-input-97-e81183ab69f8>\"\u001b[0;36m, line \u001b[0;32m1\u001b[0m\n\u001b[0;31m    kaggle competitions submit -c sf-dst-restaurant-rating -f submission.csv -m \"Message\"\u001b[0m\n\u001b[0m                      ^\u001b[0m\n\u001b[0;31mSyntaxError\u001b[0m\u001b[0;31m:\u001b[0m invalid syntax\n"
     ]
    }
   ],
   "source": [
    "kaggle competitions submit -c sf-dst-restaurant-rating -f submission.csv -m \"Message\""
   ]
  },
  {
   "cell_type": "code",
   "execution_count": null,
   "metadata": {
    "papermill": {
     "duration": 0.143235,
     "end_time": "2020-09-08T22:19:15.752474",
     "exception": false,
     "start_time": "2020-09-08T22:19:15.609239",
     "status": "completed"
    },
    "tags": []
   },
   "outputs": [],
   "source": []
  }
 ],
 "metadata": {
  "kernelspec": {
   "display_name": "Python 3",
   "language": "python",
   "name": "python3"
  },
  "language_info": {
   "codemirror_mode": {
    "name": "ipython",
    "version": 3
   },
   "file_extension": ".py",
   "mimetype": "text/x-python",
   "name": "python",
   "nbconvert_exporter": "python",
   "pygments_lexer": "ipython3",
   "version": "3.7.7"
  },
  "papermill": {
   "duration": 142.116589,
   "end_time": "2020-09-08T22:19:16.005630",
   "environment_variables": {},
   "exception": null,
   "input_path": "__notebook__.ipynb",
   "output_path": "__notebook__.ipynb",
   "parameters": {},
   "start_time": "2020-09-08T22:16:53.889041",
   "version": "2.1.0"
  }
 },
 "nbformat": 4,
 "nbformat_minor": 4
}
