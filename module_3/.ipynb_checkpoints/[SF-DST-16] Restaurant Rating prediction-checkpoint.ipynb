{
 "cells": [
  {
   "cell_type": "markdown",
   "metadata": {},
   "source": [
    "# Restaurant Rating prediction\n"
   ]
  },
  {
   "cell_type": "markdown",
   "metadata": {},
   "source": [
    "По ходу задачи:\n",
    "\n",
    "Прокачаем работу с pandas\n",
    "Научимся работать с Kaggle Notebooks\n",
    "Поймем как делать предобработку различных данных\n",
    "Научимся работать с пропущенными данными (Nan)\n",
    "Познакомимся с различными видами кодирования признаков\n",
    "Немного попробуем Feature Engineering (генерировать новые признаки)\n",
    "И совсем немного затронем ML\n",
    "И многое другое...\n",
    "И самое важное, все это вы сможете сделать самостоятельно!\n",
    "Этот Ноутбук являетсся Примером/Шаблоном к этому соревнованию (Baseline) и не служит готовым решением!\n",
    "Вы можете использовать его как основу для построения своего решения.\n",
    "\n",
    "что такое baseline решение, зачем оно нужно и почему предоставлять baseline к соревнованию стало важным стандартом на kaggle и других площадках.\n",
    "baseline создается больше как шаблон, где можно посмотреть как происходит обращение с входящими данными и что нужно получить на выходе. При этом МЛ начинка может быть достаточно простой, просто для примера. Это помогает быстрее приступить к самому МЛ, а не тратить ценное время на чисто инженерные задачи. Также baseline являеться хорошей опорной точкой по метрике. Если твое решение хуже baseline - ты явно делаешь что-то не то и стоит попробовать другой путь)\n",
    "\n",
    "В контексте нашего соревнования baseline идет с небольшими примерами того, что можно делать с данными, и с инструкцией, что делать дальше, чтобы улучшить результат. Вообще готовым решением это сложно назвать, так как используются всего 2 самых простых признака (а остальные исключаются)."
   ]
  },
  {
   "cell_type": "markdown",
   "metadata": {},
   "source": [
    "# IMPORT"
   ]
  },
  {
   "cell_type": "code",
   "execution_count": 1,
   "metadata": {},
   "outputs": [],
   "source": [
    "import os\n",
    "from sklearn.model_selection import train_test_split\n",
    "from sklearn import metrics  # инструменты для оценки точности модели\n",
    "# инструмент для создания и обучения модели\n",
    "from sklearn.ensemble import RandomForestRegressor\n",
    "from scipy.stats import lognorm\n",
    "import re\n",
    "from scipy.stats import ttest_ind\n",
    "from itertools import combinations\n",
    "from sklearn.preprocessing import StandardScaler\n",
    "import numpy as np  # linear algebra\n",
    "import pandas as pd  # data processing, CSV file I/O (e.g. pd.read_csv)\n",
    "\n",
    "import matplotlib.pyplot as plt\n",
    "import seaborn as sns\n",
    "%matplotlib inline\n",
    "\n",
    "\n",
    "# Импортируем необходимые библиотеки:\n",
    "\n",
    "# Загружаем специальный удобный инструмент для разделения датасета:\n",
    "\n",
    "for dirname, _, filenames in os.walk('/kaggle/input'):\n",
    "    for filename in filenames:\n",
    "        print(os.path.join(dirname, filename))"
   ]
  },
  {
   "cell_type": "code",
   "execution_count": 2,
   "metadata": {},
   "outputs": [],
   "source": [
    "# всегда фиксируйте RANDOM_SEED, чтобы ваши эксперименты были воспроизводимы!\n",
    "RANDOM_SEED = 42"
   ]
  },
  {
   "cell_type": "code",
   "execution_count": 3,
   "metadata": {},
   "outputs": [],
   "source": [
    "# зафиксируем версию пакетов, чтобы эксперименты были воспроизводимы:\n",
    "!pip freeze > requirements.txt"
   ]
  },
  {
   "cell_type": "markdown",
   "metadata": {},
   "source": [
    "# Data"
   ]
  },
  {
   "cell_type": "code",
   "execution_count": 4,
   "metadata": {},
   "outputs": [],
   "source": [
    "#DATA_DIR = '/kaggle/input/sf-dst-restaurant-rating/'\n",
    "DATA_DIR = 'C:\\\\Users\\\\user\\\\Documents\\\\DataScience\\\\PYTHON\\\\module_3\\\\data\\\\'\n",
    "df_train = pd.read_csv(DATA_DIR+'/main_task.csv')\n",
    "df_test = pd.read_csv(DATA_DIR+'kaggle_task.csv')\n",
    "sample_submission = pd.read_csv(DATA_DIR+'/sample_submission.csv')"
   ]
  },
  {
   "cell_type": "code",
   "execution_count": 5,
   "metadata": {},
   "outputs": [
    {
     "data": {
      "text/html": [
       "<div>\n",
       "<style scoped>\n",
       "    .dataframe tbody tr th:only-of-type {\n",
       "        vertical-align: middle;\n",
       "    }\n",
       "\n",
       "    .dataframe tbody tr th {\n",
       "        vertical-align: top;\n",
       "    }\n",
       "\n",
       "    .dataframe thead th {\n",
       "        text-align: right;\n",
       "    }\n",
       "</style>\n",
       "<table border=\"1\" class=\"dataframe\">\n",
       "  <thead>\n",
       "    <tr style=\"text-align: right;\">\n",
       "      <th></th>\n",
       "      <th>Restaurant_id</th>\n",
       "      <th>City</th>\n",
       "      <th>Cuisine Style</th>\n",
       "      <th>Ranking</th>\n",
       "      <th>Rating</th>\n",
       "      <th>Price Range</th>\n",
       "      <th>Number of Reviews</th>\n",
       "      <th>Reviews</th>\n",
       "      <th>URL_TA</th>\n",
       "      <th>ID_TA</th>\n",
       "    </tr>\n",
       "  </thead>\n",
       "  <tbody>\n",
       "    <tr>\n",
       "      <th>0</th>\n",
       "      <td>id_5569</td>\n",
       "      <td>Paris</td>\n",
       "      <td>['European', 'French', 'International']</td>\n",
       "      <td>5570.0</td>\n",
       "      <td>3.5</td>\n",
       "      <td>$$ - $$$</td>\n",
       "      <td>194.0</td>\n",
       "      <td>[['Good food at your doorstep', 'A good hotel ...</td>\n",
       "      <td>/Restaurant_Review-g187147-d1912643-Reviews-R_...</td>\n",
       "      <td>d1912643</td>\n",
       "    </tr>\n",
       "    <tr>\n",
       "      <th>1</th>\n",
       "      <td>id_1535</td>\n",
       "      <td>Stockholm</td>\n",
       "      <td>NaN</td>\n",
       "      <td>1537.0</td>\n",
       "      <td>4.0</td>\n",
       "      <td>NaN</td>\n",
       "      <td>10.0</td>\n",
       "      <td>[['Unique cuisine', 'Delicious Nepalese food']...</td>\n",
       "      <td>/Restaurant_Review-g189852-d7992032-Reviews-Bu...</td>\n",
       "      <td>d7992032</td>\n",
       "    </tr>\n",
       "    <tr>\n",
       "      <th>2</th>\n",
       "      <td>id_352</td>\n",
       "      <td>London</td>\n",
       "      <td>['Japanese', 'Sushi', 'Asian', 'Grill', 'Veget...</td>\n",
       "      <td>353.0</td>\n",
       "      <td>4.5</td>\n",
       "      <td>$$$$</td>\n",
       "      <td>688.0</td>\n",
       "      <td>[['Catch up with friends', 'Not exceptional'],...</td>\n",
       "      <td>/Restaurant_Review-g186338-d8632781-Reviews-RO...</td>\n",
       "      <td>d8632781</td>\n",
       "    </tr>\n",
       "    <tr>\n",
       "      <th>3</th>\n",
       "      <td>id_3456</td>\n",
       "      <td>Berlin</td>\n",
       "      <td>NaN</td>\n",
       "      <td>3458.0</td>\n",
       "      <td>5.0</td>\n",
       "      <td>NaN</td>\n",
       "      <td>3.0</td>\n",
       "      <td>[[], []]</td>\n",
       "      <td>/Restaurant_Review-g187323-d1358776-Reviews-Es...</td>\n",
       "      <td>d1358776</td>\n",
       "    </tr>\n",
       "    <tr>\n",
       "      <th>4</th>\n",
       "      <td>id_615</td>\n",
       "      <td>Munich</td>\n",
       "      <td>['German', 'Central European', 'Vegetarian Fri...</td>\n",
       "      <td>621.0</td>\n",
       "      <td>4.0</td>\n",
       "      <td>$$ - $$$</td>\n",
       "      <td>84.0</td>\n",
       "      <td>[['Best place to try a Bavarian food', 'Nice b...</td>\n",
       "      <td>/Restaurant_Review-g187309-d6864963-Reviews-Au...</td>\n",
       "      <td>d6864963</td>\n",
       "    </tr>\n",
       "  </tbody>\n",
       "</table>\n",
       "</div>"
      ],
      "text/plain": [
       "  Restaurant_id       City                                      Cuisine Style  \\\n",
       "0       id_5569      Paris            ['European', 'French', 'International']   \n",
       "1       id_1535  Stockholm                                                NaN   \n",
       "2        id_352     London  ['Japanese', 'Sushi', 'Asian', 'Grill', 'Veget...   \n",
       "3       id_3456     Berlin                                                NaN   \n",
       "4        id_615     Munich  ['German', 'Central European', 'Vegetarian Fri...   \n",
       "\n",
       "   Ranking  Rating Price Range  Number of Reviews  \\\n",
       "0   5570.0     3.5    $$ - $$$              194.0   \n",
       "1   1537.0     4.0         NaN               10.0   \n",
       "2    353.0     4.5        $$$$              688.0   \n",
       "3   3458.0     5.0         NaN                3.0   \n",
       "4    621.0     4.0    $$ - $$$               84.0   \n",
       "\n",
       "                                             Reviews  \\\n",
       "0  [['Good food at your doorstep', 'A good hotel ...   \n",
       "1  [['Unique cuisine', 'Delicious Nepalese food']...   \n",
       "2  [['Catch up with friends', 'Not exceptional'],...   \n",
       "3                                           [[], []]   \n",
       "4  [['Best place to try a Bavarian food', 'Nice b...   \n",
       "\n",
       "                                              URL_TA     ID_TA  \n",
       "0  /Restaurant_Review-g187147-d1912643-Reviews-R_...  d1912643  \n",
       "1  /Restaurant_Review-g189852-d7992032-Reviews-Bu...  d7992032  \n",
       "2  /Restaurant_Review-g186338-d8632781-Reviews-RO...  d8632781  \n",
       "3  /Restaurant_Review-g187323-d1358776-Reviews-Es...  d1358776  \n",
       "4  /Restaurant_Review-g187309-d6864963-Reviews-Au...  d6864963  "
      ]
     },
     "execution_count": 5,
     "metadata": {},
     "output_type": "execute_result"
    }
   ],
   "source": [
    "df_train.head(5)"
   ]
  },
  {
   "cell_type": "code",
   "execution_count": 6,
   "metadata": {
    "scrolled": true
   },
   "outputs": [
    {
     "name": "stdout",
     "output_type": "stream",
     "text": [
      "<class 'pandas.core.frame.DataFrame'>\n",
      "RangeIndex: 40000 entries, 0 to 39999\n",
      "Data columns (total 10 columns):\n",
      " #   Column             Non-Null Count  Dtype  \n",
      "---  ------             --------------  -----  \n",
      " 0   Restaurant_id      40000 non-null  object \n",
      " 1   City               40000 non-null  object \n",
      " 2   Cuisine Style      30717 non-null  object \n",
      " 3   Ranking            40000 non-null  float64\n",
      " 4   Rating             40000 non-null  float64\n",
      " 5   Price Range        26114 non-null  object \n",
      " 6   Number of Reviews  37457 non-null  float64\n",
      " 7   Reviews            40000 non-null  object \n",
      " 8   URL_TA             40000 non-null  object \n",
      " 9   ID_TA              40000 non-null  object \n",
      "dtypes: float64(3), object(7)\n",
      "memory usage: 3.1+ MB\n"
     ]
    }
   ],
   "source": [
    "df_train.info()"
   ]
  },
  {
   "cell_type": "code",
   "execution_count": 7,
   "metadata": {
    "scrolled": false
   },
   "outputs": [
    {
     "data": {
      "text/html": [
       "<div>\n",
       "<style scoped>\n",
       "    .dataframe tbody tr th:only-of-type {\n",
       "        vertical-align: middle;\n",
       "    }\n",
       "\n",
       "    .dataframe tbody tr th {\n",
       "        vertical-align: top;\n",
       "    }\n",
       "\n",
       "    .dataframe thead th {\n",
       "        text-align: right;\n",
       "    }\n",
       "</style>\n",
       "<table border=\"1\" class=\"dataframe\">\n",
       "  <thead>\n",
       "    <tr style=\"text-align: right;\">\n",
       "      <th></th>\n",
       "      <th>Restaurant_id</th>\n",
       "      <th>Rating</th>\n",
       "    </tr>\n",
       "  </thead>\n",
       "  <tbody>\n",
       "    <tr>\n",
       "      <th>0</th>\n",
       "      <td>id_0</td>\n",
       "      <td>2.0</td>\n",
       "    </tr>\n",
       "    <tr>\n",
       "      <th>1</th>\n",
       "      <td>id_1</td>\n",
       "      <td>2.5</td>\n",
       "    </tr>\n",
       "    <tr>\n",
       "      <th>2</th>\n",
       "      <td>id_2</td>\n",
       "      <td>4.0</td>\n",
       "    </tr>\n",
       "    <tr>\n",
       "      <th>3</th>\n",
       "      <td>id_3</td>\n",
       "      <td>1.0</td>\n",
       "    </tr>\n",
       "    <tr>\n",
       "      <th>4</th>\n",
       "      <td>id_4</td>\n",
       "      <td>4.0</td>\n",
       "    </tr>\n",
       "  </tbody>\n",
       "</table>\n",
       "</div>"
      ],
      "text/plain": [
       "  Restaurant_id  Rating\n",
       "0          id_0     2.0\n",
       "1          id_1     2.5\n",
       "2          id_2     4.0\n",
       "3          id_3     1.0\n",
       "4          id_4     4.0"
      ]
     },
     "execution_count": 7,
     "metadata": {},
     "output_type": "execute_result"
    }
   ],
   "source": [
    "sample_submission.head(5)"
   ]
  },
  {
   "cell_type": "code",
   "execution_count": 8,
   "metadata": {
    "scrolled": false
   },
   "outputs": [
    {
     "name": "stdout",
     "output_type": "stream",
     "text": [
      "<class 'pandas.core.frame.DataFrame'>\n",
      "RangeIndex: 10000 entries, 0 to 9999\n",
      "Data columns (total 2 columns):\n",
      " #   Column         Non-Null Count  Dtype  \n",
      "---  ------         --------------  -----  \n",
      " 0   Restaurant_id  10000 non-null  object \n",
      " 1   Rating         10000 non-null  float64\n",
      "dtypes: float64(1), object(1)\n",
      "memory usage: 156.4+ KB\n"
     ]
    }
   ],
   "source": [
    "sample_submission.info()"
   ]
  },
  {
   "cell_type": "markdown",
   "metadata": {},
   "source": [
    "Данные загрузились корректно, можно приступать к работе"
   ]
  },
  {
   "cell_type": "code",
   "execution_count": 9,
   "metadata": {},
   "outputs": [],
   "source": [
    "# ВАЖНО! дря корректной обработки признаков объединяем трейн и тест в один датасет\n",
    "df_train['sample'] = 1  # помечаем где у нас трейн\n",
    "df_test['sample'] = 0  # помечаем где у нас тест\n",
    "# в тесте у нас нет значения Rating, мы его должны предсказать, по этому пока просто заполняем нулями\n",
    "df_test['Rating'] = 0\n",
    "\n",
    "data = df_test.append(df_train, sort=False).reset_index(\n",
    "    drop=True)  # объединяем"
   ]
  },
  {
   "cell_type": "code",
   "execution_count": 10,
   "metadata": {
    "scrolled": false
   },
   "outputs": [
    {
     "name": "stdout",
     "output_type": "stream",
     "text": [
      "<class 'pandas.core.frame.DataFrame'>\n",
      "RangeIndex: 50000 entries, 0 to 49999\n",
      "Data columns (total 11 columns):\n",
      " #   Column             Non-Null Count  Dtype  \n",
      "---  ------             --------------  -----  \n",
      " 0   Restaurant_id      50000 non-null  object \n",
      " 1   City               50000 non-null  object \n",
      " 2   Cuisine Style      38410 non-null  object \n",
      " 3   Ranking            50000 non-null  float64\n",
      " 4   Price Range        32639 non-null  object \n",
      " 5   Number of Reviews  46800 non-null  float64\n",
      " 6   Reviews            49998 non-null  object \n",
      " 7   URL_TA             50000 non-null  object \n",
      " 8   ID_TA              50000 non-null  object \n",
      " 9   sample             50000 non-null  int64  \n",
      " 10  Rating             50000 non-null  float64\n",
      "dtypes: float64(3), int64(1), object(7)\n",
      "memory usage: 4.2+ MB\n"
     ]
    }
   ],
   "source": [
    "data.info()"
   ]
  },
  {
   "cell_type": "markdown",
   "metadata": {},
   "source": [
    "Загрузилось 11 столбцов.\n",
    "\n",
    "4 числовых столбца - Ranking,Number of Reviews,sample,Rating\n",
    "\n",
    "7 строковых столбцов -Restaurant_id, City, Cuisine Style, Price Range,Reviews,URL_TA,ID_TA\n",
    "\n",
    "Подробнее по признакам:\n",
    "\n",
    "City: Город\n",
    "\n",
    "Cuisine Style: Кухня\n",
    "\n",
    "Ranking: Ранг ресторана относительно других ресторанов в этом городе\n",
    "\n",
    "Price Range: Цены в ресторане в 3 категориях\n",
    "\n",
    "Number of Reviews: Количество отзывов\n",
    "\n",
    "Reviews: 2 последних отзыва и даты этих отзывов\n",
    "\n",
    "URL_TA: страница ресторана на 'www.tripadvisor.com'\n",
    "\n",
    "ID_TA: ID ресторана в TripAdvisor\n",
    "\n",
    "Rating: Рейтинг ресторана"
   ]
  },
  {
   "cell_type": "code",
   "execution_count": 11,
   "metadata": {
    "scrolled": true
   },
   "outputs": [
    {
     "data": {
      "text/html": [
       "<div>\n",
       "<style scoped>\n",
       "    .dataframe tbody tr th:only-of-type {\n",
       "        vertical-align: middle;\n",
       "    }\n",
       "\n",
       "    .dataframe tbody tr th {\n",
       "        vertical-align: top;\n",
       "    }\n",
       "\n",
       "    .dataframe thead th {\n",
       "        text-align: right;\n",
       "    }\n",
       "</style>\n",
       "<table border=\"1\" class=\"dataframe\">\n",
       "  <thead>\n",
       "    <tr style=\"text-align: right;\">\n",
       "      <th></th>\n",
       "      <th>Restaurant_id</th>\n",
       "      <th>City</th>\n",
       "      <th>Cuisine Style</th>\n",
       "      <th>Ranking</th>\n",
       "      <th>Price Range</th>\n",
       "      <th>Number of Reviews</th>\n",
       "      <th>Reviews</th>\n",
       "      <th>URL_TA</th>\n",
       "      <th>ID_TA</th>\n",
       "      <th>sample</th>\n",
       "      <th>Rating</th>\n",
       "    </tr>\n",
       "  </thead>\n",
       "  <tbody>\n",
       "    <tr>\n",
       "      <th>18763</th>\n",
       "      <td>id_144</td>\n",
       "      <td>Madrid</td>\n",
       "      <td>['Mediterranean', 'Spanish', 'Fusion', 'Vegeta...</td>\n",
       "      <td>145.0</td>\n",
       "      <td>$$ - $$$</td>\n",
       "      <td>59.0</td>\n",
       "      <td>[['SO GOOD!', 'Delicious food in a local atmos...</td>\n",
       "      <td>/Restaurant_Review-g187514-d12883304-Reviews-M...</td>\n",
       "      <td>d12883304</td>\n",
       "      <td>1</td>\n",
       "      <td>5.0</td>\n",
       "    </tr>\n",
       "    <tr>\n",
       "      <th>22867</th>\n",
       "      <td>id_682</td>\n",
       "      <td>Edinburgh</td>\n",
       "      <td>['European', 'British', 'Scottish', 'Vegetaria...</td>\n",
       "      <td>683.0</td>\n",
       "      <td>$$ - $$$</td>\n",
       "      <td>253.0</td>\n",
       "      <td>[['Good food, mediocre service', 'Great dinner...</td>\n",
       "      <td>/Restaurant_Review-g186525-d1010559-Reviews-Ma...</td>\n",
       "      <td>d1010559</td>\n",
       "      <td>1</td>\n",
       "      <td>4.0</td>\n",
       "    </tr>\n",
       "    <tr>\n",
       "      <th>41934</th>\n",
       "      <td>id_4255</td>\n",
       "      <td>Barcelona</td>\n",
       "      <td>['Vegetarian Friendly']</td>\n",
       "      <td>4256.0</td>\n",
       "      <td>NaN</td>\n",
       "      <td>5.0</td>\n",
       "      <td>[['Great Organic Juice and Snack Bar'], ['09/3...</td>\n",
       "      <td>/Restaurant_Review-g187497-d7117790-Reviews-Th...</td>\n",
       "      <td>d7117790</td>\n",
       "      <td>1</td>\n",
       "      <td>5.0</td>\n",
       "    </tr>\n",
       "    <tr>\n",
       "      <th>45529</th>\n",
       "      <td>id_2794</td>\n",
       "      <td>Madrid</td>\n",
       "      <td>['Spanish', 'Vegetarian Friendly', 'Vegan Opti...</td>\n",
       "      <td>2796.0</td>\n",
       "      <td>$$ - $$$</td>\n",
       "      <td>103.0</td>\n",
       "      <td>[['Vaya tomates (amazing tomatoes)', 'When you...</td>\n",
       "      <td>/Restaurant_Review-g187514-d10365407-Reviews-L...</td>\n",
       "      <td>d10365407</td>\n",
       "      <td>1</td>\n",
       "      <td>3.5</td>\n",
       "    </tr>\n",
       "    <tr>\n",
       "      <th>29136</th>\n",
       "      <td>id_8721</td>\n",
       "      <td>Paris</td>\n",
       "      <td>['Indian']</td>\n",
       "      <td>8723.0</td>\n",
       "      <td>$</td>\n",
       "      <td>32.0</td>\n",
       "      <td>[['Excellent good, friendly and efficient', 'T...</td>\n",
       "      <td>/Restaurant_Review-g187147-d1833572-Reviews-Ja...</td>\n",
       "      <td>d1833572</td>\n",
       "      <td>1</td>\n",
       "      <td>3.5</td>\n",
       "    </tr>\n",
       "  </tbody>\n",
       "</table>\n",
       "</div>"
      ],
      "text/plain": [
       "      Restaurant_id       City  \\\n",
       "18763        id_144     Madrid   \n",
       "22867        id_682  Edinburgh   \n",
       "41934       id_4255  Barcelona   \n",
       "45529       id_2794     Madrid   \n",
       "29136       id_8721      Paris   \n",
       "\n",
       "                                           Cuisine Style  Ranking Price Range  \\\n",
       "18763  ['Mediterranean', 'Spanish', 'Fusion', 'Vegeta...    145.0    $$ - $$$   \n",
       "22867  ['European', 'British', 'Scottish', 'Vegetaria...    683.0    $$ - $$$   \n",
       "41934                            ['Vegetarian Friendly']   4256.0         NaN   \n",
       "45529  ['Spanish', 'Vegetarian Friendly', 'Vegan Opti...   2796.0    $$ - $$$   \n",
       "29136                                         ['Indian']   8723.0           $   \n",
       "\n",
       "       Number of Reviews                                            Reviews  \\\n",
       "18763               59.0  [['SO GOOD!', 'Delicious food in a local atmos...   \n",
       "22867              253.0  [['Good food, mediocre service', 'Great dinner...   \n",
       "41934                5.0  [['Great Organic Juice and Snack Bar'], ['09/3...   \n",
       "45529              103.0  [['Vaya tomates (amazing tomatoes)', 'When you...   \n",
       "29136               32.0  [['Excellent good, friendly and efficient', 'T...   \n",
       "\n",
       "                                                  URL_TA      ID_TA  sample  \\\n",
       "18763  /Restaurant_Review-g187514-d12883304-Reviews-M...  d12883304       1   \n",
       "22867  /Restaurant_Review-g186525-d1010559-Reviews-Ma...   d1010559       1   \n",
       "41934  /Restaurant_Review-g187497-d7117790-Reviews-Th...   d7117790       1   \n",
       "45529  /Restaurant_Review-g187514-d10365407-Reviews-L...  d10365407       1   \n",
       "29136  /Restaurant_Review-g187147-d1833572-Reviews-Ja...   d1833572       1   \n",
       "\n",
       "       Rating  \n",
       "18763     5.0  \n",
       "22867     4.0  \n",
       "41934     5.0  \n",
       "45529     3.5  \n",
       "29136     3.5  "
      ]
     },
     "execution_count": 11,
     "metadata": {},
     "output_type": "execute_result"
    }
   ],
   "source": [
    "data.sample(5)"
   ]
  },
  {
   "cell_type": "markdown",
   "metadata": {},
   "source": [
    "# Обработка признаков\n",
    "Я принял решение не разделять этапы \"Cleaning and Preparing Data\" и \"EDA\", а проводить их сразу последовательно к каждому признаку. Это объясняется тем что в ходе обработки признаков на их основе буду сразу генерировать новые и их исследовать."
   ]
  },
  {
   "cell_type": "markdown",
   "metadata": {},
   "source": [
    "Стандартизируем названия столбцов для удобстваработы"
   ]
  },
  {
   "cell_type": "code",
   "execution_count": 12,
   "metadata": {
    "scrolled": true
   },
   "outputs": [
    {
     "data": {
      "text/plain": [
       "Index(['Restaurant_id', 'City', 'Cuisine_style', 'Ranking', 'Price_range',\n",
       "       'Number_of_reviews', 'Reviews', 'URL_TA', 'ID_TA', 'Sample', 'Rating'],\n",
       "      dtype='object')"
      ]
     },
     "execution_count": 12,
     "metadata": {},
     "output_type": "execute_result"
    }
   ],
   "source": [
    "data.rename(columns={'Cuisine Style': 'Cuisine_style',\n",
    "                     'Price Range': 'Price_range',\n",
    "                     'Number of Reviews': 'Number_of_reviews',\n",
    "                     'sample': 'Sample'}, inplace=True)\n",
    "data.columns"
   ]
  },
  {
   "cell_type": "code",
   "execution_count": 13,
   "metadata": {
    "scrolled": true
   },
   "outputs": [
    {
     "data": {
      "text/plain": [
       "Restaurant_id            0\n",
       "City                     0\n",
       "Cuisine_style        11590\n",
       "Ranking                  0\n",
       "Price_range          17361\n",
       "Number_of_reviews     3200\n",
       "Reviews                  2\n",
       "URL_TA                   0\n",
       "ID_TA                    0\n",
       "Sample                   0\n",
       "Rating                   0\n",
       "dtype: int64"
      ]
     },
     "execution_count": 13,
     "metadata": {},
     "output_type": "execute_result"
    }
   ],
   "source": [
    "pd.isnull(data).sum()"
   ]
  },
  {
   "cell_type": "markdown",
   "metadata": {},
   "source": [
    "1)Пропуски в \"Cuisine_style\" будут обработаны позднее т.к. данный параметр содержит список кухонь и я намерен создать из него дамми-признаки\n",
    "\n",
    "2)Пропуски в \"Number_of_reviews\" могут являться дополнительным признаком. Буду делать дополнительный признак показывающий отсутствие отзывов. А на текущем этапе заполню пропуски нулями. Отсутствие отзыва может быть связано с тем , что ресторан малоизвестен или он еще недавно на сайте и его не успели посетить\n",
    "\n",
    "3) Пропуски в \"Price_range\" возможно как то коррелируют с пропусками \"Number_of_reviews\", но их ощутимо больше. Я принял решение что пропуски в данном параметре буду заменять медианным значением цены в ресторане того города, в котором находится ресторан. Делать это буду позднее при детальном анализе признаков."
   ]
  },
  {
   "cell_type": "markdown",
   "metadata": {},
   "source": [
    "## Общие функции\n",
    "Я выделил отдельно общие функции которые буду применять.\n",
    "Функций будет естественно больше но из-за локальности их применения я не стал их выносить в общий блок"
   ]
  },
  {
   "cell_type": "code",
   "execution_count": 14,
   "metadata": {},
   "outputs": [],
   "source": [
    "'''функция obj_describe для описания параметров типа object.\n",
    "Выводит информацию о :\n",
    "1)пропусках данных\n",
    "2)количестве встречающихся значений\n",
    "3)Строит boxplot для оценки влияния признака на распределение целевой переменной'''\n",
    "\n",
    "\n",
    "def obj_describe(data, column):\n",
    "    print('пустых значений в колонке ', column,\n",
    "          \" : \", data.loc[:, column].isnull().sum())\n",
    "    print('Значения в колонке: ', pd.DataFrame(\n",
    "        data.loc[:, column].value_counts()))\n",
    "    # график строим только для тренировочных данных чтобы по нему опре\n",
    "    fig, ax = plt.subplots(figsize=(10, 6))\n",
    "    sns.boxplot(x=column, y='Rating', data=data)\n",
    "\n",
    "\n",
    "'''функция num_value_analiz для анализа основных числовых показателей\n",
    "Выводит информацию о:\n",
    "1)min\n",
    "2)25-й перцентиль\n",
    "3)медиана\n",
    "4)среднее\n",
    "5)max\n",
    "6)IQR\n",
    "7)Границы выбросов\n",
    "'''\n",
    "\n",
    "\n",
    "def num_value_analiz(data, column):\n",
    "    low = data.loc[:, column].min()\n",
    "    median = data.loc[:, column].median()\n",
    "    mean = data.loc[:, column].mean()\n",
    "    hight = data.loc[:, column].max()\n",
    "    IQR = data.loc[:, column].quantile(\n",
    "        0.75) - data.loc[:, column].quantile(0.25)\n",
    "    perc25 = data.loc[:, column].quantile(0.25)\n",
    "    perc75 = data.loc[:, column].quantile(0.75)\n",
    "\n",
    "    print('min : {} \\n\\r'.format(low),\n",
    "          '25-й перцентиль: {} \\n\\r'.format(perc25),\n",
    "          'медиана: {} \\n\\r'.format(median),\n",
    "          'среднее: {} \\n\\r'.format(mean),\n",
    "          'max : {} \\n\\r'.format(hight),\n",
    "          '75-й перцентиль: {} \\n\\r'.format(perc75),\n",
    "          \"IQR: {} \\n\\r\".format(IQR),\n",
    "          \"Границы выбросов: [{f}, {l}].\".format(f=perc25 - 1.5*IQR, l=perc75 + 1.5*IQR))"
   ]
  },
  {
   "cell_type": "markdown",
   "metadata": {},
   "source": [
    "## 1.Restaurant_id \n",
    "идентификатор ресторана менять я никак не буду, пропусков в нем нет, но осмотреть его необходимо.\n",
    "\n",
    "1) Создадим новый признак Franchise который будет показывать относится ресторан к сети или нет"
   ]
  },
  {
   "cell_type": "code",
   "execution_count": 15,
   "metadata": {
    "scrolled": true
   },
   "outputs": [
    {
     "data": {
      "text/plain": [
       "id_227      19\n",
       "id_633      19\n",
       "id_436      19\n",
       "id_871      19\n",
       "id_534      18\n",
       "            ..\n",
       "id_12961     1\n",
       "id_13771     1\n",
       "id_8125      1\n",
       "id_10889     1\n",
       "id_9913      1\n",
       "Name: Restaurant_id, Length: 13094, dtype: int64"
      ]
     },
     "execution_count": 15,
     "metadata": {},
     "output_type": "execute_result"
    }
   ],
   "source": [
    "data.Restaurant_id.value_counts()"
   ]
  },
  {
   "cell_type": "code",
   "execution_count": 16,
   "metadata": {},
   "outputs": [],
   "source": [
    "s = data.Restaurant_id.value_counts()\n",
    "multiple_id = s[s > 1]"
   ]
  },
  {
   "cell_type": "code",
   "execution_count": 17,
   "metadata": {},
   "outputs": [
    {
     "data": {
      "text/html": [
       "<div>\n",
       "<style scoped>\n",
       "    .dataframe tbody tr th:only-of-type {\n",
       "        vertical-align: middle;\n",
       "    }\n",
       "\n",
       "    .dataframe tbody tr th {\n",
       "        vertical-align: top;\n",
       "    }\n",
       "\n",
       "    .dataframe thead th {\n",
       "        text-align: right;\n",
       "    }\n",
       "</style>\n",
       "<table border=\"1\" class=\"dataframe\">\n",
       "  <thead>\n",
       "    <tr style=\"text-align: right;\">\n",
       "      <th></th>\n",
       "      <th>Restaurant_id</th>\n",
       "      <th>City</th>\n",
       "      <th>Cuisine_style</th>\n",
       "      <th>Ranking</th>\n",
       "      <th>Price_range</th>\n",
       "      <th>Number_of_reviews</th>\n",
       "      <th>Reviews</th>\n",
       "      <th>URL_TA</th>\n",
       "      <th>ID_TA</th>\n",
       "      <th>Sample</th>\n",
       "      <th>Rating</th>\n",
       "    </tr>\n",
       "  </thead>\n",
       "  <tbody>\n",
       "    <tr>\n",
       "      <th>633</th>\n",
       "      <td>id_633</td>\n",
       "      <td>Stockholm</td>\n",
       "      <td>['Indian']</td>\n",
       "      <td>1261.0</td>\n",
       "      <td>NaN</td>\n",
       "      <td>9.0</td>\n",
       "      <td>[['One more Indian Restaurant', 'Tiny and nice...</td>\n",
       "      <td>/Restaurant_Review-g189852-d8341999-Reviews-Fo...</td>\n",
       "      <td>d8341999</td>\n",
       "      <td>0</td>\n",
       "      <td>0.0</td>\n",
       "    </tr>\n",
       "    <tr>\n",
       "      <th>10836</th>\n",
       "      <td>id_633</td>\n",
       "      <td>Milan</td>\n",
       "      <td>['Italian', 'Pizza', 'Mediterranean', 'Vegetar...</td>\n",
       "      <td>635.0</td>\n",
       "      <td>$$ - $$$</td>\n",
       "      <td>743.0</td>\n",
       "      <td>[['Sunshine of Italian pizza in Milan on a we....</td>\n",
       "      <td>/Restaurant_Review-g187849-d7660183-Reviews-Br...</td>\n",
       "      <td>d7660183</td>\n",
       "      <td>1</td>\n",
       "      <td>3.5</td>\n",
       "    </tr>\n",
       "    <tr>\n",
       "      <th>12927</th>\n",
       "      <td>id_633</td>\n",
       "      <td>Budapest</td>\n",
       "      <td>['Vegetarian Friendly']</td>\n",
       "      <td>634.0</td>\n",
       "      <td>$</td>\n",
       "      <td>18.0</td>\n",
       "      <td>[['Good qualitybreakfast and lovely venue', 'G...</td>\n",
       "      <td>/Restaurant_Review-g274887-d12327467-Reviews-F...</td>\n",
       "      <td>d12327467</td>\n",
       "      <td>1</td>\n",
       "      <td>4.5</td>\n",
       "    </tr>\n",
       "    <tr>\n",
       "      <th>14359</th>\n",
       "      <td>id_633</td>\n",
       "      <td>Rome</td>\n",
       "      <td>['Italian', 'Pizza', 'Fast Food', 'Mediterrane...</td>\n",
       "      <td>634.0</td>\n",
       "      <td>$</td>\n",
       "      <td>600.0</td>\n",
       "      <td>[['Cheap, delicious, good service, quick', 'Gr...</td>\n",
       "      <td>/Restaurant_Review-g187791-d3190881-Reviews-Re...</td>\n",
       "      <td>d3190881</td>\n",
       "      <td>1</td>\n",
       "      <td>4.5</td>\n",
       "    </tr>\n",
       "    <tr>\n",
       "      <th>14864</th>\n",
       "      <td>id_633</td>\n",
       "      <td>Munich</td>\n",
       "      <td>['Peruvian', 'Latin', 'South American', 'Veget...</td>\n",
       "      <td>640.0</td>\n",
       "      <td>$$ - $$$</td>\n",
       "      <td>173.0</td>\n",
       "      <td>[['Very good but service', 'Nice!'], ['05/13/2...</td>\n",
       "      <td>/Restaurant_Review-g187309-d1674728-Reviews-Na...</td>\n",
       "      <td>d1674728</td>\n",
       "      <td>1</td>\n",
       "      <td>4.0</td>\n",
       "    </tr>\n",
       "  </tbody>\n",
       "</table>\n",
       "</div>"
      ],
      "text/plain": [
       "      Restaurant_id       City  \\\n",
       "633          id_633  Stockholm   \n",
       "10836        id_633      Milan   \n",
       "12927        id_633   Budapest   \n",
       "14359        id_633       Rome   \n",
       "14864        id_633     Munich   \n",
       "\n",
       "                                           Cuisine_style  Ranking Price_range  \\\n",
       "633                                           ['Indian']   1261.0         NaN   \n",
       "10836  ['Italian', 'Pizza', 'Mediterranean', 'Vegetar...    635.0    $$ - $$$   \n",
       "12927                            ['Vegetarian Friendly']    634.0           $   \n",
       "14359  ['Italian', 'Pizza', 'Fast Food', 'Mediterrane...    634.0           $   \n",
       "14864  ['Peruvian', 'Latin', 'South American', 'Veget...    640.0    $$ - $$$   \n",
       "\n",
       "       Number_of_reviews                                            Reviews  \\\n",
       "633                  9.0  [['One more Indian Restaurant', 'Tiny and nice...   \n",
       "10836              743.0  [['Sunshine of Italian pizza in Milan on a we....   \n",
       "12927               18.0  [['Good qualitybreakfast and lovely venue', 'G...   \n",
       "14359              600.0  [['Cheap, delicious, good service, quick', 'Gr...   \n",
       "14864              173.0  [['Very good but service', 'Nice!'], ['05/13/2...   \n",
       "\n",
       "                                                  URL_TA      ID_TA  Sample  \\\n",
       "633    /Restaurant_Review-g189852-d8341999-Reviews-Fo...   d8341999       0   \n",
       "10836  /Restaurant_Review-g187849-d7660183-Reviews-Br...   d7660183       1   \n",
       "12927  /Restaurant_Review-g274887-d12327467-Reviews-F...  d12327467       1   \n",
       "14359  /Restaurant_Review-g187791-d3190881-Reviews-Re...   d3190881       1   \n",
       "14864  /Restaurant_Review-g187309-d1674728-Reviews-Na...   d1674728       1   \n",
       "\n",
       "       Rating  \n",
       "633       0.0  \n",
       "10836     3.5  \n",
       "12927     4.5  \n",
       "14359     4.5  \n",
       "14864     4.0  "
      ]
     },
     "execution_count": 17,
     "metadata": {},
     "output_type": "execute_result"
    }
   ],
   "source": [
    "data[data['Restaurant_id'] == 'id_633'].head(5)"
   ]
  },
  {
   "cell_type": "markdown",
   "metadata": {},
   "source": [
    "Так же добавим признак franchise который будет показывать сетевой это ресторан и ли нет.\n",
    "1 - сетевой\n",
    "0 - не сетевой"
   ]
  },
  {
   "cell_type": "code",
   "execution_count": 18,
   "metadata": {},
   "outputs": [],
   "source": [
    "data['Franchise'] = data['Restaurant_id'].apply(\n",
    "    lambda x: 1 if x in multiple_id else 0)"
   ]
  },
  {
   "cell_type": "code",
   "execution_count": 19,
   "metadata": {},
   "outputs": [
    {
     "name": "stdout",
     "output_type": "stream",
     "text": [
      "пустых значений в колонке  Franchise  :  0\n",
      "Значения в колонке:     Franchise\n",
      "1      37378\n",
      "0       2622\n"
     ]
    },
    {
     "data": {
      "image/png": "[encoded data removed]",
      "text/plain": [
       "<Figure size 720x432 with 1 Axes>"
      ]
     },
     "metadata": {
      "needs_background": "light"
     },
     "output_type": "display_data"
    }
   ],
   "source": [
    "obj_describe(data[data['Sample'] == 1], 'Franchise')"
   ]
  },
  {
   "cell_type": "markdown",
   "metadata": {},
   "source": [
    "## Вывод  Restaurant_id\n",
    "Restaurant_id - Данный параметр без пропусков, визуальный осмотр показал что числовая часть данного параметра в большинстве случаев очень уж похожа на значение параметра Ranking.\n",
    "На основе данного признака был сгенерирован новый признак - Franchise, показывающий относитеся ли ресторан к сетевым или нет.\n",
    "Анализ нового признака показал его что для него имеется разница в плотности распределения целевой переменной Rating"
   ]
  },
  {
   "cell_type": "markdown",
   "metadata": {},
   "source": [
    "## 2.Price Range\n",
    "Цена в ресторане.\n",
    "1)17361 пропусков(34%), много надо создать доп признак No_Price для сохранения информации что у ресторана не указана цена.\n",
    "\n",
    "2)Значение строковые,\" $ , $$ - $$$,$$$$\" при этом очевидно что относительно данного параметры уместна операция сравнения потому создам новый параметр Price_value заменив значениями 1,2,3 значения нашего параметра соответственно\n",
    "\n",
    "3)В параметре тем не менее будут пропуски, пропуски для ресторана заменю медианным значением цены в ресторанах по тому городу, в котором расположен ресторан.\n",
    "Вообще на этом этапе у нас по сути есть 3 кластера соответствующие ценовым диапазонам, и для ресторанов с неуказанной ценой можно провести классификацию. Но это отдельная задача, которая по сути может улучшить результат нашей главной задачи. Времени не так много чтобы этим заниматься потому может к этому вернусь после сдачи проекта"
   ]
  },
  {
   "cell_type": "code",
   "execution_count": 20,
   "metadata": {},
   "outputs": [
    {
     "data": {
      "text/plain": [
       "$$ - $$$    23041\n",
       "$            7816\n",
       "$$$$         1782\n",
       "Name: Price_range, dtype: int64"
      ]
     },
     "execution_count": 20,
     "metadata": {},
     "output_type": "execute_result"
    }
   ],
   "source": [
    "data.Price_range.value_counts()"
   ]
  },
  {
   "cell_type": "code",
   "execution_count": 21,
   "metadata": {},
   "outputs": [
    {
     "data": {
      "text/html": [
       "<div>\n",
       "<style scoped>\n",
       "    .dataframe tbody tr th:only-of-type {\n",
       "        vertical-align: middle;\n",
       "    }\n",
       "\n",
       "    .dataframe tbody tr th {\n",
       "        vertical-align: top;\n",
       "    }\n",
       "\n",
       "    .dataframe thead th {\n",
       "        text-align: right;\n",
       "    }\n",
       "</style>\n",
       "<table border=\"1\" class=\"dataframe\">\n",
       "  <thead>\n",
       "    <tr style=\"text-align: right;\">\n",
       "      <th></th>\n",
       "      <th>No_Price</th>\n",
       "      <th>Price_range</th>\n",
       "    </tr>\n",
       "  </thead>\n",
       "  <tbody>\n",
       "    <tr>\n",
       "      <th>7</th>\n",
       "      <td>1</td>\n",
       "      <td>NaN</td>\n",
       "    </tr>\n",
       "    <tr>\n",
       "      <th>8</th>\n",
       "      <td>1</td>\n",
       "      <td>NaN</td>\n",
       "    </tr>\n",
       "    <tr>\n",
       "      <th>9</th>\n",
       "      <td>1</td>\n",
       "      <td>NaN</td>\n",
       "    </tr>\n",
       "    <tr>\n",
       "      <th>10</th>\n",
       "      <td>1</td>\n",
       "      <td>NaN</td>\n",
       "    </tr>\n",
       "    <tr>\n",
       "      <th>13</th>\n",
       "      <td>1</td>\n",
       "      <td>NaN</td>\n",
       "    </tr>\n",
       "    <tr>\n",
       "      <th>...</th>\n",
       "      <td>...</td>\n",
       "      <td>...</td>\n",
       "    </tr>\n",
       "    <tr>\n",
       "      <th>49988</th>\n",
       "      <td>1</td>\n",
       "      <td>NaN</td>\n",
       "    </tr>\n",
       "    <tr>\n",
       "      <th>49989</th>\n",
       "      <td>1</td>\n",
       "      <td>NaN</td>\n",
       "    </tr>\n",
       "    <tr>\n",
       "      <th>49990</th>\n",
       "      <td>1</td>\n",
       "      <td>NaN</td>\n",
       "    </tr>\n",
       "    <tr>\n",
       "      <th>49993</th>\n",
       "      <td>1</td>\n",
       "      <td>NaN</td>\n",
       "    </tr>\n",
       "    <tr>\n",
       "      <th>49997</th>\n",
       "      <td>1</td>\n",
       "      <td>NaN</td>\n",
       "    </tr>\n",
       "  </tbody>\n",
       "</table>\n",
       "<p>17361 rows × 2 columns</p>\n",
       "</div>"
      ],
      "text/plain": [
       "       No_Price Price_range\n",
       "7             1         NaN\n",
       "8             1         NaN\n",
       "9             1         NaN\n",
       "10            1         NaN\n",
       "13            1         NaN\n",
       "...         ...         ...\n",
       "49988         1         NaN\n",
       "49989         1         NaN\n",
       "49990         1         NaN\n",
       "49993         1         NaN\n",
       "49997         1         NaN\n",
       "\n",
       "[17361 rows x 2 columns]"
      ]
     },
     "execution_count": 21,
     "metadata": {},
     "output_type": "execute_result"
    }
   ],
   "source": [
    "# Создаем новый признак No_Price\n",
    "data['No_Price'] = pd.isna(data['Price_range']).astype('int64')\n",
    "data[['No_Price', 'Price_range']][data['No_Price'] == 1]"
   ]
  },
  {
   "cell_type": "code",
   "execution_count": 22,
   "metadata": {},
   "outputs": [
    {
     "name": "stdout",
     "output_type": "stream",
     "text": [
      "       Price_value Price_range\n",
      "0              2.0    $$ - $$$\n",
      "1              2.0    $$ - $$$\n",
      "2              2.0    $$ - $$$\n",
      "3              3.0        $$$$\n",
      "4              3.0        $$$$\n",
      "...            ...         ...\n",
      "49995          2.0    $$ - $$$\n",
      "49996          2.0    $$ - $$$\n",
      "49997          NaN         NaN\n",
      "49998          2.0    $$ - $$$\n",
      "49999          2.0    $$ - $$$\n",
      "\n",
      "[50000 rows x 2 columns]\n"
     ]
    }
   ],
   "source": [
    "dict_values = {'$': 1, '$$ - $$$': 2, '$$$$': 3}\n",
    "data['Price_value'] = data['Price_range'].apply(\n",
    "    lambda x: dict_values.get(x, x))\n",
    "print(data[['Price_value', 'Price_range']])"
   ]
  },
  {
   "cell_type": "markdown",
   "metadata": {},
   "source": [
    "Заполним пропуски.\n",
    "В ходе выполнения данного этапа и так стало ясно что медианная цена для \n",
    "каждого города - 2 , так же как и для всех ресторанов ,но т.к. в общем \n",
    "случае неправильно заменять пропуски медианной ценой по всем всем \n",
    "ресторанам(имхо) я все равно решил заменять медианной ценой по городу. \n",
    "Потому что города по достатку могут отличаться ,не понятно как установлена \n",
    "категория цен - она средняя для города или средняя во всем мире\n",
    "функция возвращает среднее значение цены по городу"
   ]
  },
  {
   "cell_type": "code",
   "execution_count": 23,
   "metadata": {},
   "outputs": [
    {
     "data": {
      "text/plain": [
       "{'Paris': 2.0,\n",
       " 'Helsinki': 2.0,\n",
       " 'Edinburgh': 2.0,\n",
       " 'London': 2.0,\n",
       " 'Bratislava': 2.0,\n",
       " 'Lisbon': 2.0,\n",
       " 'Budapest': 2.0,\n",
       " 'Stockholm': 2.0,\n",
       " 'Rome': 2.0,\n",
       " 'Milan': 2.0,\n",
       " 'Munich': 2.0,\n",
       " 'Hamburg': 2.0,\n",
       " 'Prague': 2.0,\n",
       " 'Vienna': 2.0,\n",
       " 'Dublin': 2.0,\n",
       " 'Barcelona': 2.0,\n",
       " 'Brussels': 2.0,\n",
       " 'Madrid': 2.0,\n",
       " 'Oslo': 2.0,\n",
       " 'Amsterdam': 2.0,\n",
       " 'Berlin': 2.0,\n",
       " 'Lyon': 2.0,\n",
       " 'Athens': 2.0,\n",
       " 'Warsaw': 2.0,\n",
       " 'Oporto': 2.0,\n",
       " 'Krakow': 2.0,\n",
       " 'Copenhagen': 2.0,\n",
       " 'Luxembourg': 2.0,\n",
       " 'Zurich': 2.0,\n",
       " 'Geneva': 2.0,\n",
       " 'Ljubljana': 2.0}"
      ]
     },
     "execution_count": 23,
     "metadata": {},
     "output_type": "execute_result"
    }
   ],
   "source": [
    "city_list = data.City.unique().tolist()\n",
    "dict_city_mean_price = {}\n",
    "\n",
    "for i in city_list:\n",
    "    dict_city_mean_price[i] = data[data['City'] == i].Price_value.median()\n",
    "\n",
    "dict_city_mean_price"
   ]
  },
  {
   "cell_type": "code",
   "execution_count": 24,
   "metadata": {
    "scrolled": true
   },
   "outputs": [
    {
     "data": {
      "text/html": [
       "<div>\n",
       "<style scoped>\n",
       "    .dataframe tbody tr th:only-of-type {\n",
       "        vertical-align: middle;\n",
       "    }\n",
       "\n",
       "    .dataframe tbody tr th {\n",
       "        vertical-align: top;\n",
       "    }\n",
       "\n",
       "    .dataframe thead th {\n",
       "        text-align: right;\n",
       "    }\n",
       "</style>\n",
       "<table border=\"1\" class=\"dataframe\">\n",
       "  <thead>\n",
       "    <tr style=\"text-align: right;\">\n",
       "      <th></th>\n",
       "      <th>Price_value</th>\n",
       "      <th>Price_range</th>\n",
       "    </tr>\n",
       "  </thead>\n",
       "  <tbody>\n",
       "    <tr>\n",
       "      <th>0</th>\n",
       "      <td>2.0</td>\n",
       "      <td>$$ - $$$</td>\n",
       "    </tr>\n",
       "    <tr>\n",
       "      <th>1</th>\n",
       "      <td>2.0</td>\n",
       "      <td>$$ - $$$</td>\n",
       "    </tr>\n",
       "    <tr>\n",
       "      <th>2</th>\n",
       "      <td>2.0</td>\n",
       "      <td>$$ - $$$</td>\n",
       "    </tr>\n",
       "    <tr>\n",
       "      <th>3</th>\n",
       "      <td>3.0</td>\n",
       "      <td>$$$$</td>\n",
       "    </tr>\n",
       "    <tr>\n",
       "      <th>4</th>\n",
       "      <td>3.0</td>\n",
       "      <td>$$$$</td>\n",
       "    </tr>\n",
       "    <tr>\n",
       "      <th>...</th>\n",
       "      <td>...</td>\n",
       "      <td>...</td>\n",
       "    </tr>\n",
       "    <tr>\n",
       "      <th>49995</th>\n",
       "      <td>2.0</td>\n",
       "      <td>$$ - $$$</td>\n",
       "    </tr>\n",
       "    <tr>\n",
       "      <th>49996</th>\n",
       "      <td>2.0</td>\n",
       "      <td>$$ - $$$</td>\n",
       "    </tr>\n",
       "    <tr>\n",
       "      <th>49997</th>\n",
       "      <td>2.0</td>\n",
       "      <td>NaN</td>\n",
       "    </tr>\n",
       "    <tr>\n",
       "      <th>49998</th>\n",
       "      <td>2.0</td>\n",
       "      <td>$$ - $$$</td>\n",
       "    </tr>\n",
       "    <tr>\n",
       "      <th>49999</th>\n",
       "      <td>2.0</td>\n",
       "      <td>$$ - $$$</td>\n",
       "    </tr>\n",
       "  </tbody>\n",
       "</table>\n",
       "<p>50000 rows × 2 columns</p>\n",
       "</div>"
      ],
      "text/plain": [
       "       Price_value Price_range\n",
       "0              2.0    $$ - $$$\n",
       "1              2.0    $$ - $$$\n",
       "2              2.0    $$ - $$$\n",
       "3              3.0        $$$$\n",
       "4              3.0        $$$$\n",
       "...            ...         ...\n",
       "49995          2.0    $$ - $$$\n",
       "49996          2.0    $$ - $$$\n",
       "49997          2.0         NaN\n",
       "49998          2.0    $$ - $$$\n",
       "49999          2.0    $$ - $$$\n",
       "\n",
       "[50000 rows x 2 columns]"
      ]
     },
     "execution_count": 24,
     "metadata": {},
     "output_type": "execute_result"
    }
   ],
   "source": [
    "indexes = data[data.Price_value.isna()].index.tolist()\n",
    "for i in indexes:\n",
    "    data.loc[i, 'Price_value'] = dict_city_mean_price[data.loc[i, 'City']]\n",
    "\n",
    "data[['Price_value', 'Price_range']]"
   ]
  },
  {
   "cell_type": "code",
   "execution_count": 25,
   "metadata": {},
   "outputs": [
    {
     "name": "stdout",
     "output_type": "stream",
     "text": [
      "пустых значений в колонке  Price_value  :  0\n",
      "Значения в колонке:       Price_value\n",
      "2.0        32298\n",
      "1.0         6279\n",
      "3.0         1423\n"
     ]
    },
    {
     "data": {
      "image/png": "[encoded data removed]",
      "text/plain": [
       "<Figure size 720x432 with 1 Axes>"
      ]
     },
     "metadata": {
      "needs_background": "light"
     },
     "output_type": "display_data"
    }
   ],
   "source": [
    "obj_describe(data[data['Sample'] == 1], 'Price_value')"
   ]
  },
  {
   "cell_type": "code",
   "execution_count": 26,
   "metadata": {
    "scrolled": true
   },
   "outputs": [
    {
     "name": "stdout",
     "output_type": "stream",
     "text": [
      "min : 1.0 \n",
      "\r",
      " 25-й перцентиль: 2.0 \n",
      "\r",
      " медиана: 2.0 \n",
      "\r",
      " среднее: 1.87932 \n",
      "\r",
      " max : 3.0 \n",
      "\r",
      " 75-й перцентиль: 2.0 \n",
      "\r",
      " IQR: 0.0 \n",
      "\r",
      " Границы выбросов: [2.0, 2.0].\n"
     ]
    }
   ],
   "source": [
    "num_value_analiz(data, 'Price_value')\n",
    "# вообще подобный анализ  не совсем уместен т.к. 70% значений это 2\n",
    "# смещение среднего относительно медианы в сторону 1 дает понять\n",
    "# что дешевых ресторанов больше чем дорогих"
   ]
  },
  {
   "cell_type": "markdown",
   "metadata": {},
   "source": [
    "## Вывод  Price_range\n",
    "в переменной очень много пропусков 17361 (34.7%). \n",
    "\n",
    "Чтобы не потерять информацию о пропусках создан новый критерий - No_Price \n",
    "\n",
    "Также создан новый признак числового кодирования цены - Price_value (низкая цена - 1, средняя цена -2 , высокая цена - 3). \n",
    "\n",
    "Пропуски заполнил медианой - средней ценой (двойкой)."
   ]
  },
  {
   "cell_type": "markdown",
   "metadata": {},
   "source": [
    "## 3.Ranking "
   ]
  },
  {
   "cell_type": "code",
   "execution_count": 27,
   "metadata": {
    "scrolled": true
   },
   "outputs": [
    {
     "data": {
      "text/plain": [
       "<AxesSubplot:>"
      ]
     },
     "execution_count": 27,
     "metadata": {},
     "output_type": "execute_result"
    },
    {
     "data": {
      "image/png": "[encoded data removed]",
      "text/plain": [
       "<Figure size 432x288 with 1 Axes>"
      ]
     },
     "metadata": {
      "needs_background": "light"
     },
     "output_type": "display_data"
    }
   ],
   "source": [
    "data[data['Sample'] == 1].Ranking.hist(legend=True, bins=50)"
   ]
  },
  {
   "cell_type": "code",
   "execution_count": 28,
   "metadata": {
    "scrolled": true
   },
   "outputs": [
    {
     "data": {
      "text/plain": [
       "<AxesSubplot:>"
      ]
     },
     "execution_count": 28,
     "metadata": {},
     "output_type": "execute_result"
    },
    {
     "data": {
      "image/png": "[encoded data removed]",
      "text/plain": [
       "<Figure size 432x288 with 1 Axes>"
      ]
     },
     "metadata": {
      "needs_background": "light"
     },
     "output_type": "display_data"
    }
   ],
   "source": [
    "data[data['City'] == 'London']['Ranking'].hist(bins=50)"
   ]
  },
  {
   "cell_type": "code",
   "execution_count": 29,
   "metadata": {},
   "outputs": [
    {
     "data": {
      "text/plain": [
       "<AxesSubplot:>"
      ]
     },
     "execution_count": 29,
     "metadata": {},
     "output_type": "execute_result"
    },
    {
     "data": {
      "image/png": "[encoded data removed]",
      "text/plain": [
       "<Figure size 432x288 with 1 Axes>"
      ]
     },
     "metadata": {
      "needs_background": "light"
     },
     "output_type": "display_data"
    }
   ],
   "source": [
    "data['City'].value_counts(ascending=True).plot(kind='barh')"
   ]
  },
  {
   "cell_type": "code",
   "execution_count": 30,
   "metadata": {
    "scrolled": true
   },
   "outputs": [
    {
     "data": {
      "image/png": "[encoded data removed]",
      "text/plain": [
       "<Figure size 432x288 with 1 Axes>"
      ]
     },
     "metadata": {
      "needs_background": "light"
     },
     "output_type": "display_data"
    }
   ],
   "source": [
    "top_rest_city = (data.City.value_counts())[0:5].index\n",
    "for x in top_rest_city:\n",
    "    data['Ranking'][data['City'] == x].hist(bins=100, legend=True)\n",
    "plt.show()"
   ]
  },
  {
   "cell_type": "markdown",
   "metadata": {},
   "source": [
    "Видимо разница в количестве ресторанов в городе дает такое изменение. Значит для каждого города надо нормировать показатели. Потому что в Осло ресторанов ощутимо меньше чем в лондоне потому и мест в рейтинге будет меньше а следовательно как ни крути лучший ресторан в осло будет в рейтинге ниже чем какойнибудь средний лондонский реторан, хотя на деле может быть далеко не так"
   ]
  },
  {
   "cell_type": "code",
   "execution_count": 31,
   "metadata": {},
   "outputs": [
    {
     "data": {
      "text/plain": [
       "{'Paris': 6938.5571,\n",
       " 'Helsinki': 564.2316,\n",
       " 'Edinburgh': 885.1302,\n",
       " 'London': 8169.7074,\n",
       " 'Bratislava': 462.4289,\n",
       " 'Lisbon': 1867.3303,\n",
       " 'Budapest': 1219.0617,\n",
       " 'Stockholm': 1237.4821,\n",
       " 'Rome': 2970.7331,\n",
       " 'Milan': 3106.0278,\n",
       " 'Munich': 1370.2978,\n",
       " 'Hamburg': 1375.4098,\n",
       " 'Prague': 2086.9796,\n",
       " 'Vienna': 1711.2758,\n",
       " 'Dublin': 972.128,\n",
       " 'Barcelona': 3879.4227,\n",
       " 'Brussels': 1541.9018,\n",
       " 'Madrid': 4388.5164,\n",
       " 'Oslo': 552.5697,\n",
       " 'Amsterdam': 1591.5897,\n",
       " 'Berlin': 3255.4177,\n",
       " 'Lyon': 1303.9023,\n",
       " 'Athens': 880.2139,\n",
       " 'Warsaw': 1055.1935,\n",
       " 'Oporto': 752.0343,\n",
       " 'Krakow': 616.2671,\n",
       " 'Copenhagen': 982.1477,\n",
       " 'Luxembourg': 308.1597,\n",
       " 'Zurich': 794.2803,\n",
       " 'Geneva': 713.2271,\n",
       " 'Ljubljana': 234.509}"
      ]
     },
     "execution_count": 31,
     "metadata": {},
     "output_type": "execute_result"
    }
   ],
   "source": [
    "dict_mean_city_rank = {}\n",
    "for i in city_list:\n",
    "    dict_mean_city_rank[i] = round(data[data['City'] == i].Ranking.mean(), 4)\n",
    "dict_mean_city_rank"
   ]
  },
  {
   "cell_type": "markdown",
   "metadata": {},
   "source": [
    "о чем я и упомянул, о разнице ранга между большими и маленькими городами.\n",
    "Для каждого города надо нормировать и центрировать"
   ]
  },
  {
   "cell_type": "code",
   "execution_count": 32,
   "metadata": {},
   "outputs": [
    {
     "name": "stdout",
     "output_type": "stream",
     "text": [
      "             City  City_rest\n",
      "0           Paris       6108\n",
      "1        Helsinki        475\n",
      "2       Edinburgh        745\n",
      "3          London       7193\n",
      "4      Bratislava        380\n",
      "...           ...        ...\n",
      "49995       Milan       2694\n",
      "49996       Paris       6108\n",
      "49997   Stockholm       1033\n",
      "49998      Warsaw        925\n",
      "49999       Milan       2694\n",
      "\n",
      "[50000 rows x 2 columns]\n",
      "{'London': 7193, 'Paris': 6108, 'Madrid': 3813, 'Barcelona': 3395, 'Berlin': 2705, 'Milan': 2694, 'Rome': 2589, 'Prague': 1816, 'Lisbon': 1647, 'Vienna': 1443, 'Amsterdam': 1372, 'Brussels': 1314, 'Hamburg': 1186, 'Munich': 1145, 'Lyon': 1126, 'Stockholm': 1033, 'Budapest': 1021, 'Warsaw': 925, 'Dublin': 836, 'Copenhagen': 819, 'Athens': 776, 'Edinburgh': 745, 'Zurich': 685, 'Oporto': 642, 'Geneva': 590, 'Krakow': 554, 'Oslo': 488, 'Helsinki': 475, 'Bratislava': 380, 'Luxembourg': 263, 'Ljubljana': 222}\n"
     ]
    }
   ],
   "source": [
    "# посчитаем сколько ресторанов в каждом городе\n",
    "rest_count = data.City.value_counts().to_dict()\n",
    "\n",
    "\n",
    "def city_counter(city):\n",
    "    return rest_count[city]\n",
    "\n",
    "\n",
    "# создадим новый параметр\n",
    "data['City_rest'] = data['City'].apply(city_counter)\n",
    "print(data[['City', 'City_rest']])\n",
    "print(rest_count)"
   ]
  },
  {
   "cell_type": "code",
   "execution_count": 33,
   "metadata": {},
   "outputs": [],
   "source": [
    "# сделаем для каждого города средний ранг чтобы относительно него можно\n",
    "# было сравнивать локально по городам\n",
    "data['mean_City_rank'] = data['City'].apply(lambda x: dict_mean_city_rank[x])"
   ]
  },
  {
   "cell_type": "code",
   "execution_count": 34,
   "metadata": {},
   "outputs": [],
   "source": [
    "# делаем для каждого ресторана новый локальный ранг\n",
    "# data['norming_rank'] = (data['Ranking'] - data['mean_City_rank']) / data['City_rest']\n",
    "data['norming_rank'] = data['Ranking'] / data['City_rest']"
   ]
  },
  {
   "cell_type": "code",
   "execution_count": 35,
   "metadata": {},
   "outputs": [
    {
     "data": {
      "image/png": "[encoded data removed]",
      "text/plain": [
       "<Figure size 432x288 with 1 Axes>"
      ]
     },
     "metadata": {
      "needs_background": "light"
     },
     "output_type": "display_data"
    }
   ],
   "source": [
    "top_rest_city = (data.City.value_counts())[0:5].index\n",
    "for x in top_rest_city:\n",
    "    data['norming_rank'][data['City'] == x].hist(bins=100, legend=True)\n",
    "plt.show()"
   ]
  },
  {
   "cell_type": "markdown",
   "metadata": {},
   "source": [
    "## Вывод Ranking\n",
    "Нормировали и центрировали переменную по городам.\n",
    "\n",
    "создали параметр norming_rank - нормированный , центрированный ранг ресторана\n",
    "\n",
    "создали параметр City_rest - количество ресторанов в городе\n",
    "\n",
    "создали параметр mean_City_rank - средний ранг в городе"
   ]
  },
  {
   "cell_type": "markdown",
   "metadata": {},
   "source": [
    "## 4.City "
   ]
  },
  {
   "cell_type": "code",
   "execution_count": 36,
   "metadata": {
    "scrolled": true
   },
   "outputs": [
    {
     "name": "stdout",
     "output_type": "stream",
     "text": [
      "пустых значений в колонке  City  :  0\n",
      "Значения в колонке:              City\n",
      "London      5757\n",
      "Paris       4897\n",
      "Madrid      3108\n",
      "Barcelona   2734\n",
      "Berlin      2155\n",
      "Milan       2133\n",
      "Rome        2078\n",
      "Prague      1443\n",
      "Lisbon      1300\n",
      "Vienna      1166\n",
      "Amsterdam   1086\n",
      "Brussels    1060\n",
      "Hamburg      949\n",
      "Munich       893\n",
      "Lyon         892\n",
      "Stockholm    820\n",
      "Budapest     816\n",
      "Warsaw       727\n",
      "Dublin       673\n",
      "Copenhagen   659\n",
      "Athens       628\n",
      "Edinburgh    596\n",
      "Zurich       538\n",
      "Oporto       513\n",
      "Geneva       481\n",
      "Krakow       443\n",
      "Oslo         385\n",
      "Helsinki     376\n",
      "Bratislava   301\n",
      "Luxembourg   210\n",
      "Ljubljana    183\n"
     ]
    },
    {
     "data": {
      "image/png": "[encoded data removed]",
      "text/plain": [
       "<Figure size 720x432 with 1 Axes>"
      ]
     },
     "metadata": {
      "needs_background": "light"
     },
     "output_type": "display_data"
    }
   ],
   "source": [
    "obj_describe(data[data['Sample'] == 1], 'City')"
   ]
  },
  {
   "cell_type": "markdown",
   "metadata": {},
   "source": [
    "1)Данный параметр не имеет пропусков.\n",
    "2)Так же городов не так много потому наличие/отсутствие ошибок написания вида \"London\" и \"london\" можно проверить методом \"пристального взгляда\". Тем не менее проведем небольшую доработку путем приведения всех названий к нижнему регистру.\n",
    "3)Так же из боксплота видно что значение данного параметра имеет влияние на плотность распределения целевой переменной\n",
    "4)Создадим новый параметр City_rest показывающий количество ресторанов в городе, в котором находится целевой ресторан. Признак числовой потому сразу его проанализируем\n",
    "5)На основе признака City сгенерируем новые дамми-признаки"
   ]
  },
  {
   "cell_type": "code",
   "execution_count": 37,
   "metadata": {
    "scrolled": true
   },
   "outputs": [
    {
     "data": {
      "text/html": [
       "<div>\n",
       "<style scoped>\n",
       "    .dataframe tbody tr th:only-of-type {\n",
       "        vertical-align: middle;\n",
       "    }\n",
       "\n",
       "    .dataframe tbody tr th {\n",
       "        vertical-align: top;\n",
       "    }\n",
       "\n",
       "    .dataframe thead th {\n",
       "        text-align: right;\n",
       "    }\n",
       "</style>\n",
       "<table border=\"1\" class=\"dataframe\">\n",
       "  <thead>\n",
       "    <tr style=\"text-align: right;\">\n",
       "      <th></th>\n",
       "      <th>Restaurant_id</th>\n",
       "      <th>City</th>\n",
       "      <th>Cuisine_style</th>\n",
       "      <th>Ranking</th>\n",
       "      <th>Price_range</th>\n",
       "      <th>Number_of_reviews</th>\n",
       "      <th>Reviews</th>\n",
       "      <th>URL_TA</th>\n",
       "      <th>ID_TA</th>\n",
       "      <th>Sample</th>\n",
       "      <th>Rating</th>\n",
       "      <th>Franchise</th>\n",
       "      <th>No_Price</th>\n",
       "      <th>Price_value</th>\n",
       "      <th>City_rest</th>\n",
       "      <th>mean_City_rank</th>\n",
       "      <th>norming_rank</th>\n",
       "    </tr>\n",
       "  </thead>\n",
       "  <tbody>\n",
       "    <tr>\n",
       "      <th>0</th>\n",
       "      <td>id_0</td>\n",
       "      <td>paris</td>\n",
       "      <td>['Bar', 'Pub']</td>\n",
       "      <td>12963.0</td>\n",
       "      <td>$$ - $$$</td>\n",
       "      <td>4.0</td>\n",
       "      <td>[[], []]</td>\n",
       "      <td>/Restaurant_Review-g187147-d10746918-Reviews-L...</td>\n",
       "      <td>d10746918</td>\n",
       "      <td>0</td>\n",
       "      <td>0.0</td>\n",
       "      <td>1</td>\n",
       "      <td>0</td>\n",
       "      <td>2.0</td>\n",
       "      <td>6108</td>\n",
       "      <td>6938.5571</td>\n",
       "      <td>2.122299</td>\n",
       "    </tr>\n",
       "    <tr>\n",
       "      <th>1</th>\n",
       "      <td>id_1</td>\n",
       "      <td>helsinki</td>\n",
       "      <td>['European', 'Scandinavian', 'Gluten Free Opti...</td>\n",
       "      <td>106.0</td>\n",
       "      <td>$$ - $$$</td>\n",
       "      <td>97.0</td>\n",
       "      <td>[['Very good reviews!', 'Fine dining in Hakani...</td>\n",
       "      <td>/Restaurant_Review-g189934-d6674944-Reviews-Ra...</td>\n",
       "      <td>d6674944</td>\n",
       "      <td>0</td>\n",
       "      <td>0.0</td>\n",
       "      <td>1</td>\n",
       "      <td>0</td>\n",
       "      <td>2.0</td>\n",
       "      <td>475</td>\n",
       "      <td>564.2316</td>\n",
       "      <td>0.223158</td>\n",
       "    </tr>\n",
       "    <tr>\n",
       "      <th>2</th>\n",
       "      <td>id_2</td>\n",
       "      <td>edinburgh</td>\n",
       "      <td>['Vegetarian Friendly']</td>\n",
       "      <td>810.0</td>\n",
       "      <td>$$ - $$$</td>\n",
       "      <td>28.0</td>\n",
       "      <td>[['Better than the Links', 'Ivy Black'], ['12/...</td>\n",
       "      <td>/Restaurant_Review-g186525-d13129638-Reviews-B...</td>\n",
       "      <td>d13129638</td>\n",
       "      <td>0</td>\n",
       "      <td>0.0</td>\n",
       "      <td>1</td>\n",
       "      <td>0</td>\n",
       "      <td>2.0</td>\n",
       "      <td>745</td>\n",
       "      <td>885.1302</td>\n",
       "      <td>1.087248</td>\n",
       "    </tr>\n",
       "    <tr>\n",
       "      <th>3</th>\n",
       "      <td>id_3</td>\n",
       "      <td>london</td>\n",
       "      <td>['Italian', 'Mediterranean', 'European', 'Vege...</td>\n",
       "      <td>1669.0</td>\n",
       "      <td>$$$$</td>\n",
       "      <td>202.0</td>\n",
       "      <td>[['Most exquisite', 'Delicious and authentic']...</td>\n",
       "      <td>/Restaurant_Review-g186338-d680417-Reviews-Qui...</td>\n",
       "      <td>d680417</td>\n",
       "      <td>0</td>\n",
       "      <td>0.0</td>\n",
       "      <td>1</td>\n",
       "      <td>0</td>\n",
       "      <td>3.0</td>\n",
       "      <td>7193</td>\n",
       "      <td>8169.7074</td>\n",
       "      <td>0.232031</td>\n",
       "    </tr>\n",
       "    <tr>\n",
       "      <th>4</th>\n",
       "      <td>id_4</td>\n",
       "      <td>bratislava</td>\n",
       "      <td>['Italian', 'Mediterranean', 'European', 'Seaf...</td>\n",
       "      <td>37.0</td>\n",
       "      <td>$$$$</td>\n",
       "      <td>162.0</td>\n",
       "      <td>[['Always the best in bratislava', 'Very good ...</td>\n",
       "      <td>/Restaurant_Review-g274924-d1112354-Reviews-Ma...</td>\n",
       "      <td>d1112354</td>\n",
       "      <td>0</td>\n",
       "      <td>0.0</td>\n",
       "      <td>1</td>\n",
       "      <td>0</td>\n",
       "      <td>3.0</td>\n",
       "      <td>380</td>\n",
       "      <td>462.4289</td>\n",
       "      <td>0.097368</td>\n",
       "    </tr>\n",
       "  </tbody>\n",
       "</table>\n",
       "</div>"
      ],
      "text/plain": [
       "  Restaurant_id        City  \\\n",
       "0          id_0       paris   \n",
       "1          id_1    helsinki   \n",
       "2          id_2   edinburgh   \n",
       "3          id_3      london   \n",
       "4          id_4  bratislava   \n",
       "\n",
       "                                       Cuisine_style  Ranking Price_range  \\\n",
       "0                                     ['Bar', 'Pub']  12963.0    $$ - $$$   \n",
       "1  ['European', 'Scandinavian', 'Gluten Free Opti...    106.0    $$ - $$$   \n",
       "2                            ['Vegetarian Friendly']    810.0    $$ - $$$   \n",
       "3  ['Italian', 'Mediterranean', 'European', 'Vege...   1669.0        $$$$   \n",
       "4  ['Italian', 'Mediterranean', 'European', 'Seaf...     37.0        $$$$   \n",
       "\n",
       "   Number_of_reviews                                            Reviews  \\\n",
       "0                4.0                                           [[], []]   \n",
       "1               97.0  [['Very good reviews!', 'Fine dining in Hakani...   \n",
       "2               28.0  [['Better than the Links', 'Ivy Black'], ['12/...   \n",
       "3              202.0  [['Most exquisite', 'Delicious and authentic']...   \n",
       "4              162.0  [['Always the best in bratislava', 'Very good ...   \n",
       "\n",
       "                                              URL_TA      ID_TA  Sample  \\\n",
       "0  /Restaurant_Review-g187147-d10746918-Reviews-L...  d10746918       0   \n",
       "1  /Restaurant_Review-g189934-d6674944-Reviews-Ra...   d6674944       0   \n",
       "2  /Restaurant_Review-g186525-d13129638-Reviews-B...  d13129638       0   \n",
       "3  /Restaurant_Review-g186338-d680417-Reviews-Qui...    d680417       0   \n",
       "4  /Restaurant_Review-g274924-d1112354-Reviews-Ma...   d1112354       0   \n",
       "\n",
       "   Rating  Franchise  No_Price  Price_value  City_rest  mean_City_rank  \\\n",
       "0     0.0          1         0          2.0       6108       6938.5571   \n",
       "1     0.0          1         0          2.0        475        564.2316   \n",
       "2     0.0          1         0          2.0        745        885.1302   \n",
       "3     0.0          1         0          3.0       7193       8169.7074   \n",
       "4     0.0          1         0          3.0        380        462.4289   \n",
       "\n",
       "   norming_rank  \n",
       "0      2.122299  \n",
       "1      0.223158  \n",
       "2      1.087248  \n",
       "3      0.232031  \n",
       "4      0.097368  "
      ]
     },
     "execution_count": 37,
     "metadata": {},
     "output_type": "execute_result"
    }
   ],
   "source": [
    "data.City = data.City.apply(lambda x: x.lower())\n",
    "data.head(5)"
   ]
  },
  {
   "cell_type": "code",
   "execution_count": 38,
   "metadata": {
    "scrolled": true
   },
   "outputs": [
    {
     "data": {
      "text/plain": [
       "<AxesSubplot:>"
      ]
     },
     "execution_count": 38,
     "metadata": {},
     "output_type": "execute_result"
    },
    {
     "data": {
      "image/png": "[encoded data removed]",
      "text/plain": [
       "<Figure size 432x288 with 1 Axes>"
      ]
     },
     "metadata": {
      "needs_background": "light"
     },
     "output_type": "display_data"
    }
   ],
   "source": [
    "data['City'].value_counts(ascending=True).plot(kind='barh')"
   ]
  },
  {
   "cell_type": "code",
   "execution_count": 39,
   "metadata": {
    "scrolled": true
   },
   "outputs": [
    {
     "data": {
      "text/plain": [
       "<AxesSubplot:ylabel='Frequency'>"
      ]
     },
     "execution_count": 39,
     "metadata": {},
     "output_type": "execute_result"
    },
    {
     "data": {
      "image/png": "[encoded data removed]",
      "text/plain": [
       "<Figure size 432x288 with 1 Axes>"
      ]
     },
     "metadata": {
      "needs_background": "light"
     },
     "output_type": "display_data"
    }
   ],
   "source": [
    "data.City_rest.plot(kind='hist', bins=15)"
   ]
  },
  {
   "cell_type": "code",
   "execution_count": 40,
   "metadata": {
    "scrolled": true
   },
   "outputs": [
    {
     "name": "stdout",
     "output_type": "stream",
     "text": [
      "min : 222 \n",
      "\r",
      " 25-й перцентиль: 1145.0 \n",
      "\r",
      " медиана: 2694.0 \n",
      "\r",
      " среднее: 3196.6344 \n",
      "\r",
      " max : 7193 \n",
      "\r",
      " 75-й перцентиль: 6108.0 \n",
      "\r",
      " IQR: 4963.0 \n",
      "\r",
      " Границы выбросов: [-6299.5, 13552.5].\n"
     ]
    }
   ],
   "source": [
    "# сделаем анализ границ и расчитаем их точные значения\n",
    "num_value_analiz(data, 'City_rest')\n",
    "# построение гистограммы с обозначением выбросов считаю нецелесообразным т.к.\n",
    "# Как мы видели из распределения количества ресторанов по городам,\n",
    "# в европейских столицах как более богатых городах просто больше ресторанов))"
   ]
  },
  {
   "cell_type": "markdown",
   "metadata": {},
   "source": [
    "По сути выбросов здесь и не может быть т.к. верхняя планка для данного параметра не установлена, а отрицательной быть не может.\n",
    "Просто можем обратить внимание на то что медиана меньше среднего что по сути повторяет смысл графика с количеством ресторанов по городам. \n",
    "\n",
    "Признак City категорийальный потому на его основе сгенерируем новые дамми-признаки"
   ]
  },
  {
   "cell_type": "code",
   "execution_count": 41,
   "metadata": {
    "scrolled": true
   },
   "outputs": [
    {
     "name": "stdout",
     "output_type": "stream",
     "text": [
      "<class 'pandas.core.frame.DataFrame'>\n",
      "RangeIndex: 50000 entries, 0 to 49999\n",
      "Data columns (total 48 columns):\n",
      " #   Column             Non-Null Count  Dtype  \n",
      "---  ------             --------------  -----  \n",
      " 0   Restaurant_id      50000 non-null  object \n",
      " 1   Cuisine_style      38410 non-null  object \n",
      " 2   Ranking            50000 non-null  float64\n",
      " 3   Price_range        32639 non-null  object \n",
      " 4   Number_of_reviews  46800 non-null  float64\n",
      " 5   Reviews            49998 non-null  object \n",
      " 6   URL_TA             50000 non-null  object \n",
      " 7   ID_TA              50000 non-null  object \n",
      " 8   Sample             50000 non-null  int64  \n",
      " 9   Rating             50000 non-null  float64\n",
      " 10  Franchise          50000 non-null  int64  \n",
      " 11  No_Price           50000 non-null  int64  \n",
      " 12  Price_value        50000 non-null  float64\n",
      " 13  City_rest          50000 non-null  int64  \n",
      " 14  mean_City_rank     50000 non-null  float64\n",
      " 15  norming_rank       50000 non-null  float64\n",
      " 16  City_amsterdam     50000 non-null  uint8  \n",
      " 17  City_athens        50000 non-null  uint8  \n",
      " 18  City_barcelona     50000 non-null  uint8  \n",
      " 19  City_berlin        50000 non-null  uint8  \n",
      " 20  City_bratislava    50000 non-null  uint8  \n",
      " 21  City_brussels      50000 non-null  uint8  \n",
      " 22  City_budapest      50000 non-null  uint8  \n",
      " 23  City_copenhagen    50000 non-null  uint8  \n",
      " 24  City_dublin        50000 non-null  uint8  \n",
      " 25  City_edinburgh     50000 non-null  uint8  \n",
      " 26  City_geneva        50000 non-null  uint8  \n",
      " 27  City_hamburg       50000 non-null  uint8  \n",
      " 28  City_helsinki      50000 non-null  uint8  \n",
      " 29  City_krakow        50000 non-null  uint8  \n",
      " 30  City_lisbon        50000 non-null  uint8  \n",
      " 31  City_ljubljana     50000 non-null  uint8  \n",
      " 32  City_london        50000 non-null  uint8  \n",
      " 33  City_luxembourg    50000 non-null  uint8  \n",
      " 34  City_lyon          50000 non-null  uint8  \n",
      " 35  City_madrid        50000 non-null  uint8  \n",
      " 36  City_milan         50000 non-null  uint8  \n",
      " 37  City_munich        50000 non-null  uint8  \n",
      " 38  City_oporto        50000 non-null  uint8  \n",
      " 39  City_oslo          50000 non-null  uint8  \n",
      " 40  City_paris         50000 non-null  uint8  \n",
      " 41  City_prague        50000 non-null  uint8  \n",
      " 42  City_rome          50000 non-null  uint8  \n",
      " 43  City_stockholm     50000 non-null  uint8  \n",
      " 44  City_vienna        50000 non-null  uint8  \n",
      " 45  City_warsaw        50000 non-null  uint8  \n",
      " 46  City_zurich        50000 non-null  uint8  \n",
      " 47  City_nan           50000 non-null  uint8  \n",
      "dtypes: float64(6), int64(4), object(6), uint8(32)\n",
      "memory usage: 7.6+ MB\n"
     ]
    }
   ],
   "source": [
    "data = pd.get_dummies(data, columns=['City', ], dummy_na=True)\n",
    "data.info()"
   ]
  },
  {
   "cell_type": "markdown",
   "metadata": {},
   "source": [
    "## Вывод City\n",
    "Данный параметр не имеет пропусков. Проведена небольшая косметическая обработка значений. \n",
    "\n",
    "Анализ влияния параметра на плотность распределения показал значимость данного параметра.\n",
    "\n",
    "Был сгенерирован новый признак City_rest обозначающий количество ресторанов.\n",
    "\n",
    "На основе параметра City были сгенерированны новые дамми-признаки для модели."
   ]
  },
  {
   "cell_type": "markdown",
   "metadata": {},
   "source": [
    "##  5.Cuisine_style"
   ]
  },
  {
   "cell_type": "markdown",
   "metadata": {},
   "source": [
    "Применение моей функции не целесообразно т.к. для данных строковых значений слишком много комбинаций и требуется иная предобработка признака"
   ]
  },
  {
   "cell_type": "code",
   "execution_count": 42,
   "metadata": {},
   "outputs": [
    {
     "data": {
      "text/plain": [
       "['Italian']                                                                                           1332\n",
       "['French']                                                                                            1019\n",
       "['Spanish']                                                                                            860\n",
       "['French', 'European']                                                                                 503\n",
       "['Cafe']                                                                                               500\n",
       "                                                                                                      ... \n",
       "['Gastropub', 'Bar', 'European', 'Vegan Options']                                                        1\n",
       "['Portuguese', 'Soups', 'Mediterranean', 'European']                                                     1\n",
       "['Italian', 'Pizza', 'Mediterranean', 'European', 'Soups', 'Vegetarian Friendly', 'Vegan Options']       1\n",
       "['Scandinavian', 'Steakhouse', 'European']                                                               1\n",
       "['American', 'Vegan Options', 'Vegetarian Friendly']                                                     1\n",
       "Name: Cuisine_style, Length: 10731, dtype: int64"
      ]
     },
     "execution_count": 42,
     "metadata": {},
     "output_type": "execute_result"
    }
   ],
   "source": [
    "data.Cuisine_style.value_counts()"
   ]
  },
  {
   "cell_type": "markdown",
   "metadata": {},
   "source": [
    "В признаке 11590, а это около 20% от общего числа.  \n",
    "\n",
    "1) Решил что создам новый признак \"No_Cuisine_style\" поскольку доля с пропусками достаточно велика и терять такую информацию не нужно и ведь вполне возможно что ресторан просто не добавил такую информацию о себе на ресурс.\n",
    "1- стиль кухни отсутствует,0 - указан\n",
    "\n",
    "2) Создадим новый признак \"Cuisine_quant\"- количество кухонь, представленных в ресторане\n",
    "\n",
    "3) Необходимо заполнить пропуски, я решил заполнить их значением 'Other'\n",
    "\n",
    "4) Видно, что в данном параметре хранится список, но в датафрейме он хранится строкой и потому взаимодействовать с ним как со списком не получится. и это надо исправить.\n",
    "\n",
    "5) Кухни - по сути категориальный параметр потому надо сгенерировать новые параметры в виде принадлежности к кухне\n",
    "\n"
   ]
  },
  {
   "cell_type": "code",
   "execution_count": 43,
   "metadata": {},
   "outputs": [
    {
     "data": {
      "text/html": [
       "<div>\n",
       "<style scoped>\n",
       "    .dataframe tbody tr th:only-of-type {\n",
       "        vertical-align: middle;\n",
       "    }\n",
       "\n",
       "    .dataframe tbody tr th {\n",
       "        vertical-align: top;\n",
       "    }\n",
       "\n",
       "    .dataframe thead th {\n",
       "        text-align: right;\n",
       "    }\n",
       "</style>\n",
       "<table border=\"1\" class=\"dataframe\">\n",
       "  <thead>\n",
       "    <tr style=\"text-align: right;\">\n",
       "      <th></th>\n",
       "      <th>No_Cuisine_style</th>\n",
       "      <th>Cuisine_style</th>\n",
       "    </tr>\n",
       "  </thead>\n",
       "  <tbody>\n",
       "    <tr>\n",
       "      <th>7</th>\n",
       "      <td>1</td>\n",
       "      <td>NaN</td>\n",
       "    </tr>\n",
       "    <tr>\n",
       "      <th>10</th>\n",
       "      <td>1</td>\n",
       "      <td>NaN</td>\n",
       "    </tr>\n",
       "    <tr>\n",
       "      <th>13</th>\n",
       "      <td>1</td>\n",
       "      <td>NaN</td>\n",
       "    </tr>\n",
       "    <tr>\n",
       "      <th>18</th>\n",
       "      <td>1</td>\n",
       "      <td>NaN</td>\n",
       "    </tr>\n",
       "    <tr>\n",
       "      <th>20</th>\n",
       "      <td>1</td>\n",
       "      <td>NaN</td>\n",
       "    </tr>\n",
       "    <tr>\n",
       "      <th>...</th>\n",
       "      <td>...</td>\n",
       "      <td>...</td>\n",
       "    </tr>\n",
       "    <tr>\n",
       "      <th>49981</th>\n",
       "      <td>1</td>\n",
       "      <td>NaN</td>\n",
       "    </tr>\n",
       "    <tr>\n",
       "      <th>49983</th>\n",
       "      <td>1</td>\n",
       "      <td>NaN</td>\n",
       "    </tr>\n",
       "    <tr>\n",
       "      <th>49986</th>\n",
       "      <td>1</td>\n",
       "      <td>NaN</td>\n",
       "    </tr>\n",
       "    <tr>\n",
       "      <th>49988</th>\n",
       "      <td>1</td>\n",
       "      <td>NaN</td>\n",
       "    </tr>\n",
       "    <tr>\n",
       "      <th>49993</th>\n",
       "      <td>1</td>\n",
       "      <td>NaN</td>\n",
       "    </tr>\n",
       "  </tbody>\n",
       "</table>\n",
       "<p>11590 rows × 2 columns</p>\n",
       "</div>"
      ],
      "text/plain": [
       "       No_Cuisine_style Cuisine_style\n",
       "7                     1           NaN\n",
       "10                    1           NaN\n",
       "13                    1           NaN\n",
       "18                    1           NaN\n",
       "20                    1           NaN\n",
       "...                 ...           ...\n",
       "49981                 1           NaN\n",
       "49983                 1           NaN\n",
       "49986                 1           NaN\n",
       "49988                 1           NaN\n",
       "49993                 1           NaN\n",
       "\n",
       "[11590 rows x 2 columns]"
      ]
     },
     "execution_count": 43,
     "metadata": {},
     "output_type": "execute_result"
    }
   ],
   "source": [
    "# Создаем новый признак No_Cuisine_style\n",
    "data['No_Cuisine_style'] = pd.isna(data['Cuisine_style']).astype('int64')\n",
    "data[['No_Cuisine_style', 'Cuisine_style']][data['No_Cuisine_style'] == 1]"
   ]
  },
  {
   "cell_type": "code",
   "execution_count": 44,
   "metadata": {},
   "outputs": [
    {
     "name": "stdout",
     "output_type": "stream",
     "text": [
      "пустых значений в колонке  No_Cuisine_style  :  0\n",
      "Значения в колонке:     No_Cuisine_style\n",
      "0             30717\n",
      "1              9283\n"
     ]
    },
    {
     "data": {
      "image/png": "[encoded data removed]",
      "text/plain": [
       "<Figure size 720x432 with 1 Axes>"
      ]
     },
     "metadata": {
      "needs_background": "light"
     },
     "output_type": "display_data"
    }
   ],
   "source": [
    "obj_describe(data[data['Sample'] == 1], 'No_Cuisine_style')"
   ]
  },
  {
   "cell_type": "markdown",
   "metadata": {},
   "source": [
    "Видим, что наличие определенного стиля кухни(значение 0) не влияет на распределение целевого признака. Данная идея не обернулась усехом. Ну хоть показал знание FailFast, возможно))"
   ]
  },
  {
   "cell_type": "code",
   "execution_count": 45,
   "metadata": {
    "scrolled": true
   },
   "outputs": [
    {
     "data": {
      "text/html": [
       "<div>\n",
       "<style scoped>\n",
       "    .dataframe tbody tr th:only-of-type {\n",
       "        vertical-align: middle;\n",
       "    }\n",
       "\n",
       "    .dataframe tbody tr th {\n",
       "        vertical-align: top;\n",
       "    }\n",
       "\n",
       "    .dataframe thead th {\n",
       "        text-align: right;\n",
       "    }\n",
       "</style>\n",
       "<table border=\"1\" class=\"dataframe\">\n",
       "  <thead>\n",
       "    <tr style=\"text-align: right;\">\n",
       "      <th></th>\n",
       "      <th>Cuisine_quant</th>\n",
       "      <th>Cuisine_style</th>\n",
       "    </tr>\n",
       "  </thead>\n",
       "  <tbody>\n",
       "    <tr>\n",
       "      <th>7</th>\n",
       "      <td>0</td>\n",
       "      <td>NaN</td>\n",
       "    </tr>\n",
       "    <tr>\n",
       "      <th>10</th>\n",
       "      <td>0</td>\n",
       "      <td>NaN</td>\n",
       "    </tr>\n",
       "    <tr>\n",
       "      <th>13</th>\n",
       "      <td>0</td>\n",
       "      <td>NaN</td>\n",
       "    </tr>\n",
       "    <tr>\n",
       "      <th>18</th>\n",
       "      <td>0</td>\n",
       "      <td>NaN</td>\n",
       "    </tr>\n",
       "    <tr>\n",
       "      <th>20</th>\n",
       "      <td>0</td>\n",
       "      <td>NaN</td>\n",
       "    </tr>\n",
       "    <tr>\n",
       "      <th>...</th>\n",
       "      <td>...</td>\n",
       "      <td>...</td>\n",
       "    </tr>\n",
       "    <tr>\n",
       "      <th>49981</th>\n",
       "      <td>0</td>\n",
       "      <td>NaN</td>\n",
       "    </tr>\n",
       "    <tr>\n",
       "      <th>49983</th>\n",
       "      <td>0</td>\n",
       "      <td>NaN</td>\n",
       "    </tr>\n",
       "    <tr>\n",
       "      <th>49986</th>\n",
       "      <td>0</td>\n",
       "      <td>NaN</td>\n",
       "    </tr>\n",
       "    <tr>\n",
       "      <th>49988</th>\n",
       "      <td>0</td>\n",
       "      <td>NaN</td>\n",
       "    </tr>\n",
       "    <tr>\n",
       "      <th>49993</th>\n",
       "      <td>0</td>\n",
       "      <td>NaN</td>\n",
       "    </tr>\n",
       "  </tbody>\n",
       "</table>\n",
       "<p>11590 rows × 2 columns</p>\n",
       "</div>"
      ],
      "text/plain": [
       "       Cuisine_quant Cuisine_style\n",
       "7                  0           NaN\n",
       "10                 0           NaN\n",
       "13                 0           NaN\n",
       "18                 0           NaN\n",
       "20                 0           NaN\n",
       "...              ...           ...\n",
       "49981              0           NaN\n",
       "49983              0           NaN\n",
       "49986              0           NaN\n",
       "49988              0           NaN\n",
       "49993              0           NaN\n",
       "\n",
       "[11590 rows x 2 columns]"
      ]
     },
     "execution_count": 45,
     "metadata": {},
     "output_type": "execute_result"
    }
   ],
   "source": [
    "# Создаем новый признак Cuisine_quant\n",
    "# там где нет стиля кухни будет соответственно стоять 0\n",
    "data['Cuisine_quant'] = data['Cuisine_style'].apply(\n",
    "    lambda x: len(re.findall(r\"'(\\b.*?\\b)'\", str(x))))\n",
    "data[['Cuisine_quant', 'Cuisine_style']][data['Cuisine_quant'] == 0]"
   ]
  },
  {
   "cell_type": "code",
   "execution_count": 46,
   "metadata": {
    "scrolled": true
   },
   "outputs": [
    {
     "data": {
      "text/plain": [
       "<AxesSubplot:>"
      ]
     },
     "execution_count": 46,
     "metadata": {},
     "output_type": "execute_result"
    },
    {
     "data": {
      "image/png": "[encoded data removed]",
      "text/plain": [
       "<Figure size 432x288 with 1 Axes>"
      ]
     },
     "metadata": {
      "needs_background": "light"
     },
     "output_type": "display_data"
    }
   ],
   "source": [
    "data.Cuisine_quant.hist(legend=True)"
   ]
  },
  {
   "cell_type": "code",
   "execution_count": 47,
   "metadata": {
    "scrolled": true
   },
   "outputs": [
    {
     "name": "stdout",
     "output_type": "stream",
     "text": [
      "пустых значений в колонке  Cuisine_quant  :  0\n",
      "Значения в колонке:      Cuisine_quant\n",
      "0            9283\n",
      "1            7264\n",
      "2            6294\n",
      "3            5306\n",
      "4            4799\n",
      "5            3606\n",
      "6            2043\n",
      "7            1022\n",
      "8             283\n",
      "9              76\n",
      "10             19\n",
      "11              3\n",
      "21              1\n",
      "13              1\n"
     ]
    },
    {
     "data": {
      "image/png": "[encoded data removed]",
      "text/plain": [
       "<Figure size 720x432 with 1 Axes>"
      ]
     },
     "metadata": {
      "needs_background": "light"
     },
     "output_type": "display_data"
    }
   ],
   "source": [
    "obj_describe(data[data['Sample'] == 1], 'Cuisine_quant')"
   ]
  },
  {
   "cell_type": "markdown",
   "metadata": {},
   "source": [
    "Видим как отсутствие/наличие, а так же количество стилей кухни влияет на распределение рейтинга. Параметр числовой потому проведем более плотный анализ"
   ]
  },
  {
   "cell_type": "code",
   "execution_count": 48,
   "metadata": {
    "scrolled": true
   },
   "outputs": [
    {
     "name": "stdout",
     "output_type": "stream",
     "text": [
      "min : 0 \n",
      "\r",
      " 25-й перцентиль: 1.0 \n",
      "\r",
      " медиана: 2.0 \n",
      "\r",
      " среднее: 2.39352 \n",
      "\r",
      " max : 21 \n",
      "\r",
      " 75-й перцентиль: 4.0 \n",
      "\r",
      " IQR: 3.0 \n",
      "\r",
      " Границы выбросов: [-3.5, 8.5].\n"
     ]
    }
   ],
   "source": [
    "num_value_analiz(data, 'Cuisine_quant')"
   ]
  },
  {
   "cell_type": "markdown",
   "metadata": {},
   "source": [
    "Очевидно что имеются рестораны , которые по данному показателю считаются выбросом, но вполне вомзожно что это крайне разноплановый ресторан потому удалять его как выброс я не буду"
   ]
  },
  {
   "cell_type": "code",
   "execution_count": 49,
   "metadata": {
    "scrolled": true
   },
   "outputs": [
    {
     "name": "stdout",
     "output_type": "stream",
     "text": [
      "всего кобинаций : 10732\n",
      "самые популярные стили ['Italian']                     1332\n",
      "['French']                      1019\n",
      "['Spanish']                      860\n",
      "['French', 'European']           503\n",
      "['Cafe']                         500\n",
      "['Pizza']                        454\n",
      "['Italian', 'Pizza']             422\n",
      "['Chinese']                      418\n",
      "['European', 'Portuguese']       415\n",
      "['Mediterranean']                311\n",
      "['Bar', 'Pub']                   307\n",
      "['Mediterranean', 'Spanish']     293\n",
      "['Vegetarian Friendly']          276\n",
      "['Indian']                       270\n",
      "['Fast Food']                    263\n",
      "Name: Cuisine_style, dtype: int64\n",
      "самые уникальные стили ['American', 'Asian', 'Australian', 'Indonesian']                                                                                1\n",
      "['Pizza', 'Indian', 'Italian', 'Vegetarian Friendly', 'Vegan Options', 'Gluten Free Options']                                    1\n",
      "['Polish', 'European', 'Eastern European', 'Central European', 'Vegetarian Friendly', 'Gluten Free Options', 'Vegan Options']    1\n",
      "['Delicatessen', 'Fast Food', 'International', 'European', 'Vegetarian Friendly', 'Vegan Options']                               1\n",
      "['Bar', 'Cafe', 'Spanish', 'Pub', 'Fusion']                                                                                      1\n",
      "['Italian', 'Brew Pub']                                                                                                          1\n",
      "['Spanish', 'Contemporary', 'Pub', 'Gastropub']                                                                                  1\n",
      "['European', 'Scandinavian', 'Cafe']                                                                                             1\n",
      "['Irish', 'Bar', 'European', 'Pub', 'Gastropub', 'Gluten Free Options']                                                          1\n",
      "['Steakhouse', 'Pizza', 'Seafood']                                                                                               1\n",
      "['Pakistani', 'Middle Eastern', 'Halal']                                                                                         1\n",
      "['Gastropub', 'Bar', 'European', 'Vegan Options']                                                                                1\n",
      "['Portuguese', 'Soups', 'Mediterranean', 'European']                                                                             1\n",
      "['Italian', 'Pizza', 'Mediterranean', 'European', 'Soups', 'Vegetarian Friendly', 'Vegan Options']                               1\n",
      "['Scandinavian', 'Steakhouse', 'European']                                                                                       1\n",
      "['American', 'Vegan Options', 'Vegetarian Friendly']                                                                             1\n",
      "Name: Cuisine_style, dtype: int64\n"
     ]
    }
   ],
   "source": [
    "print('всего кобинаций :', len(data['Cuisine_style'].unique().tolist()))\n",
    "# крайне много уникальных комбинаций стилей, создание дамми-признаков\n",
    "# по каждой комбинации считаю нецелесообразным\n",
    "print('самые популярные стили', data.Cuisine_style.value_counts()[0:15])\n",
    "print('самые уникальные стили', data.Cuisine_style.value_counts()[-16:])"
   ]
  },
  {
   "cell_type": "code",
   "execution_count": 50,
   "metadata": {},
   "outputs": [
    {
     "data": {
      "text/plain": [
       "['Other']                                                              11590\n",
       "['Italian']                                                             1332\n",
       "['French']                                                              1019\n",
       "['Spanish']                                                              860\n",
       "['French', 'European']                                                   503\n",
       "                                                                       ...  \n",
       "['European', 'Eastern European', 'Romanian', 'Vegetarian Friendly']        1\n",
       "['Mediterranean', 'Spanish', 'Fusion', 'Wine Bar']                         1\n",
       "['Asian', 'Indian', 'Vegetarian Friendly', 'Halal']                        1\n",
       "['French', 'Brew Pub']                                                     1\n",
       "['Japanese', 'Fusion', 'Healthy', 'Vegetarian Friendly']                   1\n",
       "Name: Cuisine_style, Length: 10732, dtype: int64"
      ]
     },
     "execution_count": 50,
     "metadata": {},
     "output_type": "execute_result"
    }
   ],
   "source": [
    "# Заполним пропуски\n",
    "data['Cuisine_style'] = data['Cuisine_style'].fillna(\"['Other']\")\n",
    "data.Cuisine_style.value_counts()"
   ]
  },
  {
   "cell_type": "code",
   "execution_count": 51,
   "metadata": {},
   "outputs": [],
   "source": [
    "# Обработаем значения признака\n",
    "data['Cuisine_style'] = data['Cuisine_style'].str.findall(r\"'(\\b.*?\\b)'\")"
   ]
  },
  {
   "cell_type": "code",
   "execution_count": 52,
   "metadata": {},
   "outputs": [
    {
     "name": "stdout",
     "output_type": "stream",
     "text": [
      "{'Kosher', 'Brazilian', 'Czech', 'Native American', 'Scottish', 'Pakistani', 'Albanian', 'Cajun & Creole', 'Contemporary', 'Vegetarian Friendly', 'Healthy', 'Ecuadorean', 'Dutch', 'Soups', 'Norwegian', 'Peruvian', 'Jamaican', 'Mongolian', 'Balti', 'Tibetan', 'Danish', 'Halal', 'Japanese', 'Latin', 'Taiwanese', 'Ethiopian', 'Minority Chinese', 'Southwestern', 'American', 'Italian', 'Pub', 'French', 'Barbecue', 'Greek', 'Yunnan', 'Spanish', 'Tunisian', 'Georgian', 'Cafe', 'Steakhouse', 'Arabic', 'Polynesian', 'Other', 'Chilean', 'Malaysian', 'European', 'Fujian', 'Australian', 'Central Asian', 'Caucasian', 'Polish', 'Nepali', 'Venezuelan', 'Eastern European', 'Russian', 'Bangladeshi', 'Irish', 'Caribbean', 'Xinjiang', 'Cuban', 'Brew Pub', 'Wine Bar', 'Indian', 'Sri Lankan', 'Welsh', 'Cambodian', 'Austrian', 'Swiss', 'Ukrainian', 'Mediterranean', 'Swedish', 'Argentinean', 'Turkish', 'Thai', 'Vegan Options', 'Indonesian', 'Gluten Free Options', 'International', 'Singaporean', 'Uzbek', 'African', 'Belgian', 'Latvian', 'Chinese', 'Egyptian', 'Colombian', 'Middle Eastern', 'Central American', 'Lebanese', 'German', 'Canadian', 'Israeli', 'New Zealand', 'Romanian', 'Sushi', 'Vietnamese', 'Asian', 'Central European', 'Hungarian', 'South American', 'Hawaiian', 'Afghani', 'Scandinavian', 'Croatian', 'Fusion', 'Grill', 'Street Food', 'Gastropub', 'Korean', 'Burmese', 'Azerbaijani', 'Diner', 'Persian', 'Delicatessen', 'Salvadoran', 'Filipino', 'Fast Food', 'Pizza', 'Mexican', 'British', 'Slovenian', 'Moroccan', 'Bar', 'Portuguese', 'Seafood', 'Armenian'}\n"
     ]
    }
   ],
   "source": [
    "# составим список всех уникальных кухонь\n",
    "Trash_styles = data['Cuisine_style'].tolist()\n",
    "Trash_styles\n",
    "clear_styles = []\n",
    "for style in Trash_styles:\n",
    "    clear_styles.extend(style)\n",
    "clear_styles = set(clear_styles)\n",
    "print(clear_styles)"
   ]
  },
  {
   "cell_type": "code",
   "execution_count": null,
   "metadata": {},
   "outputs": [],
   "source": [
    "# создадим дамми переменные по стилям кухни. Встроенную функцию get_dummies\n",
    "# здесь использовать не получится, создадим свою\n",
    "# у нас в параметре Cuisine_style для многих по сути указана комбинация\n",
    "# стилей, создав признак по каждому отдельному стилю мы по сути учли это\n",
    "def style_creator(style):\n",
    "    data[style] = data['Cuisine_style'].apply(lambda x: 1 if style in x else 0)\n",
    "\n",
    "\n",
    "for style in clear_styles:\n",
    "    style_creator(style)\n",
    "\n",
    "# и для примера посмотрим информацию для пары стилей\n",
    "data[['Cuisine_style', 'Diner', 'German']][data['Diner'] == 1]\n",
    "# визуальный осмотр показал что все получилось корректно"
   ]
  },
  {
   "cell_type": "markdown",
   "metadata": {},
   "source": [
    "## Вывод Cuisine_style\n",
    "Создали признак No_Cuisine_style, к сожалению по графику  видно что он не влияет на плотность распределения целевой переменной.\n",
    "\n",
    "Создали пораметр Cuisine_quant, показывающий количество стилей кухни в ресторане.\n",
    "\n",
    "Заполнили пропуски .\n",
    "\n",
    "Создали дамми переменные по стилю"
   ]
  },
  {
   "cell_type": "markdown",
   "metadata": {},
   "source": [
    "## 6.Number of Reviews \n",
    "3200 пропущенных значений. Создадим новый признак для сохранения информации\n",
    "про"
   ]
  },
  {
   "cell_type": "code",
   "execution_count": 53,
   "metadata": {
    "scrolled": true
   },
   "outputs": [
    {
     "data": {
      "text/plain": [
       "<AxesSubplot:>"
      ]
     },
     "execution_count": 53,
     "metadata": {},
     "output_type": "execute_result"
    },
    {
     "data": {
      "image/png": "[encoded data removed]",
      "text/plain": [
       "<Figure size 432x288 with 1 Axes>"
      ]
     },
     "metadata": {
      "needs_background": "light"
     },
     "output_type": "display_data"
    }
   ],
   "source": [
    "data.Number_of_reviews.hist(legend=True, bins=30)"
   ]
  },
  {
   "cell_type": "code",
   "execution_count": 54,
   "metadata": {},
   "outputs": [
    {
     "name": "stdout",
     "output_type": "stream",
     "text": [
      "min : 2.0 \n",
      "\r",
      " 25-й перцентиль: 9.0 \n",
      "\r",
      " медиана: 33.0 \n",
      "\r",
      " среднее: 124.47119658119658 \n",
      "\r",
      " max : 9660.0 \n",
      "\r",
      " 75-й перцентиль: 115.0 \n",
      "\r",
      " IQR: 106.0 \n",
      "\r",
      " Границы выбросов: [-150.0, 274.0].\n"
     ]
    }
   ],
   "source": [
    "num_value_analiz(data, 'Number_of_reviews')"
   ]
  },
  {
   "cell_type": "markdown",
   "metadata": {},
   "source": [
    "Подавляющее большинство ресторанов имеет не особо большое количество отзывов.\n",
    "Хоть и очевидно явное наличие выбросов исходя из значений квартилей и межквартильного расстояния,\n",
    "тем не менее считаю , что явных выбросов здесь нет.\n",
    "Максимальным количеством отзывов мы не ограничены, а отрицательного значения мы не наблюдаем"
   ]
  },
  {
   "cell_type": "code",
   "execution_count": 55,
   "metadata": {},
   "outputs": [
    {
     "data": {
      "text/html": [
       "<div>\n",
       "<style scoped>\n",
       "    .dataframe tbody tr th:only-of-type {\n",
       "        vertical-align: middle;\n",
       "    }\n",
       "\n",
       "    .dataframe tbody tr th {\n",
       "        vertical-align: top;\n",
       "    }\n",
       "\n",
       "    .dataframe thead th {\n",
       "        text-align: right;\n",
       "    }\n",
       "</style>\n",
       "<table border=\"1\" class=\"dataframe\">\n",
       "  <thead>\n",
       "    <tr style=\"text-align: right;\">\n",
       "      <th></th>\n",
       "      <th>No_reviews</th>\n",
       "      <th>Number_of_reviews</th>\n",
       "    </tr>\n",
       "  </thead>\n",
       "  <tbody>\n",
       "    <tr>\n",
       "      <th>7</th>\n",
       "      <td>1</td>\n",
       "      <td>NaN</td>\n",
       "    </tr>\n",
       "    <tr>\n",
       "      <th>10</th>\n",
       "      <td>0</td>\n",
       "      <td>306.0</td>\n",
       "    </tr>\n",
       "    <tr>\n",
       "      <th>13</th>\n",
       "      <td>0</td>\n",
       "      <td>30.0</td>\n",
       "    </tr>\n",
       "    <tr>\n",
       "      <th>18</th>\n",
       "      <td>0</td>\n",
       "      <td>2.0</td>\n",
       "    </tr>\n",
       "    <tr>\n",
       "      <th>20</th>\n",
       "      <td>0</td>\n",
       "      <td>8.0</td>\n",
       "    </tr>\n",
       "    <tr>\n",
       "      <th>...</th>\n",
       "      <td>...</td>\n",
       "      <td>...</td>\n",
       "    </tr>\n",
       "    <tr>\n",
       "      <th>49981</th>\n",
       "      <td>0</td>\n",
       "      <td>29.0</td>\n",
       "    </tr>\n",
       "    <tr>\n",
       "      <th>49983</th>\n",
       "      <td>0</td>\n",
       "      <td>2.0</td>\n",
       "    </tr>\n",
       "    <tr>\n",
       "      <th>49986</th>\n",
       "      <td>1</td>\n",
       "      <td>NaN</td>\n",
       "    </tr>\n",
       "    <tr>\n",
       "      <th>49988</th>\n",
       "      <td>1</td>\n",
       "      <td>NaN</td>\n",
       "    </tr>\n",
       "    <tr>\n",
       "      <th>49993</th>\n",
       "      <td>0</td>\n",
       "      <td>16.0</td>\n",
       "    </tr>\n",
       "  </tbody>\n",
       "</table>\n",
       "<p>11590 rows × 2 columns</p>\n",
       "</div>"
      ],
      "text/plain": [
       "       No_reviews  Number_of_reviews\n",
       "7               1                NaN\n",
       "10              0              306.0\n",
       "13              0               30.0\n",
       "18              0                2.0\n",
       "20              0                8.0\n",
       "...           ...                ...\n",
       "49981           0               29.0\n",
       "49983           0                2.0\n",
       "49986           1                NaN\n",
       "49988           1                NaN\n",
       "49993           0               16.0\n",
       "\n",
       "[11590 rows x 2 columns]"
      ]
     },
     "execution_count": 55,
     "metadata": {},
     "output_type": "execute_result"
    }
   ],
   "source": [
    "# Создаем новый признак No_Cuisine_style\n",
    "data['No_reviews'] = pd.isna(data['Number_of_reviews']).astype('int64')\n",
    "data[['No_reviews', 'Number_of_reviews']][data['No_Cuisine_style'] == 1]"
   ]
  },
  {
   "cell_type": "code",
   "execution_count": 56,
   "metadata": {},
   "outputs": [
    {
     "name": "stdout",
     "output_type": "stream",
     "text": [
      "пустых значений в колонке  No_reviews  :  0\n",
      "Значения в колонке:     No_reviews\n",
      "0       37457\n",
      "1        2543\n"
     ]
    },
    {
     "data": {
      "image/png": "[encoded data removed]",
      "text/plain": [
       "<Figure size 720x432 with 1 Axes>"
      ]
     },
     "metadata": {
      "needs_background": "light"
     },
     "output_type": "display_data"
    }
   ],
   "source": [
    "obj_describe(data[data['Sample'] == 1], 'No_reviews')"
   ]
  },
  {
   "cell_type": "markdown",
   "metadata": {},
   "source": [
    "Видим , что ресторын с отсутствующими отзывами показывают выше рейтинг чем рестораны с отзывами. Оно и верно потому что чаще люди оставляют отзыв когда недовольны обслуживанием и в отзыве они высказывают свое впечатление)"
   ]
  },
  {
   "cell_type": "code",
   "execution_count": 57,
   "metadata": {},
   "outputs": [
    {
     "data": {
      "text/plain": [
       "Text(0, 0.5, 'Number_of_reviews')"
      ]
     },
     "execution_count": 57,
     "metadata": {},
     "output_type": "execute_result"
    },
    {
     "data": {
      "image/png": "[encoded data removed]",
      "text/plain": [
       "<Figure size 432x288 with 1 Axes>"
      ]
     },
     "metadata": {
      "needs_background": "light"
     },
     "output_type": "display_data"
    }
   ],
   "source": [
    "fig = plt.figure()\n",
    "axes = fig.add_axes([0, 0, 1, 1])\n",
    "axes.scatter(x=data[data['Sample'] == 1]['Number_of_reviews'],\n",
    "             y=data[data['Sample'] == 1]['Rating'], marker='o')\n",
    "axes.set_title('Number_of_reviews Vs Rating')\n",
    "axes.set_xlabel('Number_of_reviews')\n",
    "axes.set_ylabel('Number_of_reviews')"
   ]
  },
  {
   "cell_type": "markdown",
   "metadata": {},
   "source": [
    "Вполне нормальная картина что ресторын со \"средней\" оценкой имеют наибольшее число отзывов "
   ]
  },
  {
   "cell_type": "code",
   "execution_count": 58,
   "metadata": {},
   "outputs": [],
   "source": [
    "# Я решил заполнить пропуски 0\n",
    "data['Number_of_reviews'] = data['Number_of_reviews'].fillna(0)"
   ]
  },
  {
   "cell_type": "markdown",
   "metadata": {},
   "source": [
    "## Вывод Number of Reviews\n",
    "Пропуски заполнены\n",
    "\n",
    "новый признак показывающий отсутствие отзыва - сгенерирован. Видно его влияение на распределение целевой переменной"
   ]
  },
  {
   "cell_type": "markdown",
   "metadata": {},
   "source": [
    "## 7.Reviews "
   ]
  },
  {
   "cell_type": "code",
   "execution_count": 59,
   "metadata": {},
   "outputs": [
    {
     "name": "stdout",
     "output_type": "stream",
     "text": [
      "0                                             [[], []]\n",
      "1    [['Very good reviews!', 'Fine dining in Hakani...\n",
      "Name: Reviews, dtype: object\n"
     ]
    }
   ],
   "source": [
    "print(data['Reviews'][0:2])"
   ]
  },
  {
   "cell_type": "code",
   "execution_count": 60,
   "metadata": {},
   "outputs": [
    {
     "data": {
      "text/plain": [
       "\"[['Very good reviews!', 'Fine dining in Hakaniemi'], ['12/05/2017', '10/29/2017']]\""
      ]
     },
     "execution_count": 60,
     "metadata": {},
     "output_type": "execute_result"
    }
   ],
   "source": [
    "data['Reviews'][1]"
   ]
  },
  {
   "cell_type": "code",
   "execution_count": 61,
   "metadata": {},
   "outputs": [
    {
     "data": {
      "text/plain": [
       "2"
      ]
     },
     "execution_count": 61,
     "metadata": {},
     "output_type": "execute_result"
    }
   ],
   "source": [
    "pd.isnull(data['Reviews']).sum()"
   ]
  },
  {
   "cell_type": "markdown",
   "metadata": {},
   "source": [
    "Параметр содержит 2 последних отзыва и даты их написания соответственно.\n",
    "Так же видно что хоть и незаполненных значений всего 2, тем не менее есть другой \"формат \" пустого значения - [[], []]"
   ]
  },
  {
   "cell_type": "code",
   "execution_count": 62,
   "metadata": {},
   "outputs": [
    {
     "data": {
      "text/plain": [
       "8112"
      ]
     },
     "execution_count": 62,
     "metadata": {},
     "output_type": "execute_result"
    }
   ],
   "source": [
    "len(data[data['Reviews'] == '[[], []]'])\n",
    "# достаточно много строк без отзывов, будем обрабатывать это как пропуск оотзыва"
   ]
  },
  {
   "cell_type": "code",
   "execution_count": 63,
   "metadata": {},
   "outputs": [],
   "source": [
    "# Приведем пропуски к 1 виду\n",
    "data['Reviews'] = data['Reviews'].fillna('[[], []]')"
   ]
  },
  {
   "cell_type": "code",
   "execution_count": 64,
   "metadata": {},
   "outputs": [],
   "source": [
    "# создадим новый параметр No_reviews\n",
    "data['No_reviews'] = (data['Reviews'] == '[[], []]').astype('float64')"
   ]
  },
  {
   "cell_type": "markdown",
   "metadata": {},
   "source": [
    "из-за разных форматов пустых отзывов закрались сомнения в корректность остальных данных с отзывами.\n"
   ]
  },
  {
   "cell_type": "code",
   "execution_count": 65,
   "metadata": {},
   "outputs": [],
   "source": [
    "# создаем новый параметр с датами\n",
    "data['Review_dates'] = data['Reviews'].str.findall('\\d+/\\d+/\\d+')"
   ]
  },
  {
   "cell_type": "code",
   "execution_count": 66,
   "metadata": {},
   "outputs": [
    {
     "data": {
      "text/plain": [
       "<AxesSubplot:>"
      ]
     },
     "execution_count": 66,
     "metadata": {},
     "output_type": "execute_result"
    },
    {
     "data": {
      "image/png": "[encoded data removed]",
      "text/plain": [
       "<Figure size 432x288 with 1 Axes>"
      ]
     },
     "metadata": {
      "needs_background": "light"
     },
     "output_type": "display_data"
    }
   ],
   "source": [
    "data['Review_dates'].apply(lambda x: len(x)).hist()\n",
    "# 0 это наши пустые значения, 1 - извлеклась 1 дата"
   ]
  },
  {
   "cell_type": "code",
   "execution_count": 67,
   "metadata": {
    "scrolled": true
   },
   "outputs": [
    {
     "data": {
      "text/plain": [
       "12       [['You always feel very Welcome at this cozy.....\n",
       "31                    [['Very good food'], ['09/24/2017']]\n",
       "48                            [['Thomas'], ['01/06/2016']]\n",
       "50       [['The best in Budapest so far'], ['03/05/2017']]\n",
       "55       [['Coffee was fine - and as it says low price'...\n",
       "                               ...                        \n",
       "49972             [['Personal expirence'], ['10/27/2017']]\n",
       "49974    [['Nice place to eat and chill'], ['08/29/2016']]\n",
       "49983     [['Italian food, as in Italy!'], ['05/24/2015']]\n",
       "49984          [['Good Cookies and more'], ['11/03/2016']]\n",
       "49989             [['I love this place!'], ['08/24/2015']]\n",
       "Name: Reviews, Length: 5680, dtype: object"
      ]
     },
     "execution_count": 67,
     "metadata": {},
     "output_type": "execute_result"
    }
   ],
   "source": [
    "data[data['Review_dates'].apply(lambda x: len(x)) == 1]['Reviews']\n",
    "# дата извлекалась корректно просто дата всего одна"
   ]
  },
  {
   "cell_type": "code",
   "execution_count": 68,
   "metadata": {},
   "outputs": [
    {
     "name": "stdout",
     "output_type": "stream",
     "text": [
      "min : 0 \n",
      "\r",
      " 25-й перцентиль: 1.0 \n",
      "\r",
      " медиана: 2.0 \n",
      "\r",
      " среднее: 1.56192 \n",
      "\r",
      " max : 3 \n",
      "\r",
      " 75-й перцентиль: 2.0 \n",
      "\r",
      " IQR: 1.0 \n",
      "\r",
      " Границы выбросов: [-0.5, 3.5].\n"
     ]
    }
   ],
   "source": [
    "data['Dates_count'] = data['Review_dates'].apply(lambda x: len(x))\n",
    "num_value_analiz(data, 'Dates_count')\n",
    "# есть строки с 3 датами"
   ]
  },
  {
   "cell_type": "code",
   "execution_count": 69,
   "metadata": {
    "scrolled": true
   },
   "outputs": [
    {
     "data": {
      "text/plain": [
       "2221      [21/10/17, 12/22/2017, 10/19/2017]\n",
       "3809     [30/5/2017, 04/13/2017, 05/30/2017]\n",
       "19254     [3/1/2017, 06/02/2017, 01/03/2017]\n",
       "33348    [29/9/2016, 09/30/2016, 08/25/2016]\n",
       "Name: Review_dates, dtype: object"
      ]
     },
     "execution_count": 69,
     "metadata": {},
     "output_type": "execute_result"
    }
   ],
   "source": [
    "data[data['Dates_count'] == 3]['Review_dates']\n",
    "# ,ошибки в заполнении, даты включали в текст отзыва. просто удалим первую дату"
   ]
  },
  {
   "cell_type": "code",
   "execution_count": 70,
   "metadata": {},
   "outputs": [
    {
     "name": "stdout",
     "output_type": "stream",
     "text": [
      "min : 0 \n",
      "\r",
      " 25-й перцентиль: 1.0 \n",
      "\r",
      " медиана: 2.0 \n",
      "\r",
      " среднее: 1.56184 \n",
      "\r",
      " max : 2 \n",
      "\r",
      " 75-й перцентиль: 2.0 \n",
      "\r",
      " IQR: 1.0 \n",
      "\r",
      " Границы выбросов: [-0.5, 3.5].\n"
     ]
    }
   ],
   "source": [
    "data['Dates_count'].Review_dates = data[data['Dates_count']\n",
    "                                        == 3].Review_dates.apply(lambda x: x.pop(0))\n",
    "data['Dates_count'] = data['Review_dates'].apply(lambda x: len(x))\n",
    "num_value_analiz(data, 'Dates_count')"
   ]
  },
  {
   "cell_type": "code",
   "execution_count": 71,
   "metadata": {
    "scrolled": true
   },
   "outputs": [
    {
     "data": {
      "text/plain": [
       "2    36206\n",
       "0     8114\n",
       "1     5680\n",
       "Name: Dates_count, dtype: int64"
      ]
     },
     "execution_count": 71,
     "metadata": {},
     "output_type": "execute_result"
    }
   ],
   "source": [
    "data.Dates_count.value_counts()"
   ]
  },
  {
   "cell_type": "code",
   "execution_count": 72,
   "metadata": {
    "scrolled": true
   },
   "outputs": [
    {
     "name": "stdout",
     "output_type": "stream",
     "text": [
      "пустых значений в колонке  Dates_count  :  0\n",
      "Значения в колонке:     Dates_count\n",
      "2        28973\n",
      "0         6471\n",
      "1         4556\n"
     ]
    },
    {
     "data": {
      "image/png": "[encoded data removed]",
      "text/plain": [
       "<Figure size 720x432 with 1 Axes>"
      ]
     },
     "metadata": {
      "needs_background": "light"
     },
     "output_type": "display_data"
    }
   ],
   "source": [
    "obj_describe(data[data['Sample'] == 1], 'Dates_count')"
   ]
  },
  {
   "cell_type": "markdown",
   "metadata": {},
   "source": [
    "Видим что количество отзывов все таки не значимо для распределения целевой переменной.\n",
    "\n",
    "Из дат я решил извлечь следующее:\n",
    "\n",
    "1)количество дней от последнего отзыва до текущегог дня. Очевидно что база у нас не совсем новая, но представим что она новая. Ресторан у которого крайний отзыв был вчера и ресторан у которого крайний отзыв был 3 года назад очевидно отличаются) Во втором случае ресторан мог закрыться, либо он совсем не популярный и мало кто ходит.\n",
    "\n",
    "2)Количество дней между отзывами. В среднем везде одинаковая доля людей оставляет отзыв о ресторане, соответвенно чем популярнее ресторан тем чаще ему будут попадаться клиенты, готовые оставить отзыв , а значи перерыв между отзывами будет меньше. В то время как у мало посещаемого ресторана перерыв соответственно будет больше.\n",
    "\n",
    "3)Из логики второго пункта надо как то отделить рестораны у которых всего один отзыв. потому что значение 0 между отзывами здесь будет некорректно т.к. здесб чем меньше значение тем лучше. Более того по графику видно что рестораны без отзывов или с 1 отзывом одинаково распределены. Возможно стоит их объединить 1 параметром"
   ]
  },
  {
   "cell_type": "code",
   "execution_count": 73,
   "metadata": {},
   "outputs": [
    {
     "name": "stderr",
     "output_type": "stream",
     "text": [
      "C:\\ProgramData\\Anaconda3\\lib\\site-packages\\ipykernel_launcher.py:4: FutureWarning: The pandas.datetime class is deprecated and will be removed from pandas in a future version. Import from datetime module instead.\n",
      "  after removing the cwd from sys.path.\n"
     ]
    },
    {
     "data": {
      "text/plain": [
       "0           NaN\n",
       "1        1009.0\n",
       "2         986.0\n",
       "3        1008.0\n",
       "4         944.0\n",
       "          ...  \n",
       "49995     998.0\n",
       "49996     993.0\n",
       "49997    1406.0\n",
       "49998    1156.0\n",
       "49999    1683.0\n",
       "Name: last_review, Length: 50000, dtype: float64"
      ]
     },
     "execution_count": 73,
     "metadata": {},
     "output_type": "execute_result"
    }
   ],
   "source": [
    "def last_review(row):\n",
    "    if row['Review_dates'] == []:\n",
    "        return None\n",
    "    return (pd.datetime.now() - pd.to_datetime(row['Review_dates']).max()).days\n",
    "\n",
    "\n",
    "data['last_review'] = data.apply(last_review, axis=1)\n",
    "\n",
    "data['last_review']"
   ]
  },
  {
   "cell_type": "code",
   "execution_count": 74,
   "metadata": {
    "scrolled": true
   },
   "outputs": [
    {
     "name": "stdout",
     "output_type": "stream",
     "text": [
      "min : 926.0 \n",
      "\r",
      " 25-й перцентиль: 1005.0 \n",
      "\r",
      " медиана: 1079.0 \n",
      "\r",
      " среднее: 1216.0453612185456 \n",
      "\r",
      " max : 5985.0 \n",
      "\r",
      " 75-й перцентиль: 1263.0 \n",
      "\r",
      " IQR: 258.0 \n",
      "\r",
      " Границы выбросов: [618.0, 1650.0].\n"
     ]
    }
   ],
   "source": [
    "num_value_analiz(data, 'last_review')"
   ]
  },
  {
   "cell_type": "code",
   "execution_count": 75,
   "metadata": {},
   "outputs": [
    {
     "data": {
      "text/plain": [
       "<AxesSubplot:>"
      ]
     },
     "execution_count": 75,
     "metadata": {},
     "output_type": "execute_result"
    },
    {
     "data": {
      "image/png": "[encoded data removed]",
      "text/plain": [
       "<Figure size 432x288 with 1 Axes>"
      ]
     },
     "metadata": {
      "needs_background": "light"
     },
     "output_type": "display_data"
    }
   ],
   "source": [
    "data.last_review.hist(legend=True, bins=20)"
   ]
  },
  {
   "cell_type": "markdown",
   "metadata": {},
   "source": [
    "исходя из границ , выбросов получается достаточно много.Посмотрим сколько ресторанов попало в выбросы"
   ]
  },
  {
   "cell_type": "code",
   "execution_count": 76,
   "metadata": {},
   "outputs": [],
   "source": [
    "IQR = data.last_review.quantile(0.75) - data.last_review.quantile(0.25)\n",
    "perc25 = data.last_review.quantile(0.25)\n",
    "perc75 = data.last_review.quantile(0.75)\n",
    "low = perc25-1.5*IQR\n",
    "hight = perc75+1.5*IQR"
   ]
  },
  {
   "cell_type": "code",
   "execution_count": 77,
   "metadata": {},
   "outputs": [
    {
     "data": {
      "text/plain": [
       "4014"
      ]
     },
     "execution_count": 77,
     "metadata": {},
     "output_type": "execute_result"
    }
   ],
   "source": [
    "len(data[(data['last_review'] < low) | (data['last_review'] > hight)])"
   ]
  },
  {
   "cell_type": "markdown",
   "metadata": {},
   "source": [
    "В выбросы попало почти 4014 ресторанов, это почти 8%.\n",
    "отделим рестораны с слишком старыми отзывами, может они уже закрылись"
   ]
  },
  {
   "cell_type": "code",
   "execution_count": 78,
   "metadata": {},
   "outputs": [
    {
     "data": {
      "text/plain": [
       "4014"
      ]
     },
     "execution_count": 78,
     "metadata": {},
     "output_type": "execute_result"
    }
   ],
   "source": [
    "len(data[data['last_review'] > hight])\n",
    "# жалко удалять столько данных"
   ]
  },
  {
   "cell_type": "code",
   "execution_count": 79,
   "metadata": {},
   "outputs": [],
   "source": [
    "data['last_review'] = data['last_review'].fillna(0)"
   ]
  },
  {
   "cell_type": "code",
   "execution_count": 80,
   "metadata": {},
   "outputs": [
    {
     "data": {
      "text/html": [
       "<div>\n",
       "<style scoped>\n",
       "    .dataframe tbody tr th:only-of-type {\n",
       "        vertical-align: middle;\n",
       "    }\n",
       "\n",
       "    .dataframe tbody tr th {\n",
       "        vertical-align: top;\n",
       "    }\n",
       "\n",
       "    .dataframe thead th {\n",
       "        text-align: right;\n",
       "    }\n",
       "</style>\n",
       "<table border=\"1\" class=\"dataframe\">\n",
       "  <thead>\n",
       "    <tr style=\"text-align: right;\">\n",
       "      <th></th>\n",
       "      <th>between_reviews</th>\n",
       "      <th>Dates_count</th>\n",
       "      <th>Review_dates</th>\n",
       "    </tr>\n",
       "  </thead>\n",
       "  <tbody>\n",
       "    <tr>\n",
       "      <th>0</th>\n",
       "      <td>NaN</td>\n",
       "      <td>0</td>\n",
       "      <td>[]</td>\n",
       "    </tr>\n",
       "    <tr>\n",
       "      <th>1</th>\n",
       "      <td>37.0</td>\n",
       "      <td>2</td>\n",
       "      <td>[12/05/2017, 10/29/2017]</td>\n",
       "    </tr>\n",
       "    <tr>\n",
       "      <th>2</th>\n",
       "      <td>22.0</td>\n",
       "      <td>2</td>\n",
       "      <td>[12/28/2017, 12/06/2017]</td>\n",
       "    </tr>\n",
       "    <tr>\n",
       "      <th>3</th>\n",
       "      <td>14.0</td>\n",
       "      <td>2</td>\n",
       "      <td>[12/06/2017, 11/22/2017]</td>\n",
       "    </tr>\n",
       "    <tr>\n",
       "      <th>4</th>\n",
       "      <td>15.0</td>\n",
       "      <td>2</td>\n",
       "      <td>[02/08/2018, 01/24/2018]</td>\n",
       "    </tr>\n",
       "    <tr>\n",
       "      <th>...</th>\n",
       "      <td>...</td>\n",
       "      <td>...</td>\n",
       "      <td>...</td>\n",
       "    </tr>\n",
       "    <tr>\n",
       "      <th>49995</th>\n",
       "      <td>34.0</td>\n",
       "      <td>2</td>\n",
       "      <td>[12/16/2017, 11/12/2017]</td>\n",
       "    </tr>\n",
       "    <tr>\n",
       "      <th>49996</th>\n",
       "      <td>9.0</td>\n",
       "      <td>2</td>\n",
       "      <td>[12/21/2017, 12/12/2017]</td>\n",
       "    </tr>\n",
       "    <tr>\n",
       "      <th>49997</th>\n",
       "      <td>3127.0</td>\n",
       "      <td>2</td>\n",
       "      <td>[11/03/2016, 04/12/2008]</td>\n",
       "    </tr>\n",
       "    <tr>\n",
       "      <th>49998</th>\n",
       "      <td>23.0</td>\n",
       "      <td>2</td>\n",
       "      <td>[07/11/2017, 06/18/2017]</td>\n",
       "    </tr>\n",
       "    <tr>\n",
       "      <th>49999</th>\n",
       "      <td>1306.0</td>\n",
       "      <td>2</td>\n",
       "      <td>[01/31/2016, 07/04/2012]</td>\n",
       "    </tr>\n",
       "  </tbody>\n",
       "</table>\n",
       "<p>50000 rows × 3 columns</p>\n",
       "</div>"
      ],
      "text/plain": [
       "       between_reviews  Dates_count              Review_dates\n",
       "0                  NaN            0                        []\n",
       "1                 37.0            2  [12/05/2017, 10/29/2017]\n",
       "2                 22.0            2  [12/28/2017, 12/06/2017]\n",
       "3                 14.0            2  [12/06/2017, 11/22/2017]\n",
       "4                 15.0            2  [02/08/2018, 01/24/2018]\n",
       "...                ...          ...                       ...\n",
       "49995             34.0            2  [12/16/2017, 11/12/2017]\n",
       "49996              9.0            2  [12/21/2017, 12/12/2017]\n",
       "49997           3127.0            2  [11/03/2016, 04/12/2008]\n",
       "49998             23.0            2  [07/11/2017, 06/18/2017]\n",
       "49999           1306.0            2  [01/31/2016, 07/04/2012]\n",
       "\n",
       "[50000 rows x 3 columns]"
      ]
     },
     "execution_count": 80,
     "metadata": {},
     "output_type": "execute_result"
    }
   ],
   "source": [
    "def between_reviews(row):\n",
    "    if row['Review_dates'] == []:\n",
    "        return None\n",
    "    return (pd.to_datetime(row['Review_dates']).max() - pd.to_datetime(row['Review_dates']).min()).days\n",
    "\n",
    "\n",
    "data['between_reviews'] = data[data['Dates_count']\n",
    "                               == 2].apply(between_reviews, axis=1)\n",
    "\n",
    "data[['between_reviews', 'Dates_count', 'Review_dates']]"
   ]
  },
  {
   "cell_type": "code",
   "execution_count": 81,
   "metadata": {
    "scrolled": true
   },
   "outputs": [
    {
     "name": "stdout",
     "output_type": "stream",
     "text": [
      "min : 0.0 \n",
      "\r",
      " 25-й перцентиль: 20.0 \n",
      "\r",
      " медиана: 67.0 \n",
      "\r",
      " среднее: 142.54883168535602 \n",
      "\r",
      " max : 3296.0 \n",
      "\r",
      " 75-й перцентиль: 173.0 \n",
      "\r",
      " IQR: 153.0 \n",
      "\r",
      " Границы выбросов: [-209.5, 402.5].\n"
     ]
    }
   ],
   "source": [
    "num_value_analiz(data, 'between_reviews')"
   ]
  },
  {
   "cell_type": "code",
   "execution_count": 82,
   "metadata": {
    "scrolled": true
   },
   "outputs": [
    {
     "data": {
      "text/plain": [
       "<AxesSubplot:>"
      ]
     },
     "execution_count": 82,
     "metadata": {},
     "output_type": "execute_result"
    },
    {
     "data": {
      "image/png": "[encoded data removed]",
      "text/plain": [
       "<Figure size 432x288 with 1 Axes>"
      ]
     },
     "metadata": {
      "needs_background": "light"
     },
     "output_type": "display_data"
    }
   ],
   "source": [
    "data.between_reviews.hist(legend=True, bins=30)"
   ]
  },
  {
   "cell_type": "markdown",
   "metadata": {},
   "source": [
    "3296 дней между отзывами это плоховато...\n"
   ]
  },
  {
   "cell_type": "code",
   "execution_count": 83,
   "metadata": {},
   "outputs": [
    {
     "data": {
      "text/plain": [
       "36206"
      ]
     },
     "execution_count": 83,
     "metadata": {},
     "output_type": "execute_result"
    }
   ],
   "source": [
    "IQR = data.between_reviews.quantile(0.75) - data.last_review.quantile(0.25)\n",
    "perc25 = data.between_reviews.quantile(0.25)\n",
    "perc75 = data.between_reviews.quantile(0.75)\n",
    "low = perc25-1.5*IQR\n",
    "hight = perc75+1.5*IQR\n",
    "len(data[data['between_reviews'] > hight])"
   ]
  },
  {
   "cell_type": "markdown",
   "metadata": {},
   "source": [
    "хотя тут 70% попало в выбросы с по данному параметру.\n",
    "я решил добавить признак отпределяющий что у ресторана был всего 1 отзыв"
   ]
  },
  {
   "cell_type": "code",
   "execution_count": 84,
   "metadata": {},
   "outputs": [],
   "source": [
    "data['between_reviews'] = data['between_reviews'].fillna(0)"
   ]
  },
  {
   "cell_type": "code",
   "execution_count": 85,
   "metadata": {},
   "outputs": [],
   "source": [
    "data['single_review'] = (data['Dates_count'] == 1).astype('float64')"
   ]
  },
  {
   "cell_type": "code",
   "execution_count": 86,
   "metadata": {
    "scrolled": true
   },
   "outputs": [
    {
     "name": "stdout",
     "output_type": "stream",
     "text": [
      "пустых значений в колонке  single_review  :  0\n",
      "Значения в колонке:       single_review\n",
      "0.0          35444\n",
      "1.0           4556\n"
     ]
    },
    {
     "data": {
      "image/png": "[encoded data removed]",
      "text/plain": [
       "<Figure size 720x432 with 1 Axes>"
      ]
     },
     "metadata": {
      "needs_background": "light"
     },
     "output_type": "display_data"
    }
   ],
   "source": [
    "obj_describe(data[data['Sample'] == 1], 'single_review')"
   ]
  },
  {
   "cell_type": "markdown",
   "metadata": {},
   "source": [
    "видим , что значения параметра single_review не влияет на распределение целевой переменной"
   ]
  },
  {
   "cell_type": "markdown",
   "metadata": {},
   "source": [
    "## Вывод  Reviews\n",
    "параметр содержит пропуски 2 видов, [[], []] и NaN , суммарно 8114.\n",
    "Нан был заполнен  \"[[], []]\" для приведения значений к одному виду\n",
    "\n",
    "Был сгенерирован новый признак No_reviews показывающий у каких ресторанов отсутствовали отзывы.\n",
    "\n",
    "Был сгенерирован Review_dates - извлеченые даты из отзывов.Были обнаружены погрешности в данных , а именно: где то попадалось 3 отзыва(пользователь включил дату отзыва в текст самого отзыва), где-то - 1 отзыв.\n",
    "\n",
    "Dates_count - количество отзывов(3,2,1)\n",
    "\n",
    "last_review - количество дней от последнего отзыва\n",
    "\n",
    "between_reviews - количество дней м/у отзывами\n",
    "\n",
    "single_review - отметили рестораны на который только один отзыв"
   ]
  },
  {
   "cell_type": "markdown",
   "metadata": {},
   "source": [
    "## 8.URL_TA"
   ]
  },
  {
   "cell_type": "code",
   "execution_count": 87,
   "metadata": {},
   "outputs": [
    {
     "data": {
      "text/plain": [
       "'/Restaurant_Review-g189934-d6674944-Reviews-Ravintola_Kolmon3n-Helsinki_Uusimaa.html'"
      ]
     },
     "execution_count": 87,
     "metadata": {},
     "output_type": "execute_result"
    }
   ],
   "source": [
    "data['URL_TA'][1]"
   ]
  },
  {
   "cell_type": "markdown",
   "metadata": {},
   "source": [
    "визуальный осмотр данного сайта показал что в коде страницы помимо \n",
    "названия содержится код страницы присвоенный ресторану"
   ]
  },
  {
   "cell_type": "code",
   "execution_count": 88,
   "metadata": {},
   "outputs": [
    {
     "data": {
      "text/plain": [
       "633      /Restaurant_Review-g189852-d8341999-Reviews-Fo...\n",
       "10836    /Restaurant_Review-g187849-d7660183-Reviews-Br...\n",
       "12927    /Restaurant_Review-g274887-d12327467-Reviews-F...\n",
       "14359    /Restaurant_Review-g187791-d3190881-Reviews-Re...\n",
       "14864    /Restaurant_Review-g187309-d1674728-Reviews-Na...\n",
       "17188    /Restaurant_Review-g188113-d7045067-Reviews-D_...\n",
       "26630    /Restaurant_Review-g187265-d4366820-Reviews-Ra...\n",
       "27540    /Restaurant_Review-g187331-d10212208-Reviews-P...\n",
       "30619    /Restaurant_Review-g274772-d12049579-Reviews-N...\n",
       "34852    /Restaurant_Review-g187147-d8555376-Reviews-Le...\n",
       "35848    /Restaurant_Review-g187514-d4233083-Reviews-Ca...\n",
       "41814    /Restaurant_Review-g190454-d4503773-Reviews-Sp...\n",
       "42279    /Restaurant_Review-g189934-d785602-Reviews-Ich...\n",
       "42416    /Restaurant_Review-g189400-d1061601-Reviews-To...\n",
       "42445    /Restaurant_Review-g190479-d8132557-Reviews-He...\n",
       "44226    /Restaurant_Review-g189541-d2167238-Reviews-Th...\n",
       "45323    /Restaurant_Review-g188057-d10250682-Reviews-S...\n",
       "45330    /Restaurant_Review-g274707-d1093686-Reviews-Ba...\n",
       "49362    /Restaurant_Review-g189852-d1496203-Reviews-Ka...\n",
       "Name: URL_TA, dtype: object"
      ]
     },
     "execution_count": 88,
     "metadata": {},
     "output_type": "execute_result"
    }
   ],
   "source": [
    "data[data['Restaurant_id'] == 'id_633']['URL_TA']"
   ]
  },
  {
   "cell_type": "markdown",
   "metadata": {},
   "source": [
    "на сетевом ресторане мы увидели что коды отличаются, соответственно это и может служить нам кодом и идентификатором"
   ]
  },
  {
   "cell_type": "code",
   "execution_count": 89,
   "metadata": {},
   "outputs": [
    {
     "data": {
      "text/html": [
       "<div>\n",
       "<style scoped>\n",
       "    .dataframe tbody tr th:only-of-type {\n",
       "        vertical-align: middle;\n",
       "    }\n",
       "\n",
       "    .dataframe tbody tr th {\n",
       "        vertical-align: top;\n",
       "    }\n",
       "\n",
       "    .dataframe thead th {\n",
       "        text-align: right;\n",
       "    }\n",
       "</style>\n",
       "<table border=\"1\" class=\"dataframe\">\n",
       "  <thead>\n",
       "    <tr style=\"text-align: right;\">\n",
       "      <th></th>\n",
       "      <th>unic_url_code</th>\n",
       "      <th>URL_TA</th>\n",
       "    </tr>\n",
       "  </thead>\n",
       "  <tbody>\n",
       "    <tr>\n",
       "      <th>0</th>\n",
       "      <td>187147.0</td>\n",
       "      <td>/Restaurant_Review-g187147-d10746918-Reviews-L...</td>\n",
       "    </tr>\n",
       "    <tr>\n",
       "      <th>1</th>\n",
       "      <td>189934.0</td>\n",
       "      <td>/Restaurant_Review-g189934-d6674944-Reviews-Ra...</td>\n",
       "    </tr>\n",
       "    <tr>\n",
       "      <th>2</th>\n",
       "      <td>186525.0</td>\n",
       "      <td>/Restaurant_Review-g186525-d13129638-Reviews-B...</td>\n",
       "    </tr>\n",
       "    <tr>\n",
       "      <th>3</th>\n",
       "      <td>186338.0</td>\n",
       "      <td>/Restaurant_Review-g186338-d680417-Reviews-Qui...</td>\n",
       "    </tr>\n",
       "    <tr>\n",
       "      <th>4</th>\n",
       "      <td>274924.0</td>\n",
       "      <td>/Restaurant_Review-g274924-d1112354-Reviews-Ma...</td>\n",
       "    </tr>\n",
       "    <tr>\n",
       "      <th>...</th>\n",
       "      <td>...</td>\n",
       "      <td>...</td>\n",
       "    </tr>\n",
       "    <tr>\n",
       "      <th>49995</th>\n",
       "      <td>187849.0</td>\n",
       "      <td>/Restaurant_Review-g187849-d2104414-Reviews-Ro...</td>\n",
       "    </tr>\n",
       "    <tr>\n",
       "      <th>49996</th>\n",
       "      <td>187147.0</td>\n",
       "      <td>/Restaurant_Review-g187147-d1800036-Reviews-La...</td>\n",
       "    </tr>\n",
       "    <tr>\n",
       "      <th>49997</th>\n",
       "      <td>189852.0</td>\n",
       "      <td>/Restaurant_Review-g189852-d947615-Reviews-Sus...</td>\n",
       "    </tr>\n",
       "    <tr>\n",
       "      <th>49998</th>\n",
       "      <td>274856.0</td>\n",
       "      <td>/Restaurant_Review-g274856-d1100838-Reviews-Ho...</td>\n",
       "    </tr>\n",
       "    <tr>\n",
       "      <th>49999</th>\n",
       "      <td>187849.0</td>\n",
       "      <td>/Restaurant_Review-g187849-d1109020-Reviews-Ta...</td>\n",
       "    </tr>\n",
       "  </tbody>\n",
       "</table>\n",
       "<p>50000 rows × 2 columns</p>\n",
       "</div>"
      ],
      "text/plain": [
       "       unic_url_code                                             URL_TA\n",
       "0           187147.0  /Restaurant_Review-g187147-d10746918-Reviews-L...\n",
       "1           189934.0  /Restaurant_Review-g189934-d6674944-Reviews-Ra...\n",
       "2           186525.0  /Restaurant_Review-g186525-d13129638-Reviews-B...\n",
       "3           186338.0  /Restaurant_Review-g186338-d680417-Reviews-Qui...\n",
       "4           274924.0  /Restaurant_Review-g274924-d1112354-Reviews-Ma...\n",
       "...              ...                                                ...\n",
       "49995       187849.0  /Restaurant_Review-g187849-d2104414-Reviews-Ro...\n",
       "49996       187147.0  /Restaurant_Review-g187147-d1800036-Reviews-La...\n",
       "49997       189852.0  /Restaurant_Review-g189852-d947615-Reviews-Sus...\n",
       "49998       274856.0  /Restaurant_Review-g274856-d1100838-Reviews-Ho...\n",
       "49999       187849.0  /Restaurant_Review-g187849-d1109020-Reviews-Ta...\n",
       "\n",
       "[50000 rows x 2 columns]"
      ]
     },
     "execution_count": 89,
     "metadata": {},
     "output_type": "execute_result"
    }
   ],
   "source": [
    "data['unic_url_code'] = data['URL_TA'].apply(\n",
    "    lambda x: str(x).split('-')[1][1:]).astype('float64')\n",
    "data[['unic_url_code', 'URL_TA']]\n",
    "# получилось все корректно"
   ]
  },
  {
   "cell_type": "code",
   "execution_count": 90,
   "metadata": {},
   "outputs": [
    {
     "data": {
      "text/plain": [
       "186338.0     7193\n",
       "187147.0     6108\n",
       "187514.0     3813\n",
       "187497.0     3395\n",
       "187323.0     2705\n",
       "             ... \n",
       "950783.0        2\n",
       "1080936.0       1\n",
       "6919449.0       1\n",
       "1439609.0       1\n",
       "3284927.0       1\n",
       "Name: unic_url_code, Length: 74, dtype: int64"
      ]
     },
     "execution_count": 90,
     "metadata": {},
     "output_type": "execute_result"
    }
   ],
   "source": [
    "data.unic_url_code.value_counts()"
   ]
  },
  {
   "cell_type": "code",
   "execution_count": 91,
   "metadata": {
    "scrolled": true
   },
   "outputs": [
    {
     "data": {
      "text/plain": [
       "<AxesSubplot:>"
      ]
     },
     "execution_count": 91,
     "metadata": {},
     "output_type": "execute_result"
    },
    {
     "data": {
      "image/png": "[encoded data removed]",
      "text/plain": [
       "<Figure size 432x288 with 1 Axes>"
      ]
     },
     "metadata": {
      "needs_background": "light"
     },
     "output_type": "display_data"
    }
   ],
   "source": [
    "data.unic_url_code.value_counts().hist(legend=True, bins=30)"
   ]
  },
  {
   "cell_type": "markdown",
   "metadata": {},
   "source": [
    "## Вывод  URL_TA\n",
    "из адреса страницы мы извлекли числовой идентификатор, который не уникален , но определенно в нем чтото зашифровано...город, комбинация кухни?\n",
    "я конечно создал параметр, в названии которого фигурирует \"unic\", не обращаем внимание))"
   ]
  },
  {
   "cell_type": "markdown",
   "metadata": {},
   "source": [
    "## 9.ID_TA "
   ]
  },
  {
   "cell_type": "code",
   "execution_count": 92,
   "metadata": {},
   "outputs": [
    {
     "data": {
      "text/plain": [
       "'d6674944'"
      ]
     },
     "execution_count": 92,
     "metadata": {},
     "output_type": "execute_result"
    }
   ],
   "source": [
    "data['ID_TA'][1]"
   ]
  },
  {
   "cell_type": "code",
   "execution_count": 93,
   "metadata": {},
   "outputs": [
    {
     "data": {
      "text/html": [
       "<div>\n",
       "<style scoped>\n",
       "    .dataframe tbody tr th:only-of-type {\n",
       "        vertical-align: middle;\n",
       "    }\n",
       "\n",
       "    .dataframe tbody tr th {\n",
       "        vertical-align: top;\n",
       "    }\n",
       "\n",
       "    .dataframe thead th {\n",
       "        text-align: right;\n",
       "    }\n",
       "</style>\n",
       "<table border=\"1\" class=\"dataframe\">\n",
       "  <thead>\n",
       "    <tr style=\"text-align: right;\">\n",
       "      <th></th>\n",
       "      <th>unic_id_ta</th>\n",
       "      <th>ID_TA</th>\n",
       "    </tr>\n",
       "  </thead>\n",
       "  <tbody>\n",
       "    <tr>\n",
       "      <th>0</th>\n",
       "      <td>10746918.0</td>\n",
       "      <td>d10746918</td>\n",
       "    </tr>\n",
       "    <tr>\n",
       "      <th>1</th>\n",
       "      <td>6674944.0</td>\n",
       "      <td>d6674944</td>\n",
       "    </tr>\n",
       "    <tr>\n",
       "      <th>2</th>\n",
       "      <td>13129638.0</td>\n",
       "      <td>d13129638</td>\n",
       "    </tr>\n",
       "    <tr>\n",
       "      <th>3</th>\n",
       "      <td>680417.0</td>\n",
       "      <td>d680417</td>\n",
       "    </tr>\n",
       "    <tr>\n",
       "      <th>4</th>\n",
       "      <td>1112354.0</td>\n",
       "      <td>d1112354</td>\n",
       "    </tr>\n",
       "    <tr>\n",
       "      <th>...</th>\n",
       "      <td>...</td>\n",
       "      <td>...</td>\n",
       "    </tr>\n",
       "    <tr>\n",
       "      <th>49995</th>\n",
       "      <td>2104414.0</td>\n",
       "      <td>d2104414</td>\n",
       "    </tr>\n",
       "    <tr>\n",
       "      <th>49996</th>\n",
       "      <td>1800036.0</td>\n",
       "      <td>d1800036</td>\n",
       "    </tr>\n",
       "    <tr>\n",
       "      <th>49997</th>\n",
       "      <td>947615.0</td>\n",
       "      <td>d947615</td>\n",
       "    </tr>\n",
       "    <tr>\n",
       "      <th>49998</th>\n",
       "      <td>1100838.0</td>\n",
       "      <td>d1100838</td>\n",
       "    </tr>\n",
       "    <tr>\n",
       "      <th>49999</th>\n",
       "      <td>1109020.0</td>\n",
       "      <td>d1109020</td>\n",
       "    </tr>\n",
       "  </tbody>\n",
       "</table>\n",
       "<p>50000 rows × 2 columns</p>\n",
       "</div>"
      ],
      "text/plain": [
       "       unic_id_ta      ID_TA\n",
       "0      10746918.0  d10746918\n",
       "1       6674944.0   d6674944\n",
       "2      13129638.0  d13129638\n",
       "3        680417.0    d680417\n",
       "4       1112354.0   d1112354\n",
       "...           ...        ...\n",
       "49995   2104414.0   d2104414\n",
       "49996   1800036.0   d1800036\n",
       "49997    947615.0    d947615\n",
       "49998   1100838.0   d1100838\n",
       "49999   1109020.0   d1109020\n",
       "\n",
       "[50000 rows x 2 columns]"
      ]
     },
     "execution_count": 93,
     "metadata": {},
     "output_type": "execute_result"
    }
   ],
   "source": [
    "data['unic_id_ta'] = data['ID_TA'].apply(\n",
    "    lambda x: str(x)[1:]).astype('float64')\n",
    "data[['unic_id_ta', 'ID_TA']]\n",
    "# получилось все корректно"
   ]
  },
  {
   "cell_type": "code",
   "execution_count": 94,
   "metadata": {
    "scrolled": true
   },
   "outputs": [
    {
     "data": {
      "text/plain": [
       "1568045.0     2\n",
       "12488993.0    2\n",
       "9877640.0     2\n",
       "11999956.0    2\n",
       "793170.0      2\n",
       "             ..\n",
       "12946201.0    1\n",
       "3317055.0     1\n",
       "1124064.0     1\n",
       "5826997.0     1\n",
       "720896.0      1\n",
       "Name: unic_id_ta, Length: 49963, dtype: int64"
      ]
     },
     "execution_count": 94,
     "metadata": {},
     "output_type": "execute_result"
    }
   ],
   "source": [
    "data.unic_id_ta.value_counts()"
   ]
  },
  {
   "cell_type": "markdown",
   "metadata": {},
   "source": [
    "## Вывод ID_TA\n",
    "Получили идентификатор ресторана."
   ]
  },
  {
   "cell_type": "markdown",
   "metadata": {},
   "source": [
    "# Финальная подготовка данных "
   ]
  },
  {
   "cell_type": "code",
   "execution_count": 95,
   "metadata": {},
   "outputs": [
    {
     "data": {
      "text/plain": [
       "Price_range    17361\n",
       "dtype: int64"
      ]
     },
     "execution_count": 95,
     "metadata": {},
     "output_type": "execute_result"
    }
   ],
   "source": [
    "s = data.isnull().sum()\n",
    "s[s > 1]"
   ]
  },
  {
   "cell_type": "code",
   "execution_count": 96,
   "metadata": {},
   "outputs": [
    {
     "data": {
      "text/html": [
       "<div>\n",
       "<style scoped>\n",
       "    .dataframe tbody tr th:only-of-type {\n",
       "        vertical-align: middle;\n",
       "    }\n",
       "\n",
       "    .dataframe tbody tr th {\n",
       "        vertical-align: top;\n",
       "    }\n",
       "\n",
       "    .dataframe thead th {\n",
       "        text-align: right;\n",
       "    }\n",
       "</style>\n",
       "<table border=\"1\" class=\"dataframe\">\n",
       "  <thead>\n",
       "    <tr style=\"text-align: right;\">\n",
       "      <th></th>\n",
       "      <th>Ranking</th>\n",
       "      <th>Number_of_reviews</th>\n",
       "      <th>Sample</th>\n",
       "      <th>Rating</th>\n",
       "      <th>Franchise</th>\n",
       "      <th>No_Price</th>\n",
       "      <th>Price_value</th>\n",
       "      <th>City_rest</th>\n",
       "      <th>mean_City_rank</th>\n",
       "      <th>norming_rank</th>\n",
       "      <th>...</th>\n",
       "      <th>City_nan</th>\n",
       "      <th>No_Cuisine_style</th>\n",
       "      <th>Cuisine_quant</th>\n",
       "      <th>No_reviews</th>\n",
       "      <th>Dates_count</th>\n",
       "      <th>last_review</th>\n",
       "      <th>between_reviews</th>\n",
       "      <th>single_review</th>\n",
       "      <th>unic_url_code</th>\n",
       "      <th>unic_id_ta</th>\n",
       "    </tr>\n",
       "  </thead>\n",
       "  <tbody>\n",
       "    <tr>\n",
       "      <th>count</th>\n",
       "      <td>50000.0</td>\n",
       "      <td>50000.0</td>\n",
       "      <td>50000.0</td>\n",
       "      <td>50000.0</td>\n",
       "      <td>50000.0</td>\n",
       "      <td>50000.0</td>\n",
       "      <td>50000.0</td>\n",
       "      <td>50000.0</td>\n",
       "      <td>50000.0</td>\n",
       "      <td>50000.0</td>\n",
       "      <td>...</td>\n",
       "      <td>50000.0</td>\n",
       "      <td>50000.0</td>\n",
       "      <td>50000.0</td>\n",
       "      <td>50000.0</td>\n",
       "      <td>50000.0</td>\n",
       "      <td>50000.0</td>\n",
       "      <td>50000.0</td>\n",
       "      <td>50000.0</td>\n",
       "      <td>50000.0</td>\n",
       "      <td>50000.0</td>\n",
       "    </tr>\n",
       "  </tbody>\n",
       "</table>\n",
       "<p>1 rows × 51 columns</p>\n",
       "</div>"
      ],
      "text/plain": [
       "       Ranking  Number_of_reviews   Sample   Rating  Franchise  No_Price  \\\n",
       "count  50000.0            50000.0  50000.0  50000.0    50000.0   50000.0   \n",
       "\n",
       "       Price_value  City_rest  mean_City_rank  norming_rank  ...  City_nan  \\\n",
       "count      50000.0    50000.0         50000.0       50000.0  ...   50000.0   \n",
       "\n",
       "       No_Cuisine_style  Cuisine_quant  No_reviews  Dates_count  last_review  \\\n",
       "count           50000.0        50000.0     50000.0      50000.0      50000.0   \n",
       "\n",
       "       between_reviews  single_review  unic_url_code  unic_id_ta  \n",
       "count          50000.0        50000.0        50000.0     50000.0  \n",
       "\n",
       "[1 rows x 51 columns]"
      ]
     },
     "metadata": {},
     "output_type": "display_data"
    }
   ],
   "source": [
    "# проверяем заполнение\n",
    "display(data.describe().head(1))"
   ]
  },
  {
   "cell_type": "code",
   "execution_count": 97,
   "metadata": {
    "scrolled": true
   },
   "outputs": [
    {
     "data": {
      "text/plain": [
       "Index(['Restaurant_id', 'Cuisine_style', 'Ranking', 'Price_range',\n",
       "       'Number_of_reviews', 'Reviews', 'URL_TA', 'ID_TA', 'Sample', 'Rating',\n",
       "       'Franchise', 'No_Price', 'Price_value', 'City_rest', 'mean_City_rank',\n",
       "       'norming_rank', 'City_amsterdam', 'City_athens', 'City_barcelona',\n",
       "       'City_berlin', 'City_bratislava', 'City_brussels', 'City_budapest',\n",
       "       'City_copenhagen', 'City_dublin', 'City_edinburgh', 'City_geneva',\n",
       "       'City_hamburg', 'City_helsinki', 'City_krakow', 'City_lisbon',\n",
       "       'City_ljubljana', 'City_london', 'City_luxembourg', 'City_lyon',\n",
       "       'City_madrid', 'City_milan', 'City_munich', 'City_oporto', 'City_oslo',\n",
       "       'City_paris', 'City_prague', 'City_rome', 'City_stockholm',\n",
       "       'City_vienna', 'City_warsaw', 'City_zurich', 'City_nan',\n",
       "       'No_Cuisine_style', 'Cuisine_quant', 'No_reviews', 'Review_dates',\n",
       "       'Dates_count', 'last_review', 'between_reviews', 'single_review',\n",
       "       'unic_url_code', 'unic_id_ta'],\n",
       "      dtype='object')"
      ]
     },
     "execution_count": 97,
     "metadata": {},
     "output_type": "execute_result"
    }
   ],
   "source": [
    "data.columns"
   ]
  },
  {
   "cell_type": "code",
   "execution_count": 98,
   "metadata": {},
   "outputs": [],
   "source": [
    "data['Cuisine_style'] = data['Cuisine_style'].apply(lambda x: str(x))\n",
    "#data = pd.get_dummies(data, columns=[ 'Cuisine_style'], dummy_na=False)\n",
    "data.drop(['Restaurant_id', 'City', 'Cuisine_style', 'Price_range', 'Reviews', 'URL_TA', 'ID_TA',\n",
    "           'Review_dates', 'unic_id_ta', 'unic_url_code'], axis=1, inplace=True, errors='ignore')"
   ]
  },
  {
   "cell_type": "code",
   "execution_count": 99,
   "metadata": {
    "scrolled": true
   },
   "outputs": [
    {
     "name": "stdout",
     "output_type": "stream",
     "text": [
      "Не найдены статистически значимые различия для колонки Ranking\n",
      "Не найдены статистически значимые различия для колонки Number_of_reviews\n",
      "Найдены статистически значимые различия для колонки Rating\n",
      "Найдены статистически значимые различия для колонки Rating\n",
      "Найдены статистически значимые различия для колонки Rating\n",
      "Найдены статистически значимые различия для колонки Rating\n",
      "Найдены статистически значимые различия для колонки Rating\n",
      "Найдены статистически значимые различия для колонки Rating\n",
      "Найдены статистически значимые различия для колонки Rating\n",
      "Найдены статистически значимые различия для колонки Rating\n",
      "Найдены статистически значимые различия для колонки Rating\n",
      "Найдены статистически значимые различия для колонки Rating\n",
      "Найдены статистически значимые различия для колонки Rating\n",
      "Найдены статистически значимые различия для колонки Rating\n",
      "Найдены статистически значимые различия для колонки Rating\n",
      "Найдены статистически значимые различия для колонки Rating\n",
      "Найдены статистически значимые различия для колонки Rating\n",
      "Найдены статистически значимые различия для колонки Rating\n",
      "Найдены статистически значимые различия для колонки Rating\n",
      "Найдены статистически значимые различия для колонки Rating\n",
      "Найдены статистически значимые различия для колонки Rating\n",
      "Найдены статистически значимые различия для колонки Rating\n",
      "Найдены статистически значимые различия для колонки Rating\n",
      "Найдены статистически значимые различия для колонки Rating\n",
      "Найдены статистически значимые различия для колонки Rating\n",
      "Найдены статистически значимые различия для колонки Rating\n",
      "Найдены статистически значимые различия для колонки Rating\n",
      "Найдены статистически значимые различия для колонки Rating\n",
      "Найдены статистически значимые различия для колонки Rating\n",
      "Найдены статистически значимые различия для колонки Rating\n",
      "Найдены статистически значимые различия для колонки Rating\n",
      "Найдены статистически значимые различия для колонки Rating\n",
      "Найдены статистически значимые различия для колонки Rating\n",
      "Найдены статистически значимые различия для колонки Rating\n",
      "Найдены статистически значимые различия для колонки Rating\n",
      "Найдены статистически значимые различия для колонки Rating\n",
      "Найдены статистически значимые различия для колонки Rating\n",
      "Найдены статистически значимые различия для колонки Rating\n",
      "Найдены статистически значимые различия для колонки Franchise\n",
      "Найдены статистически значимые различия для колонки No_Price\n",
      "Найдены статистически значимые различия для колонки Price_value\n",
      "Найдены статистически значимые различия для колонки Price_value\n",
      "Найдены статистически значимые различия для колонки Price_value\n",
      "Не найдены статистически значимые различия для колонки City_rest\n",
      "Не найдены статистически значимые различия для колонки mean_City_rank\n",
      "Найдены статистически значимые различия для колонки norming_rank\n",
      "Не найдены статистически значимые различия для колонки norming_rank\n",
      "Найдены статистически значимые различия для колонки City_amsterdam\n",
      "Найдены статистически значимые различия для колонки City_athens\n",
      "Найдены статистически значимые различия для колонки City_barcelona\n",
      "Найдены статистически значимые различия для колонки City_berlin\n",
      "Не найдены статистически значимые различия для колонки City_bratislava\n",
      "Найдены статистически значимые различия для колонки City_brussels\n",
      "Найдены статистически значимые различия для колонки City_budapest\n",
      "Не найдены статистически значимые различия для колонки City_copenhagen\n",
      "Найдены статистически значимые различия для колонки City_dublin\n",
      "Найдены статистически значимые различия для колонки City_edinburgh\n",
      "Не найдены статистически значимые различия для колонки City_geneva\n",
      "Не найдены статистически значимые различия для колонки City_hamburg\n",
      "Не найдены статистически значимые различия для колонки City_helsinki\n",
      "Найдены статистически значимые различия для колонки City_krakow\n",
      "Найдены статистически значимые различия для колонки City_lisbon\n",
      "Найдены статистически значимые различия для колонки City_ljubljana\n",
      "Найдены статистически значимые различия для колонки City_london\n",
      "Не найдены статистически значимые различия для колонки City_luxembourg\n",
      "Найдены статистически значимые различия для колонки City_lyon\n",
      "Найдены статистически значимые различия для колонки City_madrid\n",
      "Найдены статистически значимые различия для колонки City_milan\n",
      "Найдены статистически значимые различия для колонки City_munich\n",
      "Найдены статистически значимые различия для колонки City_oporto\n",
      "Найдены статистически значимые различия для колонки City_oslo\n",
      "Найдены статистически значимые различия для колонки City_paris\n",
      "Найдены статистически значимые различия для колонки City_prague\n",
      "Найдены статистически значимые различия для колонки City_rome\n",
      "Найдены статистически значимые различия для колонки City_stockholm\n",
      "Найдены статистически значимые различия для колонки City_vienna\n",
      "Найдены статистически значимые различия для колонки City_warsaw\n",
      "Не найдены статистически значимые различия для колонки City_zurich\n",
      "Найдены статистически значимые различия для колонки No_Cuisine_style\n",
      "Не найдены статистически значимые различия для колонки Cuisine_quant\n",
      "Найдены статистически значимые различия для колонки No_reviews\n",
      "Найдены статистически значимые различия для колонки Dates_count\n",
      "Не найдены статистически значимые различия для колонки Dates_count\n",
      "Найдены статистически значимые различия для колонки last_review\n",
      "Найдены статистически значимые различия для колонки last_review\n",
      "Найдены статистически значимые различия для колонки last_review\n",
      "Найдены статистически значимые различия для колонки last_review\n",
      "Найдены статистически значимые различия для колонки last_review\n",
      "Найдены статистически значимые различия для колонки last_review\n",
      "Не найдены статистически значимые различия для колонки last_review\n",
      "Найдены статистически значимые различия для колонки between_reviews\n",
      "Найдены статистически значимые различия для колонки between_reviews\n",
      "Найдены статистически значимые различия для колонки between_reviews\n",
      "Найдены статистически значимые различия для колонки between_reviews\n",
      "Найдены статистически значимые различия для колонки between_reviews\n",
      "Найдены статистически значимые различия для колонки between_reviews\n",
      "Не найдены статистически значимые различия для колонки between_reviews\n",
      "Не найдены статистически значимые различия для колонки single_review\n"
     ]
    }
   ],
   "source": [
    "data_new = data.copy()\n",
    "\n",
    "\n",
    "def get_stat_dif(column):\n",
    "    cols = data[data['Sample'] == 1].loc[:, column].value_counts().index[:10]\n",
    "    combinations_all = list(combinations(cols, 2))\n",
    "    for comb in combinations_all:\n",
    "        if ttest_ind(data[data['Sample'] == 1].loc[data_new.loc[:, column] == comb[0], 'Rating'],\n",
    "                     data[data['Sample'] == 1].loc[data_new.loc[:, column] == comb[1], 'Rating']).pvalue \\\n",
    "                <= 0.05/len(combinations_all):  # Учли поправку Бонферони\n",
    "            print('Найдены статистически значимые различия для колонки', column)\n",
    "        else:\n",
    "            print('Не найдены статистически значимые различия для колонки', column)\n",
    "            break\n",
    "\n",
    "\n",
    "for col in data_new.columns.tolist():\n",
    "    get_stat_dif(col)"
   ]
  },
  {
   "cell_type": "code",
   "execution_count": 100,
   "metadata": {},
   "outputs": [
    {
     "name": "stdout",
     "output_type": "stream",
     "text": [
      "<class 'pandas.core.frame.DataFrame'>\n",
      "RangeIndex: 50000 entries, 0 to 49999\n",
      "Data columns (total 32 columns):\n",
      " #   Column             Non-Null Count  Dtype  \n",
      "---  ------             --------------  -----  \n",
      " 0   Ranking            50000 non-null  float64\n",
      " 1   Number_of_reviews  50000 non-null  float64\n",
      " 2   Sample             50000 non-null  int64  \n",
      " 3   Rating             50000 non-null  float64\n",
      " 4   No_Price           50000 non-null  int64  \n",
      " 5   norming_rank       50000 non-null  float64\n",
      " 6   City_amsterdam     50000 non-null  uint8  \n",
      " 7   City_athens        50000 non-null  uint8  \n",
      " 8   City_barcelona     50000 non-null  uint8  \n",
      " 9   City_berlin        50000 non-null  uint8  \n",
      " 10  City_brussels      50000 non-null  uint8  \n",
      " 11  City_budapest      50000 non-null  uint8  \n",
      " 12  City_dublin        50000 non-null  uint8  \n",
      " 13  City_edinburgh     50000 non-null  uint8  \n",
      " 14  City_krakow        50000 non-null  uint8  \n",
      " 15  City_lisbon        50000 non-null  uint8  \n",
      " 16  City_ljubljana     50000 non-null  uint8  \n",
      " 17  City_lyon          50000 non-null  uint8  \n",
      " 18  City_madrid        50000 non-null  uint8  \n",
      " 19  City_milan         50000 non-null  uint8  \n",
      " 20  City_munich        50000 non-null  uint8  \n",
      " 21  City_oporto        50000 non-null  uint8  \n",
      " 22  City_oslo          50000 non-null  uint8  \n",
      " 23  City_prague        50000 non-null  uint8  \n",
      " 24  City_rome          50000 non-null  uint8  \n",
      " 25  City_stockholm     50000 non-null  uint8  \n",
      " 26  City_vienna        50000 non-null  uint8  \n",
      " 27  City_warsaw        50000 non-null  uint8  \n",
      " 28  last_review        50000 non-null  float64\n",
      " 29  between_reviews    50000 non-null  float64\n",
      " 30  Price_value_1.0    50000 non-null  uint8  \n",
      " 31  Price_value_2.0    50000 non-null  uint8  \n",
      "dtypes: float64(6), int64(2), uint8(24)\n",
      "memory usage: 4.2 MB\n"
     ]
    }
   ],
   "source": [
    "data_new = data.copy()\n",
    "data_new = pd.get_dummies(data_new, columns=['Price_value', ], dummy_na=False)\n",
    "data_new.drop(['Price_value_3.0', 'No_reviews', 'Franchise', 'No_Cuisine_style', 'City_rest', 'mean_City_rank', 'Cuisine_quant', 'Dates_count', 'single_review', 'City_nan', 'City_paris',\n",
    "               'City_london', 'City_helsinki', 'City_hamburg', 'City_zurich', 'City_geneva', 'City_luxembourg', 'City_bratislava', 'City_copenhagen'], axis=1, inplace=True, errors='ignore')\n",
    "data_new.columns\n",
    "columns_list = data_new.columns.tolist()\n",
    "data_new.info()"
   ]
  },
  {
   "cell_type": "code",
   "execution_count": 101,
   "metadata": {
    "scrolled": true
   },
   "outputs": [
    {
     "data": {
      "text/plain": [
       "<AxesSubplot:>"
      ]
     },
     "execution_count": 101,
     "metadata": {},
     "output_type": "execute_result"
    },
    {
     "data": {
      "image/png": "[encoded data removed]",
      "text/plain": [
       "<Figure size 1152x792 with 2 Axes>"
      ]
     },
     "metadata": {
      "needs_background": "light"
     },
     "output_type": "display_data"
    }
   ],
   "source": [
    "plt.rcParams['figure.figsize'] = (16, 11)\n",
    "sns.heatmap(data_new.drop(['Sample', 'Rating'], axis=1).corr(),)"
   ]
  },
  {
   "cell_type": "code",
   "execution_count": 102,
   "metadata": {},
   "outputs": [],
   "source": [
    "# стандартизируем все столбцы кроме целевой и Sample\n",
    "for i in list(data_new.columns):\n",
    "    if i not in ['Rating', 'Sample']:\n",
    "        scaler = StandardScaler()\n",
    "        scaler.fit(data_new[[i]])\n",
    "        data_new[i] = scaler.transform(data_new[[i]])"
   ]
  },
  {
   "cell_type": "code",
   "execution_count": 103,
   "metadata": {},
   "outputs": [],
   "source": [
    "train_data = data_new.query('Sample == 1').drop(['Sample'], axis=1)\n",
    "test_data = data_new.query('Sample == 0').drop(['Sample'], axis=1)\n",
    "\n",
    "y = train_data.Rating.values            # наш таргет\n",
    "X = train_data.drop(['Rating'], axis=1)"
   ]
  },
  {
   "cell_type": "code",
   "execution_count": 104,
   "metadata": {},
   "outputs": [],
   "source": [
    "# Воспользуемся специальной функцие train_test_split для разбивки тестовых данных\n",
    "# выделим 20% данных на валидацию (параметр test_size)\n",
    "X_train, X_test, y_train, y_test = train_test_split(\n",
    "    X, y, test_size=0.2, random_state=RANDOM_SEED)"
   ]
  },
  {
   "cell_type": "code",
   "execution_count": 105,
   "metadata": {},
   "outputs": [
    {
     "data": {
      "text/plain": [
       "((10000, 31), (40000, 31), (40000, 30), (32000, 30), (8000, 30))"
      ]
     },
     "execution_count": 105,
     "metadata": {},
     "output_type": "execute_result"
    }
   ],
   "source": [
    "test_data.shape, train_data.shape, X.shape, X_train.shape, X_test.shape"
   ]
  },
  {
   "cell_type": "code",
   "execution_count": 106,
   "metadata": {},
   "outputs": [],
   "source": [
    "model = RandomForestRegressor(\n",
    "    n_estimators=100, verbose=1, n_jobs=-1, random_state=RANDOM_SEED)"
   ]
  },
  {
   "cell_type": "code",
   "execution_count": 107,
   "metadata": {},
   "outputs": [
    {
     "name": "stderr",
     "output_type": "stream",
     "text": [
      "[Parallel(n_jobs=-1)]: Using backend ThreadingBackend with 4 concurrent workers.\n",
      "[Parallel(n_jobs=-1)]: Done  42 tasks      | elapsed:    4.6s\n",
      "[Parallel(n_jobs=-1)]: Done 100 out of 100 | elapsed:   10.3s finished\n",
      "[Parallel(n_jobs=4)]: Using backend ThreadingBackend with 4 concurrent workers.\n",
      "[Parallel(n_jobs=4)]: Done  42 tasks      | elapsed:    0.0s\n",
      "[Parallel(n_jobs=4)]: Done 100 out of 100 | elapsed:    0.0s finished\n"
     ]
    }
   ],
   "source": [
    "# Обучаем модель на тестовом наборе данных\n",
    "model.fit(X_train, y_train)\n",
    "\n",
    "# Используем обученную модель для предсказания рейтинга ресторанов в тестовой выборке.\n",
    "# Предсказанные значения записываем в переменную y_pred\n",
    "y_pred = model.predict(X_test)"
   ]
  },
  {
   "cell_type": "code",
   "execution_count": 108,
   "metadata": {},
   "outputs": [
    {
     "name": "stdout",
     "output_type": "stream",
     "text": [
      "MAE: 0.204726875\n"
     ]
    }
   ],
   "source": [
    "# Сравниваем предсказанные значения (y_pred) с реальными (y_test), и смотрим насколько они в среднем отличаются\n",
    "# Метрика называется Mean Absolute Error (MAE) и показывает среднее отклонение предсказанных значений от фактических.\n",
    "print('MAE:', metrics.mean_absolute_error(y_test, y_pred))"
   ]
  },
  {
   "cell_type": "code",
   "execution_count": 109,
   "metadata": {},
   "outputs": [
    {
     "data": {
      "text/plain": [
       "<AxesSubplot:>"
      ]
     },
     "execution_count": 109,
     "metadata": {},
     "output_type": "execute_result"
    },
    {
     "data": {
      "image/png": "[encoded data removed]",
      "text/plain": [
       "<Figure size 720x720 with 1 Axes>"
      ]
     },
     "metadata": {
      "needs_background": "light"
     },
     "output_type": "display_data"
    }
   ],
   "source": [
    "# в RandomForestRegressor есть возможность вывести самые важные признаки для модели\n",
    "plt.rcParams['figure.figsize'] = (10, 10)\n",
    "feat_importances = pd.Series(model.feature_importances_, index=X.columns)\n",
    "feat_importances.nlargest(20).plot(kind='barh')"
   ]
  },
  {
   "cell_type": "markdown",
   "metadata": {},
   "source": [
    "# Submission "
   ]
  },
  {
   "cell_type": "code",
   "execution_count": 110,
   "metadata": {},
   "outputs": [],
   "source": [
    "train_data = data_new.query('Sample == 1').drop(['Sample'], axis=1)\n",
    "test_data = data_new.query('Sample == 0').drop(['Sample', 'Rating'], axis=1)\n",
    "y = train_data.Rating.values            # наш таргет\n",
    "X = train_data.drop(['Rating'], axis=1)"
   ]
  },
  {
   "cell_type": "code",
   "execution_count": null,
   "metadata": {},
   "outputs": [],
   "source": [
    "sample_submission.shape, test_data.shape, X.shape, y.shape"
   ]
  },
  {
   "cell_type": "code",
   "execution_count": null,
   "metadata": {},
   "outputs": [],
   "source": [
    "model.fit(X, y)"
   ]
  },
  {
   "cell_type": "code",
   "execution_count": null,
   "metadata": {},
   "outputs": [],
   "source": [
    "predict_submission = model.predict(test_data)"
   ]
  },
  {
   "cell_type": "code",
   "execution_count": null,
   "metadata": {},
   "outputs": [],
   "source": [
    "predict_submission"
   ]
  },
  {
   "cell_type": "code",
   "execution_count": null,
   "metadata": {},
   "outputs": [],
   "source": [
    "sample_submission['Rating'] = predict_submission\n",
    "sample_submission.to_csv('submission.csv', index=False)\n",
    "sample_submission.head(10)"
   ]
  }
 ],
 "metadata": {
  "kernelspec": {
   "display_name": "Python 3",
   "language": "python",
   "name": "python3"
  },
  "language_info": {
   "codemirror_mode": {
    "name": "ipython",
    "version": 3
   },
   "file_extension": ".py",
   "mimetype": "text/x-python",
   "name": "python",
   "nbconvert_exporter": "python",
   "pygments_lexer": "ipython3",
   "version": "3.7.7"
  }
 },
 "nbformat": 4,
 "nbformat_minor": 4
}
