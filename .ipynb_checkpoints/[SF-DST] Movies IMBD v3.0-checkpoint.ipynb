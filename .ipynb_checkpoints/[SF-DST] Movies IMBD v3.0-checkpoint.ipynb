{
 "cells": [
  {
   "cell_type": "code",
   "execution_count": 2,
   "metadata": {
    "_cell_guid": "b1076dfc-b9ad-4769-8c92-a6c4dae69d19",
    "_uuid": "8f2839f25d086af736a60e9eeb907d3b93b6e0e5"
   },
   "outputs": [
    {
     "ename": "FileNotFoundError",
     "evalue": "[WinError 3] Системе не удается найти указанный путь: '../input'",
     "output_type": "error",
     "traceback": [
      "\u001b[1;31m---------------------------------------------------------------------------\u001b[0m",
      "\u001b[1;31mFileNotFoundError\u001b[0m                         Traceback (most recent call last)",
      "\u001b[1;32m<ipython-input-2-9edefa0a370a>\u001b[0m in \u001b[0;36m<module>\u001b[1;34m\u001b[0m\n\u001b[0;32m      5\u001b[0m \u001b[1;32mimport\u001b[0m \u001b[0mos\u001b[0m\u001b[1;33m\u001b[0m\u001b[1;33m\u001b[0m\u001b[0m\n\u001b[0;32m      6\u001b[0m \u001b[1;32mfrom\u001b[0m \u001b[0mcollections\u001b[0m \u001b[1;32mimport\u001b[0m \u001b[0mCounter\u001b[0m\u001b[1;33m\u001b[0m\u001b[1;33m\u001b[0m\u001b[0m\n\u001b[1;32m----> 7\u001b[1;33m \u001b[0mprint\u001b[0m\u001b[1;33m(\u001b[0m\u001b[0mos\u001b[0m\u001b[1;33m.\u001b[0m\u001b[0mlistdir\u001b[0m\u001b[1;33m(\u001b[0m\u001b[1;34m\"../input\"\u001b[0m\u001b[1;33m)\u001b[0m\u001b[1;33m)\u001b[0m\u001b[1;33m\u001b[0m\u001b[1;33m\u001b[0m\u001b[0m\n\u001b[0m",
      "\u001b[1;31mFileNotFoundError\u001b[0m: [WinError 3] Системе не удается найти указанный путь: '../input'"
     ]
    }
   ],
   "source": [
    "import numpy as np\n",
    "import pandas as pd\n",
    "import seaborn as sns\n",
    "import matplotlib.pyplot as plt\n",
    "import os\n",
    "from collections import Counter\n",
    "print(os.listdir(\"../input\"))"
   ]
  },
  {
   "cell_type": "code",
   "execution_count": 5,
   "metadata": {},
   "outputs": [
    {
     "data": {
      "text/html": [
       "<div>\n",
       "<style scoped>\n",
       "    .dataframe tbody tr th:only-of-type {\n",
       "        vertical-align: middle;\n",
       "    }\n",
       "\n",
       "    .dataframe tbody tr th {\n",
       "        vertical-align: top;\n",
       "    }\n",
       "\n",
       "    .dataframe thead th {\n",
       "        text-align: right;\n",
       "    }\n",
       "</style>\n",
       "<table border=\"1\" class=\"dataframe\">\n",
       "  <thead>\n",
       "    <tr style=\"text-align: right;\">\n",
       "      <th></th>\n",
       "      <th>imdb_id</th>\n",
       "      <th>popularity</th>\n",
       "      <th>budget</th>\n",
       "      <th>revenue</th>\n",
       "      <th>original_title</th>\n",
       "      <th>cast</th>\n",
       "      <th>director</th>\n",
       "      <th>tagline</th>\n",
       "      <th>overview</th>\n",
       "      <th>runtime</th>\n",
       "      <th>genres</th>\n",
       "      <th>production_companies</th>\n",
       "      <th>release_date</th>\n",
       "      <th>vote_count</th>\n",
       "      <th>vote_average</th>\n",
       "      <th>release_year</th>\n",
       "    </tr>\n",
       "  </thead>\n",
       "  <tbody>\n",
       "    <tr>\n",
       "      <th>0</th>\n",
       "      <td>tt0369610</td>\n",
       "      <td>32.985763</td>\n",
       "      <td>150000000</td>\n",
       "      <td>1513528810</td>\n",
       "      <td>Jurassic World</td>\n",
       "      <td>Chris Pratt|Bryce Dallas Howard|Irrfan Khan|Vi...</td>\n",
       "      <td>Colin Trevorrow</td>\n",
       "      <td>The park is open.</td>\n",
       "      <td>Twenty-two years after the events of Jurassic ...</td>\n",
       "      <td>124</td>\n",
       "      <td>Action|Adventure|Science Fiction|Thriller</td>\n",
       "      <td>Universal Studios|Amblin Entertainment|Legenda...</td>\n",
       "      <td>6/9/2015</td>\n",
       "      <td>5562</td>\n",
       "      <td>6.5</td>\n",
       "      <td>2015</td>\n",
       "    </tr>\n",
       "    <tr>\n",
       "      <th>1</th>\n",
       "      <td>tt1392190</td>\n",
       "      <td>28.419936</td>\n",
       "      <td>150000000</td>\n",
       "      <td>378436354</td>\n",
       "      <td>Mad Max: Fury Road</td>\n",
       "      <td>Tom Hardy|Charlize Theron|Hugh Keays-Byrne|Nic...</td>\n",
       "      <td>George Miller</td>\n",
       "      <td>What a Lovely Day.</td>\n",
       "      <td>An apocalyptic story set in the furthest reach...</td>\n",
       "      <td>120</td>\n",
       "      <td>Action|Adventure|Science Fiction|Thriller</td>\n",
       "      <td>Village Roadshow Pictures|Kennedy Miller Produ...</td>\n",
       "      <td>5/13/2015</td>\n",
       "      <td>6185</td>\n",
       "      <td>7.1</td>\n",
       "      <td>2015</td>\n",
       "    </tr>\n",
       "    <tr>\n",
       "      <th>2</th>\n",
       "      <td>tt2908446</td>\n",
       "      <td>13.112507</td>\n",
       "      <td>110000000</td>\n",
       "      <td>295238201</td>\n",
       "      <td>Insurgent</td>\n",
       "      <td>Shailene Woodley|Theo James|Kate Winslet|Ansel...</td>\n",
       "      <td>Robert Schwentke</td>\n",
       "      <td>One Choice Can Destroy You</td>\n",
       "      <td>Beatrice Prior must confront her inner demons ...</td>\n",
       "      <td>119</td>\n",
       "      <td>Adventure|Science Fiction|Thriller</td>\n",
       "      <td>Summit Entertainment|Mandeville Films|Red Wago...</td>\n",
       "      <td>3/18/2015</td>\n",
       "      <td>2480</td>\n",
       "      <td>6.3</td>\n",
       "      <td>2015</td>\n",
       "    </tr>\n",
       "    <tr>\n",
       "      <th>3</th>\n",
       "      <td>tt2488496</td>\n",
       "      <td>11.173104</td>\n",
       "      <td>200000000</td>\n",
       "      <td>2068178225</td>\n",
       "      <td>Star Wars: The Force Awakens</td>\n",
       "      <td>Harrison Ford|Mark Hamill|Carrie Fisher|Adam D...</td>\n",
       "      <td>J.J. Abrams</td>\n",
       "      <td>Every generation has a story.</td>\n",
       "      <td>Thirty years after defeating the Galactic Empi...</td>\n",
       "      <td>136</td>\n",
       "      <td>Action|Adventure|Science Fiction|Fantasy</td>\n",
       "      <td>Lucasfilm|Truenorth Productions|Bad Robot</td>\n",
       "      <td>12/15/2015</td>\n",
       "      <td>5292</td>\n",
       "      <td>7.5</td>\n",
       "      <td>2015</td>\n",
       "    </tr>\n",
       "    <tr>\n",
       "      <th>4</th>\n",
       "      <td>tt2820852</td>\n",
       "      <td>9.335014</td>\n",
       "      <td>190000000</td>\n",
       "      <td>1506249360</td>\n",
       "      <td>Furious 7</td>\n",
       "      <td>Vin Diesel|Paul Walker|Jason Statham|Michelle ...</td>\n",
       "      <td>James Wan</td>\n",
       "      <td>Vengeance Hits Home</td>\n",
       "      <td>Deckard Shaw seeks revenge against Dominic Tor...</td>\n",
       "      <td>137</td>\n",
       "      <td>Action|Crime|Thriller</td>\n",
       "      <td>Universal Pictures|Original Film|Media Rights ...</td>\n",
       "      <td>4/1/2015</td>\n",
       "      <td>2947</td>\n",
       "      <td>7.3</td>\n",
       "      <td>2015</td>\n",
       "    </tr>\n",
       "  </tbody>\n",
       "</table>\n",
       "</div>"
      ],
      "text/plain": [
       "     imdb_id  popularity     budget     revenue                original_title  \\\n",
       "0  tt0369610   32.985763  150000000  1513528810                Jurassic World   \n",
       "1  tt1392190   28.419936  150000000   378436354            Mad Max: Fury Road   \n",
       "2  tt2908446   13.112507  110000000   295238201                     Insurgent   \n",
       "3  tt2488496   11.173104  200000000  2068178225  Star Wars: The Force Awakens   \n",
       "4  tt2820852    9.335014  190000000  1506249360                     Furious 7   \n",
       "\n",
       "                                                cast          director  \\\n",
       "0  Chris Pratt|Bryce Dallas Howard|Irrfan Khan|Vi...   Colin Trevorrow   \n",
       "1  Tom Hardy|Charlize Theron|Hugh Keays-Byrne|Nic...     George Miller   \n",
       "2  Shailene Woodley|Theo James|Kate Winslet|Ansel...  Robert Schwentke   \n",
       "3  Harrison Ford|Mark Hamill|Carrie Fisher|Adam D...       J.J. Abrams   \n",
       "4  Vin Diesel|Paul Walker|Jason Statham|Michelle ...         James Wan   \n",
       "\n",
       "                         tagline  \\\n",
       "0              The park is open.   \n",
       "1             What a Lovely Day.   \n",
       "2     One Choice Can Destroy You   \n",
       "3  Every generation has a story.   \n",
       "4            Vengeance Hits Home   \n",
       "\n",
       "                                            overview  runtime  \\\n",
       "0  Twenty-two years after the events of Jurassic ...      124   \n",
       "1  An apocalyptic story set in the furthest reach...      120   \n",
       "2  Beatrice Prior must confront her inner demons ...      119   \n",
       "3  Thirty years after defeating the Galactic Empi...      136   \n",
       "4  Deckard Shaw seeks revenge against Dominic Tor...      137   \n",
       "\n",
       "                                      genres  \\\n",
       "0  Action|Adventure|Science Fiction|Thriller   \n",
       "1  Action|Adventure|Science Fiction|Thriller   \n",
       "2         Adventure|Science Fiction|Thriller   \n",
       "3   Action|Adventure|Science Fiction|Fantasy   \n",
       "4                      Action|Crime|Thriller   \n",
       "\n",
       "                                production_companies release_date  vote_count  \\\n",
       "0  Universal Studios|Amblin Entertainment|Legenda...     6/9/2015        5562   \n",
       "1  Village Roadshow Pictures|Kennedy Miller Produ...    5/13/2015        6185   \n",
       "2  Summit Entertainment|Mandeville Films|Red Wago...    3/18/2015        2480   \n",
       "3          Lucasfilm|Truenorth Productions|Bad Robot   12/15/2015        5292   \n",
       "4  Universal Pictures|Original Film|Media Rights ...     4/1/2015        2947   \n",
       "\n",
       "   vote_average  release_year  \n",
       "0           6.5          2015  \n",
       "1           7.1          2015  \n",
       "2           6.3          2015  \n",
       "3           7.5          2015  \n",
       "4           7.3          2015  "
      ]
     },
     "execution_count": 5,
     "metadata": {},
     "output_type": "execute_result"
    }
   ],
   "source": [
    "data = pd.read_csv('C:\\\\Users\\\\user\\\\Documents\\\\DataScience\\\\PYTHON\\\\data.csv')\n",
    "data.head(5)"
   ]
  },
  {
   "cell_type": "code",
   "execution_count": 6,
   "metadata": {},
   "outputs": [
    {
     "data": {
      "text/plain": [
       "1890"
      ]
     },
     "execution_count": 6,
     "metadata": {},
     "output_type": "execute_result"
    }
   ],
   "source": [
    "len(data)"
   ]
  },
  {
   "cell_type": "markdown",
   "metadata": {},
   "source": [
    "# Предобработка датасета"
   ]
  },
  {
   "cell_type": "code",
   "execution_count": 7,
   "metadata": {},
   "outputs": [],
   "source": [
    "data['profit']=data['revenue']-data['budget']\n",
    "answer_ls = [] # создадим список с ответами. сюда будем добавлять ответы по мере прохождения теста\n",
    "# сюда можем вписать создание новых колонок в датасете"
   ]
  },
  {
   "cell_type": "markdown",
   "metadata": {},
   "source": [
    "# 1. У какого фильма из списка самый большой бюджет?\n",
    "Варианты ответов:\n",
    "1. The Dark Knight Rises (tt1345836)\n",
    "2. Spider-Man 3 (tt0413300)\n",
    "3. Avengers: Age of Ultron (tt2395427)\n",
    "4. The Warrior's Way\t(tt1032751)\n",
    "5. Pirates of the Caribbean: On Stranger Tides (tt1298650)"
   ]
  },
  {
   "cell_type": "code",
   "execution_count": null,
   "metadata": {},
   "outputs": [],
   "source": [
    "sample = data.query('imdb_id in [\"tt1345836\",\"tt0413300\",\"tt2395427\",\"tt1032751\",\"tt1298650\"]')\n",
    "sample[sample['budget'] == sample['budget'].max()]\n",
    "\n",
    "answer_ls.append(4)"
   ]
  },
  {
   "cell_type": "markdown",
   "metadata": {},
   "source": [
    "# 2. Какой из фильмов самый длительный (в минутах)\n",
    "1. The Lord of the Rings: The Return of the King\t(tt0167260)\n",
    "2. Gods and Generals\t(tt0279111)\n",
    "3. King Kong\t(tt0360717)\n",
    "4. Pearl Harbor\t(tt0213149)\n",
    "5. Alexander\t(tt0346491)"
   ]
  },
  {
   "cell_type": "code",
   "execution_count": 6,
   "metadata": {},
   "outputs": [],
   "source": [
    "sample1 = data.query('imdb_id in [\"tt0167260\",\"tt0279111\",\"tt0360717\",\"tt0213149\",\"tt0346491\"]')\n",
    "sample1[sample1['runtime'] == sample1['runtime'].max()]\n",
    "\n",
    "answer_ls.append(2)"
   ]
  },
  {
   "cell_type": "markdown",
   "metadata": {},
   "source": [
    "# 3. Какой из фильмов самый короткий (в минутах)\n",
    "Варианты ответов:\n",
    "\n",
    "1. Home on the Range\ttt0299172\n",
    "2. The Jungle Book 2\ttt0283426\n",
    "3. Winnie the Pooh\ttt1449283\n",
    "4. Corpse Bride\ttt0121164\n",
    "5. Hoodwinked!\ttt0443536"
   ]
  },
  {
   "cell_type": "code",
   "execution_count": 8,
   "metadata": {},
   "outputs": [],
   "source": [
    "sample3 = data.query('imdb_id in [\"tt0299172\",\"tt0283426\",\"tt1449283\",\"tt0121164\",\"tt0443536\"]')\n",
    "sample3[sample3['runtime'] == sample3['runtime'].min()]\n",
    "\n",
    "answer_ls.append(3)"
   ]
  },
  {
   "cell_type": "markdown",
   "metadata": {},
   "source": [
    "# 4. Средняя длительность фильма?\n",
    "\n",
    "Варианты ответов:\n",
    "1. 115\n",
    "2. 110\n",
    "3. 105\n",
    "4. 120\n",
    "5. 100\n"
   ]
  },
  {
   "cell_type": "code",
   "execution_count": 9,
   "metadata": {},
   "outputs": [],
   "source": [
    "mean_runtime = data.runtime.mean()\n",
    "mean_runtime\n",
    "\n",
    "answer_ls.append(2)"
   ]
  },
  {
   "cell_type": "markdown",
   "metadata": {},
   "source": [
    "# 5. Средняя длительность фильма по медиане?\n",
    "Варианты ответов:\n",
    "1. 106\n",
    "2. 112\n",
    "3. 101\n",
    "4. 120\n",
    "5. 115\n",
    "\n",
    "\n"
   ]
  },
  {
   "cell_type": "code",
   "execution_count": 10,
   "metadata": {},
   "outputs": [],
   "source": [
    "median_runtime = data.runtime.median(axis = 0)\n",
    "median_runtime\n",
    "\n",
    "answer_ls.append(1)"
   ]
  },
  {
   "cell_type": "markdown",
   "metadata": {},
   "source": [
    "# 6. Какой самый прибыльный фильм?\n",
    "Варианты ответов:\n",
    "1. The Avengers\ttt0848228\n",
    "2. Minions\ttt2293640\n",
    "3. Star Wars: The Force Awakens\ttt2488496\n",
    "4. Furious 7\ttt2820852\n",
    "5. Avatar\ttt0499549"
   ]
  },
  {
   "cell_type": "code",
   "execution_count": 13,
   "metadata": {},
   "outputs": [
    {
     "name": "stdout",
     "output_type": "stream",
     "text": [
      "       imdb_id  popularity     budget     revenue original_title  \\\n",
      "239  tt0499549    9.432768  237000000  2781505847         Avatar   \n",
      "\n",
      "                                                  cast       director  \\\n",
      "239  Sam Worthington|Zoe Saldana|Sigourney Weaver|S...  James Cameron   \n",
      "\n",
      "                         tagline  \\\n",
      "239  Enter the World of Pandora.   \n",
      "\n",
      "                                              overview  runtime  \\\n",
      "239  In the 22nd century, a paraplegic Marine is di...      162   \n",
      "\n",
      "                                       genres  \\\n",
      "239  Action|Adventure|Fantasy|Science Fiction   \n",
      "\n",
      "                                  production_companies release_date  \\\n",
      "239  Ingenious Film Partners|Twentieth Century Fox ...   12/10/2009   \n",
      "\n",
      "     vote_count  vote_average  release_year      profit  \n",
      "239        8458           7.1          2009  2544505847  \n"
     ]
    }
   ],
   "source": [
    "sample6 = data.query('imdb_id in [\"tt0848228\",\"tt2293640\",\"tt2488496\",\"tt2820852\",\"tt0499549\"]')\n",
    "print(sample6[sample6['profit'] == sample6['profit'].max()])\n",
    "\n",
    "answer_ls.append(5)"
   ]
  },
  {
   "cell_type": "markdown",
   "metadata": {},
   "source": [
    "# 7. Какой фильм самый убыточный?\n",
    "Варианты ответов:\n",
    "1. Supernova tt0134983\n",
    "2. The Warrior's Way tt1032751\n",
    "3. Flushed Away\ttt0424095\n",
    "4. The Adventures of Pluto Nash\ttt0180052\n",
    "5. The Lone Ranger\ttt1210819"
   ]
  },
  {
   "cell_type": "code",
   "execution_count": 16,
   "metadata": {},
   "outputs": [
    {
     "name": "stdout",
     "output_type": "stream",
     "text": [
      "       imdb_id  popularity     budget   revenue     original_title  \\\n",
      "491  tt1032751     0.25054  425000000  11087569  The Warrior's Way   \n",
      "\n",
      "                                                  cast    director  \\\n",
      "491  Kate Bosworth|Jang Dong-gun|Geoffrey Rush|Dann...  Sngmoo Lee   \n",
      "\n",
      "                     tagline  \\\n",
      "491  Assassin. Hero. Legend.   \n",
      "\n",
      "                                              overview  runtime  \\\n",
      "491  An Asian assassin (Dong-gun Jang) is forced to...      100   \n",
      "\n",
      "                                        genres      production_companies  \\\n",
      "491  Adventure|Fantasy|Action|Western|Thriller  Boram Entertainment Inc.   \n",
      "\n",
      "    release_date  vote_count  vote_average  release_year     profit  \n",
      "491    12/2/2010          74           6.4          2010 -413912431  \n"
     ]
    }
   ],
   "source": [
    "sample7 = data.query('imdb_id in [\"tt0134983\",\"tt1032751\",\"tt0424095\",\"tt0180052\",\"tt1210819\"]')\n",
    "print(sample7[sample7['profit'] == sample7['profit'].min()])\n",
    "\n",
    "answer_ls.append(2)"
   ]
  },
  {
   "cell_type": "markdown",
   "metadata": {},
   "source": [
    "# 8. Сколько всего фильмов в прибыли?\n",
    "Варианты ответов:\n",
    "1. 1478\n",
    "2. 1520\n",
    "3. 1241\n",
    "4. 1135\n",
    "5. 1398\n"
   ]
  },
  {
   "cell_type": "code",
   "execution_count": 17,
   "metadata": {},
   "outputs": [
    {
     "name": "stdout",
     "output_type": "stream",
     "text": [
      "1478\n"
     ]
    }
   ],
   "source": [
    "print(len(data[data['profit'] > 0].index))\n",
    "answer_ls.append(1)"
   ]
  },
  {
   "cell_type": "markdown",
   "metadata": {},
   "source": [
    "# 9. Самый прибыльный фильм в 2008 году?\n",
    "Варианты ответов:\n",
    "1. Madagascar: Escape 2 Africa\ttt0479952\n",
    "2. Iron Man\ttt0371746\n",
    "3. Kung Fu Panda\ttt0441773\n",
    "4. The Dark Knight\ttt0468569\n",
    "5. Mamma Mia!\ttt0795421"
   ]
  },
  {
   "cell_type": "code",
   "execution_count": 18,
   "metadata": {},
   "outputs": [],
   "source": [
    "sample9 = data.query('imdb_id in [\"tt0795421\",\"tt0468569\",\"tt0441773\",\"tt0371746\",\"tt0479952\"]')\n",
    "sample9[sample9['profit'] ==sample9['profit'].max()]\n",
    "answer_ls.append(4)"
   ]
  },
  {
   "cell_type": "markdown",
   "metadata": {},
   "source": [
    "# 10. Самый убыточный фильм за период с 2012 по 2014 (включительно)?\n",
    "Варианты ответов:\n",
    "1. Winter's Tale\ttt1837709\n",
    "2. Stolen\ttt1656186\n",
    "3. Broken City\ttt1235522\n",
    "4. Upside Down\ttt1374992\n",
    "5. The Lone Ranger\ttt1210819\n"
   ]
  },
  {
   "cell_type": "code",
   "execution_count": 19,
   "metadata": {},
   "outputs": [
    {
     "name": "stdout",
     "output_type": "stream",
     "text": [
      "        imdb_id  popularity     budget   revenue   original_title  \\\n",
      "1246  tt1210819     1.21451  255000000  89289910  The Lone Ranger   \n",
      "\n",
      "                                                   cast        director  \\\n",
      "1246  Johnny Depp|Armie Hammer|William Fichtner|Hele...  Gore Verbinski   \n",
      "\n",
      "                      tagline  \\\n",
      "1246  Never Take Off the Mask   \n",
      "\n",
      "                                               overview  runtime  \\\n",
      "1246  The Texas Rangers chase down a gang of outlaws...      149   \n",
      "\n",
      "                        genres  \\\n",
      "1246  Action|Adventure|Western   \n",
      "\n",
      "                                   production_companies release_date  \\\n",
      "1246  Walt Disney Pictures|Jerry Bruckheimer Films|I...     7/3/2013   \n",
      "\n",
      "      vote_count  vote_average  release_year     profit  \n",
      "1246        1607           6.0          2013 -165710090  \n"
     ]
    }
   ],
   "source": [
    "sample10=data[(data['release_year'] >= 2012)&(data['release_year'] <= 2014)]\n",
    "print(sample10[sample10['profit']==sample10['profit'].min()])\n",
    "\n",
    "answer_ls.append(1)"
   ]
  },
  {
   "cell_type": "markdown",
   "metadata": {},
   "source": [
    "# 11. Какого жанра фильмов больше всего?\n",
    "Варианты ответов:\n",
    "1. Action\n",
    "2. Adventure\n",
    "3. Drama\n",
    "4. Comedy\n",
    "5. Thriller"
   ]
  },
  {
   "cell_type": "code",
   "execution_count": 20,
   "metadata": {},
   "outputs": [
    {
     "name": "stdout",
     "output_type": "stream",
     "text": [
      "Drama    782\n",
      "dtype: int64\n"
     ]
    }
   ],
   "source": [
    "print(pd.DataFrame(data.genres.str.split('|').tolist()).stack().value_counts().sort_values(ascending=False).head(1))\n",
    "\n",
    "answer_ls.append(3)"
   ]
  },
  {
   "cell_type": "markdown",
   "metadata": {},
   "source": [
    "# 12. Какого жанра среди прибыльных фильмов больше всего?\n",
    "Варианты ответов:\n",
    "1. Drama\n",
    "2. Comedy\n",
    "3. Action\n",
    "4. Thriller\n",
    "5. Adventure"
   ]
  },
  {
   "cell_type": "code",
   "execution_count": 21,
   "metadata": {},
   "outputs": [
    {
     "name": "stdout",
     "output_type": "stream",
     "text": [
      "Drama    560\n",
      "dtype: int64\n"
     ]
    }
   ],
   "source": [
    "profits=pd.DataFrame(data[data['profit'] > 0])\n",
    "print(pd.DataFrame(profits.genres.str.split('|').tolist()).stack().value_counts().sort_values(ascending=False).head(1))\n",
    "\n",
    "answer_ls.append(3)"
   ]
  },
  {
   "cell_type": "markdown",
   "metadata": {},
   "source": [
    "# 13. Кто из режиссеров снял больше всего фильмов?\n",
    "Варианты ответов:\n",
    "1. Steven Spielberg\n",
    "2. Ridley Scott \n",
    "3. Steven Soderbergh\n",
    "4. Christopher Nolan\n",
    "5. Clint Eastwood"
   ]
  },
  {
   "cell_type": "code",
   "execution_count": 22,
   "metadata": {},
   "outputs": [
    {
     "name": "stdout",
     "output_type": "stream",
     "text": [
      "Steven Soderbergh    13\n",
      "Clint Eastwood       12\n",
      "Ridley Scott         12\n",
      "Robert Rodriguez     11\n",
      "Steven Spielberg     10\n",
      "dtype: int64\n"
     ]
    }
   ],
   "source": [
    "print(pd.DataFrame(data.director.str.split('|').tolist()).stack().value_counts().sort_values(ascending=False).head(5))\n",
    "\n",
    "answer_ls.append(3)"
   ]
  },
  {
   "cell_type": "markdown",
   "metadata": {},
   "source": [
    "# 14. Кто из режиссеров снял больше всего Прибыльных фильмов?\n",
    "Варианты ответов:\n",
    "1. Steven Soderbergh\n",
    "2. Clint Eastwood\n",
    "3. Steven Spielberg\n",
    "4. Ridley Scott\n",
    "5. Christopher Nolan"
   ]
  },
  {
   "cell_type": "code",
   "execution_count": 23,
   "metadata": {},
   "outputs": [],
   "source": [
    "profits=pd.DataFrame(data[data['profit'] > 0])\n",
    "pd.DataFrame(profits.director.str.split('|').tolist()).stack().value_counts().sort_values(ascending=False).head(5)\n",
    "\n",
    "answer_ls.append(4)"
   ]
  },
  {
   "cell_type": "markdown",
   "metadata": {},
   "source": [
    "# 15. Кто из режиссеров принес больше всего прибыли?\n",
    "Варианты ответов:\n",
    "1. Steven Spielberg\n",
    "2. Christopher Nolan\n",
    "3. David Yates\n",
    "4. James Cameron\n",
    "5. Peter Jackson\n"
   ]
  },
  {
   "cell_type": "code",
   "execution_count": 24,
   "metadata": {},
   "outputs": [
    {
     "data": {
      "text/plain": [
       "director\n",
       "Peter Jackson            5202593685\n",
       "David Yates              3379295625\n",
       "Christopher Nolan        3162548502\n",
       "J.J. Abrams              2839169916\n",
       "Michael Bay              2760938960\n",
       "                            ...    \n",
       "David Bowers|Sam Fell     -84540684\n",
       "Peter Hyams               -86956545\n",
       "Ron Underwood             -92896027\n",
       "James L. Brooks           -96289726\n",
       "Sngmoo Lee               -413912431\n",
       "Name: profit, Length: 958, dtype: int64"
      ]
     },
     "metadata": {},
     "output_type": "display_data"
    }
   ],
   "source": [
    "df = data.groupby(['director'])['profit'].sum()\n",
    "display(df.sort_values(ascending=False))\n",
    "\n",
    "answer_ls.append(5)"
   ]
  },
  {
   "cell_type": "markdown",
   "metadata": {},
   "source": [
    "# 16. Какой актер принес больше всего прибыли?\n",
    "Варианты ответов:\n",
    "1. Emma Watson\n",
    "2. Johnny Depp\n",
    "3. Michelle Rodriguez\n",
    "4. Orlando Bloom\n",
    "5. Rupert Grint"
   ]
  },
  {
   "cell_type": "code",
   "execution_count": 25,
   "metadata": {},
   "outputs": [
    {
     "name": "stdout",
     "output_type": "stream",
     "text": [
      "                          profit\n",
      "Emma Watson         6.666246e+09\n",
      "Johnny Depp         4.776417e+09\n",
      "Michelle Rodriguez  4.608031e+09\n",
      "Orlando Bloom       5.148578e+09\n",
      "Rupert Grint        6.408638e+09\n"
     ]
    }
   ],
   "source": [
    "actors_list = ['Emma Watson','Johnny Depp','Michelle Rodriguez','Orlando Bloom','Rupert Grint']\n",
    "actors_profit_df = pd.DataFrame({'profit':0.}, index = actors_list)\n",
    "for name in actors_list:\n",
    "    actors_profit_df.loc[name] = data[data.cast.str.contains(name)].profit.sum()\n",
    "print(actors_profit_df)\n",
    "\n",
    "answer_ls.append(1)"
   ]
  },
  {
   "cell_type": "markdown",
   "metadata": {},
   "source": [
    "# 17. Какой актер принес меньше всего прибыли в 2012 году?\n",
    "Варианты ответов:\n",
    "1. Nicolas Cage\n",
    "2. Danny Huston\n",
    "3. Kirsten Dunst\n",
    "4. Jim Sturgess\n",
    "5. Sami Gayle"
   ]
  },
  {
   "cell_type": "code",
   "execution_count": 26,
   "metadata": {},
   "outputs": [
    {
     "name": "stdout",
     "output_type": "stream",
     "text": [
      "                   profit\n",
      "Nicolas Cage  -32893443.0\n",
      "Danny Huston  -32893443.0\n",
      "Kirsten Dunst -68109207.0\n",
      "Jim Sturgess  -23410657.0\n",
      "Sami Gayle    -32893443.0\n"
     ]
    }
   ],
   "source": [
    "actors_list = ['Nicolas Cage','Danny Huston','Kirsten Dunst','Jim Sturgess','Sami Gayle']\n",
    "actors_profit_df = pd.DataFrame({'profit':0.}, index = actors_list)\n",
    "data_new=data[data['release_year']==2012]\n",
    "for name in actors_list:\n",
    "    actors_profit_df.loc[name] = data_new[data_new.cast.str.contains(name)].profit.sum()\n",
    "print(actors_profit_df)\n",
    "\n",
    "answer_ls.append(3)"
   ]
  },
  {
   "cell_type": "markdown",
   "metadata": {},
   "source": [
    "# 18. Какой актер снялся в большем количестве высокобюджетных фильмов? (в фильмах где бюджет выше среднего по данной выборке)\n",
    "Варианты ответов:\n",
    "1. Tom Cruise\n",
    "2. Mark Wahlberg \n",
    "3. Matt Damon\n",
    "4. Angelina Jolie\n",
    "5. Adam Sandler"
   ]
  },
  {
   "cell_type": "code",
   "execution_count": 27,
   "metadata": {},
   "outputs": [
    {
     "name": "stdout",
     "output_type": "stream",
     "text": [
      "Matt Damon               18\n",
      "Adam Sandler             17\n",
      "Angelina Jolie           16\n",
      "Eddie Murphy             15\n",
      "Tom Cruise               15\n",
      "                         ..\n",
      "Hayden Panettiere         1\n",
      "Kelsey Grammer            1\n",
      "Juno Temple               1\n",
      "Jack O'Connell            1\n",
      "Svetlana Khodchenkova     1\n",
      "Length: 1508, dtype: int64\n"
     ]
    }
   ],
   "source": [
    "data_new=data[data['budget']>data['budget'].mean()]\n",
    "print(pd.DataFrame(data_new.cast.str.split('|').tolist()).stack().value_counts())\n",
    "\n",
    "answer_ls.append(3)"
   ]
  },
  {
   "cell_type": "markdown",
   "metadata": {},
   "source": [
    "# 19. В фильмах какого жанра больше всего снимался Nicolas Cage?  \n",
    "Варианты ответа:\n",
    "1. Drama\n",
    "2. Action\n",
    "3. Thriller\n",
    "4. Adventure\n",
    "5. Crime"
   ]
  },
  {
   "cell_type": "code",
   "execution_count": 28,
   "metadata": {},
   "outputs": [
    {
     "name": "stdout",
     "output_type": "stream",
     "text": [
      "Action             9\n",
      "Thriller           7\n",
      "Fantasy            5\n",
      "Drama              4\n",
      "Adventure          4\n",
      "Comedy             3\n",
      "History            2\n",
      "Family             2\n",
      "Animation          2\n",
      "Science Fiction    2\n",
      "Mystery            2\n",
      "Crime              1\n",
      "Horror             1\n",
      "War                1\n",
      "Romance            1\n",
      "dtype: int64\n"
     ]
    }
   ],
   "source": [
    "data_new=data_new[data_new.cast.str.contains(\"Nicolas Cage\")]\n",
    "print(pd.DataFrame(data_new.genres.str.split('|').tolist()).stack().value_counts())\n",
    "\n",
    "answer_ls.append(2)"
   ]
  },
  {
   "cell_type": "markdown",
   "metadata": {},
   "source": [
    "# 20. Какая студия сняла больше всего фильмов?\n",
    "Варианты ответа:\n",
    "1. Universal Pictures (Universal)\n",
    "2. Paramount Pictures\n",
    "3. Columbia Pictures\n",
    "4. Warner Bros\n",
    "5. Twentieth Century Fox Film Corporation"
   ]
  },
  {
   "cell_type": "code",
   "execution_count": 29,
   "metadata": {},
   "outputs": [
    {
     "name": "stdout",
     "output_type": "stream",
     "text": [
      "Universal Pictures                        173\n",
      "Warner Bros.                              168\n",
      "Paramount Pictures                        122\n",
      "Columbia Pictures                         117\n",
      "Twentieth Century Fox Film Corporation    109\n",
      "                                         ... \n",
      "Pierce/Williams Entertainment               1\n",
      "Thunder Road Productions                    1\n",
      "Reaper Productions                          1\n",
      "Camelot Pictures                            1\n",
      "Onda Entertainment                          1\n",
      "Length: 1772, dtype: int64\n"
     ]
    }
   ],
   "source": [
    "print(pd.DataFrame(data.production_companies.str.split('|').tolist()).stack().value_counts())\n",
    "\n",
    "answer_ls.append(1)"
   ]
  },
  {
   "cell_type": "markdown",
   "metadata": {},
   "source": [
    "# 21. Какая студия сняла больше всего фильмов в 2015 году?\n",
    "Варианты ответа:\n",
    "1. Universal Pictures\n",
    "2. Paramount Pictures\n",
    "3. Columbia Pictures\n",
    "4. Warner Bros\n",
    "5. Twentieth Century Fox Film Corporation"
   ]
  },
  {
   "cell_type": "code",
   "execution_count": 10,
   "metadata": {},
   "outputs": [
    {
     "name": "stdout",
     "output_type": "stream",
     "text": [
      "Warner Bros.                              12\n",
      "Universal Pictures                        10\n",
      "Twentieth Century Fox Film Corporation     8\n",
      "Paramount Pictures                         7\n",
      "Columbia Pictures                          7\n",
      "                                          ..\n",
      "Silver Pictures                            1\n",
      "The Weinstein Company                      1\n",
      "Alcon Entertainment                        1\n",
      "Orange Studios                             1\n",
      "Marvel Entertainment                       1\n",
      "Length: 246, dtype: int64\n"
     ]
    }
   ],
   "source": [
    "data_new=data[data['release_year']==2015]\n",
    "print(pd.DataFrame(data_new.production_companies.str.split('|').tolist()).stack().value_counts())\n",
    "\n",
    "answer_ls.append(4)"
   ]
  },
  {
   "cell_type": "markdown",
   "metadata": {},
   "source": [
    "# 22. Какая студия заработала больше всего денег в жанре комедий за все время?\n",
    "Варианты ответа:\n",
    "1. Warner Bros\n",
    "2. Universal Pictures (Universal)\n",
    "3. Columbia Pictures\n",
    "4. Paramount Pictures\n",
    "5. Walt Disney"
   ]
  },
  {
   "cell_type": "code",
   "execution_count": 11,
   "metadata": {},
   "outputs": [
    {
     "name": "stdout",
     "output_type": "stream",
     "text": [
      "Universal Pictures                                           75\n",
      "Columbia Pictures                                            62\n",
      "Warner Bros.                                                 46\n",
      "Walt Disney Pictures                                         45\n",
      "Twentieth Century Fox Film Corporation                       44\n",
      "                                                             ..\n",
      "Premiere Picture                                              1\n",
      "Epidemic Pictures                                             1\n",
      "Linson Entertainment                                          1\n",
      "Global Entertainment Productions GmbH & Company Medien KG     1\n",
      "Kennedy Miller Productions                                    1\n",
      "Length: 702, dtype: int64\n"
     ]
    }
   ],
   "source": [
    "data_new = data[data.genres.str.contains('Comedy')]\n",
    "print(pd.DataFrame(data_new.production_companies.str.split('|').tolist()).stack().value_counts())\n",
    "\n",
    "answer_ls.append(2)"
   ]
  },
  {
   "cell_type": "markdown",
   "metadata": {},
   "source": [
    "# 23. Какая студия заработала больше всего денег в 2012 году?\n",
    "Варианты ответа:\n",
    "1. Universal Pictures (Universal)\n",
    "2. Warner Bros\n",
    "3. Columbia Pictures\n",
    "4. Paramount Pictures\n",
    "5. Lucasfilm"
   ]
  },
  {
   "cell_type": "code",
   "execution_count": 12,
   "metadata": {},
   "outputs": [
    {
     "name": "stdout",
     "output_type": "stream",
     "text": [
      "                          profit\n",
      "Universal Pictures  1.981012e+09\n",
      "Warner Bros         1.258020e+09\n",
      "Columbia Pictures   2.501407e+09\n",
      "Paramount Pictures  4.107267e+08\n",
      "Lucasfilm          -7.634623e+06\n"
     ]
    }
   ],
   "source": [
    "data['profit']=data['revenue']-data['budget']\n",
    "data_new=data[data['release_year']==2012]\n",
    "companies_list = ['Universal Pictures','Warner Bros','Columbia Pictures','Paramount Pictures','Lucasfilm']\n",
    "companies_profit_df = pd.DataFrame({'profit':0.}, index = companies_list)\n",
    "for name in companies_list:\n",
    "    companies_profit_df.loc[name] = data_new[data_new.production_companies.str.contains(name)].profit.sum()\n",
    "print(companies_profit_df)\n",
    "#вообще я это задание решил верно , но из-за невнимательности нажал неправильный ответ\n",
    "answer_ls.append(3)"
   ]
  },
  {
   "cell_type": "markdown",
   "metadata": {},
   "source": [
    "# 24. Самый убыточный фильм от Paramount Pictures\n",
    "Варианты ответа:\n",
    "\n",
    "1. K-19: The Widowmaker tt0267626\n",
    "2. Next tt0435705\n",
    "3. Twisted tt0315297\n",
    "4. The Love Guru tt0811138\n",
    "5. The Fighter tt0964517"
   ]
  },
  {
   "cell_type": "code",
   "execution_count": 16,
   "metadata": {},
   "outputs": [
    {
     "name": "stdout",
     "output_type": "stream",
     "text": [
      "        imdb_id  popularity     budget   revenue        original_title  \\\n",
      "926   tt0267626    0.722330  100000000  35168966  K-19: The Widowmaker   \n",
      "1124  tt0300556    1.047214   80000000  19480739              Timeline   \n",
      "1723  tt0435705    1.068126   70000000  18211013                  Next   \n",
      "1624  tt0375173    0.898601   60000000  13395939                 Alfie   \n",
      "1632  tt0315297    0.767870   50000000  25195000               Twisted   \n",
      "\n",
      "                                                   cast         director  \\\n",
      "926   Harrison Ford|Liam Neeson|Peter Sarsgaard|Joss...  Kathryn Bigelow   \n",
      "1124  Paul Walker|Frances O'Connor|Gerard Butler|Bil...   Richard Donner   \n",
      "1723  Nicolas Cage|Julianne Moore|Jessica Biel|Thoma...     Lee Tamahori   \n",
      "1624  Jude Law|Marisa Tomei|Omar Epps|Jane Krakowski...    Charles Shyer   \n",
      "1632  Ashley Judd|Samuel L. Jackson|Andy GarcÃ­a|Dav...   Philip Kaufman   \n",
      "\n",
      "                                                tagline  \\\n",
      "926                            Fate has found its hero.   \n",
      "1124  They had to travel into the past to save the f...   \n",
      "1723        If you can see the future, you can save it.   \n",
      "1624   Meet a man who never met a woman he didn't love.   \n",
      "1632                           Every murder has a mark.   \n",
      "\n",
      "                                               overview  runtime  \\\n",
      "926   When Russia's first nuclear submarine malfunct...      138   \n",
      "1124  A group of archaeological students become trap...      116   \n",
      "1723  Las Vegas showroom magician Cris Johnson has a...       96   \n",
      "1624  In Manhattan, the British limousine driver Alf...      103   \n",
      "1632  Recently promoted and transferred to the homic...       97   \n",
      "\n",
      "                                     genres  \\\n",
      "926                  Thriller|Drama|History   \n",
      "1124       Action|Adventure|Science Fiction   \n",
      "1723        Action|Science Fiction|Thriller   \n",
      "1624                                 Comedy   \n",
      "1632  Action|Adventure|Crime|Drama|Thriller   \n",
      "\n",
      "                                   production_companies release_date  \\\n",
      "926   Paramount Pictures|Intermedia Films|National G...    7/19/2002   \n",
      "1124  Paramount Pictures|Donners' Company|Mutual Fil...   11/26/2003   \n",
      "1723  Paramount Pictures|Virtual Studios|Revolution ...    4/24/2007   \n",
      "1624             Paramount Pictures|Patalex Productions   10/22/2004   \n",
      "1632  Paramount Pictures|Kopelson Entertainment|Harl...    2/27/2004   \n",
      "\n",
      "      vote_count  vote_average  release_year    profit  \n",
      "926          146           6.0          2002 -64831034  \n",
      "1124         176           5.1          2003 -60519261  \n",
      "1723         499           5.9          2007 -51788987  \n",
      "1624         140           5.4          2004 -46604061  \n",
      "1632          67           5.7          2004 -24805000  \n"
     ]
    }
   ],
   "source": [
    "data['profit']=data['revenue']-data['budget']\n",
    "df_paramount=data[data.production_companies.str.contains('Paramount Pictures')].sort_values(by='profit',ascending=True)\n",
    "print(df_paramount.head(5))\n",
    "\n",
    "answer_ls.append(1)"
   ]
  },
  {
   "cell_type": "markdown",
   "metadata": {},
   "source": [
    "# 25. Какой Самый прибыльный год (заработали больше всего)?\n",
    "Варианты ответа:\n",
    "1. 2014\n",
    "2. 2008\n",
    "3. 2012\n",
    "4. 2002\n",
    "5. 2015"
   ]
  },
  {
   "cell_type": "code",
   "execution_count": 17,
   "metadata": {},
   "outputs": [
    {
     "name": "stdout",
     "output_type": "stream",
     "text": [
      "            profit\n",
      "2015  1.866857e+10\n",
      "2014  1.639781e+10\n",
      "2012  1.607700e+10\n",
      "2008  1.166388e+10\n",
      "2002  9.002361e+09\n"
     ]
    }
   ],
   "source": [
    "year_list = [2014,2008,2012,2002,2015]\n",
    "years_profit_df = pd.DataFrame({'profit':0.}, index = year_list)\n",
    "for year in year_list:\n",
    "    years_profit_df.loc[year] = data[data['release_year']==year].profit.sum()\n",
    "print(years_profit_df.sort_values(by='profit',ascending=False))\n",
    "\n",
    "answer_ls.append(5)"
   ]
  },
  {
   "cell_type": "markdown",
   "metadata": {},
   "source": [
    "# 26. Какой Самый прибыльный год для студии Warner Bros?\n",
    "Варианты ответа:\n",
    "1. 2014\n",
    "2. 2008\n",
    "3. 2012\n",
    "4. 2010\n",
    "5. 2015"
   ]
  },
  {
   "cell_type": "code",
   "execution_count": 18,
   "metadata": {},
   "outputs": [
    {
     "name": "stdout",
     "output_type": "stream",
     "text": [
      "            profit\n",
      "2014  2.295465e+09\n",
      "2008  2.134595e+09\n",
      "2010  1.974713e+09\n",
      "2012  1.258020e+09\n",
      "2015  8.703683e+08\n"
     ]
    }
   ],
   "source": [
    "data_new=pd.DataFrame(data[data.production_companies.str.contains('Warner Bros')])\n",
    "year_list = [2014,2008,2012,2010,2015]\n",
    "years_profit_df = pd.DataFrame({'profit':0.}, index = year_list)\n",
    "for year in year_list:\n",
    "    years_profit_df.loc[year] = data_new[data_new['release_year']==year].profit.sum()\n",
    "print(years_profit_df.sort_values(by='profit',ascending=False))\n",
    "\n",
    "answer_ls.append(1)"
   ]
  },
  {
   "cell_type": "markdown",
   "metadata": {},
   "source": [
    "# 27. В каком месяце за все годы суммарно вышло больше всего фильмов?\n",
    "Варианты ответа:\n",
    "1. Январь\n",
    "2. Июнь\n",
    "3. Декабрь\n",
    "4. Сентябрь\n",
    "5. Май"
   ]
  },
  {
   "cell_type": "code",
   "execution_count": 19,
   "metadata": {},
   "outputs": [
    {
     "name": "stdout",
     "output_type": "stream",
     "text": [
      "[('9', 227), ('12', 191), ('10', 186), ('8', 161), ('3', 156), ('4', 149), ('6', 147), ('11', 146), ('7', 142), ('5', 140), ('2', 135), ('1', 110)]\n"
     ]
    }
   ],
   "source": [
    "data['release_month']= [release_date.split('/')[0] for release_date in data.release_date]\n",
    "from collections import Counter\n",
    "c = Counter()\n",
    "for year in data.release_month:\n",
    "    c[year] += 1\n",
    "print(c.most_common())\n",
    "\n",
    "answer_ls.append(4)"
   ]
  },
  {
   "cell_type": "markdown",
   "metadata": {},
   "source": [
    "# 28. Сколько суммарно вышло фильмов летом? (за июнь, июль, август)\n",
    "Варианты ответа:\n",
    "1. 345\n",
    "2. 450\n",
    "3. 478\n",
    "4. 523\n",
    "5. 381"
   ]
  },
  {
   "cell_type": "code",
   "execution_count": 20,
   "metadata": {},
   "outputs": [
    {
     "name": "stdout",
     "output_type": "stream",
     "text": [
      "450\n"
     ]
    }
   ],
   "source": [
    "c = Counter()\n",
    "for year in data.release_month:\n",
    "    c[year] += 1\n",
    "summer_movies= c['6']+c['7']+c['8']\n",
    "print(summer_movies)\n",
    "\n",
    "answer_ls.append(2)"
   ]
  },
  {
   "cell_type": "markdown",
   "metadata": {},
   "source": [
    "# 29. Какой режисер выпускает (суммарно по годам) больше всего фильмов зимой?\n",
    "Варианты ответов:\n",
    "1. Steven Soderbergh\n",
    "2. Christopher Nolan\n",
    "3. Clint Eastwood\n",
    "4. Ridley Scott\n",
    "5. Peter Jackson"
   ]
  },
  {
   "cell_type": "code",
   "execution_count": 22,
   "metadata": {},
   "outputs": [
    {
     "name": "stdout",
     "output_type": "stream",
     "text": [
      "[('Peter Jackson', 7), ('Clint Eastwood', 6), ('Steven Soderbergh', 6), ('Ridley Scott', 3)]\n"
     ]
    }
   ],
   "source": [
    "director_list=['Steven Soderbergh','Christopher Nolan','Clint Eastwood','Ridley Scott','Peter Jackson']\n",
    "month_list=['12','1','2']\n",
    "data_new = data.query('release_month in [\"12\",\"1\",\"2\"] & director in [\"Steven Soderbergh\",\"Christopher Nolan\",\"Clint Eastwood\",\"Ridley Scott\",\"Peter Jackson\"]')\n",
    "c = Counter()\n",
    "for director in data_new.director:\n",
    "    c[director] += 1\n",
    "print(c.most_common())\n",
    "\n",
    "answer_ls.append(5)"
   ]
  },
  {
   "cell_type": "markdown",
   "metadata": {},
   "source": [
    "# 30. Какой месяц чаще всего по годам самый прибыльный?\n",
    "Варианты ответа:\n",
    "1. Январь\n",
    "2. Июнь\n",
    "3. Декабрь\n",
    "4. Сентябрь\n",
    "5. Май"
   ]
  },
  {
   "cell_type": "code",
   "execution_count": 23,
   "metadata": {},
   "outputs": [
    {
     "name": "stdout",
     "output_type": "stream",
     "text": [
      "6     7\n",
      "5     4\n",
      "12    4\n",
      "7     1\n",
      "dtype: int64\n"
     ]
    }
   ],
   "source": [
    "data['profit']=data['revenue']-data['budget']\n",
    "data['release_month']= [release_date.split('/')[0] for release_date in data.release_date]\n",
    "#data\n",
    "df2 = data.pivot_table(columns = 'release_month', index = 'release_year', values = 'profit', aggfunc = 'sum')\n",
    "print(df2.idxmax(axis=1).value_counts())\n",
    "\n",
    "answer_ls.append(2)"
   ]
  },
  {
   "cell_type": "markdown",
   "metadata": {},
   "source": [
    "# 31. Названия фильмов какой студии в среднем самые длинные по количеству символов?\n",
    "Варианты ответа:\n",
    "1. Universal Pictures (Universal)\n",
    "2. Warner Bros\n",
    "3. Jim Henson Company, The\n",
    "4. Paramount Pictures\n",
    "5. Four By Two Productions"
   ]
  },
  {
   "cell_type": "code",
   "execution_count": 24,
   "metadata": {},
   "outputs": [
    {
     "name": "stderr",
     "output_type": "stream",
     "text": [
      "C:\\ProgramData\\Anaconda3\\lib\\site-packages\\pandas\\core\\strings.py:1952: UserWarning: This pattern has match groups. To actually get the groups, use str.extract.\n",
      "  return func(self, *args, **kwargs)\n"
     ]
    },
    {
     "name": "stdout",
     "output_type": "stream",
     "text": [
      "                         length\n",
      "Four By Two Productions    83.0\n"
     ]
    }
   ],
   "source": [
    "data['title_length']=data['original_title'].map(lambda x: len(x))\n",
    "companies=[]\n",
    "companies = np.unique(pd.DataFrame(data.production_companies.str.split('|').tolist()).stack())\n",
    "len(companies)\n",
    "companies_title = pd.DataFrame({'length':0.}, index = companies)\n",
    "\n",
    "def mean_length(company):\n",
    "    length=data[data.production_companies.str.contains(company)]['title_length'].mean()\n",
    "    return length\n",
    "\n",
    "for comp in companies:\n",
    "    companies_title.loc[comp] = mean_length(comp)\n",
    "\n",
    "print(companies_title[companies_title['length']==companies_title['length'].max()])\n",
    "\n",
    "answer_ls.append(5)"
   ]
  },
  {
   "cell_type": "markdown",
   "metadata": {},
   "source": [
    "# 32. Названия фильмов какой студии в среднем самые длинные по количеству слов?\n",
    "Варианты ответа:\n",
    "1. Universal Pictures (Universal)\n",
    "2. Warner Bros\n",
    "3. Jim Henson Company, The\n",
    "4. Paramount Pictures\n",
    "5. Four By Two Productions"
   ]
  },
  {
   "cell_type": "code",
   "execution_count": 25,
   "metadata": {},
   "outputs": [
    {
     "name": "stderr",
     "output_type": "stream",
     "text": [
      "C:\\ProgramData\\Anaconda3\\lib\\site-packages\\pandas\\core\\strings.py:1952: UserWarning: This pattern has match groups. To actually get the groups, use str.extract.\n",
      "  return func(self, *args, **kwargs)\n"
     ]
    },
    {
     "name": "stdout",
     "output_type": "stream",
     "text": [
      "                         words\n",
      "Four By Two Productions   12.0\n"
     ]
    }
   ],
   "source": [
    "data['title_words'] = data['original_title'].map(lambda x:len(x.split(' ')))\n",
    "companies=[]\n",
    "companies = np.unique(pd.DataFrame(data.production_companies.str.split('|').tolist()).stack())\n",
    "companies_title = pd.DataFrame({'words':0.}, index = companies)\n",
    "\n",
    "def mean_length(company):\n",
    "    length=data[data.production_companies.str.contains(company)]['title_words'].mean()\n",
    "    return length\n",
    "\n",
    "for comp in companies:\n",
    "    companies_title.loc[comp] = mean_length(comp)\n",
    "\n",
    "print(companies_title[companies_title['words']==companies_title['words'].max()])\n",
    "\n",
    "answer_ls.append(5)"
   ]
  },
  {
   "cell_type": "markdown",
   "metadata": {},
   "source": [
    "# 33. Сколько разных слов используется в названиях фильмов?(без учета регистра)\n",
    "Варианты ответа:\n",
    "1. 6540\n",
    "2. 1002\n",
    "3. 2461\n",
    "4. 28304\n",
    "5. 3432"
   ]
  },
  {
   "cell_type": "code",
   "execution_count": 26,
   "metadata": {},
   "outputs": [
    {
     "name": "stdout",
     "output_type": "stream",
     "text": [
      "2461\n"
     ]
    }
   ],
   "source": [
    "words=list(pd.DataFrame(data.original_title.str.split().tolist()).stack())\n",
    "for word in words:\n",
    "    words[words.index(word)]=word.lower()\n",
    "\n",
    "#words=\n",
    "print(len(np.unique(words)))\n",
    "\n",
    "answer_ls.append(3)"
   ]
  },
  {
   "cell_type": "markdown",
   "metadata": {},
   "source": [
    "# 34. Какие фильмы входят в 1 процент лучших по рейтингу?\n",
    "Варианты ответа:\n",
    "1. Inside Out, Gone Girl, 12 Years a Slave\n",
    "2. BloodRayne, The Adventures of Rocky & Bullwinkle\n",
    "3. The Lord of the Rings: The Return of the King\n",
    "4. 300, Lucky Number Slevin"
   ]
  },
  {
   "cell_type": "code",
   "execution_count": 28,
   "metadata": {},
   "outputs": [
    {
     "data": {
      "text/html": [
       "<div>\n",
       "<style scoped>\n",
       "    .dataframe tbody tr th:only-of-type {\n",
       "        vertical-align: middle;\n",
       "    }\n",
       "\n",
       "    .dataframe tbody tr th {\n",
       "        vertical-align: top;\n",
       "    }\n",
       "\n",
       "    .dataframe thead th {\n",
       "        text-align: right;\n",
       "    }\n",
       "</style>\n",
       "<table border=\"1\" class=\"dataframe\">\n",
       "  <thead>\n",
       "    <tr style=\"text-align: right;\">\n",
       "      <th></th>\n",
       "      <th>original_title</th>\n",
       "      <th>popularity</th>\n",
       "      <th>vote_average</th>\n",
       "    </tr>\n",
       "  </thead>\n",
       "  <tbody>\n",
       "    <tr>\n",
       "      <th>600</th>\n",
       "      <td>The Dark Knight</td>\n",
       "      <td>8.466668</td>\n",
       "      <td>8.1</td>\n",
       "    </tr>\n",
       "    <tr>\n",
       "      <th>9</th>\n",
       "      <td>Inside Out</td>\n",
       "      <td>6.326804</td>\n",
       "      <td>8.0</td>\n",
       "    </tr>\n",
       "    <tr>\n",
       "      <th>34</th>\n",
       "      <td>Room</td>\n",
       "      <td>3.557846</td>\n",
       "      <td>8.0</td>\n",
       "    </tr>\n",
       "    <tr>\n",
       "      <th>118</th>\n",
       "      <td>Interstellar</td>\n",
       "      <td>24.949134</td>\n",
       "      <td>8.0</td>\n",
       "    </tr>\n",
       "    <tr>\n",
       "      <th>125</th>\n",
       "      <td>The Imitation Game</td>\n",
       "      <td>8.110711</td>\n",
       "      <td>8.0</td>\n",
       "    </tr>\n",
       "    <tr>\n",
       "      <th>119</th>\n",
       "      <td>Guardians of the Galaxy</td>\n",
       "      <td>14.311205</td>\n",
       "      <td>7.9</td>\n",
       "    </tr>\n",
       "    <tr>\n",
       "      <th>128</th>\n",
       "      <td>Gone Girl</td>\n",
       "      <td>6.438727</td>\n",
       "      <td>7.9</td>\n",
       "    </tr>\n",
       "    <tr>\n",
       "      <th>138</th>\n",
       "      <td>The Grand Budapest Hotel</td>\n",
       "      <td>4.930820</td>\n",
       "      <td>7.9</td>\n",
       "    </tr>\n",
       "    <tr>\n",
       "      <th>370</th>\n",
       "      <td>Inception</td>\n",
       "      <td>9.363643</td>\n",
       "      <td>7.9</td>\n",
       "    </tr>\n",
       "    <tr>\n",
       "      <th>873</th>\n",
       "      <td>The Pianist</td>\n",
       "      <td>2.364204</td>\n",
       "      <td>7.9</td>\n",
       "    </tr>\n",
       "    <tr>\n",
       "      <th>1082</th>\n",
       "      <td>The Lord of the Rings: The Return of the King</td>\n",
       "      <td>7.122455</td>\n",
       "      <td>7.9</td>\n",
       "    </tr>\n",
       "    <tr>\n",
       "      <th>1184</th>\n",
       "      <td>The Wolf of Wall Street</td>\n",
       "      <td>4.877927</td>\n",
       "      <td>7.9</td>\n",
       "    </tr>\n",
       "    <tr>\n",
       "      <th>1192</th>\n",
       "      <td>12 Years a Slave</td>\n",
       "      <td>3.625529</td>\n",
       "      <td>7.9</td>\n",
       "    </tr>\n",
       "    <tr>\n",
       "      <th>1801</th>\n",
       "      <td>Memento</td>\n",
       "      <td>3.095625</td>\n",
       "      <td>7.9</td>\n",
       "    </tr>\n",
       "  </tbody>\n",
       "</table>\n",
       "</div>"
      ],
      "text/plain": [
       "                                     original_title  popularity  vote_average\n",
       "600                                 The Dark Knight    8.466668           8.1\n",
       "9                                        Inside Out    6.326804           8.0\n",
       "34                                             Room    3.557846           8.0\n",
       "118                                    Interstellar   24.949134           8.0\n",
       "125                              The Imitation Game    8.110711           8.0\n",
       "119                         Guardians of the Galaxy   14.311205           7.9\n",
       "128                                       Gone Girl    6.438727           7.9\n",
       "138                        The Grand Budapest Hotel    4.930820           7.9\n",
       "370                                       Inception    9.363643           7.9\n",
       "873                                     The Pianist    2.364204           7.9\n",
       "1082  The Lord of the Rings: The Return of the King    7.122455           7.9\n",
       "1184                        The Wolf of Wall Street    4.877927           7.9\n",
       "1192                               12 Years a Slave    3.625529           7.9\n",
       "1801                                        Memento    3.095625           7.9"
      ]
     },
     "metadata": {},
     "output_type": "display_data"
    }
   ],
   "source": [
    "top = 1\n",
    "top_procent = np.percentile(data['vote_average'], (100-top))\n",
    "display(data[data.vote_average>top_procent].sort_values(by='vote_average',ascending=False)[['original_title','popularity', 'vote_average']])\n",
    "\n",
    "answer_ls.append(1)"
   ]
  },
  {
   "cell_type": "markdown",
   "metadata": {},
   "source": [
    "# 35. Какие актеры чаще всего снимаются в одном фильме вместе\n",
    "Варианты ответа:\n",
    "1. Johnny Depp & Helena Bonham Carter\n",
    "2. Hugh Jackman & Ian McKellen\n",
    "3. Vin Diesel & Paul Walker\n",
    "4. Adam Sandler & Kevin James\n",
    "5. Daniel Radcliffe & Rupert Grint"
   ]
  },
  {
   "cell_type": "code",
   "execution_count": 30,
   "metadata": {},
   "outputs": [
    {
     "data": {
      "text/plain": [
       "Counter({'Johnny Depp Helena Bonham Carter': 6,\n",
       "         'Hugh Jackman Ian McKellen': 5,\n",
       "         'Vin Diesel Paul Walker': 5,\n",
       "         'Adam Sandler Kevin James': 5,\n",
       "         'Daniel Radcliffe Rupert Grint': 8})"
      ]
     },
     "metadata": {},
     "output_type": "display_data"
    }
   ],
   "source": [
    "actor_pairs = [['Johnny Depp', 'Helena Bonham Carter'],['Hugh Jackman', 'Ian McKellen'],['Vin Diesel', 'Paul Walker'],['Adam Sandler', 'Kevin James'],['Daniel Radcliffe', 'Rupert Grint'],]\n",
    "c = Counter()\n",
    "artists = []\n",
    "\n",
    "for pair in actor_pairs:\n",
    "    pair_str = str(pair[0]+' '+pair[1])\n",
    "    artists.append(pair_str)\n",
    "    c[pair_str] = len(data.loc[(data['cast'].str.contains(pair[0])) & (data['cast'].str.contains(pair[1]))])\n",
    "\n",
    "display(c)  \n",
    "#это оказалось самым напряжным для меня.\n",
    "answer_ls.append(5)"
   ]
  },
  {
   "cell_type": "markdown",
   "metadata": {},
   "source": [
    "# 36. У какого из режиссеров выше вероятность выпустить фильм в прибыли? (5 баллов)101\n",
    "Варианты ответа:\n",
    "1. Quentin Tarantino\n",
    "2. Steven Soderbergh\n",
    "3. Robert Rodriguez\n",
    "4. Christopher Nolan\n",
    "5. Clint Eastwood"
   ]
  },
  {
   "cell_type": "code",
   "execution_count": null,
   "metadata": {},
   "outputs": [],
   "source": [
    "directors_list=['Quentin Tarantino','Steven Soderbergh','Robert Rodriguez','Christopher Nolan','Clint Eastwood']\n",
    "directors = pd.DataFrame({'profits_':0.}, index = directors_list)\n",
    "data['profit']=data['revenue']-data['budget']\n",
    "\n",
    "def profit_count(data,director):\n",
    "    prof = len(data[(data.director.str.contains(director))&(data['profit'] > 0)].index)\n",
    "    loss = len(data[(data.director.str.contains(director))&(data['profit'] < 0)].index)\n",
    "    percent = prof/(prof+loss)\n",
    "    return percent\n",
    "\n",
    "for director in directors_list:\n",
    "    #print(type(comp))\n",
    "    directors.loc[director] = profit_count(data,director)\n",
    "    \n",
    "print(directors)\n",
    "\n",
    "answer_ls.append(4)"
   ]
  },
  {
   "cell_type": "markdown",
   "metadata": {},
   "source": [
    "# Submission"
   ]
  },
  {
   "cell_type": "code",
   "execution_count": 29,
   "metadata": {},
   "outputs": [
    {
     "data": {
      "text/plain": [
       "18"
      ]
     },
     "execution_count": 29,
     "metadata": {},
     "output_type": "execute_result"
    }
   ],
   "source": [
    "len(answer_ls)"
   ]
  },
  {
   "cell_type": "code",
   "execution_count": 5,
   "metadata": {},
   "outputs": [
    {
     "data": {
      "text/html": [
       "<div>\n",
       "<style scoped>\n",
       "    .dataframe tbody tr th:only-of-type {\n",
       "        vertical-align: middle;\n",
       "    }\n",
       "\n",
       "    .dataframe tbody tr th {\n",
       "        vertical-align: top;\n",
       "    }\n",
       "\n",
       "    .dataframe thead th {\n",
       "        text-align: right;\n",
       "    }\n",
       "</style>\n",
       "<table border=\"1\" class=\"dataframe\">\n",
       "  <thead>\n",
       "    <tr style=\"text-align: right;\">\n",
       "      <th></th>\n",
       "      <th>Id</th>\n",
       "      <th>Answer</th>\n",
       "    </tr>\n",
       "  </thead>\n",
       "  <tbody>\n",
       "  </tbody>\n",
       "</table>\n",
       "</div>"
      ],
      "text/plain": [
       "Empty DataFrame\n",
       "Columns: [Id, Answer]\n",
       "Index: []"
      ]
     },
     "execution_count": 5,
     "metadata": {},
     "output_type": "execute_result"
    }
   ],
   "source": [
    "pd.DataFrame({'Id':range(1,len(answer_ls)+1), 'Answer':answer_ls}, columns=['Id', 'Answer'])"
   ]
  },
  {
   "cell_type": "code",
   "execution_count": null,
   "metadata": {},
   "outputs": [],
   "source": []
  }
 ],
 "metadata": {
  "kernelspec": {
   "display_name": "Python 3",
   "language": "python",
   "name": "python3"
  },
  "language_info": {
   "codemirror_mode": {
    "name": "ipython",
    "version": 3
   },
   "file_extension": ".py",
   "mimetype": "text/x-python",
   "name": "python",
   "nbconvert_exporter": "python",
   "pygments_lexer": "ipython3",
   "version": "3.7.6"
  }
 },
 "nbformat": 4,
 "nbformat_minor": 4
}
