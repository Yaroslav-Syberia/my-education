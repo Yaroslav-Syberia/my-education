{
 "cells": [
  {
   "cell_type": "code",
   "execution_count": 57,
   "metadata": {},
   "outputs": [
    {
     "name": "stdout",
     "output_type": "stream",
     "text": [
      "[60459, 60459, 60459, 60459, 60459, 62602, 62602, 58113]\n",
      "Counter({60459: 5, 62602: 2, 58113: 1})\n"
     ]
    }
   ],
   "source": [
    "import json\n",
    "with open('C:\\\\Users\\\\user\\\\Documents\\\\DataScience\\\\PYTHON\\\\data.json', 'rb') as infile:\n",
    "    data = json.load(infile)\n",
    "type(data)\n",
    "data.keys()\n",
    "#data['events_data']\n",
    "data_list = data['events_data']\n",
    "#print(data_list)\n",
    "selected_id=[]\n",
    "for data in data_list:\n",
    "    if 'report' in data['category']:\n",
    "        selected_id.append(data['client_id'])\n",
    "print(selected_id)\n",
    "import collections\n",
    "c = collections.Counter()\n",
    "for unic_id in selected_id:\n",
    "    c[unic_id ] += 1\n",
    "print (c)"
   ]
  },
  {
   "cell_type": "code",
   "execution_count": null,
   "metadata": {},
   "outputs": [],
   "source": []
  },
  {
   "cell_type": "code",
   "execution_count": null,
   "metadata": {},
   "outputs": [],
   "source": []
  }
 ],
 "metadata": {
  "kernelspec": {
   "display_name": "Python 3",
   "language": "python",
   "name": "python3"
  },
  "language_info": {
   "codemirror_mode": {
    "name": "ipython",
    "version": 3
   },
   "file_extension": ".py",
   "mimetype": "text/x-python",
   "name": "python",
   "nbconvert_exporter": "python",
   "pygments_lexer": "ipython3",
   "version": "3.7.6"
  }
 },
 "nbformat": 4,
 "nbformat_minor": 4
}
