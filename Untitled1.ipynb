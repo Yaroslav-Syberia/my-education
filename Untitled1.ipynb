{
 "cells": [
  {
   "cell_type": "code",
   "execution_count": 1,
   "metadata": {},
   "outputs": [
    {
     "ename": "TypeError",
     "evalue": "'int' object is not callable",
     "output_type": "error",
     "traceback": [
      "\u001b[1;31m---------------------------------------------------------------------------\u001b[0m",
      "\u001b[1;31mTypeError\u001b[0m                                 Traceback (most recent call last)",
      "\u001b[1;32m<ipython-input-1-2c0d3c43c5fe>\u001b[0m in \u001b[0;36m<module>\u001b[1;34m\u001b[0m\n\u001b[0;32m     20\u001b[0m \u001b[0mi\u001b[0m \u001b[1;33m=\u001b[0m \u001b[1;36m0\u001b[0m\u001b[1;33m\u001b[0m\u001b[1;33m\u001b[0m\u001b[0m\n\u001b[0;32m     21\u001b[0m \u001b[1;32mwhile\u001b[0m \u001b[1;32mTrue\u001b[0m\u001b[1;33m:\u001b[0m\u001b[1;33m\u001b[0m\u001b[1;33m\u001b[0m\u001b[0m\n\u001b[1;32m---> 22\u001b[1;33m     x_new = (x_cur[0] - gamma * grad(*x_cur)[0]+a(x_cur[0]-x_last[0]),\n\u001b[0m\u001b[0;32m     23\u001b[0m             \u001b[0mx_cur\u001b[0m\u001b[1;33m[\u001b[0m\u001b[1;36m1\u001b[0m\u001b[1;33m]\u001b[0m \u001b[1;33m-\u001b[0m \u001b[0mgamma\u001b[0m \u001b[1;33m*\u001b[0m \u001b[0mgrad\u001b[0m\u001b[1;33m(\u001b[0m\u001b[1;33m*\u001b[0m\u001b[0mx_cur\u001b[0m\u001b[1;33m)\u001b[0m\u001b[1;33m[\u001b[0m\u001b[1;36m1\u001b[0m\u001b[1;33m]\u001b[0m\u001b[1;33m+\u001b[0m\u001b[0ma\u001b[0m\u001b[1;33m(\u001b[0m\u001b[0mx_cur\u001b[0m\u001b[1;33m[\u001b[0m\u001b[1;36m1\u001b[0m\u001b[1;33m]\u001b[0m\u001b[1;33m-\u001b[0m\u001b[0mx_last\u001b[0m\u001b[1;33m[\u001b[0m\u001b[1;36m1\u001b[0m\u001b[1;33m]\u001b[0m\u001b[1;33m)\u001b[0m\u001b[1;33m,\u001b[0m\u001b[1;33m\u001b[0m\u001b[1;33m\u001b[0m\u001b[0m\n\u001b[0;32m     24\u001b[0m             x_cur[2] - gamma * grad(*x_cur)[2]+a(x_cur[1]-x_last[1]))\n",
      "\u001b[1;31mTypeError\u001b[0m: 'int' object is not callable"
     ]
    }
   ],
   "source": [
    "def f(x, y,z):\n",
    "    return \n",
    "\n",
    "def grad(x, y,z):\n",
    "    dx = 3*(x**2)-4*x - 2*y + z\n",
    "    dy = 2*y - 2*x - z\n",
    "    dz = 2*z + x - y\n",
    "    return (dx, dy, dz)\n",
    "\n",
    "def dist(x1, x2,x3):\n",
    "    return (x1[0] - x2[0]) ** 2 + (x1[1] - x2[1]) ** 2+(x1[2] - x2[2]) ** 2\n",
    "\n",
    "x0 = (1,2,-5)\n",
    "gamma = 0.25\n",
    "x_cur = x0\n",
    "x_last=x0\n",
    "a=1\n",
    "vals = []\n",
    "coords = []\n",
    "i = 0\n",
    "while True:\n",
    "    x_new = (x_cur[0] - gamma * grad(*x_cur)[0]+a(x_cur[0]-x_last[0]),\n",
    "            x_cur[1] - gamma * grad(*x_cur)[1]+a(x_cur[1]-x_last[1]),\n",
    "            x_cur[2] - gamma * grad(*x_cur)[2]+a(x_cur[1]-x_last[1]))\n",
    "    if dist(x_new, x_cur) < 1e-12:\n",
    "        break\n",
    "    x_last=x_cur\n",
    "    x_cur = x_new\n",
    "    vals.append(f(*x_cur))\n",
    "    coords.append(x_cur)\n",
    "    i += 1\n",
    "    print(f\"iter={i}; x=({x_cur[0]:.2f}, {x_cur[1]:.2f},{x_cur[2]:.2f}));\"\n",
    "          f\" f(x)={f(*x_cur):.2f}; grad f(x)=({grad(*x_cur)[0]:.2f}, {grad(*x_cur)[1]:.2f},{x_cur[2]:.2f}))\")"
   ]
  },
  {
   "cell_type": "code",
   "execution_count": 2,
   "metadata": {},
   "outputs": [
    {
     "name": "stdout",
     "output_type": "stream",
     "text": [
      "df/dx = 2\n",
      "df/dy = 1\n",
      "dg/dy = 0\n"
     ]
    }
   ],
   "source": [
    "from sympy import *\n",
    "x,y=symbols(' x y' )\n",
    "f = 2*x+y-2\n",
    "g = x+3\n",
    "fx = f.diff(x)\n",
    "print('df/dx =',fx)\n",
    "fy = f.diff(y)\n",
    "print('df/dy =',fy)\n",
    "gy = g.diff(y)\n",
    "print('dg/dy =',gy)"
   ]
  },
  {
   "cell_type": "code",
   "execution_count": null,
   "metadata": {},
   "outputs": [],
   "source": []
  }
 ],
 "metadata": {
  "kernelspec": {
   "display_name": "Python 3",
   "language": "python",
   "name": "python3"
  },
  "language_info": {
   "codemirror_mode": {
    "name": "ipython",
    "version": 3
   },
   "file_extension": ".py",
   "mimetype": "text/x-python",
   "name": "python",
   "nbconvert_exporter": "python",
   "pygments_lexer": "ipython3",
   "version": "3.7.7"
  }
 },
 "nbformat": 4,
 "nbformat_minor": 4
}
