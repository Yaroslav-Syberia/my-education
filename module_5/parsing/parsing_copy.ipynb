{
 "cells": [
  {
   "cell_type": "markdown",
   "metadata": {},
   "source": [
    "### **Итоговое задание Альмира и Соколова Александра**  \n",
    "### по Проекту 6. Car Price prediction \n",
    "####  Юнит 6. Основные алгоритмы машинного обучения. Часть II (отредактирован 09.09.2020)\n",
    "---\n",
    "\n",
    "### 1. Импорт библиотек"
   ]
  },
  {
   "cell_type": "code",
   "execution_count": 5,
   "metadata": {
    "tags": []
   },
   "outputs": [
    {
     "name": "stdout",
     "output_type": "stream",
     "text": [
      "['all_car_brands_and_their_models_from_auto_ru.csv']\n"
     ]
    }
   ],
   "source": [
    "import pandas as pd\n",
    "import requests, json\n",
    "import time\n",
    "import os\n",
    "print(os.listdir('./data'))\n",
    "PATH_to_file = './data/'"
   ]
  },
  {
   "cell_type": "markdown",
   "metadata": {},
   "source": [
    "### 2. Импорт данных о марках и моделях"
   ]
  },
  {
   "cell_type": "code",
   "execution_count": 6,
   "metadata": {
    "tags": []
   },
   "outputs": [
    {
     "name": "stdout",
     "output_type": "stream",
     "text": [
      "Кол-во марок:  262\n"
     ]
    },
    {
     "data": {
      "text/html": [
       "<div>\n",
       "<style scoped>\n",
       "    .dataframe tbody tr th:only-of-type {\n",
       "        vertical-align: middle;\n",
       "    }\n",
       "\n",
       "    .dataframe tbody tr th {\n",
       "        vertical-align: top;\n",
       "    }\n",
       "\n",
       "    .dataframe thead th {\n",
       "        text-align: right;\n",
       "    }\n",
       "</style>\n",
       "<table border=\"1\" class=\"dataframe\">\n",
       "  <thead>\n",
       "    <tr style=\"text-align: right;\">\n",
       "      <th></th>\n",
       "      <th>Models</th>\n",
       "    </tr>\n",
       "    <tr>\n",
       "      <th>Mark</th>\n",
       "      <th></th>\n",
       "    </tr>\n",
       "  </thead>\n",
       "  <tbody>\n",
       "    <tr>\n",
       "      <th>AC</th>\n",
       "      <td>['378_GT', 'ACE', 'ACECA', 'COBRA']</td>\n",
       "    </tr>\n",
       "    <tr>\n",
       "      <th>ACURA</th>\n",
       "      <td>['CL', 'CSX', 'EL', 'ILX', 'INTEGRA', 'LEGEND'...</td>\n",
       "    </tr>\n",
       "  </tbody>\n",
       "</table>\n",
       "</div>"
      ],
      "text/plain": [
       "                                                  Models\n",
       "Mark                                                    \n",
       "AC                   ['378_GT', 'ACE', 'ACECA', 'COBRA']\n",
       "ACURA  ['CL', 'CSX', 'EL', 'ILX', 'INTEGRA', 'LEGEND'..."
      ]
     },
     "metadata": {},
     "output_type": "display_data"
    }
   ],
   "source": [
    "df_marks_and_models = pd.read_csv(PATH_to_file+'all_car_brands_and_their_models_from_auto_ru.csv', index_col=0)\n",
    "print('Кол-во марок: ', df_marks_and_models.shape[0])\n",
    "display(df_marks_and_models.head(2))"
   ]
  },
  {
   "cell_type": "markdown",
   "metadata": {},
   "source": [
    "### 2. Отбор марок для парсинга"
   ]
  },
  {
   "cell_type": "code",
   "execution_count": 7,
   "metadata": {},
   "outputs": [],
   "source": [
    "# кол-во объявлений на сайте на 9.9.2020 \n",
    "dict_of_num_cars_of_models ={'AC':2, 'Acura':94, 'Alfa Romeo':65, 'Alpina':10, \n",
    "                             'AMC':2, 'Ariel':1, 'Asia':1, 'Aston Martin':25, \n",
    "                             'Audi':4093, 'Austin Healey':1, 'Bajaj':3, \n",
    "                             'Bentley':104, 'BMW':7423, 'Borgward':1, \n",
    "                             'Brilliance':10, 'Buick':17, 'BYD':22, \n",
    "                             'Cadillac':321, 'Changan':100, 'Chery':593, \n",
    "                             'Chevrolet':3670, 'Chrysler':316, 'Citroen':1142, \n",
    "                             'Dacia':9, 'Daewoo':1024, 'Daihatsu':47, \n",
    "                             'Daimler':5, 'Datsun':212, 'Delage':1, 'Derways':2, \n",
    "                             'DKW':1, 'Dodge':413, 'DongFeng':25, 'Doninvest':2, \n",
    "                             'DS':3, 'DW Hower':8, 'Eagle':1, 'Excalibur':1, \n",
    "                             'FAW':66, 'Ferrari':29, 'Fiat':206, 'Ford':4812, \n",
    "                             'Foton':2, 'GAC':14, 'Geely':302, 'Genesis':54, \n",
    "                             'GMC':26, 'Great Wall':420, 'Hafei':6, 'Haima':12, \n",
    "                             'Haval':110, 'Hawtai':4, 'Heinkel':1, 'Honda':1179, \n",
    "                             'HuangHai':1, 'Hummer':70, 'Hyundai':5712, \n",
    "                             'Infiniti':1041, 'Innocenti':1, 'Iran Khodro':21, \n",
    "                             'Isuzu':43, 'JAC':8, 'Jaguar':308, 'Jeep':466, 'JMC':1, \n",
    "                             'Kia':5595, 'LADA (ВАЗ)':8935, 'Lamborghini':14, \n",
    "                             'Lancia':8, 'Land Rover':1616, 'Lexus':985, \n",
    "                             'Lifan':295, 'Lincoln':62, 'Lotus':1, 'Luxgen':9, \n",
    "                             'Mahindra':1, 'Maserati':54, 'Maybach':7, \n",
    "                             'Mazda':2311, 'McLaren':5, 'Mercedes-Benz':8005, \n",
    "                             'Mercury':16, 'Metrocab':2, 'MG':10, 'MINI':313, \n",
    "                             'Mitsubishi':3935, 'Mitsuoka':3, 'Nissan':5776, \n",
    "                             'Oldsmobile':10, 'Opel':3131, 'Packard':2, \n",
    "                             'Peugeot':1636, 'Plymouth':13, 'Pontiac':38, \n",
    "                             'Porsche':714, 'Proton':3, 'PUCH':1, 'Ravon':112, \n",
    "                             'Renault':2771, 'Rolls-Royce':55, 'Rover':69, \n",
    "                             'Saab':147, 'Saturn':9, 'Scion':9, 'SEAT':77, \n",
    "                             'Shanghai Maple':1, 'Skoda':2810, 'Smart':89, \n",
    "                             'SsangYong':718, 'Subaru':934, 'Suzuki':878, \n",
    "                             'Tatra':5, 'Tesla':43, 'Tianma':2, 'Toyota':4648, \n",
    "                             'Triumph':1, 'Vauxhall':1, 'Volkswagen':7109, \n",
    "                             'Volvo':2069, 'Vortex':91, 'Wartburg':1, 'Willys':2, \n",
    "                             'Zotye':15, 'ZX':4, 'ГАЗ':935, 'Гоночный болид':2, \n",
    "                             'ЗАЗ':231, 'ЗИЛ':2, 'ИЖ':129, 'ЛуАЗ':45, \n",
    "                             'Москвич':198, 'СМЗ':4, 'ТагАЗ':68, 'УАЗ':1107}"
   ]
  },
  {
   "cell_type": "code",
   "execution_count": 8,
   "metadata": {
    "tags": []
   },
   "outputs": [],
   "source": [
    "# уберем модели с кол-вом объявлений ниже 300 и повысим регистр индексов \n",
    "list_keys_to_delete = []\n",
    "for mark in dict_of_num_cars_of_models.keys():\n",
    "    if dict_of_num_cars_of_models[mark] < 300:\n",
    "        list_keys_to_delete.append(mark)\n",
    "    \n",
    "for key in list_keys_to_delete: del dict_of_num_cars_of_models[key]\n",
    "\n",
    "for mark in list(dict_of_num_cars_of_models.keys()):\n",
    "    mark_up = mark.upper()\n",
    "    dict_of_num_cars_of_models[mark_up]=dict_of_num_cars_of_models.pop(mark)"
   ]
  },
  {
   "cell_type": "code",
   "execution_count": 9,
   "metadata": {
    "tags": []
   },
   "outputs": [
    {
     "name": "stdout",
     "output_type": "stream",
     "text": [
      "AUDI,BMW,CADILLAC,CHERY,CHEVROLET,CHRYSLER,CITROEN,DAEWOO,DODGE,FORD,GEELY,GREAT WALL,HONDA,HYUNDAI,INFINITI,JAGUAR,JEEP,KIA,LADA (ВАЗ),LAND ROVER,LEXUS,MAZDA,MERCEDES-BENZ,MINI,MITSUBISHI,NISSAN,OPEL,PEUGEOT,PORSCHE,RENAULT,SKODA,SSANGYONG,SUBARU,SUZUKI,TOYOTA,VOLKSWAGEN,VOLVO,ГАЗ,УАЗ\n"
     ]
    }
   ],
   "source": [
    "# посмотрим на список получившихся моделей\n",
    "print(*dict_of_num_cars_of_models, sep=',')"
   ]
  },
  {
   "cell_type": "code",
   "execution_count": 10,
   "metadata": {},
   "outputs": [],
   "source": [
    "# Удалим отечественные модели\n",
    "for key in ['LADA (ВАЗ)','ГАЗ','УАЗ']: del dict_of_num_cars_of_models[key]"
   ]
  },
  {
   "cell_type": "code",
   "execution_count": 11,
   "metadata": {
    "tags": []
   },
   "outputs": [
    {
     "name": "stdout",
     "output_type": "stream",
     "text": [
      "всего марок с кол-вом объявлений более 300:= 36\n",
      "список марок, которые нужно проверить := GREAT WALL LAND ROVER MERCEDES-BENZ SSANGYONG\n"
     ]
    }
   ],
   "source": [
    "# проверим что названия моделей совпадаю с названиями каталога сайта auto.Ru\n",
    "list_marks_df = list(df_marks_and_models.index)\n",
    "list_marks_to_check = []\n",
    "for mark in dict_of_num_cars_of_models.keys():\n",
    "    if mark not in list_marks_df:\n",
    "        list_marks_to_check.append(mark)\n",
    "print(f'всего марок с кол-вом объявлений более 300:= {len(dict_of_num_cars_of_models)}')\n",
    "print('список марок, которые нужно проверить :=', *list_marks_to_check)"
   ]
  },
  {
   "cell_type": "code",
   "execution_count": 12,
   "metadata": {},
   "outputs": [
    {
     "data": {
      "text/plain": [
       "420"
      ]
     },
     "execution_count": 12,
     "metadata": {},
     "output_type": "execute_result"
    }
   ],
   "source": [
    "dict_of_num_cars_of_models['GREAT WALL']"
   ]
  },
  {
   "cell_type": "code",
   "execution_count": 13,
   "metadata": {},
   "outputs": [],
   "source": [
    "# исправим несоответствия\n",
    "dict_of_num_cars_of_models['GREAT_WALL']=dict_of_num_cars_of_models.pop('GREAT WALL')\n",
    "dict_of_num_cars_of_models['LAND_ROVER']=dict_of_num_cars_of_models.pop('LAND ROVER')\n",
    "dict_of_num_cars_of_models['MERCEDES']=dict_of_num_cars_of_models.pop('MERCEDES-BENZ')\n",
    "dict_of_num_cars_of_models['SSANG_YONG']=dict_of_num_cars_of_models.pop('SSANGYONG')"
   ]
  },
  {
   "cell_type": "code",
   "execution_count": 14,
   "metadata": {
    "tags": []
   },
   "outputs": [
    {
     "name": "stdout",
     "output_type": "stream",
     "text": [
      "всего марок с кол-вом объявлений более 300 := 36\n",
      "список марок, которые нужно проверить :=\n"
     ]
    }
   ],
   "source": [
    "# еще раз проверим что названия моделей совпадаю с названиями каталога сайта auto.Ru\n",
    "list_marks_df = list(df_marks_and_models.index)\n",
    "list_marks_to_check = []\n",
    "for mark in dict_of_num_cars_of_models.keys():\n",
    "    if mark not in list_marks_df:\n",
    "        list_marks_to_check.append(mark)\n",
    "print(f'всего марок с кол-вом объявлений более 300 := {len(dict_of_num_cars_of_models)}')\n",
    "print('список марок, которые нужно проверить :=', *list_marks_to_check)"
   ]
  },
  {
   "cell_type": "code",
   "execution_count": 15,
   "metadata": {},
   "outputs": [],
   "source": [
    "# запишем список релевантных марок для парсинга\n",
    "list_of_relevant_marks = list(dict_of_num_cars_of_models.keys())"
   ]
  },
  {
   "cell_type": "code",
   "execution_count": 16,
   "metadata": {
    "tags": []
   },
   "outputs": [
    {
     "name": "stdout",
     "output_type": "stream",
     "text": [
      "примерное кол-во строк после парсинга должно быть := 89189\n"
     ]
    }
   ],
   "source": [
    "sum_of_ads = sum(dict_of_num_cars_of_models.values())\n",
    "print(f\"примерное кол-во строк после парсинга должно быть := {sum_of_ads}\")"
   ]
  },
  {
   "cell_type": "markdown",
   "metadata": {},
   "source": [
    "### 3. Подготовка к парсингу"
   ]
  },
  {
   "cell_type": "code",
   "execution_count": 17,
   "metadata": {},
   "outputs": [],
   "source": [
    "HEADERS = {\n",
    "    'Accept': '*/*',\n",
    "    'Accept-Encoding': 'gzip, deflate, br',\n",
    "    'Accept-Language': 'ru-RU,ru;q=0.8,en-US;q=0.5,en;q=0.3',\n",
    "    'Connection': 'keep-alive',\n",
    "    'Content-Length': '137',\n",
    "    'content-type': 'application/json',\n",
    "    'Cookie': '_csrf_token=1c0ed592ec162073ac34d79ce511f0e50d195f763abd8c24; autoru_sid=a%3Ag5e3b198b299o5jhpv6nlk0ro4daqbpf.fa3630dbc880ea80147c661111fb3270%7C1580931467355.604800.8HnYnADZ6dSuzP1gctE0Fw.cd59AHgDSjoJxSYHCHfDUoj-f2orbR5pKj6U0ddu1G4; autoruuid=g5e3b198b299o5jhpv6nlk0ro4daqbpf.fa3630dbc880ea80147c661111fb3270; suid=48a075680eac323f3f9ad5304157467a.bc50c5bde34519f174ccdba0bd791787; from_lifetime=1580933172327; from=yandex; X-Vertis-DC=myt; crookie=bp+bI7U7P7sm6q0mpUwAgWZrbzx3jePMKp8OPHqMwu9FdPseXCTs3bUqyAjp1fRRTDJ9Z5RZEdQLKToDLIpc7dWxb90=; cmtchd=MTU4MDkzMTQ3MjU0NQ==; yandexuid=1758388111580931457; bltsr=1; ',\n",
    "    'Host': 'auto.ru',\n",
    "    'origin': 'https://auto.ru/cars/all/',\n",
    "    'Referer': 'https://auto.ru/cars/all/',\n",
    "    'User-Agent': 'Mozilla/5.0 (Windows NT 10.0; Win64; x64; rv:72.0) Gecko/20100101 Firefox/72.0',\n",
    "    'x-client-app-version': '202002.03.092255',\n",
    "    'x-client-date': '1580933207763',\n",
    "    'x-csrf-token': '1c0ed592ec162073ac34d79ce511f0e50d195f763abd8c24',\n",
    "    'x-page-request-id': '60142cd4f0c0edf51f96fd0134c6f02a',\n",
    "    'x-requested-with': 'fetch'\n",
    "}"
   ]
  },
  {
   "cell_type": "code",
   "execution_count": 18,
   "metadata": {},
   "outputs": [],
   "source": [
    "url = \"https://auto.ru/-/ajax/desktop/listing/\""
   ]
  },
  {
   "cell_type": "code",
   "execution_count": 19,
   "metadata": {
    "tags": []
   },
   "outputs": [
    {
     "ename": "FileNotFoundError",
     "evalue": "[Errno 2] No such file or directory: './data/test.csv'",
     "output_type": "error",
     "traceback": [
      "\u001b[1;31m---------------------------------------------------------------------------\u001b[0m",
      "\u001b[1;31mFileNotFoundError\u001b[0m                         Traceback (most recent call last)",
      "\u001b[1;32m<ipython-input-19-0e90a7fa21ff>\u001b[0m in \u001b[0;36m<module>\u001b[1;34m\u001b[0m\n\u001b[0;32m      1\u001b[0m \u001b[1;31m# посмотрим какие столбцы нам нужны\u001b[0m\u001b[1;33m\u001b[0m\u001b[1;33m\u001b[0m\u001b[1;33m\u001b[0m\u001b[0m\n\u001b[1;32m----> 2\u001b[1;33m \u001b[0mtest\u001b[0m \u001b[1;33m=\u001b[0m \u001b[0mpd\u001b[0m\u001b[1;33m.\u001b[0m\u001b[0mread_csv\u001b[0m\u001b[1;33m(\u001b[0m\u001b[0mPATH_to_file\u001b[0m\u001b[1;33m+\u001b[0m\u001b[1;34m'test.csv'\u001b[0m\u001b[1;33m)\u001b[0m\u001b[1;33m\u001b[0m\u001b[1;33m\u001b[0m\u001b[0m\n\u001b[0m\u001b[0;32m      3\u001b[0m \u001b[0mprint\u001b[0m\u001b[1;33m(\u001b[0m\u001b[1;34m'Кол-во столбцов теста:'\u001b[0m\u001b[1;33m,\u001b[0m \u001b[0mtest\u001b[0m\u001b[1;33m.\u001b[0m\u001b[0mshape\u001b[0m\u001b[1;33m[\u001b[0m\u001b[1;36m1\u001b[0m\u001b[1;33m]\u001b[0m\u001b[1;33m)\u001b[0m\u001b[1;33m\u001b[0m\u001b[1;33m\u001b[0m\u001b[0m\n\u001b[0;32m      4\u001b[0m \u001b[0mprint\u001b[0m\u001b[1;33m(\u001b[0m\u001b[1;34m'Названия столбцов теста:'\u001b[0m\u001b[1;33m,\u001b[0m \u001b[0mlist\u001b[0m\u001b[1;33m(\u001b[0m\u001b[0mtest\u001b[0m\u001b[1;33m.\u001b[0m\u001b[0mcolumns\u001b[0m\u001b[1;33m)\u001b[0m\u001b[1;33m)\u001b[0m\u001b[1;33m\u001b[0m\u001b[1;33m\u001b[0m\u001b[0m\n\u001b[0;32m      5\u001b[0m \u001b[1;33m\u001b[0m\u001b[0m\n",
      "\u001b[1;32mC:\\ProgramData\\Anaconda3\\lib\\site-packages\\pandas\\io\\parsers.py\u001b[0m in \u001b[0;36mread_csv\u001b[1;34m(filepath_or_buffer, sep, delimiter, header, names, index_col, usecols, squeeze, prefix, mangle_dupe_cols, dtype, engine, converters, true_values, false_values, skipinitialspace, skiprows, skipfooter, nrows, na_values, keep_default_na, na_filter, verbose, skip_blank_lines, parse_dates, infer_datetime_format, keep_date_col, date_parser, dayfirst, cache_dates, iterator, chunksize, compression, thousands, decimal, lineterminator, quotechar, quoting, doublequote, escapechar, comment, encoding, dialect, error_bad_lines, warn_bad_lines, delim_whitespace, low_memory, memory_map, float_precision)\u001b[0m\n\u001b[0;32m    684\u001b[0m     )\n\u001b[0;32m    685\u001b[0m \u001b[1;33m\u001b[0m\u001b[0m\n\u001b[1;32m--> 686\u001b[1;33m     \u001b[1;32mreturn\u001b[0m \u001b[0m_read\u001b[0m\u001b[1;33m(\u001b[0m\u001b[0mfilepath_or_buffer\u001b[0m\u001b[1;33m,\u001b[0m \u001b[0mkwds\u001b[0m\u001b[1;33m)\u001b[0m\u001b[1;33m\u001b[0m\u001b[1;33m\u001b[0m\u001b[0m\n\u001b[0m\u001b[0;32m    687\u001b[0m \u001b[1;33m\u001b[0m\u001b[0m\n\u001b[0;32m    688\u001b[0m \u001b[1;33m\u001b[0m\u001b[0m\n",
      "\u001b[1;32mC:\\ProgramData\\Anaconda3\\lib\\site-packages\\pandas\\io\\parsers.py\u001b[0m in \u001b[0;36m_read\u001b[1;34m(filepath_or_buffer, kwds)\u001b[0m\n\u001b[0;32m    450\u001b[0m \u001b[1;33m\u001b[0m\u001b[0m\n\u001b[0;32m    451\u001b[0m     \u001b[1;31m# Create the parser.\u001b[0m\u001b[1;33m\u001b[0m\u001b[1;33m\u001b[0m\u001b[1;33m\u001b[0m\u001b[0m\n\u001b[1;32m--> 452\u001b[1;33m     \u001b[0mparser\u001b[0m \u001b[1;33m=\u001b[0m \u001b[0mTextFileReader\u001b[0m\u001b[1;33m(\u001b[0m\u001b[0mfp_or_buf\u001b[0m\u001b[1;33m,\u001b[0m \u001b[1;33m**\u001b[0m\u001b[0mkwds\u001b[0m\u001b[1;33m)\u001b[0m\u001b[1;33m\u001b[0m\u001b[1;33m\u001b[0m\u001b[0m\n\u001b[0m\u001b[0;32m    453\u001b[0m \u001b[1;33m\u001b[0m\u001b[0m\n\u001b[0;32m    454\u001b[0m     \u001b[1;32mif\u001b[0m \u001b[0mchunksize\u001b[0m \u001b[1;32mor\u001b[0m \u001b[0miterator\u001b[0m\u001b[1;33m:\u001b[0m\u001b[1;33m\u001b[0m\u001b[1;33m\u001b[0m\u001b[0m\n",
      "\u001b[1;32mC:\\ProgramData\\Anaconda3\\lib\\site-packages\\pandas\\io\\parsers.py\u001b[0m in \u001b[0;36m__init__\u001b[1;34m(self, f, engine, **kwds)\u001b[0m\n\u001b[0;32m    934\u001b[0m             \u001b[0mself\u001b[0m\u001b[1;33m.\u001b[0m\u001b[0moptions\u001b[0m\u001b[1;33m[\u001b[0m\u001b[1;34m\"has_index_names\"\u001b[0m\u001b[1;33m]\u001b[0m \u001b[1;33m=\u001b[0m \u001b[0mkwds\u001b[0m\u001b[1;33m[\u001b[0m\u001b[1;34m\"has_index_names\"\u001b[0m\u001b[1;33m]\u001b[0m\u001b[1;33m\u001b[0m\u001b[1;33m\u001b[0m\u001b[0m\n\u001b[0;32m    935\u001b[0m \u001b[1;33m\u001b[0m\u001b[0m\n\u001b[1;32m--> 936\u001b[1;33m         \u001b[0mself\u001b[0m\u001b[1;33m.\u001b[0m\u001b[0m_make_engine\u001b[0m\u001b[1;33m(\u001b[0m\u001b[0mself\u001b[0m\u001b[1;33m.\u001b[0m\u001b[0mengine\u001b[0m\u001b[1;33m)\u001b[0m\u001b[1;33m\u001b[0m\u001b[1;33m\u001b[0m\u001b[0m\n\u001b[0m\u001b[0;32m    937\u001b[0m \u001b[1;33m\u001b[0m\u001b[0m\n\u001b[0;32m    938\u001b[0m     \u001b[1;32mdef\u001b[0m \u001b[0mclose\u001b[0m\u001b[1;33m(\u001b[0m\u001b[0mself\u001b[0m\u001b[1;33m)\u001b[0m\u001b[1;33m:\u001b[0m\u001b[1;33m\u001b[0m\u001b[1;33m\u001b[0m\u001b[0m\n",
      "\u001b[1;32mC:\\ProgramData\\Anaconda3\\lib\\site-packages\\pandas\\io\\parsers.py\u001b[0m in \u001b[0;36m_make_engine\u001b[1;34m(self, engine)\u001b[0m\n\u001b[0;32m   1166\u001b[0m     \u001b[1;32mdef\u001b[0m \u001b[0m_make_engine\u001b[0m\u001b[1;33m(\u001b[0m\u001b[0mself\u001b[0m\u001b[1;33m,\u001b[0m \u001b[0mengine\u001b[0m\u001b[1;33m=\u001b[0m\u001b[1;34m\"c\"\u001b[0m\u001b[1;33m)\u001b[0m\u001b[1;33m:\u001b[0m\u001b[1;33m\u001b[0m\u001b[1;33m\u001b[0m\u001b[0m\n\u001b[0;32m   1167\u001b[0m         \u001b[1;32mif\u001b[0m \u001b[0mengine\u001b[0m \u001b[1;33m==\u001b[0m \u001b[1;34m\"c\"\u001b[0m\u001b[1;33m:\u001b[0m\u001b[1;33m\u001b[0m\u001b[1;33m\u001b[0m\u001b[0m\n\u001b[1;32m-> 1168\u001b[1;33m             \u001b[0mself\u001b[0m\u001b[1;33m.\u001b[0m\u001b[0m_engine\u001b[0m \u001b[1;33m=\u001b[0m \u001b[0mCParserWrapper\u001b[0m\u001b[1;33m(\u001b[0m\u001b[0mself\u001b[0m\u001b[1;33m.\u001b[0m\u001b[0mf\u001b[0m\u001b[1;33m,\u001b[0m \u001b[1;33m**\u001b[0m\u001b[0mself\u001b[0m\u001b[1;33m.\u001b[0m\u001b[0moptions\u001b[0m\u001b[1;33m)\u001b[0m\u001b[1;33m\u001b[0m\u001b[1;33m\u001b[0m\u001b[0m\n\u001b[0m\u001b[0;32m   1169\u001b[0m         \u001b[1;32melse\u001b[0m\u001b[1;33m:\u001b[0m\u001b[1;33m\u001b[0m\u001b[1;33m\u001b[0m\u001b[0m\n\u001b[0;32m   1170\u001b[0m             \u001b[1;32mif\u001b[0m \u001b[0mengine\u001b[0m \u001b[1;33m==\u001b[0m \u001b[1;34m\"python\"\u001b[0m\u001b[1;33m:\u001b[0m\u001b[1;33m\u001b[0m\u001b[1;33m\u001b[0m\u001b[0m\n",
      "\u001b[1;32mC:\\ProgramData\\Anaconda3\\lib\\site-packages\\pandas\\io\\parsers.py\u001b[0m in \u001b[0;36m__init__\u001b[1;34m(self, src, **kwds)\u001b[0m\n\u001b[0;32m   1996\u001b[0m         \u001b[0mkwds\u001b[0m\u001b[1;33m[\u001b[0m\u001b[1;34m\"usecols\"\u001b[0m\u001b[1;33m]\u001b[0m \u001b[1;33m=\u001b[0m \u001b[0mself\u001b[0m\u001b[1;33m.\u001b[0m\u001b[0musecols\u001b[0m\u001b[1;33m\u001b[0m\u001b[1;33m\u001b[0m\u001b[0m\n\u001b[0;32m   1997\u001b[0m \u001b[1;33m\u001b[0m\u001b[0m\n\u001b[1;32m-> 1998\u001b[1;33m         \u001b[0mself\u001b[0m\u001b[1;33m.\u001b[0m\u001b[0m_reader\u001b[0m \u001b[1;33m=\u001b[0m \u001b[0mparsers\u001b[0m\u001b[1;33m.\u001b[0m\u001b[0mTextReader\u001b[0m\u001b[1;33m(\u001b[0m\u001b[0msrc\u001b[0m\u001b[1;33m,\u001b[0m \u001b[1;33m**\u001b[0m\u001b[0mkwds\u001b[0m\u001b[1;33m)\u001b[0m\u001b[1;33m\u001b[0m\u001b[1;33m\u001b[0m\u001b[0m\n\u001b[0m\u001b[0;32m   1999\u001b[0m         \u001b[0mself\u001b[0m\u001b[1;33m.\u001b[0m\u001b[0munnamed_cols\u001b[0m \u001b[1;33m=\u001b[0m \u001b[0mself\u001b[0m\u001b[1;33m.\u001b[0m\u001b[0m_reader\u001b[0m\u001b[1;33m.\u001b[0m\u001b[0munnamed_cols\u001b[0m\u001b[1;33m\u001b[0m\u001b[1;33m\u001b[0m\u001b[0m\n\u001b[0;32m   2000\u001b[0m \u001b[1;33m\u001b[0m\u001b[0m\n",
      "\u001b[1;32mpandas\\_libs\\parsers.pyx\u001b[0m in \u001b[0;36mpandas._libs.parsers.TextReader.__cinit__\u001b[1;34m()\u001b[0m\n",
      "\u001b[1;32mpandas\\_libs\\parsers.pyx\u001b[0m in \u001b[0;36mpandas._libs.parsers.TextReader._setup_parser_source\u001b[1;34m()\u001b[0m\n",
      "\u001b[1;31mFileNotFoundError\u001b[0m: [Errno 2] No such file or directory: './data/test.csv'"
     ]
    }
   ],
   "source": [
    "# посмотрим какие столбцы нам нужны \n",
    "test = pd.read_csv(PATH_to_file+'test.csv')\n",
    "print('Кол-во столбцов теста:', test.shape[1])\n",
    "print('Названия столбцов теста:', list(test.columns))\n",
    "\n",
    "# вывод всех столбцов датафрейма\n",
    "pd.set_option('display.max_columns', None)\n",
    "test.head(2)"
   ]
  },
  {
   "cell_type": "code",
   "execution_count": 20,
   "metadata": {
    "tags": []
   },
   "outputs": [
    {
     "name": "stdout",
     "output_type": "stream",
     "text": [
      "{'availability': 'IN_STOCK', 'category': 'cars', 'color_hex': '0000CC', 'delivery_info': {}, 'description': 'Премиальная акустическая система объемного звука Bang & Olufsen с 16 динамиками\\nАдаптивный круиз-контроль\\nСигнализация схода с полосы движения\\nПроекция на лобовое стекло\\n\\nАвтомобиль в идеальном внешнем и техническом состоянии.\\nОбслуживание автомобиля исключительно у официального дилера, все ТО согласно регламенту.\\nСЕМЬ регистрационных действий, ТРИ Владельца за все время эксплуатации.\\n\\n\"Royal Motors Club\"  предоставляет полный спектр услуг по продажам автомобилей с пробегом:\\n- Выгодные условия кредитования, одобрение по двум документам.\\n- Trade In – обмен любого Вашего авто на представленный в нашей компании это\\n   быстро, выгодно, безопасно!\\n-  Мы осуществили все необходимые проверки и даем гарантию юридической\\n   чистоты всех наших автомобилей.\\n - Оптимальные программы по авто-страхованию ( ОСАГО, КАСКО)\\n\\nАвтомобиль прошел комплексную диагностику и предпродажную подготовку в детейлинг центре \"Royal Detailing Club\".\\n\\nСистема старт-стоп\\nЭлектроусилитель руля\\nСветодиодные фары\\nCветодиодные задние фонари\\nДатчики дождя\\nЭлектропривод боковых зеркал\\nЭлектроподогрев зеркал\\nОкраска кузова металлик\\nРегулируемая рулевая колонка\\nТелескопическая регулировка руля\\nУправление аудиосистемой на руле\\nЦветной многофункциональный дисплей\\nПроекционная система показаний спидометра\\nКнопка запуска двигателя\\nКожаная обивка салона\\nСпортивные сиденья\\nРазделительный подлокотник спереди\\nЭлектропривод передних сидений\\nЭлектроподогрев передних сидений\\nПамять расположения сиденья\\nЦентральный замок\\nКлюч ДУ (дистанционный ключ)\\nЭлектрические стеклоподъемники\\nОбогрев рулевого колеса\\nПодушка безопасности водительская\\nПодушка безопасности переднего пассажира\\nПодушка безопасности боковая\\nКрепление ISOFIX\\nАнтиблокировочная система (ABS)\\nСистема распределения тормозного усилия (EBD)\\nВспомогательная система торможения (BAS)\\nСистема электронного контроля устойчивости (ESP)\\nАнтипробуксовочная система (TCS)\\nПереключатель режимов движения\\nАссистент сохранения полосы движения\\nКруиз-контроль\\nСистема управления дальним светом\\nСистема ночного видения с функцией распознавания пешеходов\\nСистема контроля давления в шинах\\nПарктроник\\nПередний парктроник\\nЗадний парктроник\\nАудио системы\\nCD-плейер\\nDVD-чейнджер\\nПоддержка MP3\\nHands free\\nДополнительное оборудование аудиосистемы\\t6 динамиков, разъем для подключения внешнего аудиоустройства\\nСистема навигации\\nКамера заднего обзора\\nПодсветка при посадке в салон\\nСохранность автомобиля\\nИммобилайзер\\nСигнализация\\nСпутниковая противоугонная система', 'discount_options': {}, 'documents': {'owners_number': 3, 'custom_cleared': True, 'year': 2012, 'vin': 'WBS**************', 'pts': 'DUPLICATE', 'vin_resolution': 'OK'}, 'is_favorite': False, 'old_category_id': 15, 'owner_expenses': {'transport_tax': {'tax_by_year': 84000, 'year': 2020, 'rid': 213, 'rate': 150, 'horse_power': 560, 'holding_period_month': 12, 'boost': 1}, 'osago_insurance': [{'insurance_company': 'TINKOFF', 'price': 6309}]}, 'section': 'used', 'seller_type': 'COMMERCIAL', 'status': 'ACTIVE', 'tags': ['big', 'vin_service_history', 'prestige', 'allowed_for_credit', 'fast', 'vin_offers_history', 'options', 'style', 'handling', 'vin_resolution_ok', 'vin_checked', 'sport', 'low_mileage', 'dealer_quarantine_calls', 'equitable_price'], 'multiposting': {'classifieds': []}, 'additional_info': {'hidden': False, 'is_on_moderation': False, 'exchange': True, 'update_date': '1606680138000', 'creation_date': '1606118553000', 'mobile_autoservices_url': 'https://m.auto.ru/autoservice/all_works/BMW/?geo_id=213', 'hot_info': {'is_hot': False, 'start_time': '2020-09-20T17:03:09Z', 'end_time': '2020-09-20T17:03:09Z'}, 'fresh_date': '1606118553000', 'counters_start_date': '1606118553000', 'chat_only': False, 'dealer_card_promo': 'SLEEP_PROMO', 'review_summary': {}, 'price_stats': {}, 'booking': {}, 'days_in_stock': 71, 'days_on_sale': 71}, 'counters': {}, 'grouping_info': None, 'hash': '85d2bd89', 'id': '1100897820', 'price_info': {'price': 2500000, 'currency': 'RUR', 'EUR': 27636, 'RUR': 2500000, 'USD': 32955, 'with_nds': False}, 'price_history': [{'EUR': 27636, 'RUR': 2500000, 'USD': 32955, 'create_timestamp': 1606118553000}], 'recall_info': {}, 'saleId': '1100897820-85d2bd89', 'salon': {'actual_stock': True, 'client_id': '16636', 'code': 'royalmotors_moskva', 'dealer_id': '20866551', 'offer_counters': {'cars_all': 56, 'moto_all': 5, 'trucks_all': 1}, 'name': 'RoyalMotors', 'phones': [{'phone': '+7 968 010-64-44'}], 'place': {'address': 'Кутузовский проспект, 2/1 здание конгресс парка минус 3 этаж', 'coord': {'latitude': 55.75168, 'longitude': 37.566386}, 'geobase_id': '213', 'region_info': {'id': '213', 'name': 'Москва', 'genitive': 'Москвы', 'dative': 'Москве', 'accusative': 'Москву', 'prepositional': 'Москве', 'preposition': 'в', 'latitude': 55.753215, 'longitude': 37.622504, 'parent_ids': ['213', '1', '3', '225', '10001', '10000']}, 'metro': [{'rid': '20449', 'name': 'Киевская', 'distance': 776.8141951715876, 'location': {'latitude': 55.744596, 'longitude': 37.567545}, 'lines': [{'name': 'Арбатско-Покровская линия', 'color': '#0042a5'}, {'name': 'Кольцевая линия', 'color': '#794835'}, {'name': 'Филёвская линия', 'color': '#099dd4'}]}, {'rid': '20511', 'name': 'Краснопресненская', 'distance': 1165.6047017733522, 'location': {'latitude': 55.760211, 'longitude': 37.577211}, 'lines': [{'name': 'Кольцевая линия', 'color': '#794835'}]}]}, 'registration_date': '2015-03-13T14:02:58Z', 'salon_id': '10950', 'is_official': False}, 'seller': {'location': {'address': 'Кутузовский проспект, 2/1 здание конгресс парка минус 3 этаж', 'coord': {'latitude': 55.751678, 'longitude': 37.566387}, 'geobase_id': '213', 'region_info': {'id': '213', 'name': 'Москва', 'genitive': 'Москвы', 'dative': 'Москве', 'accusative': 'Москву', 'prepositional': 'Москве', 'preposition': 'в', 'latitude': 55.753215, 'longitude': 37.622504, 'parent_ids': ['213', '1', '3', '225', '10001', '10000']}, 'metro': [{'rid': '20449', 'name': 'Киевская', 'distance': 776.8141951715876, 'location': {'latitude': 55.744596, 'longitude': 37.567545}, 'lines': [{'name': 'Арбатско-Покровская линия', 'color': '#0042a5'}, {'name': 'Кольцевая линия', 'color': '#794835'}, {'name': 'Филёвская линия', 'color': '#099dd4'}]}, {'rid': '20511', 'name': 'Краснопресненская', 'distance': 1165.6047017733522, 'location': {'latitude': 55.760211, 'longitude': 37.577211}, 'lines': [{'name': 'Кольцевая линия', 'color': '#794835'}]}], 'timezone_info': {'abbr': 'MSK', 'dst': False, 'name': 'Europe/Moscow', 'offset': 10800}}, 'name': 'RoyalMotors', 'phones': [], 'redirect_phones': False, 'chats_enabled': False, 'call_hours': {'call_hour_start': 10, 'call_hour_end': 21, 'call_minute_end': 0, 'call_minute_start': 0}}, 'service_prices': [], 'services': [], 'state': {'mileage': 67000, 'state_not_beaten': True, 'image_urls': [{'sizes': {'small': '//avatars.mds.yandex.net/get-autoru-vos/1980279/c14499f2f221bf15d7cfbb1255af96fd/small', 'thumb_m': '//avatars.mds.yandex.net/get-autoru-vos/1980279/c14499f2f221bf15d7cfbb1255af96fd/thumb_m', '320x240': '//avatars.mds.yandex.net/get-autoru-vos/1980279/c14499f2f221bf15d7cfbb1255af96fd/320x240', '456x342': '//avatars.mds.yandex.net/get-autoru-vos/1980279/c14499f2f221bf15d7cfbb1255af96fd/456x342', '456x342n': '//avatars.mds.yandex.net/get-autoru-vos/1980279/c14499f2f221bf15d7cfbb1255af96fd/456x342n', '1200x900': '//avatars.mds.yandex.net/get-autoru-vos/1980279/c14499f2f221bf15d7cfbb1255af96fd/1200x900', '1200x900n': '//avatars.mds.yandex.net/get-autoru-vos/1980279/c14499f2f221bf15d7cfbb1255af96fd/1200x900n'}, 'preview': 'data:image/jpeg;base64,/9j/4AAQSkZJRgABAgAAAQABAAD/2wBDAAMCAgMCAgMDAwMEAwMEBQgFBQQEBQoHBwYIDAoMDAsKCwsNDhIQDQ4RDgsLEBYQERMUFRUVDA8XGBYUGBIUFRT/2wBDAQMEBAUEBQkFBQkUDQsNFBQUFBQUFBQUFBQUFBQUFBQUFBQUFBQUFBQUFBQUFBQUFBQUFBQUFBQUFBQUFBQUFBT/wAARCAASABgDASIAAhEBAxEB/8QAHwAAAQUBAQEBAQEAAAAAAAAAAAECAwQFBgcICQoL/8QAtRAAAgEDAwIEAwUFBAQAAAF9AQIDAAQRBRIhMUEGE1FhByJxFDKBkaEII0KxwRVS0fAkM2JyggkKFhcYGRolJicoKSo0NTY3ODk6Q0RFRkdISUpTVFVWV1hZWmNkZWZnaGlqc3R1dnd4eXqDhIWGh4iJipKTlJWWl5iZmqKjpKWmp6ipqrKztLW2t7i5usLDxMXGx8jJytLT1NXW19jZ2uHi4+Tl5ufo6erx8vP09fb3+Pn6/8QAHwEAAwEBAQEBAQEBAQAAAAAAAAECAwQFBgcICQoL/8QAtREAAgECBAQDBAcFBAQAAQJ3AAECAxEEBSExBhJBUQdhcRMiMoEIFEKRobHBCSMzUvAVYnLRChYkNOEl8RcYGRomJygpKjU2Nzg5OkNERUZHSElKU1RVVldYWVpjZGVmZ2hpanN0dXZ3eHl6goOEhYaHiImKkpOUlZaXmJmaoqOkpaanqKmqsrO0tba3uLm6wsPExcbHyMnK0tPU1dbX2Nna4uPk5ebn6Onq8vP09fb3+Pn6/9oADAMBAAIRAxEAPwDxDxB8V/Ev26V59a1C6i5+X7SU/HNc03xcvrK5jW41jU/tkxUR232hyCxJzyBnn36Y711vi/8AZV+KI1+2nsrayvrGJcrby3CBd3P3lwN/J6k9OK427/Y/+Kup3DTS22kaa0jBpRFMkYyCcFdinH0GB7cV0Qp05JOU7fIlyd7JHaXvxB8daELadr7WdGhkjGzzZnxIRnJBIH5dqKq+Hf2R/H9m6LqPiAy2CAlLX7Y7oHPBOGGOnoKKzqKEZWg7opPTVH2TfXM3nj96/X+8a5zU7qbzn/fSdf7xoorMDMnu59q/vpP++zRRRQB//9k='}, {'sizes': {'small': '//avatars.mds.yandex.net/get-autoru-vos/2101836/3b20521465a715231d4cebfe91373bad/small', 'thumb_m': '//avatars.mds.yandex.net/get-autoru-vos/2101836/3b20521465a715231d4cebfe91373bad/thumb_m', '320x240': '//avatars.mds.yandex.net/get-autoru-vos/2101836/3b20521465a715231d4cebfe91373bad/320x240', '456x342': '//avatars.mds.yandex.net/get-autoru-vos/2101836/3b20521465a715231d4cebfe91373bad/456x342', '456x342n': '//avatars.mds.yandex.net/get-autoru-vos/2101836/3b20521465a715231d4cebfe91373bad/456x342n', '1200x900': '//avatars.mds.yandex.net/get-autoru-vos/2101836/3b20521465a715231d4cebfe91373bad/1200x900', '1200x900n': '//avatars.mds.yandex.net/get-autoru-vos/2101836/3b20521465a715231d4cebfe91373bad/1200x900n'}, 'preview': 'data:image/jpeg;base64,/9j/4AAQSkZJRgABAgAAAQABAAD/2wBDAAMCAgMCAgMDAwMEAwMEBQgFBQQEBQoHBwYIDAoMDAsKCwsNDhIQDQ4RDgsLEBYQERMUFRUVDA8XGBYUGBIUFRT/2wBDAQMEBAUEBQkFBQkUDQsNFBQUFBQUFBQUFBQUFBQUFBQUFBQUFBQUFBQUFBQUFBQUFBQUFBQUFBQUFBQUFBQUFBT/wAARCAASABgDASIAAhEBAxEB/8QAHwAAAQUBAQEBAQEAAAAAAAAAAAECAwQFBgcICQoL/8QAtRAAAgEDAwIEAwUFBAQAAAF9AQIDAAQRBRIhMUEGE1FhByJxFDKBkaEII0KxwRVS0fAkM2JyggkKFhcYGRolJicoKSo0NTY3ODk6Q0RFRkdISUpTVFVWV1hZWmNkZWZnaGlqc3R1dnd4eXqDhIWGh4iJipKTlJWWl5iZmqKjpKWmp6ipqrKztLW2t7i5usLDxMXGx8jJytLT1NXW19jZ2uHi4+Tl5ufo6erx8vP09fb3+Pn6/8QAHwEAAwEBAQEBAQEBAQAAAAAAAAECAwQFBgcICQoL/8QAtREAAgECBAQDBAcFBAQAAQJ3AAECAxEEBSExBhJBUQdhcRMiMoEIFEKRobHBCSMzUvAVYnLRChYkNOEl8RcYGRomJygpKjU2Nzg5OkNERUZHSElKU1RVVldYWVpjZGVmZ2hpanN0dXZ3eHl6goOEhYaHiImKkpOUlZaXmJmaoqOkpaanqKmqsrO0tba3uLm6wsPExcbHyMnK0tPU1dbX2Nna4uPk5ebn6Onq8vP09fb3+Pn6/9oADAMBAAIRAxEAPwDwXUNch0y3uEazsZFLlzPcx5ZRk8Ak4A49O5rCtPin4WiuLkrptkl4wBEckM7Rx8AEgNwBwDyT9eTUHjPwV4o0qE3qaDLrHluCbU28rBxuPZQDxuz+FeWt4J8Srq4lj8O67JD5pfyJdOm8sp1Cluvb079e9awhGSu5WJlKz2PfB4jh1OxjiXT7CD5lbz7aMq5wrDGckYOcnjqBRWH4T8HeK9Z02K7k0N9Kednc2phdFjyzYABGQMY60Vm1Z2LTP1RubK3KP+4i6f3BWNNp1ruz9mhzn/nmKKKQiT7Hbqq4gjH0QUUUUAf/2Q=='}, {'sizes': {'small': '//avatars.mds.yandex.net/get-autoru-vos/2192078/8ec721e1d4c8451801185fbeef4ee4b6/small', 'thumb_m': '//avatars.mds.yandex.net/get-autoru-vos/2192078/8ec721e1d4c8451801185fbeef4ee4b6/thumb_m', '320x240': '//avatars.mds.yandex.net/get-autoru-vos/2192078/8ec721e1d4c8451801185fbeef4ee4b6/320x240', '456x342': '//avatars.mds.yandex.net/get-autoru-vos/2192078/8ec721e1d4c8451801185fbeef4ee4b6/456x342', '456x342n': '//avatars.mds.yandex.net/get-autoru-vos/2192078/8ec721e1d4c8451801185fbeef4ee4b6/456x342n', '1200x900': '//avatars.mds.yandex.net/get-autoru-vos/2192078/8ec721e1d4c8451801185fbeef4ee4b6/1200x900', '1200x900n': '//avatars.mds.yandex.net/get-autoru-vos/2192078/8ec721e1d4c8451801185fbeef4ee4b6/1200x900n'}, 'preview': 'data:image/jpeg;base64,/9j/4AAQSkZJRgABAgAAAQABAAD/2wBDAAMCAgMCAgMDAwMEAwMEBQgFBQQEBQoHBwYIDAoMDAsKCwsNDhIQDQ4RDgsLEBYQERMUFRUVDA8XGBYUGBIUFRT/2wBDAQMEBAUEBQkFBQkUDQsNFBQUFBQUFBQUFBQUFBQUFBQUFBQUFBQUFBQUFBQUFBQUFBQUFBQUFBQUFBQUFBQUFBT/wAARCAASABgDASIAAhEBAxEB/8QAHwAAAQUBAQEBAQEAAAAAAAAAAAECAwQFBgcICQoL/8QAtRAAAgEDAwIEAwUFBAQAAAF9AQIDAAQRBRIhMUEGE1FhByJxFDKBkaEII0KxwRVS0fAkM2JyggkKFhcYGRolJicoKSo0NTY3ODk6Q0RFRkdISUpTVFVWV1hZWmNkZWZnaGlqc3R1dnd4eXqDhIWGh4iJipKTlJWWl5iZmqKjpKWmp6ipqrKztLW2t7i5usLDxMXGx8jJytLT1NXW19jZ2uHi4+Tl5ufo6erx8vP09fb3+Pn6/8QAHwEAAwEBAQEBAQEBAQAAAAAAAAECAwQFBgcICQoL/8QAtREAAgECBAQDBAcFBAQAAQJ3AAECAxEEBSExBhJBUQdhcRMiMoEIFEKRobHBCSMzUvAVYnLRChYkNOEl8RcYGRomJygpKjU2Nzg5OkNERUZHSElKU1RVVldYWVpjZGVmZ2hpanN0dXZ3eHl6goOEhYaHiImKkpOUlZaXmJmaoqOkpaanqKmqsrO0tba3uLm6wsPExcbHyMnK0tPU1dbX2Nna4uPk5ebn6Onq8vP09fb3+Pn6/9oADAMBAAIRAxEAPwCvr3x58XW99P52uTtHtO0W9vbRkNngnMRyOvFc5J+0/qmlW7T3nim9wHALfZ7fy0yAMFvJIJDZ9Oo4FWfiD+wl8QvFGrGYanZrboqrCk6gmPnJyAAGJz1OTj6CuRn/AOCd/jaTAfWNPjwP4IePyrspU6EledSz9L/qZTlNP3Y3+Z6vof7TPiTUoXn0fxPBNbfwbrWznYcc5Ii9fYUVzfw5/Yc8SeFGl+066Ar/AHorYKEbjGTuBJ7nrgZ6UVnU9mn7juvNG0Xpqj7cvbmY7v3r/wDfRrAu55D/AMtH/wC+jRRXOIpmeQn/AFjf99GiiigD/9k='}, {'sizes': {'small': '//avatars.mds.yandex.net/get-autoru-vos/2174341/09d6c5272e01b4bc047cd56fa7ff18a1/small', 'thumb_m': '//avatars.mds.yandex.net/get-autoru-vos/2174341/09d6c5272e01b4bc047cd56fa7ff18a1/thumb_m', '320x240': '//avatars.mds.yandex.net/get-autoru-vos/2174341/09d6c5272e01b4bc047cd56fa7ff18a1/320x240', '456x342': '//avatars.mds.yandex.net/get-autoru-vos/2174341/09d6c5272e01b4bc047cd56fa7ff18a1/456x342', '456x342n': '//avatars.mds.yandex.net/get-autoru-vos/2174341/09d6c5272e01b4bc047cd56fa7ff18a1/456x342n', '1200x900': '//avatars.mds.yandex.net/get-autoru-vos/2174341/09d6c5272e01b4bc047cd56fa7ff18a1/1200x900', '1200x900n': '//avatars.mds.yandex.net/get-autoru-vos/2174341/09d6c5272e01b4bc047cd56fa7ff18a1/1200x900n'}, 'preview': 'data:image/jpeg;base64,/9j/4AAQSkZJRgABAgAAAQABAAD/2wBDAAMCAgMCAgMDAwMEAwMEBQgFBQQEBQoHBwYIDAoMDAsKCwsNDhIQDQ4RDgsLEBYQERMUFRUVDA8XGBYUGBIUFRT/2wBDAQMEBAUEBQkFBQkUDQsNFBQUFBQUFBQUFBQUFBQUFBQUFBQUFBQUFBQUFBQUFBQUFBQUFBQUFBQUFBQUFBQUFBT/wAARCAASABgDASIAAhEBAxEB/8QAHwAAAQUBAQEBAQEAAAAAAAAAAAECAwQFBgcICQoL/8QAtRAAAgEDAwIEAwUFBAQAAAF9AQIDAAQRBRIhMUEGE1FhByJxFDKBkaEII0KxwRVS0fAkM2JyggkKFhcYGRolJicoKSo0NTY3ODk6Q0RFRkdISUpTVFVWV1hZWmNkZWZnaGlqc3R1dnd4eXqDhIWGh4iJipKTlJWWl5iZmqKjpKWmp6ipqrKztLW2t7i5usLDxMXGx8jJytLT1NXW19jZ2uHi4+Tl5ufo6erx8vP09fb3+Pn6/8QAHwEAAwEBAQEBAQEBAQAAAAAAAAECAwQFBgcICQoL/8QAtREAAgECBAQDBAcFBAQAAQJ3AAECAxEEBSExBhJBUQdhcRMiMoEIFEKRobHBCSMzUvAVYnLRChYkNOEl8RcYGRomJygpKjU2Nzg5OkNERUZHSElKU1RVVldYWVpjZGVmZ2hpanN0dXZ3eHl6goOEhYaHiImKkpOUlZaXmJmaoqOkpaanqKmqsrO0tba3uLm6wsPExcbHyMnK0tPU1dbX2Nna4uPk5ebn6Onq8vP09fb3+Pn6/9oADAMBAAIRAxEAPwDwfxH8Z9es9R3XvifU7lQCzQyajIpYcjOQ2ev8q5/R/jfeahOxt9S1m5nONsX2ucJwxzg5BOQR+Vdzrn7H3xF0zxOutaBqdhDd5Yiaa8fdHlQoCjYR/L8a5bUf2NvidrF6Z9S1jTfMckyMl4+WySc8RgZ5/lXXCnh3FOU2n6EycuiNy1+M3iZWjltPEOr6agQLtXUJjuYEgtkn1/lRUnhj9j3xRpdzD/aPieO6s4UYR2nmuVUnrjORj8KKwmoqTUHdfcUnpqj6k1C6n8wfvpOv941zup3k4nOJ5P8Avs0UVmBlPeTmX/Xydf75ooooA//Z'}, {'sizes': {'small': '//avatars.mds.yandex.net/get-autoru-vos/1906423/b64a29d9a00ffbe969fbbd1683782fc9/small', 'thumb_m': '//avatars.mds.yandex.net/get-autoru-vos/1906423/b64a29d9a00ffbe969fbbd1683782fc9/thumb_m', '320x240': '//avatars.mds.yandex.net/get-autoru-vos/1906423/b64a29d9a00ffbe969fbbd1683782fc9/320x240', '456x342': '//avatars.mds.yandex.net/get-autoru-vos/1906423/b64a29d9a00ffbe969fbbd1683782fc9/456x342', '456x342n': '//avatars.mds.yandex.net/get-autoru-vos/1906423/b64a29d9a00ffbe969fbbd1683782fc9/456x342n', '1200x900': '//avatars.mds.yandex.net/get-autoru-vos/1906423/b64a29d9a00ffbe969fbbd1683782fc9/1200x900', '1200x900n': '//avatars.mds.yandex.net/get-autoru-vos/1906423/b64a29d9a00ffbe969fbbd1683782fc9/1200x900n'}, 'preview': 'data:image/jpeg;base64,/9j/4AAQSkZJRgABAgAAAQABAAD/2wBDAAMCAgMCAgMDAwMEAwMEBQgFBQQEBQoHBwYIDAoMDAsKCwsNDhIQDQ4RDgsLEBYQERMUFRUVDA8XGBYUGBIUFRT/2wBDAQMEBAUEBQkFBQkUDQsNFBQUFBQUFBQUFBQUFBQUFBQUFBQUFBQUFBQUFBQUFBQUFBQUFBQUFBQUFBQUFBQUFBT/wAARCAASABgDASIAAhEBAxEB/8QAHwAAAQUBAQEBAQEAAAAAAAAAAAECAwQFBgcICQoL/8QAtRAAAgEDAwIEAwUFBAQAAAF9AQIDAAQRBRIhMUEGE1FhByJxFDKBkaEII0KxwRVS0fAkM2JyggkKFhcYGRolJicoKSo0NTY3ODk6Q0RFRkdISUpTVFVWV1hZWmNkZWZnaGlqc3R1dnd4eXqDhIWGh4iJipKTlJWWl5iZmqKjpKWmp6ipqrKztLW2t7i5usLDxMXGx8jJytLT1NXW19jZ2uHi4+Tl5ufo6erx8vP09fb3+Pn6/8QAHwEAAwEBAQEBAQEBAQAAAAAAAAECAwQFBgcICQoL/8QAtREAAgECBAQDBAcFBAQAAQJ3AAECAxEEBSExBhJBUQdhcRMiMoEIFEKRobHBCSMzUvAVYnLRChYkNOEl8RcYGRomJygpKjU2Nzg5OkNERUZHSElKU1RVVldYWVpjZGVmZ2hpanN0dXZ3eHl6goOEhYaHiImKkpOUlZaXmJmaoqOkpaanqKmqsrO0tba3uLm6wsPExcbHyMnK0tPU1dbX2Nna4uPk5ebn6Onq8vP09fb3+Pn6/9oADAMBAAIRAxEAPwD50uNbi0qCZWsrGYF93nXMe5l56A5xjj07msq0+KHhS3nmxZacL2T92sTLK6I2McKcjsOpPU9Oaq+Ovhv4zfSbk2+nXdywIPlwxPuYbu2RXns/hLxpPtQeDL2NkbCkaZEBj3IiyT710UqdOabnO3yv/X9aCk2rWR7oNei1GySD+zrC3IZWM9vEVc7QwxnOMHOTx1Aorn/BPgnxneaNBNe6bNbXEhYsk0bKw+ZuuB7g0Vi7J2Luj9Vbmytzn9xF/wB8CsefTrXP/HtD/wB+xRRSRANZ26ooEEYGOyCiiihjP//Z'}], 'images_count': 22}, 'sub_category': 'cars', 'vehicle_info': {'configuration': {'id': '7899864', 'body_type': 'COUPE', 'doors_count': 2, 'auto_class': 'E', 'human_name': 'Купе', 'trunk_volume_min': 460, 'body_type_group': 'COUPE', 'main_photo': {'sizes': {'orig': '//avatars.mds.yandex.net/get-verba/216201/2a000001609ce74d7ae08b36fbd163791168/orig', 'wizardv3mr': '//avatars.mds.yandex.net/get-verba/216201/2a000001609ce74d7ae08b36fbd163791168/wizardv3mr', 'cattouch': '//avatars.mds.yandex.net/get-verba/216201/2a000001609ce74d7ae08b36fbd163791168/cattouch'}}, 'tags': ['big', 'style']}, 'complectation': {'id': '7928504', 'name': 'M6', 'available_options': ['cruise-control', 'sport-seats', 'multi-wheel', 'xenon', 'airbag-passenger', 'lock', 'electro-mirrors', 'mirrors-heat', 'volume-sensor', 'leather', 'seat-memory', 'start-stop-function', 'computer', 'high-beam-assist', 'light-cleaner', 'airbag-side', 'abs', 'wheel-leather', 'climate-control-1', 'auto-mirrors', 'esp', 'usb', 'audiopreparation', 'ashtray-and-cigarette-lighter', 'front-centre-armrest', 'servo', 'park-assist-f', '19-inch-wheels', 'condition', 'music-super', 'park-assist-r', 'airbag-driver', 'isofix', 'electro-window-front', 'light-sensor', 'hcc', 'airbag-curtain', 'passenger-seat-electric', 'alarm', 'paint-metallic', 'start-button', 'rain-sensor', 'tyre-pressure', 'audiosystem-cd', 'front-seats-heat', 'bluetooth', 'wheel-configuration2', 'wheel-configuration1', 'immo', '12v-socket'], 'vendor_colors': [{'body_color_id': 20616407, 'mark_color_id': 21387542, 'name_ru': 'Синий Сан-Марино', 'hex_codes': ['152455'], 'color_type': 'METALLIC', 'stock_color': {'hex_code': '0000CC', 'name_ru': 'синий'}, 'photos': [{'name': '34-front', 'sizes': {'orig': '//avatars.mds.yandex.net/get-verba/787013/2a0000016099e0e0d716205312d77ba09f4c/orig', 'wizardv3mr': '//avatars.mds.yandex.net/get-verba/787013/2a0000016099e0e0d716205312d77ba09f4c/wizardv3mr', 'wizardv3': '//avatars.mds.yandex.net/get-verba/787013/2a0000016099e0e0d716205312d77ba09f4c/wizardv3', 'cattouch': '//avatars.mds.yandex.net/get-verba/787013/2a0000016099e0e0d716205312d77ba09f4c/cattouch', 'small': '//avatars.mds.yandex.net/get-verba/787013/2a0000016099e0e0d716205312d77ba09f4c/small', '320x240': '//avatars.mds.yandex.net/get-verba/787013/2a0000016099e0e0d716205312d77ba09f4c/320x240', '1200x900': '//avatars.mds.yandex.net/get-verba/787013/2a0000016099e0e0d716205312d77ba09f4c/1200x900', '1200x900n': '//avatars.mds.yandex.net/get-verba/787013/2a0000016099e0e0d716205312d77ba09f4c/1200x900n', 'thumb_m': '//avatars.mds.yandex.net/get-verba/787013/2a0000016099e0e0d716205312d77ba09f4c/thumb_m', 'full': '//avatars.mds.yandex.net/get-verba/787013/2a0000016099e0e0d716205312d77ba09f4c/full', '832x624': '//avatars.mds.yandex.net/get-verba/787013/2a0000016099e0e0d716205312d77ba09f4c/832x624', '456x342': '//avatars.mds.yandex.net/get-verba/787013/2a0000016099e0e0d716205312d77ba09f4c/456x342', '120x90': '//avatars.mds.yandex.net/get-verba/787013/2a0000016099e0e0d716205312d77ba09f4c/120x90', '92x69': '//avatars.mds.yandex.net/get-verba/787013/2a0000016099e0e0d716205312d77ba09f4c/92x69', 'islandoff': '//avatars.mds.yandex.net/get-verba/787013/2a0000016099e0e0d716205312d77ba09f4c/islandoff', 'thumb_s': '//avatars.mds.yandex.net/get-verba/787013/2a0000016099e0e0d716205312d77ba09f4c/thumb_s', 'thumb_s_2x': '//avatars.mds.yandex.net/get-verba/787013/2a0000016099e0e0d716205312d77ba09f4c/thumb_s_2x'}}, {'name': '34-back', 'sizes': {'orig': '//avatars.mds.yandex.net/get-verba/216201/2a000001609d2e863af04c07e2c01146fbe8/orig', 'wizardv3mr': '//avatars.mds.yandex.net/get-verba/216201/2a000001609d2e863af04c07e2c01146fbe8/wizardv3mr', 'wizardv3': '//avatars.mds.yandex.net/get-verba/216201/2a000001609d2e863af04c07e2c01146fbe8/wizardv3', 'cattouch': '//avatars.mds.yandex.net/get-verba/216201/2a000001609d2e863af04c07e2c01146fbe8/cattouch', 'small': '//avatars.mds.yandex.net/get-verba/216201/2a000001609d2e863af04c07e2c01146fbe8/small', '320x240': '//avatars.mds.yandex.net/get-verba/216201/2a000001609d2e863af04c07e2c01146fbe8/320x240', '1200x900': '//avatars.mds.yandex.net/get-verba/216201/2a000001609d2e863af04c07e2c01146fbe8/1200x900', '1200x900n': '//avatars.mds.yandex.net/get-verba/216201/2a000001609d2e863af04c07e2c01146fbe8/1200x900n', 'thumb_m': '//avatars.mds.yandex.net/get-verba/216201/2a000001609d2e863af04c07e2c01146fbe8/thumb_m', 'full': '//avatars.mds.yandex.net/get-verba/216201/2a000001609d2e863af04c07e2c01146fbe8/full', '832x624': '//avatars.mds.yandex.net/get-verba/216201/2a000001609d2e863af04c07e2c01146fbe8/832x624', '456x342': '//avatars.mds.yandex.net/get-verba/216201/2a000001609d2e863af04c07e2c01146fbe8/456x342', '120x90': '//avatars.mds.yandex.net/get-verba/216201/2a000001609d2e863af04c07e2c01146fbe8/120x90', '92x69': '//avatars.mds.yandex.net/get-verba/216201/2a000001609d2e863af04c07e2c01146fbe8/92x69', 'islandoff': '//avatars.mds.yandex.net/get-verba/216201/2a000001609d2e863af04c07e2c01146fbe8/islandoff', 'thumb_s': '//avatars.mds.yandex.net/get-verba/216201/2a000001609d2e863af04c07e2c01146fbe8/thumb_s', 'thumb_s_2x': '//avatars.mds.yandex.net/get-verba/216201/2a000001609d2e863af04c07e2c01146fbe8/thumb_s_2x'}}, {'name': 'side', 'sizes': {'orig': '//avatars.mds.yandex.net/get-verba/937147/2a000001609d4fa10116ea7dc20dcb433ae5/orig', 'wizardv3mr': '//avatars.mds.yandex.net/get-verba/937147/2a000001609d4fa10116ea7dc20dcb433ae5/wizardv3mr', 'wizardv3': '//avatars.mds.yandex.net/get-verba/937147/2a000001609d4fa10116ea7dc20dcb433ae5/wizardv3', 'cattouch': '//avatars.mds.yandex.net/get-verba/937147/2a000001609d4fa10116ea7dc20dcb433ae5/cattouch', 'small': '//avatars.mds.yandex.net/get-verba/937147/2a000001609d4fa10116ea7dc20dcb433ae5/small', '320x240': '//avatars.mds.yandex.net/get-verba/937147/2a000001609d4fa10116ea7dc20dcb433ae5/320x240', '1200x900': '//avatars.mds.yandex.net/get-verba/937147/2a000001609d4fa10116ea7dc20dcb433ae5/1200x900', '1200x900n': '//avatars.mds.yandex.net/get-verba/937147/2a000001609d4fa10116ea7dc20dcb433ae5/1200x900n', 'thumb_m': '//avatars.mds.yandex.net/get-verba/937147/2a000001609d4fa10116ea7dc20dcb433ae5/thumb_m', 'full': '//avatars.mds.yandex.net/get-verba/937147/2a000001609d4fa10116ea7dc20dcb433ae5/full', '832x624': '//avatars.mds.yandex.net/get-verba/937147/2a000001609d4fa10116ea7dc20dcb433ae5/832x624', '456x342': '//avatars.mds.yandex.net/get-verba/937147/2a000001609d4fa10116ea7dc20dcb433ae5/456x342', '120x90': '//avatars.mds.yandex.net/get-verba/937147/2a000001609d4fa10116ea7dc20dcb433ae5/120x90', '92x69': '//avatars.mds.yandex.net/get-verba/937147/2a000001609d4fa10116ea7dc20dcb433ae5/92x69', 'islandoff': '//avatars.mds.yandex.net/get-verba/937147/2a000001609d4fa10116ea7dc20dcb433ae5/islandoff', 'thumb_s': '//avatars.mds.yandex.net/get-verba/937147/2a000001609d4fa10116ea7dc20dcb433ae5/thumb_s', 'thumb_s_2x': '//avatars.mds.yandex.net/get-verba/937147/2a000001609d4fa10116ea7dc20dcb433ae5/thumb_s_2x'}}, {'name': 'front', 'sizes': {'orig': '//avatars.mds.yandex.net/get-verba/216201/2a000001609bda6075185d52cb16d2161b63/orig', 'wizardv3mr': '//avatars.mds.yandex.net/get-verba/216201/2a000001609bda6075185d52cb16d2161b63/wizardv3mr', 'wizardv3': '//avatars.mds.yandex.net/get-verba/216201/2a000001609bda6075185d52cb16d2161b63/wizardv3', 'cattouch': '//avatars.mds.yandex.net/get-verba/216201/2a000001609bda6075185d52cb16d2161b63/cattouch', 'small': '//avatars.mds.yandex.net/get-verba/216201/2a000001609bda6075185d52cb16d2161b63/small', '320x240': '//avatars.mds.yandex.net/get-verba/216201/2a000001609bda6075185d52cb16d2161b63/320x240', '1200x900': '//avatars.mds.yandex.net/get-verba/216201/2a000001609bda6075185d52cb16d2161b63/1200x900', '1200x900n': '//avatars.mds.yandex.net/get-verba/216201/2a000001609bda6075185d52cb16d2161b63/1200x900n', 'thumb_m': '//avatars.mds.yandex.net/get-verba/216201/2a000001609bda6075185d52cb16d2161b63/thumb_m', 'full': '//avatars.mds.yandex.net/get-verba/216201/2a000001609bda6075185d52cb16d2161b63/full', '832x624': '//avatars.mds.yandex.net/get-verba/216201/2a000001609bda6075185d52cb16d2161b63/832x624', '456x342': '//avatars.mds.yandex.net/get-verba/216201/2a000001609bda6075185d52cb16d2161b63/456x342', '120x90': '//avatars.mds.yandex.net/get-verba/216201/2a000001609bda6075185d52cb16d2161b63/120x90', '92x69': '//avatars.mds.yandex.net/get-verba/216201/2a000001609bda6075185d52cb16d2161b63/92x69', 'islandoff': '//avatars.mds.yandex.net/get-verba/216201/2a000001609bda6075185d52cb16d2161b63/islandoff', 'thumb_s': '//avatars.mds.yandex.net/get-verba/216201/2a000001609bda6075185d52cb16d2161b63/thumb_s', 'thumb_s_2x': '//avatars.mds.yandex.net/get-verba/216201/2a000001609bda6075185d52cb16d2161b63/thumb_s_2x'}}, {'name': 'back', 'sizes': {'orig': '//avatars.mds.yandex.net/get-verba/1030388/2a000001609d629f7f376013915c2e2cb425/orig', 'wizardv3mr': '//avatars.mds.yandex.net/get-verba/1030388/2a000001609d629f7f376013915c2e2cb425/wizardv3mr', 'wizardv3': '//avatars.mds.yandex.net/get-verba/1030388/2a000001609d629f7f376013915c2e2cb425/wizardv3', 'cattouch': '//avatars.mds.yandex.net/get-verba/1030388/2a000001609d629f7f376013915c2e2cb425/cattouch', 'small': '//avatars.mds.yandex.net/get-verba/1030388/2a000001609d629f7f376013915c2e2cb425/small', '320x240': '//avatars.mds.yandex.net/get-verba/1030388/2a000001609d629f7f376013915c2e2cb425/320x240', '1200x900': '//avatars.mds.yandex.net/get-verba/1030388/2a000001609d629f7f376013915c2e2cb425/1200x900', '1200x900n': '//avatars.mds.yandex.net/get-verba/1030388/2a000001609d629f7f376013915c2e2cb425/1200x900n', 'thumb_m': '//avatars.mds.yandex.net/get-verba/1030388/2a000001609d629f7f376013915c2e2cb425/thumb_m', 'full': '//avatars.mds.yandex.net/get-verba/1030388/2a000001609d629f7f376013915c2e2cb425/full', '832x624': '//avatars.mds.yandex.net/get-verba/1030388/2a000001609d629f7f376013915c2e2cb425/832x624', '456x342': '//avatars.mds.yandex.net/get-verba/1030388/2a000001609d629f7f376013915c2e2cb425/456x342', '120x90': '//avatars.mds.yandex.net/get-verba/1030388/2a000001609d629f7f376013915c2e2cb425/120x90', '92x69': '//avatars.mds.yandex.net/get-verba/1030388/2a000001609d629f7f376013915c2e2cb425/92x69', 'islandoff': '//avatars.mds.yandex.net/get-verba/1030388/2a000001609d629f7f376013915c2e2cb425/islandoff', 'thumb_s': '//avatars.mds.yandex.net/get-verba/1030388/2a000001609d629f7f376013915c2e2cb425/thumb_s', 'thumb_s_2x': '//avatars.mds.yandex.net/get-verba/1030388/2a000001609d629f7f376013915c2e2cb425/thumb_s_2x'}}], 'main_color': False}]}, 'equipment': {'asr': True, 'esp': True, 'sport-seats': True, 'usb': True, 'multi-wheel': True, 'xenon': True, 'ashtray-and-cigarette-lighter': True, 'lane-keeping-assist': True, 'airbag-passenger': True, 'front-centre-armrest': True, 'navigation': True, 'bas': True, 'rear-camera': True, 'lock': True, 'servo': True, 'electro-mirrors': True, 'feedback-alarm': True, 'mirrors-heat': True, 'volume-sensor': True, 'park-assist-f': True, 'leather': True, 'seat-memory': True, '19-inch-wheels': True, 'wheel-heat': True, 'led-lights': True, 'music-super': True, 'park-assist-r': True, 'start-stop-function': True, 'airbag-driver': True, 'isofix': True, 'projection-display': True, 'electro-window-front': True, 'light-sensor': True, 'hcc': True, 'airbag-curtain': True, 'high-beam-assist': True, 'computer': True, 'passenger-seat-electric': True, 'alarm': True, 'light-cleaner': True, 'paint-metallic': True, 'start-button': True, 'rain-sensor': True, 'airbag-side': True, 'tyre-pressure': True, 'night-vision': True, 'auto-cruise': True, 'abs': True, 'front-seats-heat': True, 'bluetooth': True, 'wheel-leather': True, 'wheel-configuration2': True, 'wheel-configuration1': True, 'immo': True, 'climate-control-1': True, 'auto-mirrors': True, '12v-socket': True}, 'mark_info': {'code': 'BMW', 'name': 'BMW', 'ru_name': 'БМВ', 'logo': {'name': 'mark-logo', 'sizes': {'logo': '//avatars.mds.yandex.net/get-verba/997355/2a00000170a99124c3a521a92b8cd4846660/logo', 'big-logo': '//avatars.mds.yandex.net/get-verba/997355/2a00000170a99124c3a521a92b8cd4846660/dealer_logo'}}}, 'model_info': {'code': 'M6', 'name': 'M6', 'ru_name': 'М6', 'morphology': {}, 'nameplate': {'code': '', 'name': '', 'semantic_url': ''}}, 'steering_wheel': 'LEFT', 'super_gen': {'id': '7899764', 'name': 'III (F06/F13/F12)', 'ru_name': '3 (F06/F13/F12)', 'year_from': 2012, 'year_to': 2018, 'price_segment': 'PREMIUM'}, 'tech_param': {'id': '7900064', 'displacement': 4395, 'engine_type': 'GASOLINE', 'gear_type': 'REAR_DRIVE', 'transmission': 'ROBOT', 'power': 560, 'power_kvt': 412, 'human_name': '4.4 AMT (560 л.с.)', 'acceleration': 4.2, 'clearance_min': 107, 'fuel_rate': 9.9}, 'vendor': 'EUROPEAN'}, 'lk_summary': '4.4\\xa0AMT (560\\xa0л.с.), купе, задний, бензин'}\n"
     ]
    }
   ],
   "source": [
    "# сделаем тестовый вызов запроса для BMW модели M6 и выведем его на экран, чтобы по нему можно было сделать функцию для создания 23 необходимых столбцов\n",
    "model = 'M6'\n",
    "param = {\n",
    "                'catalog_filter' : [{\"mark\": 'BMW', \"model\": model}],\n",
    "                'section': \"used\",\n",
    "                'category': \"cars\",\n",
    "                'sort': \"fresh_relevance_1-desc\",\n",
    "                \"top_days\":\"600\",\n",
    "                \"geo_radius\":200,\n",
    "                \"geo_id\":[213],\n",
    "                'page': 1\n",
    "            }\n",
    "\n",
    "response = requests.post(url, json=param, headers = HEADERS)\n",
    "data = response.json()\n",
    "for elem in data['offers']:\n",
    "    print(elem)\n",
    "    break"
   ]
  },
  {
   "cell_type": "code",
   "execution_count": 21,
   "metadata": {},
   "outputs": [
    {
     "data": {
      "text/plain": [
       "False"
      ]
     },
     "execution_count": 21,
     "metadata": {},
     "output_type": "execute_result"
    }
   ],
   "source": [
    "# строка для проверки содержания элемента запроса\n",
    "elem['additional_info']['hidden']"
   ]
  },
  {
   "cell_type": "code",
   "execution_count": 22,
   "metadata": {},
   "outputs": [],
   "source": [
    "def utils_clean_values_dict(d_dict):\n",
    "    for elem in d_dict:\n",
    "        d_dict[elem] = 0\n",
    "    return"
   ]
  },
  {
   "cell_type": "code",
   "execution_count": 23,
   "metadata": {},
   "outputs": [],
   "source": [
    "dict_columns = {'bodyType':0, 'brand':0, 'color':0, 'fuelType':0, 'modelDate':0, \n",
    "                'name':0, 'numberOfDoors':0, 'productionDate':0, \n",
    "                'vehicleConfiguration':0, 'vehicleTransmission':0, \n",
    "                'engineDisplacement':0, 'enginePower':0, 'description':0, \n",
    "                'mileage':0, 'Комплектация':0, 'Привод':0, 'Руль':0, \n",
    "                'Состояние':0, 'Владельцы':0, 'ПТС':0, 'Таможня':0, \n",
    "                'Владение':0, 'price':0}\n",
    "\n",
    "model = 'M6'\n",
    "# создаем функцию для обработки 23 необходимых столбцов\n",
    "def from_elem_to_dict(d_elem, d_dict):\n",
    "    utils_clean_values_dict(d_dict)\n",
    "    \n",
    "    try: d_dict['bodyType'] = d_elem['vehicle_info']['configuration']['human_name']\n",
    "    except: d_dict['bodyType'] = None\n",
    "\n",
    "    try: d_dict['brand'] = d_elem['vehicle_info']['mark_info']['code']\n",
    "    except: d_dict['brand'] = None\n",
    "\n",
    "    try: d_dict['color'] = d_elem['color_hex']\n",
    "    except: d_dict['color'] = None\n",
    "\n",
    "    try: d_dict['fuelType'] = d_elem['lk_summary'].split()[-1]\n",
    "    except: d_dict['fuelType'] = None\n",
    "\n",
    "    try: d_dict['modelDate'] = d_elem['vehicle_info']['super_gen']['year_from']\n",
    "    except: d_dict['modelDate'] = None\n",
    "\n",
    "    try: d_dict['name'] =  d_elem['vehicle_info']['tech_param']['human_name']\n",
    "    except: d_dict['name'] = None\n",
    "\n",
    "    try: d_dict['numberOfDoors'] = d_elem['vehicle_info']['configuration']['doors_count']\n",
    "    except: d_dict['numberOfDoors'] = None\n",
    "\n",
    "    try: d_dict['productionDate'] = d_elem['documents']['year']\n",
    "    except: d_dict['productionDate'] = None\n",
    "\n",
    "    try: d_dict['vehicleTransmission'] = d_elem['vehicle_info']['tech_param']['transmission']\n",
    "    except: d_dict['vehicleTransmission'] = None\n",
    "\n",
    "    try: d_dict['engineDisplacement'] = d_elem['vehicle_info']['tech_param']['human_name'].split()[0]\n",
    "    except: d_dict['engineDisplacement'] = None\n",
    "\n",
    "    try: d_dict['vehicleConfiguration'] = elem['vehicle_info']['configuration']['body_type']+' '+d_dict['vehicleTransmission']+' '+d_dict['engineDisplacement']\n",
    "    except: d_dict['vehicleConfiguration'] = None\n",
    "\n",
    "    try: d_dict['enginePower'] = d_elem['vehicle_info']['tech_param']['power']\n",
    "    except: d_dict['enginePower'] = None\n",
    "\n",
    "    try: d_dict['description'] = d_elem['description']\n",
    "    except: d_dict['description'] = None\n",
    "\n",
    "    try: d_dict['mileage'] = d_elem['state']['mileage']\n",
    "    except: d_dict['mileage'] = None\n",
    "\n",
    "    try: d_dict['Комплектация'] = d_elem['vehicle_info']['complectation']\n",
    "    except: d_dict['Комплектация'] = None\n",
    "\n",
    "    try: d_dict['Привод'] = d_elem['lk_summary'].split(', ')[-2]\n",
    "    except: d_dict['Привод'] = None\n",
    "\n",
    "    try: d_dict['Руль'] = d_elem['vehicle_info']['steering_wheel']\n",
    "    except: d_dict['Руль'] = None\n",
    "\n",
    "    # 'Состояние' не найдено\n",
    "    d_dict['Состояние'] = None\n",
    "\n",
    "    try: d_dict['Владельцы'] = d_elem['documents']['owners_number']\n",
    "    except: d_dict['Владельцы'] = None\n",
    "\n",
    "    try: d_dict['ПТС'] = d_elem['documents']['pts']\n",
    "    except: d_dict['ПТС'] = None\n",
    "\n",
    "    try: d_dict['Таможня'] = d_elem['documents']['custom_cleared']\n",
    "    except: d_dict['Таможня'] = None\n",
    "\n",
    "    try: d_dict['Владение'] =  d_elem['documents']['purchase_date']\n",
    "    except: d_dict['Владение'] = None\n",
    "\n",
    "\n",
    "    try: d_dict['price'] = d_elem['price_info']['RUR']\n",
    "    except: d_dict['price'] = None\n",
    "\n",
    "    # дата размещения объявления решил добавить \n",
    "    try: d_dict['start_date'] =  d_elem['additional_info']['hot_info']['start_time']\n",
    "    except: d_dict['start_date'] = None\n",
    "\n",
    "    # статус объявления \n",
    "    try: d_dict['hidden'] =  d_elemelem['additional_info']['hidden']\n",
    "    except: d_dict['hidden'] = None\n",
    "\n",
    "    # модель \n",
    "    d_dict['model'] =  model\n",
    "\n",
    "    return\n",
    "\n",
    "from_elem_to_dict(elem, dict_columns)"
   ]
  },
  {
   "cell_type": "code",
   "execution_count": 24,
   "metadata": {},
   "outputs": [
    {
     "data": {
      "text/html": [
       "<div>\n",
       "<style scoped>\n",
       "    .dataframe tbody tr th:only-of-type {\n",
       "        vertical-align: middle;\n",
       "    }\n",
       "\n",
       "    .dataframe tbody tr th {\n",
       "        vertical-align: top;\n",
       "    }\n",
       "\n",
       "    .dataframe thead th {\n",
       "        text-align: right;\n",
       "    }\n",
       "</style>\n",
       "<table border=\"1\" class=\"dataframe\">\n",
       "  <thead>\n",
       "    <tr style=\"text-align: right;\">\n",
       "      <th></th>\n",
       "      <th>bodyType</th>\n",
       "      <th>brand</th>\n",
       "      <th>color</th>\n",
       "      <th>fuelType</th>\n",
       "      <th>modelDate</th>\n",
       "      <th>name</th>\n",
       "      <th>numberOfDoors</th>\n",
       "      <th>productionDate</th>\n",
       "      <th>vehicleConfiguration</th>\n",
       "      <th>vehicleTransmission</th>\n",
       "      <th>...</th>\n",
       "      <th>Руль</th>\n",
       "      <th>Состояние</th>\n",
       "      <th>Владельцы</th>\n",
       "      <th>ПТС</th>\n",
       "      <th>Таможня</th>\n",
       "      <th>Владение</th>\n",
       "      <th>price</th>\n",
       "      <th>start_date</th>\n",
       "      <th>hidden</th>\n",
       "      <th>model</th>\n",
       "    </tr>\n",
       "  </thead>\n",
       "  <tbody>\n",
       "    <tr>\n",
       "      <th>available_options</th>\n",
       "      <td>Купе</td>\n",
       "      <td>BMW</td>\n",
       "      <td>0000CC</td>\n",
       "      <td>бензин</td>\n",
       "      <td>2012</td>\n",
       "      <td>4.4 AMT (560 л.с.)</td>\n",
       "      <td>2</td>\n",
       "      <td>2012</td>\n",
       "      <td>COUPE ROBOT 4.4</td>\n",
       "      <td>ROBOT</td>\n",
       "      <td>...</td>\n",
       "      <td>LEFT</td>\n",
       "      <td>None</td>\n",
       "      <td>3</td>\n",
       "      <td>DUPLICATE</td>\n",
       "      <td>True</td>\n",
       "      <td>None</td>\n",
       "      <td>2500000</td>\n",
       "      <td>2020-09-20T17:03:09Z</td>\n",
       "      <td>None</td>\n",
       "      <td>M6</td>\n",
       "    </tr>\n",
       "    <tr>\n",
       "      <th>id</th>\n",
       "      <td>Купе</td>\n",
       "      <td>BMW</td>\n",
       "      <td>0000CC</td>\n",
       "      <td>бензин</td>\n",
       "      <td>2012</td>\n",
       "      <td>4.4 AMT (560 л.с.)</td>\n",
       "      <td>2</td>\n",
       "      <td>2012</td>\n",
       "      <td>COUPE ROBOT 4.4</td>\n",
       "      <td>ROBOT</td>\n",
       "      <td>...</td>\n",
       "      <td>LEFT</td>\n",
       "      <td>None</td>\n",
       "      <td>3</td>\n",
       "      <td>DUPLICATE</td>\n",
       "      <td>True</td>\n",
       "      <td>None</td>\n",
       "      <td>2500000</td>\n",
       "      <td>2020-09-20T17:03:09Z</td>\n",
       "      <td>None</td>\n",
       "      <td>M6</td>\n",
       "    </tr>\n",
       "  </tbody>\n",
       "</table>\n",
       "<p>2 rows × 26 columns</p>\n",
       "</div>"
      ],
      "text/plain": [
       "                  bodyType brand   color fuelType  modelDate  \\\n",
       "available_options     Купе   BMW  0000CC   бензин       2012   \n",
       "id                    Купе   BMW  0000CC   бензин       2012   \n",
       "\n",
       "                                 name  numberOfDoors  productionDate  \\\n",
       "available_options  4.4 AMT (560 л.с.)              2            2012   \n",
       "id                 4.4 AMT (560 л.с.)              2            2012   \n",
       "\n",
       "                  vehicleConfiguration vehicleTransmission  ...  Руль  \\\n",
       "available_options      COUPE ROBOT 4.4               ROBOT  ...  LEFT   \n",
       "id                     COUPE ROBOT 4.4               ROBOT  ...  LEFT   \n",
       "\n",
       "                   Состояние Владельцы        ПТС Таможня Владение    price  \\\n",
       "available_options       None         3  DUPLICATE    True     None  2500000   \n",
       "id                      None         3  DUPLICATE    True     None  2500000   \n",
       "\n",
       "                             start_date  hidden model  \n",
       "available_options  2020-09-20T17:03:09Z    None    M6  \n",
       "id                 2020-09-20T17:03:09Z    None    M6  \n",
       "\n",
       "[2 rows x 26 columns]"
      ]
     },
     "metadata": {},
     "output_type": "display_data"
    },
    {
     "ename": "NameError",
     "evalue": "name 'test' is not defined",
     "output_type": "error",
     "traceback": [
      "\u001b[1;31m---------------------------------------------------------------------------\u001b[0m",
      "\u001b[1;31mNameError\u001b[0m                                 Traceback (most recent call last)",
      "\u001b[1;32m<ipython-input-24-36392d19b6b8>\u001b[0m in \u001b[0;36m<module>\u001b[1;34m\u001b[0m\n\u001b[0;32m      1\u001b[0m \u001b[0mdisplay\u001b[0m\u001b[1;33m(\u001b[0m\u001b[0mpd\u001b[0m\u001b[1;33m.\u001b[0m\u001b[0mDataFrame\u001b[0m\u001b[1;33m(\u001b[0m\u001b[0mdict_columns\u001b[0m\u001b[1;33m)\u001b[0m\u001b[1;33m.\u001b[0m\u001b[0mhead\u001b[0m\u001b[1;33m(\u001b[0m\u001b[1;36m2\u001b[0m\u001b[1;33m)\u001b[0m\u001b[1;33m)\u001b[0m\u001b[1;33m\u001b[0m\u001b[1;33m\u001b[0m\u001b[0m\n\u001b[1;32m----> 2\u001b[1;33m \u001b[0mtest\u001b[0m\u001b[1;33m[\u001b[0m\u001b[0mtest\u001b[0m\u001b[1;33m[\u001b[0m\u001b[1;34m'enginePower'\u001b[0m\u001b[1;33m]\u001b[0m\u001b[1;33m==\u001b[0m\u001b[1;34m'560 N12'\u001b[0m\u001b[1;33m]\u001b[0m\u001b[1;33m.\u001b[0m\u001b[0mhead\u001b[0m\u001b[1;33m(\u001b[0m\u001b[1;36m2\u001b[0m\u001b[1;33m)\u001b[0m\u001b[1;33m\u001b[0m\u001b[1;33m\u001b[0m\u001b[0m\n\u001b[0m",
      "\u001b[1;31mNameError\u001b[0m: name 'test' is not defined"
     ]
    }
   ],
   "source": [
    "display(pd.DataFrame(dict_columns).head(2))\n",
    "test[test['enginePower']=='560 N12'].head(2)"
   ]
  },
  {
   "cell_type": "markdown",
   "metadata": {},
   "source": [
    "### 4. Парсинг"
   ]
  },
  {
   "cell_type": "code",
   "execution_count": 25,
   "metadata": {
    "tags": []
   },
   "outputs": [
    {
     "name": "stderr",
     "output_type": "stream",
     "text": [
      "C:\\ProgramData\\Anaconda3\\lib\\site-packages\\ipykernel_launcher.py:5: DeprecationWarning: time.clock has been deprecated in Python 3.3 and will be removed from Python 3.8: use time.perf_counter or time.process_time instead\n",
      "  \"\"\"\n",
      "C:\\ProgramData\\Anaconda3\\lib\\site-packages\\ipykernel_launcher.py:8: DeprecationWarning: time.clock has been deprecated in Python 3.3 and will be removed from Python 3.8: use time.perf_counter or time.process_time instead\n",
      "  \n",
      "C:\\ProgramData\\Anaconda3\\lib\\site-packages\\ipykernel_launcher.py:37: DeprecationWarning: time.clock has been deprecated in Python 3.3 and will be removed from Python 3.8: use time.perf_counter or time.process_time instead\n",
      "C:\\ProgramData\\Anaconda3\\lib\\site-packages\\ipykernel_launcher.py:40: DeprecationWarning: time.clock has been deprecated in Python 3.3 and will be removed from Python 3.8: use time.perf_counter or time.process_time instead\n"
     ]
    },
    {
     "name": "stdout",
     "output_type": "stream",
     "text": [
      "1.AUDI          ушло:66 сек., стр. 3441 из 4093 84.07%,   всего стр. 3441, прогноз 22 мин.\n",
      "2.BMW           ушло:107 сек., стр. 5867 из 7423 79.04%,  всего стр. 9308, прогноз 19 мин.\n",
      "3.CADILLAC      ушло:13 сек., стр. 400 из 321 124.61%,    всего стр. 9708, прогноз 20 мин.\n",
      "4.CHERY         ушло:11 сек., стр. 395 из 593 66.61%,     всего стр. 10103, прогноз 20 мин.\n",
      "5.CHEVROLET     ушло:58 сек., стр. 2628 из 3670 71.61%,   всего стр. 12731, прогноз 19 мин.\n",
      "6.CHRYSLER      ушло:13 сек., стр. 254 из 316 80.38%,     всего стр. 12985, прогноз 20 мин.\n",
      "7.CITROEN       ушло:26 сек., стр. 913 из 1142 79.95%,    всего стр. 13898, прогноз 20 мин.\n",
      "8.DAEWOO        ушло:15 сек., стр. 678 из 1024 66.21%,    всего стр. 14576, прогноз 19 мин.\n",
      "9.DODGE         ушло:16 сек., стр. 308 из 413 74.58%,     всего стр. 14884, прогноз 20 мин.\n",
      "10.FORD         ушло:65 сек., стр. 3342 из 4812 69.45%,   всего стр. 18226, прогноз 18 мин.\n",
      "11.GEELY        ушло:6 сек., стр. 192 из 302 63.58%,      всего стр. 18418, прогноз 18 мин.\n",
      "12.HONDA        ушло:38 сек., стр. 822 из 1179 69.72%,    всего стр. 19240, прогноз 18 мин.\n",
      "13.HYUNDAI      ушло:76 сек., стр. 4122 из 5712 72.16%,   всего стр. 23362, прогноз 16 мин.\n",
      "14.INFINITI     ушло:17 сек., стр. 670 из 1041 64.36%,    всего стр. 24032, прогноз 15 мин.\n",
      "15.JAGUAR       ушло:9 сек., стр. 290 из 308 94.16%,      всего стр. 24322, прогноз 15 мин.\n",
      "16.JEEP         ушло:8 сек., стр. 400 из 466 85.84%,      всего стр. 24722, прогноз 15 мин.\n",
      "17.KIA          ушло:78 сек., стр. 4196 из 5595 75.0%,    всего стр. 28918, прогноз 13 мин.\n",
      "18.LEXUS        ушло:17 сек., стр. 753 из 985 76.45%,     всего стр. 29671, прогноз 13 мин.\n",
      "19.MAZDA        ушло:47 сек., стр. 1863 из 2311 80.61%,   всего стр. 31534, прогноз 13 мин.\n",
      "20.MINI         ушло:7 сек., стр. 383 из 313 122.36%,     всего стр. 31917, прогноз 13 мин.\n",
      "21.MITSUBISHI   ушло:63 сек., стр. 2901 из 3935 73.72%,   всего стр. 34818, прогноз 12 мин.\n",
      "22.NISSAN       ушло:91 сек., стр. 4306 из 5776 74.55%,   всего стр. 39124, прогноз 10 мин.\n",
      "23.OPEL         ушло:43 сек., стр. 2269 из 3131 72.47%,   всего стр. 41393, прогноз 9 мин.\n",
      "24.PEUGEOT      ушло:28 сек., стр. 1220 из 1636 74.57%,   всего стр. 42613, прогноз 8 мин.\n",
      "25.PORSCHE      ушло:16 сек., стр. 618 из 714 86.55%,     всего стр. 43231, прогноз 8 мин.\n",
      "26.RENAULT      ушло:51 сек., стр. 2528 из 2771 91.23%,   всего стр. 45759, прогноз 8 мин.\n",
      "27.SKODA        ушло:39 сек., стр. 2431 из 2810 86.51%,   всего стр. 48190, прогноз 7 мин.\n",
      "28.SUBARU       ушло:18 сек., стр. 531 из 934 56.85%,     всего стр. 48721, прогноз 7 мин.\n",
      "29.SUZUKI       ушло:25 сек., стр. 890 из 878 101.37%,    всего стр. 49611, прогноз 6 мин.\n",
      "30.TOYOTA       ушло:90 сек., стр. 3040 из 4648 65.4%,    всего стр. 52651, прогноз 5 мин.\n",
      "31.VOLKSWAGEN   ушло:84 сек., стр. 4912 из 7109 69.1%,    всего стр. 57563, прогноз 3 мин.\n",
      "32.VOLVO        ушло:33 сек., стр. 1503 из 2069 72.64%,   всего стр. 59066, прогноз 2 мин.\n",
      "33.GREAT_WALL   ушло:9 сек., стр. 317 из 420 75.48%,      всего стр. 59383, прогноз 2 мин.\n",
      "34.LAND_ROVER   ушло:24 сек., стр. 1468 из 1616 90.84%,   всего стр. 60851, прогноз 2 мин.\n",
      "35.MERCEDES     ушло:174 сек., стр. 10019 из 8005 125.16%,всего стр. 70870, прогноз 0 мин.\n",
      "36.SSANG_YONG   ушло:9 сек., стр. 466 из 718 64.9%,       всего стр. 71336, прогноз 0 мин.\n",
      "Всего спарсили := 71336 строк, на это ушло: 25 мин., \n"
     ]
    },
    {
     "name": "stderr",
     "output_type": "stream",
     "text": [
      "C:\\ProgramData\\Anaconda3\\lib\\site-packages\\ipykernel_launcher.py:53: DeprecationWarning: time.clock has been deprecated in Python 3.3 and will be removed from Python 3.8: use time.perf_counter or time.process_time instead\n"
     ]
    }
   ],
   "source": [
    "auto_ru = {}\n",
    "\n",
    "iter_of_ads, iter_of_marks, old_iter_of_ads, sum_ads, sum_ads_from_dict = 0,0,0,0,0\n",
    "space = ' '\n",
    "start_time_global = time.clock()\n",
    "\n",
    "for mark in list_of_relevant_marks:\n",
    "    start_time = time.clock()\n",
    "    list_of_models = json.loads(df_marks_and_models.loc[mark, 'Models'].replace(\"'\", '\"'))\n",
    "    for model in list_of_models:\n",
    "        for num_page in range(1, 200):\n",
    "            param = {\n",
    "                'catalog_filter' : [{\"mark\": mark, \"model\": model}],\n",
    "                'section': \"all\",\n",
    "                'category': \"cars\",\n",
    "                'sort': \"fresh_relevance_1-desc\",\n",
    "                \"top_days\":\"900\",\n",
    "                \"geo_radius\":200,\n",
    "                \"geo_id\":[213],\n",
    "                'page': num_page\n",
    "            }\n",
    "            response = requests.post(url, json=param, headers = HEADERS)\n",
    "            data = response.json()\n",
    "\n",
    "            if data['offers'] != []:\n",
    "                for elem in data['offers']:\n",
    "                    from_elem_to_dict(elem, dict_columns)\n",
    "                    auto_ru[iter_of_ads] = dict_columns.copy()\n",
    "                    iter_of_ads += 1\n",
    "            else:\n",
    "                break\n",
    "    iter_of_marks +=1\n",
    "    temp_1 = iter_of_ads-old_iter_of_ads\n",
    "    temp_2 = dict_of_num_cars_of_models[mark]\n",
    "    temp_3 = temp_1/temp_2\n",
    "    temp_4 = space*abs(13-len(mark)-len(str(iter_of_marks)))\n",
    "    temp_5 = int(time.clock() - start_time)\n",
    "    temp_8 = round(temp_3*100,2)\n",
    "    temp_7 = space*abs(18-len(str(temp_1))-len(str(temp_2))-len(str(temp_8))-len(str(temp_5)))\n",
    "    temp_9 = int(time.clock() - start_time_global)\n",
    "    \n",
    "\n",
    "    sum_ads += temp_1\n",
    "    sum_ads_from_dict += temp_2\n",
    "    temp_def = sum_ads/sum_ads_from_dict\n",
    "    temp_6 = (sum_of_ads*temp_def - iter_of_ads)*temp_9/sum_ads\n",
    "\n",
    "\n",
    "    print (f'{iter_of_marks}.{mark} {temp_4} ушло:{temp_5} сек., стр. {temp_1} из {temp_2} {temp_8}%,{temp_7}всего стр. {iter_of_ads}, прогноз {int(temp_6/60)} мин.')\n",
    "\n",
    "    old_iter_of_ads=iter_of_ads\n",
    "\n",
    "print (f'Всего спарсили := {iter_of_ads} строк, на это ушло: {int((time.clock() - start_time_global)/60)} мин., ')"
   ]
  },
  {
   "cell_type": "code",
   "execution_count": 26,
   "metadata": {
    "tags": []
   },
   "outputs": [
    {
     "name": "stdout",
     "output_type": "stream",
     "text": [
      "кол-во строк датасета:= 71336\n"
     ]
    }
   ],
   "source": [
    "# запись датасета\n",
    "df_auto_ru = pd.DataFrame(auto_ru).T\n",
    "df_auto_ru.to_csv(PATH_to_file+'all_auto_ru_09_09_2020.csv', index=False)\n",
    "print(f'кол-во строк датасета:= {len(df_auto_ru)}')"
   ]
  },
  {
   "cell_type": "code",
   "execution_count": 27,
   "metadata": {},
   "outputs": [
    {
     "data": {
      "text/html": [
       "<div>\n",
       "<style scoped>\n",
       "    .dataframe tbody tr th:only-of-type {\n",
       "        vertical-align: middle;\n",
       "    }\n",
       "\n",
       "    .dataframe tbody tr th {\n",
       "        vertical-align: top;\n",
       "    }\n",
       "\n",
       "    .dataframe thead th {\n",
       "        text-align: right;\n",
       "    }\n",
       "</style>\n",
       "<table border=\"1\" class=\"dataframe\">\n",
       "  <thead>\n",
       "    <tr style=\"text-align: right;\">\n",
       "      <th></th>\n",
       "      <th>bodyType</th>\n",
       "      <th>brand</th>\n",
       "      <th>color</th>\n",
       "      <th>fuelType</th>\n",
       "      <th>modelDate</th>\n",
       "      <th>name</th>\n",
       "      <th>numberOfDoors</th>\n",
       "      <th>productionDate</th>\n",
       "      <th>vehicleConfiguration</th>\n",
       "      <th>vehicleTransmission</th>\n",
       "      <th>...</th>\n",
       "      <th>Руль</th>\n",
       "      <th>Состояние</th>\n",
       "      <th>Владельцы</th>\n",
       "      <th>ПТС</th>\n",
       "      <th>Таможня</th>\n",
       "      <th>Владение</th>\n",
       "      <th>price</th>\n",
       "      <th>start_date</th>\n",
       "      <th>hidden</th>\n",
       "      <th>model</th>\n",
       "    </tr>\n",
       "  </thead>\n",
       "  <tbody>\n",
       "    <tr>\n",
       "      <th>0</th>\n",
       "      <td>Седан</td>\n",
       "      <td>AUDI</td>\n",
       "      <td>CACECB</td>\n",
       "      <td>бензин</td>\n",
       "      <td>1982</td>\n",
       "      <td>1.8 MT (90 л.с.)</td>\n",
       "      <td>4</td>\n",
       "      <td>1984</td>\n",
       "      <td>SEDAN MECHANICAL 1.8</td>\n",
       "      <td>MECHANICAL</td>\n",
       "      <td>...</td>\n",
       "      <td>LEFT</td>\n",
       "      <td>None</td>\n",
       "      <td>2</td>\n",
       "      <td>ORIGINAL</td>\n",
       "      <td>True</td>\n",
       "      <td>None</td>\n",
       "      <td>100000</td>\n",
       "      <td>2020-11-29T13:46:39Z</td>\n",
       "      <td>None</td>\n",
       "      <td>100</td>\n",
       "    </tr>\n",
       "    <tr>\n",
       "      <th>1</th>\n",
       "      <td>Седан</td>\n",
       "      <td>AUDI</td>\n",
       "      <td>0000CC</td>\n",
       "      <td>бензин</td>\n",
       "      <td>1988</td>\n",
       "      <td>2.0 MT (115 л.с.)</td>\n",
       "      <td>4</td>\n",
       "      <td>1989</td>\n",
       "      <td>SEDAN MECHANICAL 2.0</td>\n",
       "      <td>MECHANICAL</td>\n",
       "      <td>...</td>\n",
       "      <td>LEFT</td>\n",
       "      <td>None</td>\n",
       "      <td>3</td>\n",
       "      <td>DUPLICATE</td>\n",
       "      <td>True</td>\n",
       "      <td>None</td>\n",
       "      <td>90000</td>\n",
       "      <td>2020-11-15T10:23:16Z</td>\n",
       "      <td>None</td>\n",
       "      <td>100</td>\n",
       "    </tr>\n",
       "    <tr>\n",
       "      <th>2</th>\n",
       "      <td>Седан</td>\n",
       "      <td>AUDI</td>\n",
       "      <td>FAFBFB</td>\n",
       "      <td>бензин</td>\n",
       "      <td>1982</td>\n",
       "      <td>2.0 MT (112 л.с.)</td>\n",
       "      <td>4</td>\n",
       "      <td>1987</td>\n",
       "      <td>SEDAN MECHANICAL 2.0</td>\n",
       "      <td>MECHANICAL</td>\n",
       "      <td>...</td>\n",
       "      <td>LEFT</td>\n",
       "      <td>None</td>\n",
       "      <td>2</td>\n",
       "      <td>ORIGINAL</td>\n",
       "      <td>True</td>\n",
       "      <td>None</td>\n",
       "      <td>55000</td>\n",
       "      <td>2020-11-28T21:17:36Z</td>\n",
       "      <td>None</td>\n",
       "      <td>100</td>\n",
       "    </tr>\n",
       "  </tbody>\n",
       "</table>\n",
       "<p>3 rows × 26 columns</p>\n",
       "</div>"
      ],
      "text/plain": [
       "  bodyType brand   color fuelType modelDate               name numberOfDoors  \\\n",
       "0    Седан  AUDI  CACECB   бензин      1982   1.8 MT (90 л.с.)             4   \n",
       "1    Седан  AUDI  0000CC   бензин      1988  2.0 MT (115 л.с.)             4   \n",
       "2    Седан  AUDI  FAFBFB   бензин      1982  2.0 MT (112 л.с.)             4   \n",
       "\n",
       "  productionDate  vehicleConfiguration vehicleTransmission  ...  Руль  \\\n",
       "0           1984  SEDAN MECHANICAL 1.8          MECHANICAL  ...  LEFT   \n",
       "1           1989  SEDAN MECHANICAL 2.0          MECHANICAL  ...  LEFT   \n",
       "2           1987  SEDAN MECHANICAL 2.0          MECHANICAL  ...  LEFT   \n",
       "\n",
       "  Состояние Владельцы        ПТС Таможня Владение   price  \\\n",
       "0      None         2   ORIGINAL    True     None  100000   \n",
       "1      None         3  DUPLICATE    True     None   90000   \n",
       "2      None         2   ORIGINAL    True     None   55000   \n",
       "\n",
       "             start_date hidden model  \n",
       "0  2020-11-29T13:46:39Z   None   100  \n",
       "1  2020-11-15T10:23:16Z   None   100  \n",
       "2  2020-11-28T21:17:36Z   None   100  \n",
       "\n",
       "[3 rows x 26 columns]"
      ]
     },
     "execution_count": 27,
     "metadata": {},
     "output_type": "execute_result"
    }
   ],
   "source": [
    "# визуальный контроль\n",
    "df_auto_ru.head(3)"
   ]
  },
  {
   "cell_type": "markdown",
   "metadata": {},
   "source": [
    "Первоначальный парсинг показал, что на сайте много старых объявлений . Так как изначально за последние 90 дней мы получили 43% от всех объявлений по BMW, поэтому пришлось скачать за последние 900 дней, чтобы получить полные цифры заявленные на сайте. "
   ]
  },
  {
   "cell_type": "code",
   "execution_count": 28,
   "metadata": {},
   "outputs": [
    {
     "ename": "TypeError",
     "evalue": "'Index' object is not callable",
     "output_type": "error",
     "traceback": [
      "\u001b[1;31m---------------------------------------------------------------------------\u001b[0m",
      "\u001b[1;31mTypeError\u001b[0m                                 Traceback (most recent call last)",
      "\u001b[1;32m<ipython-input-28-41c50bf4eba9>\u001b[0m in \u001b[0;36m<module>\u001b[1;34m\u001b[0m\n\u001b[1;32m----> 1\u001b[1;33m \u001b[0mdf_auto_ru\u001b[0m\u001b[1;33m.\u001b[0m\u001b[0mcolumns\u001b[0m\u001b[1;33m(\u001b[0m\u001b[1;33m)\u001b[0m\u001b[1;33m\u001b[0m\u001b[1;33m\u001b[0m\u001b[0m\n\u001b[0m",
      "\u001b[1;31mTypeError\u001b[0m: 'Index' object is not callable"
     ]
    }
   ],
   "source": [
    "df_auto_ru.columns()"
   ]
  },
  {
   "cell_type": "code",
   "execution_count": null,
   "metadata": {},
   "outputs": [],
   "source": []
  }
 ],
 "metadata": {
  "kernelspec": {
   "display_name": "Python 3",
   "language": "python",
   "name": "python3"
  },
  "language_info": {
   "codemirror_mode": {
    "name": "ipython",
    "version": 3
   },
   "file_extension": ".py",
   "mimetype": "text/x-python",
   "name": "python",
   "nbconvert_exporter": "python",
   "pygments_lexer": "ipython3",
   "version": "3.7.7"
  }
 },
 "nbformat": 4,
 "nbformat_minor": 4
}
