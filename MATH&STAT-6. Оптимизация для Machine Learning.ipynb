{
 "cells": [
  {
   "cell_type": "code",
   "execution_count": 1,
   "metadata": {},
   "outputs": [
    {
     "name": "stdout",
     "output_type": "stream",
     "text": [
      "Ограничения:  x + y - 1 = 0\n",
      "Вспомогательная функция Лагранжа :\n",
      "  w*(x + y - 1) + ((x - 2)**2 + (y - 1)**2)**0.5\n",
      "df/dx = w + (1.0*x - 2.0)*((x - 2)**2 + (y - 1)**2)**(-0.5) = 0\n",
      "df/dy = w + (1.0*y - 1.0)*((x - 2)**2 + (y - 1)**2)**(-0.5) = 0\n",
      "df/dw = x + y - 1 = 0\n",
      "2.00000000000000\n"
     ]
    }
   ],
   "source": [
    "from sympy import *\n",
    "x,y,w=symbols(' x y w' )\n",
    "q = x + y - 1\n",
    "print('Ограничения: ', q,'= 0')\n",
    "f = ((x-2)**2+(y-1)**2)**0.5 + w*(x + y - 1)\n",
    "print('Вспомогательная функция Лагранжа :\\n ',f)\n",
    "fx = f.diff(x)\n",
    "print('df/dx =',fx,'= 0')\n",
    "fy = f.diff(y)\n",
    "print('df/dy =',fy,'= 0')\n",
    "fw = f.diff(w)\n",
    "print('df/dw =',fw,'= 0')\n",
    "sols = solve([fx,fy,fw],x,y,w)\n",
    "g1=((sols[0][0]-2)**2+(sols[0][1]-1)**2)\n",
    "print(g1)"
   ]
  },
  {
   "cell_type": "code",
   "execution_count": null,
   "metadata": {},
   "outputs": [],
   "source": []
  }
 ],
 "metadata": {
  "kernelspec": {
   "display_name": "Python 3",
   "language": "python",
   "name": "python3"
  },
  "language_info": {
   "codemirror_mode": {
    "name": "ipython",
    "version": 3
   },
   "file_extension": ".py",
   "mimetype": "text/x-python",
   "name": "python",
   "nbconvert_exporter": "python",
   "pygments_lexer": "ipython3",
   "version": "3.7.7"
  }
 },
 "nbformat": 4,
 "nbformat_minor": 4
}
