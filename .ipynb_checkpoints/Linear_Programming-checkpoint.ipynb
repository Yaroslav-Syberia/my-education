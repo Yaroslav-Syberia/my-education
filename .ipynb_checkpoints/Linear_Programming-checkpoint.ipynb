{
 "cells": [
  {
   "cell_type": "markdown",
   "metadata": {},
   "source": [
    "Допустим, у нас есть $n$ товаров с заданными стоимостями $v_i$ и массой $w_i$. В сумку убирается $С$ кг. Сколько какого товара взять, чтобы сумма всех стоимостей товаров была наибольшей?"
   ]
  },
  {
   "cell_type": "code",
   "execution_count": 1,
   "metadata": {},
   "outputs": [],
   "source": [
    "values = [4, 2, 1, 7, 3, 6]\n",
    "weights = [5, 9, 8, 2, 6, 5]\n",
    "C = 15\n",
    "n = 6"
   ]
  },
  {
   "cell_type": "markdown",
   "metadata": {},
   "source": [
    "Сформулируем задачу:\n",
    "$$\\max\\sum v_i x_i$$\n",
    "$$\\sum w_i x_i \\leq C $$"
   ]
  },
  {
   "cell_type": "markdown",
   "metadata": {},
   "source": [
    "Как должна выглядеть задача:\n",
    "$$\\min c^T x$$\n",
    "$$A x \\leq b $$"
   ]
  },
  {
   "cell_type": "markdown",
   "metadata": {},
   "source": [
    "Получается, что $c=-v$, $A=w^T$, $b=(C)$"
   ]
  },
  {
   "cell_type": "code",
   "execution_count": 2,
   "metadata": {},
   "outputs": [],
   "source": [
    "import numpy as np"
   ]
  },
  {
   "cell_type": "code",
   "execution_count": 3,
   "metadata": {},
   "outputs": [],
   "source": [
    "c = - np.array(values)\n",
    "A = np.array(weights)         #shape = (6,)\n",
    "A = np.expand_dims(A, 0)      #shape = (1,6)\n",
    "b = np.array([C])"
   ]
  },
  {
   "cell_type": "code",
   "execution_count": 4,
   "metadata": {},
   "outputs": [],
   "source": [
    "from scipy.optimize import linprog"
   ]
  },
  {
   "cell_type": "code",
   "execution_count": 5,
   "metadata": {},
   "outputs": [
    {
     "data": {
      "text/plain": [
       "     con: array([], dtype=float64)\n",
       "     fun: -52.500000000030745\n",
       " message: 'Optimization terminated successfully.'\n",
       "     nit: 5\n",
       "   slack: array([-2.24886776e-11])\n",
       "  status: 0\n",
       " success: True\n",
       "       x: array([6.18738521e-14, 1.05853304e-12, 1.21475941e-13, 7.50000000e+00,\n",
       "       4.00246685e-13, 4.71394154e-13])"
      ]
     },
     "execution_count": 5,
     "metadata": {},
     "output_type": "execute_result"
    }
   ],
   "source": [
    "linprog(c=c, A_ub=A, b_ub=b)"
   ]
  },
  {
   "cell_type": "code",
   "execution_count": 6,
   "metadata": {
    "scrolled": true
   },
   "outputs": [
    {
     "name": "stdout",
     "output_type": "stream",
     "text": [
      "Collecting cvxpy\n",
      "  Downloading cvxpy-1.1.7-cp37-cp37m-win_amd64.whl (782 kB)\n",
      "Collecting scs>=1.1.6\n",
      "  Downloading scs-2.1.2.tar.gz (3.5 MB)\n"
     ]
    },
    {
     "name": "stderr",
     "output_type": "stream",
     "text": [
      "    ERROR: Command errored out with exit status 1:\n",
      "     command: 'C:\\ProgramData\\Anaconda3\\python.exe' -c 'import sys, setuptools, tokenize; sys.argv[0] = '\"'\"'C:\\\\Users\\\\user\\\\AppData\\\\Local\\\\Temp\\\\pip-install-govqknsh\\\\scs\\\\setup.py'\"'\"'; __file__='\"'\"'C:\\\\Users\\\\user\\\\AppData\\\\Local\\\\Temp\\\\pip-install-govqknsh\\\\scs\\\\setup.py'\"'\"';f=getattr(tokenize, '\"'\"'open'\"'\"', open)(__file__);code=f.read().replace('\"'\"'\\r\\n'\"'\"', '\"'\"'\\n'\"'\"');f.close();exec(compile(code, __file__, '\"'\"'exec'\"'\"'))' egg_info --egg-base 'C:\\Users\\user\\AppData\\Local\\Temp\\pip-pip-egg-info-3vl20fpe'\n",
      "         cwd: C:\\Users\\user\\AppData\\Local\\Temp\\pip-install-govqknsh\\scs\\\n",
      "    Complete output (47 lines):\n",
      "    Namespace(blas64=False, extraverbose=False, float32=False, gpu=False, int32=False, scs=False)\n",
      "    running egg_info\n",
      "    creating C:\\Users\\user\\AppData\\Local\\Temp\\pip-pip-egg-info-3vl20fpe\\scs.egg-info\n",
      "    writing C:\\Users\\user\\AppData\\Local\\Temp\\pip-pip-egg-info-3vl20fpe\\scs.egg-info\\PKG-INFO\n",
      "    writing dependency_links to C:\\Users\\user\\AppData\\Local\\Temp\\pip-pip-egg-info-3vl20fpe\\scs.egg-info\\dependency_links.txt\n",
      "    writing requirements to C:\\Users\\user\\AppData\\Local\\Temp\\pip-pip-egg-info-3vl20fpe\\scs.egg-info\\requires.txt\n",
      "    writing top-level names to C:\\Users\\user\\AppData\\Local\\Temp\\pip-pip-egg-info-3vl20fpe\\scs.egg-info\\top_level.txt\n",
      "    writing manifest file 'C:\\Users\\user\\AppData\\Local\\Temp\\pip-pip-egg-info-3vl20fpe\\scs.egg-info\\SOURCES.txt'\n",
      "    Traceback (most recent call last):\n",
      "      File \"<string>\", line 1, in <module>\n",
      "      File \"C:\\Users\\user\\AppData\\Local\\Temp\\pip-install-govqknsh\\scs\\setup.py\", line 229, in <module>\n",
      "        run_install()\n",
      "      File \"C:\\Users\\user\\AppData\\Local\\Temp\\pip-install-govqknsh\\scs\\setup.py\", line 226, in run_install\n",
      "        install_scs()\n",
      "      File \"C:\\Users\\user\\AppData\\Local\\Temp\\pip-install-govqknsh\\scs\\setup.py\", line 216, in install_scs\n",
      "        long_description=('Solves convex cone programs via operator splitting. '\n",
      "      File \"C:\\ProgramData\\Anaconda3\\lib\\site-packages\\setuptools\\__init__.py\", line 163, in setup\n",
      "        return distutils.core.setup(**attrs)\n",
      "      File \"C:\\ProgramData\\Anaconda3\\lib\\distutils\\core.py\", line 148, in setup\n",
      "        dist.run_commands()\n",
      "      File \"C:\\ProgramData\\Anaconda3\\lib\\distutils\\dist.py\", line 966, in run_commands\n",
      "        self.run_command(cmd)\n",
      "      File \"C:\\ProgramData\\Anaconda3\\lib\\distutils\\dist.py\", line 985, in run_command\n",
      "        cmd_obj.run()\n",
      "      File \"C:\\ProgramData\\Anaconda3\\lib\\site-packages\\setuptools\\command\\egg_info.py\", line 297, in run\n",
      "        self.find_sources()\n",
      "      File \"C:\\ProgramData\\Anaconda3\\lib\\site-packages\\setuptools\\command\\egg_info.py\", line 304, in find_sources\n",
      "        mm.run()\n",
      "      File \"C:\\ProgramData\\Anaconda3\\lib\\site-packages\\setuptools\\command\\egg_info.py\", line 535, in run\n",
      "        self.add_defaults()\n",
      "      File \"C:\\ProgramData\\Anaconda3\\lib\\site-packages\\setuptools\\command\\egg_info.py\", line 571, in add_defaults\n",
      "        sdist.add_defaults(self)\n",
      "      File \"C:\\ProgramData\\Anaconda3\\lib\\distutils\\command\\sdist.py\", line 228, in add_defaults\n",
      "        self._add_defaults_ext()\n",
      "      File \"C:\\ProgramData\\Anaconda3\\lib\\distutils\\command\\sdist.py\", line 311, in _add_defaults_ext\n",
      "        build_ext = self.get_finalized_command('build_ext')\n",
      "      File \"C:\\ProgramData\\Anaconda3\\lib\\distutils\\cmd.py\", line 299, in get_finalized_command\n",
      "        cmd_obj.ensure_finalized()\n",
      "      File \"C:\\ProgramData\\Anaconda3\\lib\\distutils\\cmd.py\", line 107, in ensure_finalized\n",
      "        self.finalize_options()\n",
      "      File \"C:\\Users\\user\\AppData\\Local\\Temp\\pip-install-govqknsh\\scs\\setup.py\", line 108, in finalize_options\n",
      "        import numpy\n",
      "      File \"c:\\users\\user\\appdata\\local\\temp\\pip-install-govqknsh\\scs\\.eggs\\numpy-1.19.4-py3.7-win-amd64.egg\\numpy\\__init__.py\", line 305, in <module>\n",
      "        _win_os_check()\n",
      "      File \"c:\\users\\user\\appdata\\local\\temp\\pip-install-govqknsh\\scs\\.eggs\\numpy-1.19.4-py3.7-win-amd64.egg\\numpy\\__init__.py\", line 302, in _win_os_check\n",
      "        raise RuntimeError(msg.format(__file__)) from None\n",
      "    RuntimeError: The current Numpy installation ('c:\\\\users\\\\user\\\\appdata\\\\local\\\\temp\\\\pip-install-govqknsh\\\\scs\\\\.eggs\\\\numpy-1.19.4-py3.7-win-amd64.egg\\\\numpy\\\\__init__.py') fails to pass a sanity check due to a bug in the windows runtime. See this issue for more information: https://tinyurl.com/y3dm3h86\n",
      "    ----------------------------------------\n",
      "ERROR: Command errored out with exit status 1: python setup.py egg_info Check the logs for full command output.\n"
     ]
    }
   ],
   "source": [
    "!pip install cvxpy"
   ]
  },
  {
   "cell_type": "code",
   "execution_count": 7,
   "metadata": {},
   "outputs": [
    {
     "ename": "ModuleNotFoundError",
     "evalue": "No module named 'cvxpy'",
     "output_type": "error",
     "traceback": [
      "\u001b[1;31m---------------------------------------------------------------------------\u001b[0m",
      "\u001b[1;31mModuleNotFoundError\u001b[0m                       Traceback (most recent call last)",
      "\u001b[1;32m<ipython-input-7-e5c848cd8324>\u001b[0m in \u001b[0;36m<module>\u001b[1;34m\u001b[0m\n\u001b[1;32m----> 1\u001b[1;33m \u001b[1;32mimport\u001b[0m \u001b[0mcvxpy\u001b[0m\u001b[1;33m\u001b[0m\u001b[1;33m\u001b[0m\u001b[0m\n\u001b[0m",
      "\u001b[1;31mModuleNotFoundError\u001b[0m: No module named 'cvxpy'"
     ]
    }
   ],
   "source": [
    "import cvxpy"
   ]
  },
  {
   "cell_type": "code",
   "execution_count": null,
   "metadata": {},
   "outputs": [],
   "source": [
    "x = cvxpy.Variable(shape=n, integer = True)"
   ]
  },
  {
   "cell_type": "code",
   "execution_count": null,
   "metadata": {},
   "outputs": [],
   "source": [
    "constraint = (A @ x <= b)\n",
    "total_value = c * x"
   ]
  },
  {
   "cell_type": "code",
   "execution_count": null,
   "metadata": {},
   "outputs": [],
   "source": [
    "problem = cvxpy.Problem(cvxpy.Minimize(total_value), constraints=[constraint])"
   ]
  },
  {
   "cell_type": "code",
   "execution_count": null,
   "metadata": {},
   "outputs": [],
   "source": [
    "problem.solve()"
   ]
  },
  {
   "cell_type": "code",
   "execution_count": null,
   "metadata": {},
   "outputs": [],
   "source": [
    "x.value"
   ]
  },
  {
   "cell_type": "markdown",
   "metadata": {},
   "source": [
    "Теперь положительные $x$"
   ]
  },
  {
   "cell_type": "code",
   "execution_count": null,
   "metadata": {},
   "outputs": [],
   "source": [
    "x = cvxpy.Variable(shape=n, integer=True)\n",
    "constraint = (A @ x <= b)\n",
    "x_positive = (x >= 0)\n",
    "total_value = c * x\n",
    "problem = cvxpy.Problem(cvxpy.Minimize(total_value), constraints=[constraint, x_positive])\n",
    "problem.solve()"
   ]
  },
  {
   "cell_type": "code",
   "execution_count": null,
   "metadata": {},
   "outputs": [],
   "source": [
    "x.value"
   ]
  },
  {
   "cell_type": "markdown",
   "metadata": {},
   "source": [
    "Теперь $x = 0$ или $1$"
   ]
  },
  {
   "cell_type": "code",
   "execution_count": null,
   "metadata": {},
   "outputs": [],
   "source": [
    "x = cvxpy.Variable(shape=n, boolean=True)\n",
    "constraint = A @ x <= b\n",
    "x_positive = x >= 0\n",
    "total_value = c * x\n",
    "problem = cvxpy.Problem(cvxpy.Minimize(total_value), constraints=[constraint, x_positive])\n",
    "problem.solve()"
   ]
  },
  {
   "cell_type": "code",
   "execution_count": null,
   "metadata": {},
   "outputs": [],
   "source": [
    "x.value"
   ]
  },
  {
   "cell_type": "code",
   "execution_count": null,
   "metadata": {},
   "outputs": [],
   "source": []
  }
 ],
 "metadata": {
  "kernelspec": {
   "display_name": "Python 3",
   "language": "python",
   "name": "python3"
  },
  "language_info": {
   "codemirror_mode": {
    "name": "ipython",
    "version": 3
   },
   "file_extension": ".py",
   "mimetype": "text/x-python",
   "name": "python",
   "nbconvert_exporter": "python",
   "pygments_lexer": "ipython3",
   "version": "3.7.7"
  }
 },
 "nbformat": 4,
 "nbformat_minor": 2
}
